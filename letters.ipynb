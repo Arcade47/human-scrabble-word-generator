{
 "cells": [
  {
   "cell_type": "code",
   "execution_count": 17,
   "metadata": {},
   "outputs": [],
   "source": [
    "import enchant\n",
    "import random\n",
    "from tqdm import tqdm\n",
    "import itertools"
   ]
  },
  {
   "cell_type": "code",
   "execution_count": 20,
   "metadata": {},
   "outputs": [
    {
     "name": "stderr",
     "output_type": "stream",
     "text": [
      "100%|██████████| 1000/1000 [00:03<00:00, 265.89it/s]\n"
     ]
    }
   ],
   "source": [
    "# Common letters in 5-letter English words\n",
    "frequent_letters = [\"E\", \"A\", \"I\", \"O\", \"S\", \"T\", \"N\", \"R\", \"L\", \"H\", \"C\", \"Y\"]\n",
    "\n",
    "for j in tqdm(range(1000)):\n",
    "\n",
    "    # Frequent pairs (split into first and second letters)\n",
    "    pair_first_letters = [\"T\", \"C\", \"C\", \"E\", \"S\", \"P\", \"Q\"]  # First letters of common pairs\n",
    "    pair_second_letters = [\"H\", \"H\", \"K\", \"E\", \"H\", \"H\", \"U\"]  # Second letters of common pairs\n",
    "\n",
    "    # Common letters to fill the remaining \"people\" columns\n",
    "    frequent_letters = [\"E\", \"A\", \"I\", \"O\", \"S\", \"T\", \"N\", \"R\", \"L\", \"H\", \"C\", \"Y\"]\n",
    "\n",
    "    # Assign two letters to each person\n",
    "    person1 = random.sample(pair_first_letters, 2)\n",
    "    person2 = random.sample(pair_second_letters, 2)\n",
    "    person3 = random.sample(frequent_letters, 2)\n",
    "    person4 = random.sample(frequent_letters, 2)\n",
    "    person5 = random.sample(frequent_letters, 2)\n",
    "\n",
    "    d = enchant.Dict(\"en_US\")\n",
    "\n",
    "    found_words = []\n",
    "\n",
    "    # Use itertools.product to generate all combinations\n",
    "    all_combinations = itertools.product(person1, person2, person3, person4, person5)\n",
    "\n",
    "    for combination in all_combinations:\n",
    "        word_scrambled = \"\".join(combination)\n",
    "        if d.check(word_scrambled) and word_scrambled not in found_words:\n",
    "            found_words.append(word_scrambled)\n",
    "\n",
    "    if len(found_words) > 4:\n",
    "        # Print results\n",
    "        print(\"person1 =\", person1)\n",
    "        print(\"person2 =\", person2)\n",
    "        print(\"person3 =\", person3)\n",
    "        print(\"person4 =\", person4)\n",
    "        print(\"person5 =\", person5)\n",
    "\n",
    "        print(found_words)"
   ]
  },
  {
   "cell_type": "code",
   "execution_count": 21,
   "metadata": {},
   "outputs": [
    {
     "name": "stderr",
     "output_type": "stream",
     "text": [
      "  0%|          | 1/1000 [00:00<07:20,  2.27it/s]"
     ]
    },
    {
     "name": "stdout",
     "output_type": "stream",
     "text": [
      "person1 = ['S', 'E']\n",
      "person2 = ['H', 'U']\n",
      "person3 = ['I', 'N']\n",
      "person4 = ['I', 'H']\n",
      "person5 = ['C', 'L']\n",
      "Found words: ['CHINS', 'INCUS', 'LINUS', 'NICHE', 'CHINE', 'HENCH']\n"
     ]
    },
    {
     "name": "stderr",
     "output_type": "stream",
     "text": [
      "  0%|          | 5/1000 [00:02<07:17,  2.28it/s]"
     ]
    },
    {
     "name": "stdout",
     "output_type": "stream",
     "text": [
      "person1 = ['E', 'C']\n",
      "person2 = ['H', 'U']\n",
      "person3 = ['E', 'O']\n",
      "person4 = ['H', 'R']\n",
      "person5 = ['O', 'C']\n",
      "Found words: ['CHEER', 'OCHER', 'ROCHE', 'CHORE', 'HOOCH', 'COUCH', 'OCCUR']\n"
     ]
    },
    {
     "name": "stderr",
     "output_type": "stream",
     "text": [
      "  1%|          | 6/1000 [00:02<07:19,  2.26it/s]"
     ]
    },
    {
     "name": "stdout",
     "output_type": "stream",
     "text": [
      "person1 = ['C', 'C']\n",
      "person2 = ['E', 'K']\n",
      "person3 = ['E', 'R']\n",
      "person4 = ['I', 'O']\n",
      "person5 = ['L', 'S']\n",
      "Found words: ['RELIC', 'CRIES', 'RICES', 'CEORL', 'CEROS', 'CORES', 'CORSE', 'SCORE', 'LOCKE', 'COKES', 'RICKS', 'CORKS', 'ROCKS']\n"
     ]
    },
    {
     "name": "stderr",
     "output_type": "stream",
     "text": [
      "  1%|          | 7/1000 [00:03<07:15,  2.28it/s]"
     ]
    },
    {
     "name": "stdout",
     "output_type": "stream",
     "text": [
      "person1 = ['C', 'Q']\n",
      "person2 = ['U', 'H']\n",
      "person3 = ['Y', 'L']\n",
      "person4 = ['H', 'O']\n",
      "person5 = ['R', 'T']\n",
      "Found words: ['CHURL', 'LURCH', 'CLOUT', 'TYCHO', 'CLOTH']\n"
     ]
    },
    {
     "name": "stderr",
     "output_type": "stream",
     "text": [
      "  1%|          | 9/1000 [00:03<07:09,  2.31it/s]"
     ]
    },
    {
     "name": "stdout",
     "output_type": "stream",
     "text": [
      "person1 = ['C', 'E']\n",
      "person2 = ['H', 'H']\n",
      "person3 = ['O', 'A']\n",
      "person4 = ['L', 'N']\n",
      "person5 = ['Y', 'C']\n",
      "Found words: ['CONCH', 'HOLEY', 'HOYLE', 'CHLOE', 'HONEY', 'ENOCH', 'COHEN', 'HALEY', 'LEACH', 'CHELA', 'HANEY', 'HYENA', 'HANCE']\n"
     ]
    },
    {
     "name": "stderr",
     "output_type": "stream",
     "text": [
      "  1%|          | 10/1000 [00:04<07:06,  2.32it/s]"
     ]
    },
    {
     "name": "stdout",
     "output_type": "stream",
     "text": [
      "person1 = ['E', 'C']\n",
      "person2 = ['U', 'H']\n",
      "person3 = ['Y', 'O']\n",
      "person4 = ['T', 'N']\n",
      "person5 = ['H', 'L']\n",
      "Found words: ['ETHYL', 'HELOT', 'HOTEL', 'THEOL', 'THOLE', 'CLUNY', 'COUTH', 'TOUCH', 'CLOUT', 'LYNCH', 'CLOTH']\n"
     ]
    },
    {
     "name": "stderr",
     "output_type": "stream",
     "text": [
      "  1%|          | 11/1000 [00:04<07:09,  2.30it/s]"
     ]
    },
    {
     "name": "stdout",
     "output_type": "stream",
     "text": [
      "person1 = ['Q', 'S']\n",
      "person2 = ['U', 'H']\n",
      "person3 = ['C', 'Y']\n",
      "person4 = ['L', 'I']\n",
      "person5 = ['O', 'L']\n",
      "Found words: ['LOCUS', 'SCULL', 'CULLS', 'SULCI', 'LOUSY', 'SULLY', 'SOCHI', 'CHIOS']\n"
     ]
    },
    {
     "name": "stderr",
     "output_type": "stream",
     "text": [
      "  1%|          | 12/1000 [00:05<07:06,  2.32it/s]"
     ]
    },
    {
     "name": "stdout",
     "output_type": "stream",
     "text": [
      "person1 = ['E', 'P']\n",
      "person2 = ['H', 'H']\n",
      "person3 = ['R', 'E']\n",
      "person4 = ['S', 'C']\n",
      "person5 = ['A', 'C']\n",
      "Found words: ['HEARS', 'HARES', 'RHEAS', 'SHEAR', 'SHARE', 'ASHER', 'REACH', 'CHARE', 'HARPS', 'SHARP', 'PARCH', 'PHASE', 'HEAPS', 'SHAPE', 'PEACH', 'CHEAP', 'CHAPE']\n"
     ]
    },
    {
     "name": "stderr",
     "output_type": "stream",
     "text": [
      "  1%|▏         | 14/1000 [00:06<07:09,  2.30it/s]"
     ]
    },
    {
     "name": "stdout",
     "output_type": "stream",
     "text": [
      "person1 = ['P', 'Q']\n",
      "person2 = ['E', 'K']\n",
      "person3 = ['O', 'C']\n",
      "person4 = ['O', 'I']\n",
      "person5 = ['I', 'S']\n",
      "Found words: ['ESPOO', 'POISE', 'PECOS', 'COPES', 'COPSE', 'SCOPE', 'EPICS', 'SPICE', 'SPOOK', 'POCKS', 'SPOCK', 'PICKS']\n"
     ]
    },
    {
     "name": "stderr",
     "output_type": "stream",
     "text": [
      "  2%|▏         | 22/1000 [00:09<06:57,  2.34it/s]"
     ]
    },
    {
     "name": "stdout",
     "output_type": "stream",
     "text": [
      "person1 = ['C', 'S']\n",
      "person2 = ['H', 'U']\n",
      "person3 = ['E', 'C']\n",
      "person4 = ['O', 'L']\n",
      "person5 = ['E', 'S']\n",
      "Found words: ['CHOSE', 'ECHOS', 'SOCHE', 'LEECH', 'CHOCS', 'CLUES', 'CUSCO', 'SHOES', 'HOSES', 'HEELS', 'SOUSE', 'SLUES']\n"
     ]
    },
    {
     "name": "stderr",
     "output_type": "stream",
     "text": [
      "  2%|▏         | 23/1000 [00:09<06:51,  2.37it/s]"
     ]
    },
    {
     "name": "stdout",
     "output_type": "stream",
     "text": [
      "person1 = ['T', 'C']\n",
      "person2 = ['H', 'H']\n",
      "person3 = ['E', 'N']\n",
      "person4 = ['Y', 'N']\n",
      "person5 = ['C', 'L']\n",
      "Found words: ['TECHY', 'TYCHE', 'ETHYL', 'TENCH', 'CHYLE', 'LYNCH']\n"
     ]
    },
    {
     "name": "stderr",
     "output_type": "stream",
     "text": [
      "  2%|▏         | 24/1000 [00:10<06:53,  2.36it/s]"
     ]
    },
    {
     "name": "stdout",
     "output_type": "stream",
     "text": [
      "person1 = ['S', 'C']\n",
      "person2 = ['K', 'U']\n",
      "person3 = ['H', 'E']\n",
      "person4 = ['H', 'R']\n",
      "person5 = ['L', 'A']\n",
      "Found words: ['SHARK', 'HARKS', 'SHAKE', 'HAKES', 'SAKER', 'RAKES', 'ASKER', 'SHLUH', 'HURLS', 'SURAH', 'ASHUR', 'ARHUS', 'RULES', 'LURES', 'CHEKA', 'HACEK', 'CLERK', 'CREAK', 'CRAKE', 'CHURL', 'LURCH', 'CRUEL', 'ULCER', 'LUCRE']\n"
     ]
    },
    {
     "name": "stderr",
     "output_type": "stream",
     "text": [
      "  2%|▎         | 25/1000 [00:10<06:52,  2.37it/s]"
     ]
    },
    {
     "name": "stdout",
     "output_type": "stream",
     "text": [
      "person1 = ['C', 'C']\n",
      "person2 = ['H', 'H']\n",
      "person3 = ['N', 'Y']\n",
      "person4 = ['H', 'A']\n",
      "person5 = ['O', 'I']\n",
      "Found words: ['COHAN', 'NACHO', 'CHAIN', 'CHINA', 'CHIAN', 'ICAHN']\n"
     ]
    },
    {
     "name": "stderr",
     "output_type": "stream",
     "text": [
      "  3%|▎         | 28/1000 [00:12<06:52,  2.36it/s]"
     ]
    },
    {
     "name": "stdout",
     "output_type": "stream",
     "text": [
      "person1 = ['S', 'P']\n",
      "person2 = ['H', 'K']\n",
      "person3 = ['E', 'S']\n",
      "person4 = ['S', 'Y']\n",
      "person5 = ['I', 'N']\n",
      "Found words: ['SHIES', 'SKIES', 'YEISK', 'YIKES', 'SHIPS', 'PIKES', 'KEPIS', 'SPIKE', 'SKIPS', 'SPIKY']\n"
     ]
    },
    {
     "name": "stderr",
     "output_type": "stream",
     "text": [
      "  3%|▎         | 29/1000 [00:12<06:54,  2.34it/s]"
     ]
    },
    {
     "name": "stdout",
     "output_type": "stream",
     "text": [
      "person1 = ['E', 'C']\n",
      "person2 = ['H', 'H']\n",
      "person3 = ['R', 'E']\n",
      "person4 = ['O', 'A']\n",
      "person5 = ['E', 'Y']\n",
      "Found words: ['CHORE', 'ROCHE', 'OCHER', 'CHARE', 'REACH', 'CHARY']\n"
     ]
    },
    {
     "name": "stderr",
     "output_type": "stream",
     "text": [
      "  3%|▎         | 30/1000 [00:12<06:58,  2.32it/s]"
     ]
    },
    {
     "name": "stdout",
     "output_type": "stream",
     "text": [
      "person1 = ['E', 'C']\n",
      "person2 = ['H', 'K']\n",
      "person3 = ['N', 'H']\n",
      "person4 = ['O', 'C']\n",
      "person5 = ['I', 'Y']\n",
      "Found words: ['HONEY', 'NICHE', 'CHINE', 'EIKON', 'KOINE', 'HOKEY', 'CHINO', 'CINCH', 'KOCHI', 'HOICK', 'CHICK']\n"
     ]
    },
    {
     "name": "stderr",
     "output_type": "stream",
     "text": [
      "  3%|▎         | 31/1000 [00:13<07:01,  2.30it/s]"
     ]
    },
    {
     "name": "stdout",
     "output_type": "stream",
     "text": [
      "person1 = ['C', 'C']\n",
      "person2 = ['H', 'K']\n",
      "person3 = ['E', 'I']\n",
      "person4 = ['T', 'Y']\n",
      "person5 = ['T', 'I']\n",
      "Found words: ['ETHIC', 'TECHY', 'TYCHE', 'TITCH', 'ITCHY', 'TIECK']\n"
     ]
    },
    {
     "name": "stderr",
     "output_type": "stream",
     "text": [
      "  4%|▎         | 35/1000 [00:15<07:15,  2.22it/s]"
     ]
    },
    {
     "name": "stdout",
     "output_type": "stream",
     "text": [
      "person1 = ['T', 'Q']\n",
      "person2 = ['H', 'H']\n",
      "person3 = ['I', 'A']\n",
      "person4 = ['S', 'L']\n",
      "person5 = ['L', 'C']\n",
      "Found words: ['HILTS', 'STICH', 'CHITS', 'THILL', 'HALTS', 'SHALT', 'LATHS', 'CHATS', 'LATCH']\n"
     ]
    },
    {
     "name": "stderr",
     "output_type": "stream",
     "text": [
      "  4%|▎         | 36/1000 [00:15<07:15,  2.21it/s]"
     ]
    },
    {
     "name": "stdout",
     "output_type": "stream",
     "text": [
      "person1 = ['C', 'E']\n",
      "person2 = ['H', 'K']\n",
      "person3 = ['T', 'C']\n",
      "person4 = ['N', 'L']\n",
      "person5 = ['L', 'O']\n",
      "Found words: ['NOTCH', 'CLOTH', 'CONCH', 'CLOCK', 'HELOT', 'HOTEL', 'THEOL', 'THOLE', 'ENOCH', 'COHEN', 'CHLOE', 'KNELT', 'TOKEN', 'LOCKE']\n"
     ]
    },
    {
     "name": "stderr",
     "output_type": "stream",
     "text": [
      "  4%|▎         | 37/1000 [00:16<07:10,  2.24it/s]"
     ]
    },
    {
     "name": "stdout",
     "output_type": "stream",
     "text": [
      "person1 = ['S', 'C']\n",
      "person2 = ['H', 'H']\n",
      "person3 = ['R', 'N']\n",
      "person4 = ['H', 'I']\n",
      "person5 = ['H', 'E']\n",
      "Found words: ['SHIRE', 'SHIER', 'SHERI', 'HIRES', 'HEIRS', 'SHINE', 'HINES', 'CHERI', 'REICH', 'ERICH', 'HENCH', 'CHINE', 'NICHE']\n"
     ]
    },
    {
     "name": "stderr",
     "output_type": "stream",
     "text": [
      "  4%|▍         | 39/1000 [00:17<07:25,  2.16it/s]"
     ]
    },
    {
     "name": "stdout",
     "output_type": "stream",
     "text": [
      "person1 = ['S', 'E']\n",
      "person2 = ['K', 'E']\n",
      "person3 = ['C', 'Y']\n",
      "person4 = ['R', 'T']\n",
      "person5 = ['O', 'I']\n",
      "Found words: ['CORKS', 'ROCKS', 'RICKS', 'STOCK', 'STICK', 'TICKS', 'RISKY', 'SCORE', 'CEROS', 'CORSE', 'CORES', 'CRIES', 'RICES', 'COSET', 'COSTE', 'COTES', 'CITES', 'YETIS', 'OCKER', 'ERICK', 'TIECK']\n"
     ]
    },
    {
     "name": "stderr",
     "output_type": "stream",
     "text": [
      "  4%|▍         | 41/1000 [00:17<07:23,  2.16it/s]"
     ]
    },
    {
     "name": "stdout",
     "output_type": "stream",
     "text": [
      "person1 = ['S', 'T']\n",
      "person2 = ['H', 'H']\n",
      "person3 = ['O', 'R']\n",
      "person4 = ['E', 'A']\n",
      "person5 = ['I', 'O']\n",
      "Found words: ['SHERI', 'SHIRE', 'SHIER', 'HEIRS', 'HIRES', 'SHORE', 'HORSE', 'HOERS', 'SHARI', 'HAIRS', 'HORSA', 'HORAS', 'HOARS', 'THEIR', 'THROE', 'OTHER', 'TORAH', 'HORTA']\n"
     ]
    },
    {
     "name": "stderr",
     "output_type": "stream",
     "text": [
      "  4%|▍         | 42/1000 [00:18<07:26,  2.14it/s]"
     ]
    },
    {
     "name": "stdout",
     "output_type": "stream",
     "text": [
      "person1 = ['Q', 'T']\n",
      "person2 = ['H', 'U']\n",
      "person3 = ['O', 'N']\n",
      "person4 = ['S', 'N']\n",
      "person5 = ['O', 'E']\n",
      "Found words: ['HOOTS', 'SHOOT', 'SOOTH', 'THOSE', 'SHOTE', 'ETHOS', 'TONUS', 'NOTUS', 'SNOUT', 'TUNES', 'UNSET']\n"
     ]
    },
    {
     "name": "stderr",
     "output_type": "stream",
     "text": [
      "  4%|▍         | 44/1000 [00:19<07:18,  2.18it/s]"
     ]
    },
    {
     "name": "stdout",
     "output_type": "stream",
     "text": [
      "person1 = ['E', 'S']\n",
      "person2 = ['H', 'H']\n",
      "person3 = ['S', 'R']\n",
      "person4 = ['A', 'T']\n",
      "person5 = ['R', 'T']\n",
      "Found words: ['HEARS', 'HARES', 'SHEAR', 'SHARE', 'ASHER', 'RHEAS', 'HEATS', 'HASTE', 'HATES', 'RESHT', 'TETHS', 'EARTH', 'HERAT', 'HEART', 'HARTE', 'HATER', 'RATHE', 'STASH', 'HARTS', 'RASHT', 'TRASH']\n"
     ]
    },
    {
     "name": "stderr",
     "output_type": "stream",
     "text": [
      "  4%|▍         | 45/1000 [00:19<07:13,  2.20it/s]"
     ]
    },
    {
     "name": "stdout",
     "output_type": "stream",
     "text": [
      "person1 = ['T', 'C']\n",
      "person2 = ['H', 'H']\n",
      "person3 = ['L', 'H']\n",
      "person4 = ['A', 'I']\n",
      "person5 = ['H', 'O']\n",
      "Found words: ['LOATH', 'THIOL', 'LITHO', 'LOACH', 'CHOLI']\n"
     ]
    },
    {
     "name": "stderr",
     "output_type": "stream",
     "text": [
      "  5%|▍         | 46/1000 [00:20<07:21,  2.16it/s]"
     ]
    },
    {
     "name": "stdout",
     "output_type": "stream",
     "text": [
      "person1 = ['T', 'C']\n",
      "person2 = ['H', 'U']\n",
      "person3 = ['C', 'O']\n",
      "person4 = ['E', 'N']\n",
      "person5 = ['E', 'O']\n",
      "Found words: ['TENCH', 'NOTCH', 'COUNT', 'CONCH', 'COHEN', 'ENOCH', 'CUNEO', 'OUNCE']\n"
     ]
    },
    {
     "name": "stderr",
     "output_type": "stream",
     "text": [
      "  5%|▍         | 47/1000 [00:20<07:53,  2.01it/s]"
     ]
    },
    {
     "name": "stdout",
     "output_type": "stream",
     "text": [
      "person1 = ['P', 'S']\n",
      "person2 = ['H', 'E']\n",
      "person3 = ['T', 'S']\n",
      "person4 = ['C', 'A']\n",
      "person5 = ['N', 'I']\n",
      "Found words: ['PITCH', 'CHIPS', 'SPAHN', 'SPAHI', 'SAIPH', 'APHIS', 'APISH', 'TEPIC', 'PATEN', 'PIETA', 'EPICS', 'SPICE', 'PEANS', 'PANES', 'ASPEN', 'NEAPS', 'NAPES', 'SEPIA', 'STICH', 'CHITS', 'SNATH', 'SAITH', 'THAIS', 'TISHA', 'SHANS', 'SHIAS', 'SCENT', 'CENTS', 'CITES', 'STANE', 'ETNAS', 'ANTES', 'NATES']\n"
     ]
    },
    {
     "name": "stderr",
     "output_type": "stream",
     "text": [
      "  5%|▍         | 48/1000 [00:21<08:35,  1.85it/s]"
     ]
    },
    {
     "name": "stdout",
     "output_type": "stream",
     "text": [
      "person1 = ['T', 'E']\n",
      "person2 = ['H', 'H']\n",
      "person3 = ['I', 'N']\n",
      "person4 = ['O', 'R']\n",
      "person5 = ['L', 'R']\n",
      "Found words: ['THIOL', 'LITHO', 'THORN', 'NORTH', 'HIRER', 'HERON', 'HONER', 'HORNE', 'RHONE']\n"
     ]
    },
    {
     "name": "stderr",
     "output_type": "stream",
     "text": [
      "  5%|▍         | 49/1000 [00:22<08:41,  1.82it/s]"
     ]
    },
    {
     "name": "stdout",
     "output_type": "stream",
     "text": [
      "person1 = ['C', 'E']\n",
      "person2 = ['H', 'U']\n",
      "person3 = ['E', 'S']\n",
      "person4 = ['L', 'I']\n",
      "person5 = ['T', 'Y']\n",
      "Found words: ['CHYLE', 'ETHIC', 'CHITS', 'STICH', 'CULET', 'CUTIE', 'CULTS', 'CUTIS', 'ICTUS', 'ETHEL', 'LETHE', 'HEIST', 'ELUTE', 'LUTES', 'YULES', 'ETUIS', 'SUITE']\n"
     ]
    },
    {
     "name": "stderr",
     "output_type": "stream",
     "text": [
      "  5%|▌         | 50/1000 [00:22<08:53,  1.78it/s]"
     ]
    },
    {
     "name": "stdout",
     "output_type": "stream",
     "text": [
      "person1 = ['T', 'C']\n",
      "person2 = ['U', 'H']\n",
      "person3 = ['I', 'A']\n",
      "person4 = ['E', 'L']\n",
      "person5 = ['H', 'E']\n",
      "Found words: ['THIEU', 'UTILE', 'LIEUT', 'ALEUT', 'LITHE', 'LEITH', 'HEATH', 'LATHE', 'LETHA', 'CHILE', 'CHELA', 'LEACH']\n"
     ]
    },
    {
     "name": "stderr",
     "output_type": "stream",
     "text": [
      "  5%|▌         | 51/1000 [00:23<08:57,  1.76it/s]"
     ]
    },
    {
     "name": "stdout",
     "output_type": "stream",
     "text": [
      "person1 = ['T', 'C']\n",
      "person2 = ['H', 'K']\n",
      "person3 = ['H', 'E']\n",
      "person4 = ['N', 'I']\n",
      "person5 = ['L', 'C']\n",
      "Found words: ['HITCH', 'TENCH', 'LEITH', 'LITHE', 'ETHIC', 'THICK', 'KNELT', 'TIECK', 'CHILE', 'CHICK']\n"
     ]
    },
    {
     "name": "stderr",
     "output_type": "stream",
     "text": [
      "  5%|▌         | 54/1000 [00:24<08:53,  1.77it/s]"
     ]
    },
    {
     "name": "stdout",
     "output_type": "stream",
     "text": [
      "person1 = ['C', 'P']\n",
      "person2 = ['H', 'E']\n",
      "person3 = ['E', 'C']\n",
      "person4 = ['L', 'Y']\n",
      "person5 = ['S', 'Y']\n",
      "Found words: ['CHYLE', 'SYCEE', 'CYCLE', 'HELPS', 'PHYLE', 'HYPES', 'PSYCH', 'PEELS', 'SLEEP']\n"
     ]
    },
    {
     "name": "stderr",
     "output_type": "stream",
     "text": [
      "  6%|▌         | 57/1000 [00:26<09:24,  1.67it/s]"
     ]
    },
    {
     "name": "stdout",
     "output_type": "stream",
     "text": [
      "person1 = ['E', 'T']\n",
      "person2 = ['H', 'H']\n",
      "person3 = ['C', 'R']\n",
      "person4 = ['S', 'C']\n",
      "person5 = ['I', 'L']\n",
      "Found words: ['HEIRS', 'HIRES', 'SHERI', 'SHIER', 'SHIRE', 'ERICH', 'REICH', 'CHERI', 'CHITS', 'STICH', 'SHIRT']\n"
     ]
    },
    {
     "name": "stderr",
     "output_type": "stream",
     "text": [
      "  6%|▌         | 58/1000 [00:27<09:13,  1.70it/s]"
     ]
    },
    {
     "name": "stdout",
     "output_type": "stream",
     "text": [
      "person1 = ['P', 'S']\n",
      "person2 = ['K', 'H']\n",
      "person3 = ['L', 'C']\n",
      "person4 = ['T', 'L']\n",
      "person5 = ['A', 'E']\n",
      "Found words: ['PLATH', 'PATCH', 'STALK', 'TALKS', 'STACK', 'TACKS', 'SLACK', 'CALKS', 'LACKS', 'SHALT', 'HALTS', 'LATHS', 'SHALL', 'HALLS', 'SHELL', 'HELLS', 'CHATS', 'CHEST', 'TECHS', 'CLASH']\n"
     ]
    },
    {
     "name": "stderr",
     "output_type": "stream",
     "text": [
      "  6%|▌         | 59/1000 [00:27<09:09,  1.71it/s]"
     ]
    },
    {
     "name": "stdout",
     "output_type": "stream",
     "text": [
      "person1 = ['Q', 'C']\n",
      "person2 = ['K', 'H']\n",
      "person3 = ['L', 'S']\n",
      "person4 = ['O', 'Y']\n",
      "person5 = ['T', 'A']\n",
      "Found words: ['CLOAK', 'STOCK', 'CLOTH', 'LOACH', 'CHAOS']\n"
     ]
    },
    {
     "name": "stderr",
     "output_type": "stream",
     "text": [
      "  6%|▌         | 60/1000 [00:28<09:05,  1.72it/s]"
     ]
    },
    {
     "name": "stdout",
     "output_type": "stream",
     "text": [
      "person1 = ['Q', 'T']\n",
      "person2 = ['H', 'H']\n",
      "person3 = ['E', 'N']\n",
      "person4 = ['Y', 'C']\n",
      "person5 = ['N', 'A']\n",
      "Found words: ['TENCH', 'THECA', 'TEACH', 'TACHE', 'CHEAT', 'NATCH', 'CHANT']\n"
     ]
    },
    {
     "name": "stderr",
     "output_type": "stream",
     "text": [
      "  6%|▌         | 61/1000 [00:29<09:15,  1.69it/s]"
     ]
    },
    {
     "name": "stdout",
     "output_type": "stream",
     "text": [
      "person1 = ['Q', 'S']\n",
      "person2 = ['E', 'U']\n",
      "person3 = ['O', 'H']\n",
      "person4 = ['O', 'C']\n",
      "person5 = ['T', 'A']\n",
      "Found words: ['QUOTH', 'COSET', 'COSTE', 'COTES', 'SHOTE', 'ETHOS', 'THOSE', 'HOSEA', 'CHEST', 'TECHS', 'CHASE', 'ACHES', 'SCOUT', 'SHOUT', 'SOUTH', 'THOUS']\n"
     ]
    },
    {
     "name": "stderr",
     "output_type": "stream",
     "text": [
      "  6%|▌         | 62/1000 [00:29<09:13,  1.70it/s]"
     ]
    },
    {
     "name": "stdout",
     "output_type": "stream",
     "text": [
      "person1 = ['T', 'P']\n",
      "person2 = ['U', 'H']\n",
      "person3 = ['T', 'H']\n",
      "person4 = ['R', 'L']\n",
      "person5 = ['O', 'S']\n",
      "Found words: ['TUTOR', 'TROUT', 'TRUST', 'STRUT', 'THURS', 'HURTS', 'HURST', 'RUTHS', 'LOUTH', 'TROTH', 'TURPS', 'SPURT', 'PLUTO', 'POULT', 'PLUSH', 'THORP']\n"
     ]
    },
    {
     "name": "stderr",
     "output_type": "stream",
     "text": [
      "  6%|▋         | 63/1000 [00:30<09:25,  1.66it/s]"
     ]
    },
    {
     "name": "stdout",
     "output_type": "stream",
     "text": [
      "person1 = ['S', 'C']\n",
      "person2 = ['U', 'H']\n",
      "person3 = ['C', 'H']\n",
      "person4 = ['A', 'C']\n",
      "person5 = ['L', 'A']\n",
      "Found words: ['CAULS', 'CLAUS', 'LUCAS', 'CACUS', 'SHULA', 'HULAS', 'HAULS', 'HAUSA', 'CLASH', 'LUCCA', 'CAUCA', 'CULCH']\n"
     ]
    },
    {
     "name": "stderr",
     "output_type": "stream",
     "text": [
      "  6%|▋         | 65/1000 [00:31<09:39,  1.61it/s]"
     ]
    },
    {
     "name": "stdout",
     "output_type": "stream",
     "text": [
      "person1 = ['P', 'T']\n",
      "person2 = ['H', 'U']\n",
      "person3 = ['H', 'R']\n",
      "person4 = ['H', 'E']\n",
      "person5 = ['R', 'L']\n",
      "Found words: ['PURER', 'PULER', 'UTHER', 'THULE', 'TRUER']\n"
     ]
    },
    {
     "name": "stderr",
     "output_type": "stream",
     "text": [
      "  7%|▋         | 66/1000 [00:32<09:40,  1.61it/s]"
     ]
    },
    {
     "name": "stdout",
     "output_type": "stream",
     "text": [
      "person1 = ['Q', 'E']\n",
      "person2 = ['H', 'E']\n",
      "person3 = ['N', 'A']\n",
      "person4 = ['S', 'T']\n",
      "person5 = ['N', 'S']\n",
      "Found words: ['HANSE', 'ASHEN', 'SHANE', 'ASHES', 'ETHAN', 'THANE', 'NEATH', 'HEATS', 'HATES', 'HASTE', 'ESSEN', 'SENSE', 'TENNE', 'TEENS', 'TENSE', 'SENTE', 'STEEN', 'EASES', 'EATEN', 'ENATE', 'TEASE', 'SETAE']\n"
     ]
    },
    {
     "name": "stderr",
     "output_type": "stream",
     "text": [
      "  7%|▋         | 67/1000 [00:32<09:36,  1.62it/s]"
     ]
    },
    {
     "name": "stdout",
     "output_type": "stream",
     "text": [
      "person1 = ['C', 'S']\n",
      "person2 = ['H', 'H']\n",
      "person3 = ['E', 'R']\n",
      "person4 = ['O', 'S']\n",
      "person5 = ['N', 'Y']\n",
      "Found words: ['COHEN', 'ENOCH', 'CHRON', 'SHONE', 'HONES', 'HORNS', 'HORSY']\n"
     ]
    },
    {
     "name": "stderr",
     "output_type": "stream",
     "text": [
      "  7%|▋         | 69/1000 [00:34<09:47,  1.59it/s]"
     ]
    },
    {
     "name": "stdout",
     "output_type": "stream",
     "text": [
      "person1 = ['T', 'C']\n",
      "person2 = ['K', 'H']\n",
      "person3 = ['I', 'Y']\n",
      "person4 = ['S', 'R']\n",
      "person5 = ['H', 'O']\n",
      "Found words: ['HOIST', 'HICKS', 'SICKO', 'CHIRK', 'CORKY', 'ROCKY', 'CHIOS', 'SOCHI', 'CHOIR', 'ICHOR']\n"
     ]
    },
    {
     "name": "stderr",
     "output_type": "stream",
     "text": [
      "  7%|▋         | 70/1000 [00:34<09:34,  1.62it/s]"
     ]
    },
    {
     "name": "stdout",
     "output_type": "stream",
     "text": [
      "person1 = ['Q', 'C']\n",
      "person2 = ['H', 'U']\n",
      "person3 = ['R', 'I']\n",
      "person4 = ['Y', 'N']\n",
      "person5 = ['C', 'O']\n",
      "Found words: ['QUOIN', 'CHRON', 'CINCH', 'CHINO', 'CORNU']\n"
     ]
    },
    {
     "name": "stderr",
     "output_type": "stream",
     "text": [
      "  7%|▋         | 71/1000 [00:35<09:28,  1.63it/s]"
     ]
    },
    {
     "name": "stdout",
     "output_type": "stream",
     "text": [
      "person1 = ['T', 'C']\n",
      "person2 = ['H', 'U']\n",
      "person3 = ['H', 'C']\n",
      "person4 = ['R', 'C']\n",
      "person5 = ['O', 'C']\n",
      "Found words: ['TORCH', 'TOUCH', 'COUTH', 'CUTCH', 'TURCO', 'COURT', 'CURCH', 'COUCH', 'OCCUR']\n"
     ]
    },
    {
     "name": "stderr",
     "output_type": "stream",
     "text": [
      "  7%|▋         | 73/1000 [00:36<09:07,  1.69it/s]"
     ]
    },
    {
     "name": "stdout",
     "output_type": "stream",
     "text": [
      "person1 = ['T', 'E']\n",
      "person2 = ['H', 'U']\n",
      "person3 = ['N', 'L']\n",
      "person4 = ['N', 'E']\n",
      "person5 = ['L', 'Y']\n",
      "Found words: ['ETHYL', 'TUNNY', 'TULLE', 'HELEN', 'HELLE']\n"
     ]
    },
    {
     "name": "stderr",
     "output_type": "stream",
     "text": [
      "  7%|▋         | 74/1000 [00:36<08:46,  1.76it/s]"
     ]
    },
    {
     "name": "stdout",
     "output_type": "stream",
     "text": [
      "person1 = ['S', 'T']\n",
      "person2 = ['H', 'H']\n",
      "person3 = ['E', 'L']\n",
      "person4 = ['S', 'O']\n",
      "person5 = ['T', 'O']\n",
      "Found words: ['THESS', 'SHOES', 'HOSES', 'SHOTE', 'ETHOS', 'THOSE', 'SLOSH', 'SLOTH', 'HOLST', 'SHOOL', 'TETHS']\n"
     ]
    },
    {
     "name": "stderr",
     "output_type": "stream",
     "text": [
      "  8%|▊         | 75/1000 [00:37<08:38,  1.78it/s]"
     ]
    },
    {
     "name": "stdout",
     "output_type": "stream",
     "text": [
      "person1 = ['C', 'E']\n",
      "person2 = ['U', 'H']\n",
      "person3 = ['L', 'R']\n",
      "person4 = ['E', 'R']\n",
      "person5 = ['N', 'H']\n",
      "Found words: ['UNCLE', 'CHURL', 'LURCH', 'RUCHE', 'CHURR', 'ENURE', 'RERUN', 'HELEN', 'HERNE']\n"
     ]
    },
    {
     "name": "stderr",
     "output_type": "stream",
     "text": [
      "  8%|▊         | 77/1000 [00:38<09:10,  1.68it/s]"
     ]
    },
    {
     "name": "stdout",
     "output_type": "stream",
     "text": [
      "person1 = ['T', 'P']\n",
      "person2 = ['H', 'U']\n",
      "person3 = ['N', 'L']\n",
      "person4 = ['E', 'O']\n",
      "person5 = ['T', 'A']\n",
      "Found words: ['TENTH', 'THANE', 'NEATH', 'ETHAN', 'LETHA', 'LATHE', 'LOATH', 'ALEUT', 'ALEPH', 'UPTON', 'LETUP', 'TUPLE', 'PLUTO', 'POULT']\n"
     ]
    },
    {
     "name": "stderr",
     "output_type": "stream",
     "text": [
      "  8%|▊         | 79/1000 [00:39<09:19,  1.65it/s]"
     ]
    },
    {
     "name": "stdout",
     "output_type": "stream",
     "text": [
      "person1 = ['C', 'S']\n",
      "person2 = ['H', 'E']\n",
      "person3 = ['L', 'I']\n",
      "person4 = ['E', 'R']\n",
      "person5 = ['Y', 'O']\n",
      "Found words: ['CHYLE', 'CHLOE', 'CHOIR', 'ICHOR', 'CEORL', 'SHEOL', 'HOLES', 'SLYER', 'LYRES', 'LOSER', 'ROLES', 'ROSIE', 'OSIER']\n"
     ]
    },
    {
     "name": "stderr",
     "output_type": "stream",
     "text": [
      "  8%|▊         | 81/1000 [00:41<09:14,  1.66it/s]"
     ]
    },
    {
     "name": "stdout",
     "output_type": "stream",
     "text": [
      "person1 = ['P', 'S']\n",
      "person2 = ['H', 'K']\n",
      "person3 = ['I', 'S']\n",
      "person4 = ['C', 'I']\n",
      "person5 = ['Y', 'L']\n",
      "Found words: ['PILCH', 'PSYCH', 'PICKY', 'SPIKY', 'SLICK', 'LICKS', 'SILKS']\n"
     ]
    },
    {
     "name": "stderr",
     "output_type": "stream",
     "text": [
      "  8%|▊         | 82/1000 [00:41<09:20,  1.64it/s]"
     ]
    },
    {
     "name": "stdout",
     "output_type": "stream",
     "text": [
      "person1 = ['C', 'T']\n",
      "person2 = ['H', 'K']\n",
      "person3 = ['R', 'T']\n",
      "person4 = ['C', 'O']\n",
      "person5 = ['Y', 'A']\n",
      "Found words: ['ROCHA', 'ROACH', 'CATCH', 'TYCHO', 'CRACK', 'CORKY', 'ROCKY', 'CROAK', 'CHART', 'ARCHT', 'TORAH', 'HORTA', 'TRACK']\n"
     ]
    },
    {
     "name": "stderr",
     "output_type": "stream",
     "text": [
      "  8%|▊         | 83/1000 [00:42<09:12,  1.66it/s]"
     ]
    },
    {
     "name": "stdout",
     "output_type": "stream",
     "text": [
      "person1 = ['C', 'S']\n",
      "person2 = ['H', 'U']\n",
      "person3 = ['Y', 'I']\n",
      "person4 = ['L', 'H']\n",
      "person5 = ['L', 'H']\n",
      "Found words: ['CHILL', 'CULLY', 'SHILL', 'HILLS', 'SULLY', 'LUSHY', 'ILLUS']\n"
     ]
    },
    {
     "name": "stderr",
     "output_type": "stream",
     "text": [
      "  8%|▊         | 84/1000 [00:43<09:34,  1.59it/s]"
     ]
    },
    {
     "name": "stdout",
     "output_type": "stream",
     "text": [
      "person1 = ['P', 'S']\n",
      "person2 = ['H', 'E']\n",
      "person3 = ['L', 'A']\n",
      "person4 = ['A', 'N']\n",
      "person5 = ['L', 'E']\n",
      "Found words: ['ALEPH', 'ALPHA', 'PELLA', 'LAPEL', 'PEALE', 'PENAL', 'PANEL', 'PLENA', 'PLANE', 'NEPAL', 'SHALL', 'HALLS', 'SHALE', 'SAHEL', 'SELAH', 'HALES', 'HEALS', 'LEASH', 'LHASA', 'SHANE', 'HANSE', 'ASHEN', 'EASEL', 'LEASE', 'SNELL', 'LEANS', 'LANES']\n"
     ]
    },
    {
     "name": "stderr",
     "output_type": "stream",
     "text": [
      "  8%|▊         | 85/1000 [00:43<09:32,  1.60it/s]"
     ]
    },
    {
     "name": "stdout",
     "output_type": "stream",
     "text": [
      "person1 = ['P', 'C']\n",
      "person2 = ['K', 'H']\n",
      "person3 = ['C', 'E']\n",
      "person4 = ['O', 'R']\n",
      "person5 = ['S', 'L']\n",
      "Found words: ['POCKS', 'SPOCK', 'POKES', 'SPOKE', 'PERKS', 'CHOPS', 'HOPES', 'COCKS', 'CLOCK', 'COKES', 'LOCKE', 'CLERK', 'CHOCS', 'CHOSE', 'ECHOS', 'SOCHE', 'CHLOE']\n"
     ]
    },
    {
     "name": "stderr",
     "output_type": "stream",
     "text": [
      "  9%|▊         | 86/1000 [00:44<09:13,  1.65it/s]"
     ]
    },
    {
     "name": "stdout",
     "output_type": "stream",
     "text": [
      "person1 = ['C', 'P']\n",
      "person2 = ['H', 'U']\n",
      "person3 = ['Y', 'O']\n",
      "person4 = ['H', 'S']\n",
      "person5 = ['N', 'A']\n",
      "Found words: ['CHAOS', 'SAUCY', 'HYPHA', 'PHONS', 'OPAHS']\n"
     ]
    },
    {
     "name": "stderr",
     "output_type": "stream",
     "text": [
      "  9%|▊         | 87/1000 [00:44<08:52,  1.71it/s]"
     ]
    },
    {
     "name": "stdout",
     "output_type": "stream",
     "text": [
      "person1 = ['C', 'E']\n",
      "person2 = ['H', 'E']\n",
      "person3 = ['C', 'T']\n",
      "person4 = ['T', 'L']\n",
      "person5 = ['T', 'R']\n",
      "Found words: ['CHERT', 'RETCH', 'ERECT', 'CRETE', 'TERCE', 'ELECT', 'CREEL']\n"
     ]
    },
    {
     "name": "stderr",
     "output_type": "stream",
     "text": [
      "  9%|▉         | 88/1000 [00:45<08:34,  1.77it/s]"
     ]
    },
    {
     "name": "stdout",
     "output_type": "stream",
     "text": [
      "person1 = ['S', 'C']\n",
      "person2 = ['H', 'H']\n",
      "person3 = ['S', 'R']\n",
      "person4 = ['T', 'O']\n",
      "person5 = ['T', 'O']\n",
      "Found words: ['SHOTS', 'HOSTS', 'SHOOS', 'SHORT', 'HORST', 'COHOS', 'TORCH']\n"
     ]
    },
    {
     "name": "stderr",
     "output_type": "stream",
     "text": [
      "  9%|▉         | 89/1000 [00:45<08:56,  1.70it/s]"
     ]
    },
    {
     "name": "stdout",
     "output_type": "stream",
     "text": [
      "person1 = ['S', 'P']\n",
      "person2 = ['H', 'H']\n",
      "person3 = ['O', 'T']\n",
      "person4 = ['R', 'S']\n",
      "person5 = ['I', 'O']\n",
      "Found words: ['SHOOS', 'SHIRT', 'SHORT', 'HORST', 'SHITS', 'SHOTS', 'HOSTS', 'OPHIR', 'HOPIS', 'POOHS', 'HOOPS', 'THORP', 'PITHS', 'PHOTS']\n"
     ]
    },
    {
     "name": "stderr",
     "output_type": "stream",
     "text": [
      "  9%|▉         | 91/1000 [00:46<08:33,  1.77it/s]"
     ]
    },
    {
     "name": "stdout",
     "output_type": "stream",
     "text": [
      "person1 = ['C', 'S']\n",
      "person2 = ['H', 'E']\n",
      "person3 = ['T', 'A']\n",
      "person4 = ['Y', 'O']\n",
      "person5 = ['S', 'R']\n",
      "Found words: ['TORCH', 'CHARY', 'CHAOS', 'ROCHA', 'ROACH', 'COTES', 'COSET', 'COSTE', 'RECTO', 'CAYES', 'CASEY', 'CAREY', 'OCREA', 'SHOTS', 'HOSTS', 'SHORT', 'HORST', 'SHAYS', 'HOARS', 'HORSA', 'HORAS', 'STYES', 'TREYS', 'OSSET', 'STORE', 'TORSE', 'ESSAY', 'SAYER', 'EYRAS', 'AYERS', 'YEARS', 'OASES', 'AROSE']\n"
     ]
    },
    {
     "name": "stderr",
     "output_type": "stream",
     "text": [
      "  9%|▉         | 92/1000 [00:47<08:17,  1.82it/s]"
     ]
    },
    {
     "name": "stdout",
     "output_type": "stream",
     "text": [
      "person1 = ['C', 'E']\n",
      "person2 = ['H', 'H']\n",
      "person3 = ['T', 'E']\n",
      "person4 = ['O', 'S']\n",
      "person5 = ['E', 'C']\n",
      "Found words: ['CHEST', 'TECHS', 'THESE', 'THEES', 'SHEET']\n"
     ]
    },
    {
     "name": "stderr",
     "output_type": "stream",
     "text": [
      "  9%|▉         | 93/1000 [00:48<08:47,  1.72it/s]"
     ]
    },
    {
     "name": "stdout",
     "output_type": "stream",
     "text": [
      "person1 = ['C', 'S']\n",
      "person2 = ['K', 'H']\n",
      "person3 = ['S', 'A']\n",
      "person4 = ['T', 'O']\n",
      "person5 = ['O', 'Y']\n",
      "Found words: ['STOCK', 'COOKS', 'TACKY', 'COHOS', 'CATHY', 'YACHT', 'ACHOO', 'OCHOA', 'KYATS', 'KAYOS', 'OKAYS', 'SHOTS', 'HOSTS', 'SHOOS', 'SHOAT', 'HOSTA', 'ATHOS', 'OATHS', 'HASTY']\n"
     ]
    },
    {
     "name": "stderr",
     "output_type": "stream",
     "text": [
      " 10%|▉         | 95/1000 [00:49<08:59,  1.68it/s]"
     ]
    },
    {
     "name": "stdout",
     "output_type": "stream",
     "text": [
      "person1 = ['C', 'S']\n",
      "person2 = ['K', 'E']\n",
      "person3 = ['H', 'N']\n",
      "person4 = ['R', 'A']\n",
      "person5 = ['Y', 'N']\n",
      "Found words: ['HANCE', 'NANCE', 'SHAKY', 'SHANK', 'KHANS', 'HANKS', 'ANKHS', 'SNAKY', 'YANKS', 'SHYER', 'HAYES', 'YEAHS', 'SHANE', 'HANSE', 'ASHEN', 'YEANS', 'SENNA']\n"
     ]
    },
    {
     "name": "stderr",
     "output_type": "stream",
     "text": [
      " 10%|▉         | 96/1000 [00:50<09:10,  1.64it/s]"
     ]
    },
    {
     "name": "stdout",
     "output_type": "stream",
     "text": [
      "person1 = ['S', 'T']\n",
      "person2 = ['E', 'H']\n",
      "person3 = ['Y', 'T']\n",
      "person4 = ['R', 'E']\n",
      "person5 = ['E', 'R']\n",
      "Found words: ['REYES', 'STERE', 'STEER', 'ESTER', 'TERSE', 'TREES', 'RESET', 'REEST', 'SHYER', 'RESHT', 'SHEET', 'THESE', 'THEES', 'TYREE', 'TERRY', 'RETRY', 'TEETH']\n"
     ]
    },
    {
     "name": "stderr",
     "output_type": "stream",
     "text": [
      " 10%|▉         | 97/1000 [00:50<09:19,  1.61it/s]"
     ]
    },
    {
     "name": "stdout",
     "output_type": "stream",
     "text": [
      "person1 = ['C', 'T']\n",
      "person2 = ['H', 'K']\n",
      "person3 = ['A', 'E']\n",
      "person4 = ['H', 'N']\n",
      "person5 = ['N', 'R']\n",
      "Found words: ['RANCH', 'HENCH', 'CRANK', 'KERCH', 'THANH', 'THANK']\n"
     ]
    },
    {
     "name": "stderr",
     "output_type": "stream",
     "text": [
      " 10%|▉         | 99/1000 [00:51<09:06,  1.65it/s]"
     ]
    },
    {
     "name": "stdout",
     "output_type": "stream",
     "text": [
      "person1 = ['C', 'S']\n",
      "person2 = ['H', 'U']\n",
      "person3 = ['L', 'O']\n",
      "person4 = ['O', 'I']\n",
      "person5 = ['T', 'O']\n",
      "Found words: ['CLOTH', 'CHOLI', 'CLOUT', 'LUCIO', 'OCULI', 'SLOTH', 'HOLST', 'SHOOL', 'HILTS', 'SHOOT', 'SOOTH', 'HOOTS', 'HOIST', 'SOULT', 'LOUTS', 'LOTUS', 'TOLUS', 'LOUIS']\n"
     ]
    },
    {
     "name": "stderr",
     "output_type": "stream",
     "text": [
      " 10%|█         | 103/1000 [00:54<08:24,  1.78it/s]"
     ]
    },
    {
     "name": "stdout",
     "output_type": "stream",
     "text": [
      "person1 = ['P', 'C']\n",
      "person2 = ['K', 'H']\n",
      "person3 = ['N', 'O']\n",
      "person4 = ['S', 'T']\n",
      "person5 = ['C', 'E']\n",
      "Found words: ['POCKS', 'SPOCK', 'POKES', 'SPOKE', 'CHOPS', 'HOPES', 'NECKS', 'SNECK', 'COCKS', 'COKES', 'TENCH', 'CHOCS', 'CHOSE', 'SOCHE', 'ECHOS']\n"
     ]
    },
    {
     "name": "stderr",
     "output_type": "stream",
     "text": [
      " 10%|█         | 104/1000 [00:54<08:41,  1.72it/s]"
     ]
    },
    {
     "name": "stdout",
     "output_type": "stream",
     "text": [
      "person1 = ['S', 'T']\n",
      "person2 = ['H', 'E']\n",
      "person3 = ['I', 'L']\n",
      "person4 = ['R', 'E']\n",
      "person5 = ['C', 'O']\n",
      "Found words: ['CHRIS', 'SHEOL', 'HOLES', 'RICES', 'CRIES', 'ROSIE', 'OSIER', 'LOSER', 'ROLES', 'ETHIC', 'THEOL', 'THOLE', 'HELOT', 'HOTEL', 'TRICE', 'RECTI', 'ELECT']\n"
     ]
    },
    {
     "name": "stderr",
     "output_type": "stream",
     "text": [
      " 10%|█         | 105/1000 [00:55<08:42,  1.71it/s]"
     ]
    },
    {
     "name": "stdout",
     "output_type": "stream",
     "text": [
      "person1 = ['P', 'C']\n",
      "person2 = ['H', 'E']\n",
      "person3 = ['N', 'R']\n",
      "person4 = ['A', 'Y']\n",
      "person5 = ['S', 'O']\n",
      "Found words: ['SPAHN', 'PHONY', 'HARPS', 'SHARP', 'OPRAH', 'PEANS', 'PANES', 'NEAPS', 'NAPES', 'ASPEN', 'PAEON', 'PEONY', 'PEARS', 'PRESA', 'PRASE', 'PARES', 'PARSE', 'REAPS', 'RAPES', 'ASPER', 'SPEAR', 'SPARE', 'OPERA', 'PREYS', 'PYRES', 'YPRES', 'COHAN', 'NACHO', 'CHARS', 'CRASH', 'ROCHA', 'ROACH', 'CANES', 'CANOE', 'OCEAN', 'CONEY', 'NOYCE', 'CESAR', 'CARES', 'CARSE', 'RACES', 'ACRES', 'SCARE', 'OCREA', 'COREY', 'COYER', 'ROYCE']\n"
     ]
    },
    {
     "name": "stderr",
     "output_type": "stream",
     "text": [
      " 11%|█         | 107/1000 [00:56<08:41,  1.71it/s]"
     ]
    },
    {
     "name": "stdout",
     "output_type": "stream",
     "text": [
      "person1 = ['S', 'E']\n",
      "person2 = ['H', 'H']\n",
      "person3 = ['Y', 'T']\n",
      "person4 = ['A', 'O']\n",
      "person5 = ['O', 'R']\n",
      "Found words: ['HORSY', 'SHOAT', 'HOSTA', 'ATHOS', 'OATHS', 'HARTS', 'TRASH', 'RASHT', 'SHOOT', 'SOOTH', 'HOOTS', 'SHORT', 'HORST', 'HOOEY', 'TAHOE', 'EARTH', 'HEART', 'HERAT', 'HATER', 'HARTE', 'RATHE', 'THROE', 'OTHER']\n"
     ]
    },
    {
     "name": "stderr",
     "output_type": "stream",
     "text": [
      " 11%|█         | 108/1000 [00:57<08:49,  1.68it/s]"
     ]
    },
    {
     "name": "stdout",
     "output_type": "stream",
     "text": [
      "person1 = ['Q', 'T']\n",
      "person2 = ['H', 'K']\n",
      "person3 = ['E', 'L']\n",
      "person4 = ['C', 'O']\n",
      "person5 = ['C', 'E']\n",
      "Found words: ['CLOTH', 'THOLE', 'THEOL', 'HOTEL', 'HELOT']\n"
     ]
    },
    {
     "name": "stderr",
     "output_type": "stream",
     "text": [
      " 11%|█         | 109/1000 [00:57<08:54,  1.67it/s]"
     ]
    },
    {
     "name": "stdout",
     "output_type": "stream",
     "text": [
      "person1 = ['E', 'P']\n",
      "person2 = ['H', 'K']\n",
      "person3 = ['O', 'E']\n",
      "person4 = ['A', 'N']\n",
      "person5 = ['A', 'H']\n",
      "Found words: ['OAKEN', 'AKENE', 'EPHAH', 'APEAK', 'PEKAN']\n"
     ]
    },
    {
     "name": "stderr",
     "output_type": "stream",
     "text": [
      " 11%|█         | 110/1000 [00:58<09:07,  1.63it/s]"
     ]
    },
    {
     "name": "stdout",
     "output_type": "stream",
     "text": [
      "person1 = ['P', 'T']\n",
      "person2 = ['E', 'U']\n",
      "person3 = ['S', 'N']\n",
      "person4 = ['E', 'A']\n",
      "person5 = ['H', 'O']\n",
      "Found words: ['SHEEP', 'PHASE', 'SHAPE', 'HEAPS', 'AESOP', 'PAEON', 'THESE', 'THEES', 'SHEET', 'HEATS', 'HATES', 'HASTE', 'TOEAS', 'SEATO', 'OATES', 'THANE', 'ETHAN', 'NEATH', 'EATON', 'ATONE', 'ANETO', 'OATEN', 'SHUTE', 'AUTOS', 'HAUNT']\n"
     ]
    },
    {
     "name": "stderr",
     "output_type": "stream",
     "text": [
      " 11%|█         | 111/1000 [00:59<09:14,  1.60it/s]"
     ]
    },
    {
     "name": "stdout",
     "output_type": "stream",
     "text": [
      "person1 = ['C', 'C']\n",
      "person2 = ['K', 'H']\n",
      "person3 = ['R', 'O']\n",
      "person4 = ['N', 'Y']\n",
      "person5 = ['O', 'I']\n",
      "Found words: ['CRONK', 'CORKY', 'ROCKY', 'RICKY', 'COOKY', 'CHRON', 'CHINO']\n"
     ]
    },
    {
     "name": "stderr",
     "output_type": "stream",
     "text": [
      " 11%|█         | 112/1000 [00:59<08:57,  1.65it/s]"
     ]
    },
    {
     "name": "stdout",
     "output_type": "stream",
     "text": [
      "person1 = ['Q', 'S']\n",
      "person2 = ['H', 'U']\n",
      "person3 = ['O', 'S']\n",
      "person4 = ['S', 'T']\n",
      "person5 = ['A', 'E']\n",
      "Found words: ['QUOTA', 'QUOTE', 'TOQUE', 'QUASS', 'SQUAT', 'QUEST', 'SHOES', 'HOSES', 'SHOAT', 'HOSTA', 'OATHS', 'ATHOS', 'SHOTE', 'THOSE', 'ETHOS', 'STASH', 'THESS', 'SOUSA', 'SOUSE', 'AUTOS', 'SEUSS']\n"
     ]
    },
    {
     "name": "stderr",
     "output_type": "stream",
     "text": [
      " 11%|█▏        | 113/1000 [01:00<08:58,  1.65it/s]"
     ]
    },
    {
     "name": "stdout",
     "output_type": "stream",
     "text": [
      "person1 = ['C', 'T']\n",
      "person2 = ['E', 'U']\n",
      "person3 = ['L', 'Y']\n",
      "person4 = ['L', 'C']\n",
      "person5 = ['O', 'H']\n",
      "Found words: ['CELLO', 'COLEY', 'CHYLE', 'CULCH', 'COLET', 'ELYOT', 'ETHYL', 'TECHY', 'TYCHE', 'CLOUT']\n"
     ]
    },
    {
     "name": "stderr",
     "output_type": "stream",
     "text": [
      " 11%|█▏        | 114/1000 [01:00<08:51,  1.67it/s]"
     ]
    },
    {
     "name": "stdout",
     "output_type": "stream",
     "text": [
      "person1 = ['T', 'E']\n",
      "person2 = ['E', 'U']\n",
      "person3 = ['N', 'S']\n",
      "person4 = ['N', 'T']\n",
      "person5 = ['C', 'O']\n",
      "Found words: ['TENNO', 'TENON', 'TONNE', 'NONET', 'TETON', 'SCENT', 'CENTS', 'TONES', 'STENO', 'STONE', 'SETON', 'NOTES', 'ONSET', 'TOTES', 'CUNTS', 'TONUS', 'SNOUT', 'NOTUS', 'TOUTS', 'STOUT', 'SCENE', 'CENSE', 'SCUTE', 'CETUS']\n"
     ]
    },
    {
     "name": "stderr",
     "output_type": "stream",
     "text": [
      " 12%|█▏        | 115/1000 [01:01<08:52,  1.66it/s]"
     ]
    },
    {
     "name": "stdout",
     "output_type": "stream",
     "text": [
      "person1 = ['S', 'P']\n",
      "person2 = ['E', 'U']\n",
      "person3 = ['C', 'Y']\n",
      "person4 = ['S', 'H']\n",
      "person5 = ['R', 'Y']\n",
      "Found words: ['CRESS', 'SHYER', 'CRUSH', 'CUSHY', 'RUSHY', 'PERCH', 'PYRES', 'PREYS', 'YPRES', 'HYPER', 'PURSY', 'SYRUP']\n"
     ]
    },
    {
     "name": "stderr",
     "output_type": "stream",
     "text": [
      " 12%|█▏        | 117/1000 [01:02<08:35,  1.71it/s]"
     ]
    },
    {
     "name": "stdout",
     "output_type": "stream",
     "text": [
      "person1 = ['P', 'C']\n",
      "person2 = ['E', 'U']\n",
      "person3 = ['C', 'N']\n",
      "person4 = ['Y', 'E']\n",
      "person5 = ['L', 'E']\n",
      "Found words: ['CLEPE', 'CUPEL', 'CYCLE', 'LECCE', 'CLUNY', 'UNCLE']\n"
     ]
    },
    {
     "name": "stderr",
     "output_type": "stream",
     "text": [
      " 12%|█▏        | 119/1000 [01:03<08:47,  1.67it/s]"
     ]
    },
    {
     "name": "stdout",
     "output_type": "stream",
     "text": [
      "person1 = ['C', 'T']\n",
      "person2 = ['E', 'H']\n",
      "person3 = ['E', 'C']\n",
      "person4 = ['T', 'R']\n",
      "person5 = ['N', 'I']\n",
      "Found words: ['CERIC', 'CIRCE', 'TENCH', 'ETHIC', 'CHERI', 'ERICH', 'REICH', 'TENET', 'TREEN', 'ENTER', 'RETIE', 'TRICE', 'RECTI', 'TENTH', 'TITHE', 'THEIR', 'TITCH']\n"
     ]
    },
    {
     "name": "stderr",
     "output_type": "stream",
     "text": [
      " 12%|█▏        | 121/1000 [01:04<08:46,  1.67it/s]"
     ]
    },
    {
     "name": "stdout",
     "output_type": "stream",
     "text": [
      "person1 = ['S', 'Q']\n",
      "person2 = ['K', 'H']\n",
      "person3 = ['I', 'E']\n",
      "person4 = ['C', 'T']\n",
      "person5 = ['O', 'S']\n",
      "Found words: ['SICKO', 'SICKS', 'SKITS', 'COKES', 'STOKE', 'TOKES', 'SOCHI', 'CHIOS', 'HOIST', 'SHITS', 'SOCHE', 'ECHOS', 'CHOSE', 'CHESS', 'SHOTE', 'ETHOS', 'THOSE', 'THESS']\n"
     ]
    },
    {
     "name": "stderr",
     "output_type": "stream",
     "text": [
      " 12%|█▏        | 123/1000 [01:06<08:50,  1.65it/s]"
     ]
    },
    {
     "name": "stdout",
     "output_type": "stream",
     "text": [
      "person1 = ['Q', 'T']\n",
      "person2 = ['H', 'E']\n",
      "person3 = ['O', 'S']\n",
      "person4 = ['S', 'R']\n",
      "person5 = ['C', 'O']\n",
      "Found words: ['HOOTS', 'SHOOT', 'SOOTH', 'TORCH', 'HOSTS', 'SHOTS', 'HORST', 'SHORT', 'COTES', 'COSTE', 'COSET', 'RECTO', 'SECTS', 'OSSET', 'CERTS', 'CREST', 'TORSE', 'STORE']\n"
     ]
    },
    {
     "name": "stderr",
     "output_type": "stream",
     "text": [
      " 12%|█▏        | 124/1000 [01:06<08:58,  1.63it/s]"
     ]
    },
    {
     "name": "stdout",
     "output_type": "stream",
     "text": [
      "person1 = ['C', 'P']\n",
      "person2 = ['H', 'H']\n",
      "person3 = ['N', 'E']\n",
      "person4 = ['O', 'S']\n",
      "person5 = ['O', 'R']\n",
      "Found words: ['CHRON', 'CHORE', 'OCHER', 'ROCHE', 'CHOSE', 'ECHOS', 'SOCHE', 'PHONS', 'EPHOR', 'HOPES']\n"
     ]
    },
    {
     "name": "stderr",
     "output_type": "stream",
     "text": [
      " 12%|█▎        | 125/1000 [01:07<09:07,  1.60it/s]"
     ]
    },
    {
     "name": "stdout",
     "output_type": "stream",
     "text": [
      "person1 = ['S', 'C']\n",
      "person2 = ['H', 'K']\n",
      "person3 = ['S', 'H']\n",
      "person4 = ['O', 'T']\n",
      "person5 = ['O', 'N']\n",
      "Found words: ['SHOOS', 'SHOTS', 'HOSTS', 'SHOOK', 'HOOKS', 'HONKS', 'COHOS', 'HOOCH', 'COOKS', 'CONKS', 'NOCKS', 'STOCK', 'CHOOK']\n"
     ]
    },
    {
     "name": "stderr",
     "output_type": "stream",
     "text": [
      " 13%|█▎        | 126/1000 [01:07<08:44,  1.67it/s]"
     ]
    },
    {
     "name": "stdout",
     "output_type": "stream",
     "text": [
      "person1 = ['E', 'C']\n",
      "person2 = ['E', 'H']\n",
      "person3 = ['S', 'R']\n",
      "person4 = ['N', 'A']\n",
      "person5 = ['L', 'E']\n",
      "Found words: ['EASEL', 'LEASE', 'RENEE', 'EARLE', 'SHEEN', 'HEALS', 'HALES', 'SELAH', 'SHALE', 'SAHEL', 'LEASH', 'HERNE', 'HALER', 'CENSE', 'SCENE', 'SCALE', 'LACES', 'CEASE', 'CLEAR', 'CLARE', 'LACER', 'CLASH', 'CHASE', 'ACHES', 'LARCH', 'CHARE', 'REACH']\n"
     ]
    },
    {
     "name": "stderr",
     "output_type": "stream",
     "text": [
      " 13%|█▎        | 127/1000 [01:08<08:25,  1.73it/s]"
     ]
    },
    {
     "name": "stdout",
     "output_type": "stream",
     "text": [
      "person1 = ['Q', 'C']\n",
      "person2 = ['H', 'U']\n",
      "person3 = ['O', 'L']\n",
      "person4 = ['A', 'O']\n",
      "person5 = ['T', 'N']\n",
      "Found words: ['QUOTA', 'COHAN', 'NACHO', 'LATCH', 'CLOTH', 'LUCAN', 'CLOUT']\n"
     ]
    },
    {
     "name": "stderr",
     "output_type": "stream",
     "text": [
      " 13%|█▎        | 129/1000 [01:09<08:21,  1.74it/s]"
     ]
    },
    {
     "name": "stdout",
     "output_type": "stream",
     "text": [
      "person1 = ['S', 'Q']\n",
      "person2 = ['K', 'H']\n",
      "person3 = ['H', 'A']\n",
      "person4 = ['R', 'Y']\n",
      "person5 = ['E', 'T']\n",
      "Found words: ['SHREK', 'SAKER', 'ASKER', 'RAKES', 'STARK', 'KARST', 'KARTS', 'KASEY', 'KYATS', 'SHARE', 'SHEAR', 'HARES', 'HEARS', 'ASHER', 'RHEAS', 'HARTS', 'RASHT', 'TRASH', 'HAYES', 'YEAHS', 'HASTY']\n"
     ]
    },
    {
     "name": "stderr",
     "output_type": "stream",
     "text": [
      " 13%|█▎        | 130/1000 [01:10<08:26,  1.72it/s]"
     ]
    },
    {
     "name": "stdout",
     "output_type": "stream",
     "text": [
      "person1 = ['Q', 'T']\n",
      "person2 = ['H', 'U']\n",
      "person3 = ['H', 'A']\n",
      "person4 = ['E', 'A']\n",
      "person5 = ['R', 'L']\n",
      "Found words: ['QUALE', 'EQUAL', 'HATER', 'HARTE', 'HEART', 'HERAT', 'EARTH', 'RATHE', 'LATHE', 'LETHA', 'ARHAT', 'UTHER', 'THULE', 'ALEUT']\n"
     ]
    },
    {
     "name": "stderr",
     "output_type": "stream",
     "text": [
      " 13%|█▎        | 132/1000 [01:11<07:46,  1.86it/s]"
     ]
    },
    {
     "name": "stdout",
     "output_type": "stream",
     "text": [
      "person1 = ['C', 'T']\n",
      "person2 = ['H', 'H']\n",
      "person3 = ['N', 'R']\n",
      "person4 = ['H', 'O']\n",
      "person5 = ['A', 'S']\n",
      "Found words: ['COHAN', 'NACHO', 'ROCHA', 'ROACH', 'THANH', 'TORAH', 'HORTA', 'HORST', 'SHORT']\n"
     ]
    },
    {
     "name": "stderr",
     "output_type": "stream",
     "text": [
      " 13%|█▎        | 133/1000 [01:11<07:26,  1.94it/s]"
     ]
    },
    {
     "name": "stdout",
     "output_type": "stream",
     "text": [
      "person1 = ['S', 'C']\n",
      "person2 = ['E', 'H']\n",
      "person3 = ['L', 'O']\n",
      "person4 = ['C', 'S']\n",
      "person5 = ['T', 'H']\n",
      "Found words: ['CELTS', 'COSET', 'COSTE', 'COTES', 'SOCHE', 'ECHOS', 'CHOSE', 'OSSET', 'SHOES', 'HOSES', 'SHOTS', 'HOSTS']\n"
     ]
    },
    {
     "name": "stderr",
     "output_type": "stream",
     "text": [
      " 13%|█▎        | 134/1000 [01:12<07:12,  2.00it/s]"
     ]
    },
    {
     "name": "stdout",
     "output_type": "stream",
     "text": [
      "person1 = ['P', 'E']\n",
      "person2 = ['H', 'E']\n",
      "person3 = ['C', 'T']\n",
      "person4 = ['I', 'Y']\n",
      "person5 = ['R', 'Y']\n",
      "Found words: ['CHIRP', 'PITHY', 'PRICE', 'PERCY', 'TRIPE', 'PIETY', 'ERICH', 'CHERI', 'REICH', 'THEIR', 'RETIE', 'TYREE']\n"
     ]
    },
    {
     "name": "stderr",
     "output_type": "stream",
     "text": [
      " 14%|█▎        | 135/1000 [01:12<07:10,  2.01it/s]"
     ]
    },
    {
     "name": "stdout",
     "output_type": "stream",
     "text": [
      "person1 = ['C', 'T']\n",
      "person2 = ['H', 'U']\n",
      "person3 = ['Y', 'S']\n",
      "person4 = ['N', 'C']\n",
      "person5 = ['L', 'I']\n",
      "Found words: ['LYNCH', 'CHINS', 'CLUNY', 'INCUS', 'ITCHY', 'THINS', 'HINTS', 'STICH', 'CHITS', 'UNITY', 'TUNIS', 'UNITS', 'SUINT', 'CULTS', 'CUTIS', 'ICTUS']\n"
     ]
    },
    {
     "name": "stderr",
     "output_type": "stream",
     "text": [
      " 14%|█▍        | 138/1000 [01:14<07:09,  2.01it/s]"
     ]
    },
    {
     "name": "stdout",
     "output_type": "stream",
     "text": [
      "person1 = ['T', 'S']\n",
      "person2 = ['H', 'K']\n",
      "person3 = ['E', 'Y']\n",
      "person4 = ['O', 'N']\n",
      "person5 = ['L', 'A']\n",
      "Found words: ['THEOL', 'THOLE', 'HELOT', 'HOTEL', 'TAHOE', 'THANE', 'ETHAN', 'NEATH', 'HOTLY', 'KNELT', 'TAKEN', 'TOKAY', 'SHEOL', 'HOLES', 'HOSEA', 'SHANE', 'HANSE', 'ASHEN', 'KELSO', 'SKEAN', 'SNEAK', 'SNAKE', 'YOLKS', 'KAYOS', 'OKAYS', 'SNAKY', 'YANKS']\n"
     ]
    },
    {
     "name": "stderr",
     "output_type": "stream",
     "text": [
      " 14%|█▍        | 139/1000 [01:14<07:08,  2.01it/s]"
     ]
    },
    {
     "name": "stdout",
     "output_type": "stream",
     "text": [
      "person1 = ['S', 'C']\n",
      "person2 = ['E', 'K']\n",
      "person3 = ['A', 'N']\n",
      "person4 = ['H', 'N']\n",
      "person5 = ['C', 'O']\n",
      "Found words: ['ACHES', 'CHASE', 'HOSEA', 'CANES', 'SAONE', 'AEONS', 'SHONE', 'HONES', 'NONES', 'SHACK', 'HACKS', 'SHAKO', 'SNACK', 'KAONS', 'KOANS', 'HONKS', 'CACHE', 'CANOE', 'OCEAN', 'COHEN', 'ENOCH', 'NONCE']\n"
     ]
    },
    {
     "name": "stderr",
     "output_type": "stream",
     "text": [
      " 14%|█▍        | 140/1000 [01:15<07:11,  1.99it/s]"
     ]
    },
    {
     "name": "stdout",
     "output_type": "stream",
     "text": [
      "person1 = ['C', 'P']\n",
      "person2 = ['E', 'H']\n",
      "person3 = ['H', 'A']\n",
      "person4 = ['N', 'T']\n",
      "person5 = ['S', 'I']\n",
      "Found words: ['CHINE', 'NICHE', 'CHEST', 'TECHS', 'ETHIC', 'CANES', 'CAINE', 'CESTA', 'CASTE', 'HITCH', 'CHAIN', 'CHIAN', 'CHINA', 'ICAHN', 'CHATS', 'CHITA', 'AITCH', 'PEANS', 'PANES', 'ASPEN', 'NEAPS', 'NAPES', 'PAINE', 'PATES', 'PASTE', 'TAPES', 'SPATE', 'SEPTA', 'PIETA', 'SPAHN', 'PATHS', 'STAPH']\n"
     ]
    },
    {
     "name": "stderr",
     "output_type": "stream",
     "text": [
      " 14%|█▍        | 141/1000 [01:15<07:01,  2.04it/s]"
     ]
    },
    {
     "name": "stdout",
     "output_type": "stream",
     "text": [
      "person1 = ['P', 'T']\n",
      "person2 = ['K', 'E']\n",
      "person3 = ['I', 'T']\n",
      "person4 = ['S', 'L']\n",
      "person5 = ['I', 'C']\n",
      "Found words: ['PICKS', 'EPICS', 'SPICE', 'PILEI', 'PISTE', 'SPITE', 'STIPE', 'TICKS', 'STICK', 'CITES', 'TELIC', 'TITLE']\n"
     ]
    },
    {
     "name": "stderr",
     "output_type": "stream",
     "text": [
      " 14%|█▍        | 143/1000 [01:16<06:51,  2.08it/s]"
     ]
    },
    {
     "name": "stdout",
     "output_type": "stream",
     "text": [
      "person1 = ['C', 'Q']\n",
      "person2 = ['K', 'H']\n",
      "person3 = ['A', 'T']\n",
      "person4 = ['O', 'A']\n",
      "person5 = ['N', 'Y']\n",
      "Found words: ['TACKY', 'COHAN', 'NACHO', 'NOTCH', 'TYCHO', 'CHANT', 'NATCH', 'CATHY', 'YACHT']\n"
     ]
    },
    {
     "name": "stderr",
     "output_type": "stream",
     "text": [
      " 14%|█▍        | 144/1000 [01:17<06:54,  2.07it/s]"
     ]
    },
    {
     "name": "stdout",
     "output_type": "stream",
     "text": [
      "person1 = ['E', 'T']\n",
      "person2 = ['E', 'H']\n",
      "person3 = ['A', 'O']\n",
      "person4 = ['N', 'R']\n",
      "person5 = ['T', 'A']\n",
      "Found words: ['EATEN', 'ENATE', 'EATER', 'ARETE', 'ETHAN', 'NEATH', 'THANE', 'EARTH', 'HEART', 'HERAT', 'HARTE', 'HATER', 'RATHE', 'OTHER', 'THROE', 'HORAE', 'AETNA', 'TETRA', 'TATER', 'TREAT', 'REATA', 'TETON', 'EATON', 'OATEN', 'ATONE', 'ANETO', 'TORTE', 'TOTER', 'OTTER', 'ERATO', 'ORATE', 'THANT', 'THANA', 'ARHAT', 'TROTH', 'TORAH', 'HORTA']\n"
     ]
    },
    {
     "name": "stderr",
     "output_type": "stream",
     "text": [
      " 14%|█▍        | 145/1000 [01:17<06:44,  2.11it/s]"
     ]
    },
    {
     "name": "stdout",
     "output_type": "stream",
     "text": [
      "person1 = ['C', 'P']\n",
      "person2 = ['E', 'H']\n",
      "person3 = ['Y', 'O']\n",
      "person4 = ['N', 'A']\n",
      "person5 = ['A', 'E']\n",
      "Found words: ['CANOE', 'OCEAN', 'COHAN', 'NACHO', 'COHEN', 'ENOCH', 'PAYNE', 'PAYEE', 'PAEON', 'PHONE', 'PHEON']\n"
     ]
    },
    {
     "name": "stderr",
     "output_type": "stream",
     "text": [
      " 15%|█▍        | 146/1000 [01:17<06:38,  2.14it/s]"
     ]
    },
    {
     "name": "stdout",
     "output_type": "stream",
     "text": [
      "person1 = ['P', 'C']\n",
      "person2 = ['H', 'K']\n",
      "person3 = ['L', 'T']\n",
      "person4 = ['T', 'S']\n",
      "person5 = ['L', 'A']\n",
      "Found words: ['PLATH', 'PLASH', 'PATHS', 'STAPH', 'LATCH', 'CLASH', 'CHATS', 'CALKS', 'LACKS', 'SLACK', 'TACKS', 'STACK']\n"
     ]
    },
    {
     "name": "stderr",
     "output_type": "stream",
     "text": [
      " 15%|█▍        | 147/1000 [01:18<06:36,  2.15it/s]"
     ]
    },
    {
     "name": "stdout",
     "output_type": "stream",
     "text": [
      "person1 = ['E', 'S']\n",
      "person2 = ['K', 'H']\n",
      "person3 = ['A', 'R']\n",
      "person4 = ['H', 'O']\n",
      "person5 = ['A', 'N']\n",
      "Found words: ['OAKEN', 'KOREA', 'KRONE', 'HORAE', 'HERON', 'HORNE', 'HONER', 'RHONE', 'SAKHA', 'SHAKA', 'KASHA', 'SHANK', 'KHANS', 'ANKHS', 'HANKS', 'ASOKA', 'OSAKA', 'KAONS', 'KOANS', 'SHARK', 'HARKS', 'OKRAS', 'HARSH', 'HORSA', 'HORAS', 'HOARS', 'HORNS']\n"
     ]
    },
    {
     "name": "stderr",
     "output_type": "stream",
     "text": [
      " 15%|█▍        | 148/1000 [01:18<06:37,  2.14it/s]"
     ]
    },
    {
     "name": "stdout",
     "output_type": "stream",
     "text": [
      "person1 = ['E', 'S']\n",
      "person2 = ['U', 'H']\n",
      "person3 = ['R', 'O']\n",
      "person4 = ['E', 'T']\n",
      "person5 = ['O', 'H']\n",
      "Found words: ['ROUTE', 'OUTER', 'OUTRE', 'UTHER', 'THROE', 'OTHER', 'ROUSE', 'ROUES', 'EUROS', 'USHER', 'ROUST', 'ROUTS', 'TOURS', 'TORUS', 'RUTHS', 'THURS', 'HURST', 'HURTS', 'HOUSE', 'SOUTH', 'SHOUT', 'THOUS', 'SHORE', 'HORSE', 'HOERS', 'SHORT', 'HORST', 'SHOOT', 'SOOTH', 'HOOTS']\n"
     ]
    },
    {
     "name": "stderr",
     "output_type": "stream",
     "text": [
      " 15%|█▍        | 149/1000 [01:19<06:34,  2.16it/s]"
     ]
    },
    {
     "name": "stdout",
     "output_type": "stream",
     "text": [
      "person1 = ['C', 'P']\n",
      "person2 = ['H', 'K']\n",
      "person3 = ['R', 'E']\n",
      "person4 = ['R', 'E']\n",
      "person5 = ['Y', 'O']\n",
      "Found words: ['CHORE', 'ROCHE', 'OCHER', 'OCKER', 'HYPER', 'EPHOR', 'PERKY', 'POKER', 'PEKOE']\n"
     ]
    },
    {
     "name": "stderr",
     "output_type": "stream",
     "text": [
      " 15%|█▌        | 150/1000 [01:19<06:46,  2.09it/s]"
     ]
    },
    {
     "name": "stdout",
     "output_type": "stream",
     "text": [
      "person1 = ['E', 'T']\n",
      "person2 = ['H', 'U']\n",
      "person3 = ['L', 'E']\n",
      "person4 = ['L', 'H']\n",
      "person5 = ['T', 'E']\n",
      "Found words: ['HELLE', 'ETHEL', 'LETHE', 'TULLE', 'THULE', 'ELUTE']\n"
     ]
    },
    {
     "name": "stderr",
     "output_type": "stream",
     "text": [
      " 15%|█▌        | 151/1000 [01:20<06:41,  2.12it/s]"
     ]
    },
    {
     "name": "stdout",
     "output_type": "stream",
     "text": [
      "person1 = ['E', 'T']\n",
      "person2 = ['U', 'K']\n",
      "person3 = ['A', 'H']\n",
      "person4 = ['C', 'E']\n",
      "person5 = ['T', 'A']\n",
      "Found words: ['ACUTE', 'CEUTA', 'CHUTE', 'KETCH', 'HACEK', 'CHEKA']\n"
     ]
    },
    {
     "name": "stderr",
     "output_type": "stream",
     "text": [
      " 15%|█▌        | 152/1000 [01:20<06:45,  2.09it/s]"
     ]
    },
    {
     "name": "stdout",
     "output_type": "stream",
     "text": [
      "person1 = ['E', 'C']\n",
      "person2 = ['E', 'K']\n",
      "person3 = ['E', 'S']\n",
      "person4 = ['E', 'R']\n",
      "person5 = ['T', 'Y']\n",
      "Found words: ['ESTER', 'STEER', 'STERE', 'REEST', 'RESET', 'TERSE', 'TREES', 'REYES', 'REEKY', 'SKEET', 'TREKS', 'CRETE', 'ERECT', 'TERCE', 'SYCEE', 'CERTS', 'CREST']\n"
     ]
    },
    {
     "name": "stderr",
     "output_type": "stream",
     "text": [
      " 15%|█▌        | 154/1000 [01:21<06:31,  2.16it/s]"
     ]
    },
    {
     "name": "stdout",
     "output_type": "stream",
     "text": [
      "person1 = ['C', 'Q']\n",
      "person2 = ['E', 'H']\n",
      "person3 = ['E', 'L']\n",
      "person4 = ['T', 'N']\n",
      "person5 = ['N', 'R']\n",
      "Found words: ['CRETE', 'ERECT', 'TERCE', 'TENCH', 'CHERT', 'RETCH']\n"
     ]
    },
    {
     "name": "stderr",
     "output_type": "stream",
     "text": [
      " 16%|█▌        | 155/1000 [01:22<06:32,  2.15it/s]"
     ]
    },
    {
     "name": "stdout",
     "output_type": "stream",
     "text": [
      "person1 = ['C', 'T']\n",
      "person2 = ['H', 'U']\n",
      "person3 = ['S', 'E']\n",
      "person4 = ['Y', 'R']\n",
      "person5 = ['L', 'N']\n",
      "Found words: ['CHYLE', 'CURLS', 'CRUEL', 'ULCER', 'LUCRE', 'SYNTH', 'ETHYL', 'LUSTY', 'TURNS', 'RUNTS', 'TUNER']\n"
     ]
    },
    {
     "name": "stderr",
     "output_type": "stream",
     "text": [
      " 16%|█▌        | 156/1000 [01:22<06:34,  2.14it/s]"
     ]
    },
    {
     "name": "stdout",
     "output_type": "stream",
     "text": [
      "person1 = ['P', 'T']\n",
      "person2 = ['E', 'H']\n",
      "person3 = ['L', 'T']\n",
      "person4 = ['E', 'C']\n",
      "person5 = ['H', 'O']\n",
      "Found words: ['ELOPE', 'PLOCE', 'TOPEE', 'EPCOT', 'ETHEL', 'LETHE', 'COLET', 'TEETH', 'OCTET', 'THEOL', 'THOLE', 'HELOT', 'HOTEL', 'CLOTH']\n"
     ]
    },
    {
     "name": "stderr",
     "output_type": "stream",
     "text": [
      " 16%|█▌        | 158/1000 [01:23<06:28,  2.17it/s]"
     ]
    },
    {
     "name": "stdout",
     "output_type": "stream",
     "text": [
      "person1 = ['S', 'C']\n",
      "person2 = ['H', 'H']\n",
      "person3 = ['E', 'H']\n",
      "person4 = ['A', 'T']\n",
      "person5 = ['C', 'I']\n",
      "Found words: ['ACHES', 'CHASE', 'TECHS', 'CHEST', 'HEIST', 'CACHE', 'ETHIC', 'HITCH']\n"
     ]
    },
    {
     "name": "stderr",
     "output_type": "stream",
     "text": [
      " 16%|█▌        | 159/1000 [01:24<06:35,  2.13it/s]"
     ]
    },
    {
     "name": "stdout",
     "output_type": "stream",
     "text": [
      "person1 = ['P', 'S']\n",
      "person2 = ['H', 'K']\n",
      "person3 = ['N', 'E']\n",
      "person4 = ['L', 'A']\n",
      "person5 = ['T', 'O']\n",
      "Found words: ['PLONK', 'SNATH', 'SHEOL', 'HOLES', 'HEATS', 'HASTE', 'HATES', 'HOSEA', 'STANK', 'TANKS', 'KAONS', 'KOANS', 'KELSO', 'SKATE', 'STEAK', 'STAKE', 'KEATS', 'TEAKS', 'TAKES']\n"
     ]
    },
    {
     "name": "stderr",
     "output_type": "stream",
     "text": [
      " 16%|█▌        | 160/1000 [01:24<06:28,  2.16it/s]"
     ]
    },
    {
     "name": "stdout",
     "output_type": "stream",
     "text": [
      "person1 = ['T', 'P']\n",
      "person2 = ['K', 'U']\n",
      "person3 = ['E', 'L']\n",
      "person4 = ['C', 'E']\n",
      "person5 = ['I', 'N']\n",
      "Found words: ['TIECK', 'KENTE', 'KNELT', 'CUTIE', 'UTILE', 'LIEUT', 'PICUL']\n"
     ]
    },
    {
     "name": "stderr",
     "output_type": "stream",
     "text": [
      " 16%|█▌        | 162/1000 [01:25<06:26,  2.17it/s]"
     ]
    },
    {
     "name": "stdout",
     "output_type": "stream",
     "text": [
      "person1 = ['C', 'Q']\n",
      "person2 = ['H', 'U']\n",
      "person3 = ['T', 'A']\n",
      "person4 = ['I', 'A']\n",
      "person5 = ['Y', 'E']\n",
      "Found words: ['ITCHY', 'ETHIC', 'CATHY', 'YACHT', 'CHEAT', 'THECA', 'TACHE', 'TEACH', 'CUTIE', 'CEUTA', 'ACUTE', 'QUITE', 'QUIET', 'YAQUI']\n"
     ]
    },
    {
     "name": "stderr",
     "output_type": "stream",
     "text": [
      " 16%|█▋        | 163/1000 [01:25<06:21,  2.19it/s]"
     ]
    },
    {
     "name": "stdout",
     "output_type": "stream",
     "text": [
      "person1 = ['C', 'E']\n",
      "person2 = ['K', 'H']\n",
      "person3 = ['S', 'I']\n",
      "person4 = ['Y', 'S']\n",
      "person5 = ['H', 'L']\n",
      "Found words: ['HICKS', 'SLICK', 'LICKS', 'KYLES', 'SHEIK', 'HIKES', 'LIKES']\n"
     ]
    },
    {
     "name": "stderr",
     "output_type": "stream",
     "text": [
      " 16%|█▋        | 165/1000 [01:26<06:23,  2.18it/s]"
     ]
    },
    {
     "name": "stdout",
     "output_type": "stream",
     "text": [
      "person1 = ['S', 'C']\n",
      "person2 = ['H', 'E']\n",
      "person3 = ['E', 'Y']\n",
      "person4 = ['I', 'T']\n",
      "person5 = ['N', 'L']\n",
      "Found words: ['SHINE', 'HINES', 'SHINY', 'SYNTH', 'SEINE', 'ELSIE', 'ELISE', 'SENTE', 'STEEN', 'TEENS', 'TENSE', 'STEEL', 'STELE', 'SLEET', 'STYLE', 'CHINE', 'NICHE', 'CHILE', 'TENCH', 'NIECE', 'ELECT']\n"
     ]
    },
    {
     "name": "stderr",
     "output_type": "stream",
     "text": [
      " 17%|█▋        | 166/1000 [01:27<06:17,  2.21it/s]"
     ]
    },
    {
     "name": "stdout",
     "output_type": "stream",
     "text": [
      "person1 = ['E', 'S']\n",
      "person2 = ['U', 'H']\n",
      "person3 = ['O', 'Y']\n",
      "person4 = ['A', 'E']\n",
      "person5 = ['I', 'T']\n",
      "Found words: ['TAHOE', 'AUTOS', 'ASYUT', 'SUETY', 'SHOAT', 'HOSTA', 'OATHS', 'ATHOS', 'SHOTE', 'ETHOS', 'THOSE', 'HASTY']\n"
     ]
    },
    {
     "name": "stderr",
     "output_type": "stream",
     "text": [
      " 17%|█▋        | 167/1000 [01:27<06:16,  2.21it/s]"
     ]
    },
    {
     "name": "stdout",
     "output_type": "stream",
     "text": [
      "person1 = ['S', 'P']\n",
      "person2 = ['H', 'H']\n",
      "person3 = ['T', 'Y']\n",
      "person4 = ['A', 'H']\n",
      "person5 = ['I', 'Y']\n",
      "Found words: ['SAITH', 'THAIS', 'TISHA', 'HASTY', 'TYPHA']\n"
     ]
    },
    {
     "name": "stderr",
     "output_type": "stream",
     "text": [
      " 17%|█▋        | 168/1000 [01:28<06:12,  2.23it/s]"
     ]
    },
    {
     "name": "stdout",
     "output_type": "stream",
     "text": [
      "person1 = ['C', 'T']\n",
      "person2 = ['E', 'U']\n",
      "person3 = ['Y', 'T']\n",
      "person4 = ['N', 'I']\n",
      "person5 = ['N', 'S']\n",
      "Found words: ['CENTS', 'SCENT', 'CITES', 'CUNTS', 'CUTIN', 'TUNIC', 'CUTIS', 'ICTUS', 'YETIS', 'TENTS', 'STENT', 'TUNNY', 'UNITY', 'STUNT', 'TUTSI', 'TITUS']\n"
     ]
    },
    {
     "name": "stderr",
     "output_type": "stream",
     "text": [
      " 17%|█▋        | 169/1000 [01:28<06:14,  2.22it/s]"
     ]
    },
    {
     "name": "stdout",
     "output_type": "stream",
     "text": [
      "person1 = ['P', 'C']\n",
      "person2 = ['E', 'H']\n",
      "person3 = ['T', 'E']\n",
      "person4 = ['S', 'I']\n",
      "person5 = ['S', 'Y']\n",
      "Found words: ['PESTS', 'SEPTS', 'STEPS', 'PESTY', 'TYPES', 'PISTE', 'SPITE', 'STIPE', 'PIETY', 'SEEPS', 'PITHS', 'PITHY', 'HYPES', 'SECTS', 'CITES', 'SYCEE', 'CHITS', 'STICH', 'ITCHY', 'CHESS']\n"
     ]
    },
    {
     "name": "stderr",
     "output_type": "stream",
     "text": [
      " 17%|█▋        | 172/1000 [01:29<06:01,  2.29it/s]"
     ]
    },
    {
     "name": "stdout",
     "output_type": "stream",
     "text": [
      "person1 = ['T', 'Q']\n",
      "person2 = ['U', 'E']\n",
      "person3 = ['C', 'L']\n",
      "person4 = ['I', 'N']\n",
      "person5 = ['R', 'T']\n",
      "Found words: ['TRICE', 'RECTI', 'TILER', 'LITER', 'TITLE', 'QUILT']\n"
     ]
    },
    {
     "name": "stderr",
     "output_type": "stream",
     "text": [
      " 17%|█▋        | 173/1000 [01:30<05:59,  2.30it/s]"
     ]
    },
    {
     "name": "stdout",
     "output_type": "stream",
     "text": [
      "person1 = ['C', 'S']\n",
      "person2 = ['H', 'H']\n",
      "person3 = ['T', 'S']\n",
      "person4 = ['C', 'E']\n",
      "person5 = ['E', 'T']\n",
      "Found words: ['CHEST', 'TECHS', 'SHEET', 'THESE', 'THEES', 'TETHS', 'CHESS', 'HESSE', 'THESS']\n"
     ]
    },
    {
     "name": "stderr",
     "output_type": "stream",
     "text": [
      " 17%|█▋        | 174/1000 [01:30<06:00,  2.29it/s]"
     ]
    },
    {
     "name": "stdout",
     "output_type": "stream",
     "text": [
      "person1 = ['Q', 'S']\n",
      "person2 = ['K', 'H']\n",
      "person3 = ['N', 'Y']\n",
      "person4 = ['I', 'R']\n",
      "person5 = ['N', 'O']\n",
      "Found words: ['KINOS', 'OINKS', 'HORNS', 'SHINY', 'HORSY']\n"
     ]
    },
    {
     "name": "stderr",
     "output_type": "stream",
     "text": [
      " 18%|█▊        | 175/1000 [01:31<06:04,  2.27it/s]"
     ]
    },
    {
     "name": "stdout",
     "output_type": "stream",
     "text": [
      "person1 = ['T', 'E']\n",
      "person2 = ['U', 'H']\n",
      "person3 = ['H', 'N']\n",
      "person4 = ['S', 'I']\n",
      "person5 = ['R', 'S']\n",
      "Found words: ['THURS', 'HURTS', 'HURST', 'RUTHS', 'SHUTS', 'TURNS', 'RUNTS', 'STUNS', 'TURIN', 'TUNIS', 'UNITS', 'SUINT', 'THINS', 'HINTS', 'USHER', 'NURSE', 'RUNES', 'URINE', 'INURE', 'HENRI', 'RHINE', 'HINES', 'SHINE']\n"
     ]
    },
    {
     "name": "stderr",
     "output_type": "stream",
     "text": [
      " 18%|█▊        | 176/1000 [01:31<06:00,  2.29it/s]"
     ]
    },
    {
     "name": "stdout",
     "output_type": "stream",
     "text": [
      "person1 = ['C', 'P']\n",
      "person2 = ['U', 'K']\n",
      "person3 = ['Y', 'A']\n",
      "person4 = ['O', 'L']\n",
      "person5 = ['L', 'E']\n",
      "Found words: ['CULLY', 'LECKY', 'CLOAK', 'POKEY', 'POLKA']\n"
     ]
    },
    {
     "name": "stderr",
     "output_type": "stream",
     "text": [
      " 18%|█▊        | 178/1000 [01:32<05:59,  2.29it/s]"
     ]
    },
    {
     "name": "stdout",
     "output_type": "stream",
     "text": [
      "person1 = ['E', 'C']\n",
      "person2 = ['U', 'H']\n",
      "person3 = ['C', 'R']\n",
      "person4 = ['R', 'T']\n",
      "person5 = ['I', 'H']\n",
      "Found words: ['CURIE', 'RUCHE', 'CUTIE', 'CHUTE', 'UTERI', 'UTHER', 'ERICH', 'CHERI', 'REICH', 'ETHIC', 'HIRER', 'THEIR', 'CURCH', 'CUTCH', 'CHURR', 'CHIRR']\n"
     ]
    },
    {
     "name": "stderr",
     "output_type": "stream",
     "text": [
      " 18%|█▊        | 179/1000 [01:32<05:57,  2.29it/s]"
     ]
    },
    {
     "name": "stdout",
     "output_type": "stream",
     "text": [
      "person1 = ['C', 'E']\n",
      "person2 = ['H', 'E']\n",
      "person3 = ['L', 'O']\n",
      "person4 = ['T', 'E']\n",
      "person5 = ['O', 'H']\n",
      "Found words: ['CLOTH', 'CHLOE', 'COLET', 'LEECH', 'COOEE', 'HELOT', 'HOTEL', 'THEOL', 'THOLE', 'ETHEL', 'LETHE']\n"
     ]
    },
    {
     "name": "stderr",
     "output_type": "stream",
     "text": [
      " 18%|█▊        | 181/1000 [01:33<06:01,  2.27it/s]"
     ]
    },
    {
     "name": "stdout",
     "output_type": "stream",
     "text": [
      "person1 = ['C', 'S']\n",
      "person2 = ['E', 'H']\n",
      "person3 = ['H', 'T']\n",
      "person4 = ['S', 'I']\n",
      "person5 = ['R', 'E']\n",
      "Found words: ['CHERI', 'ERICH', 'REICH', 'CERTS', 'CREST', 'TRICE', 'RECTI', 'CHEST', 'TECHS', 'ETHIC', 'HESSE', 'SHERI', 'SHIER', 'SHIRE', 'HEIRS', 'HIRES', 'TRESS', 'RESTS', 'ESTES', 'SIRET', 'TIERS', 'TIRES', 'TRIES', 'RESIT', 'RITES', 'THESS', 'SHIRT', 'HEIST']\n"
     ]
    },
    {
     "name": "stderr",
     "output_type": "stream",
     "text": [
      " 18%|█▊        | 182/1000 [01:34<05:58,  2.28it/s]"
     ]
    },
    {
     "name": "stdout",
     "output_type": "stream",
     "text": [
      "person1 = ['Q', 'C']\n",
      "person2 = ['E', 'U']\n",
      "person3 = ['O', 'L']\n",
      "person4 = ['H', 'O']\n",
      "person5 = ['O', 'N']\n",
      "Found words: ['COHEN', 'ENOCH', 'CHLOE', 'CLEON', 'CLONE', 'LUNCH']\n"
     ]
    },
    {
     "name": "stderr",
     "output_type": "stream",
     "text": [
      " 18%|█▊        | 183/1000 [01:34<05:55,  2.30it/s]"
     ]
    },
    {
     "name": "stdout",
     "output_type": "stream",
     "text": [
      "person1 = ['C', 'S']\n",
      "person2 = ['H', 'K']\n",
      "person3 = ['O', 'E']\n",
      "person4 = ['R', 'Y']\n",
      "person5 = ['S', 'I']\n",
      "Found words: ['CHOIR', 'ICHOR', 'CHERI', 'ERICH', 'REICH', 'CORKS', 'ROCKS', 'ERICK', 'SHERI', 'SHIER', 'SHIRE', 'HEIRS', 'HIRES', 'SKIER', 'SYKES', 'YEISK', 'YIKES']\n"
     ]
    },
    {
     "name": "stderr",
     "output_type": "stream",
     "text": [
      " 18%|█▊        | 184/1000 [01:35<05:56,  2.29it/s]"
     ]
    },
    {
     "name": "stdout",
     "output_type": "stream",
     "text": [
      "person1 = ['P', 'S']\n",
      "person2 = ['K', 'U']\n",
      "person3 = ['E', 'A']\n",
      "person4 = ['E', 'S']\n",
      "person5 = ['L', 'R']\n",
      "Found words: ['LEPKE', 'SKELP', 'PERKS', 'PERAK', 'PARKS', 'SPARK', 'PUREE', 'RUPEE', 'PULES', 'PULSE', 'LEPUS', 'PURSE', 'SPRUE', 'SUPER', 'PAREU', 'APURE', 'PULAS', 'SUPRA', 'SLEEK', 'KEELS', 'LEEKS', 'ESKER', 'REEKS', 'SLAKE', 'LAKES', 'LEAKS', 'SAKER', 'ASKER', 'RAKES', 'REUSE', 'SLUES', 'USERS', 'RUSES', 'SURAS', 'ASSUR']\n"
     ]
    },
    {
     "name": "stderr",
     "output_type": "stream",
     "text": [
      " 18%|█▊        | 185/1000 [01:35<06:01,  2.26it/s]"
     ]
    },
    {
     "name": "stdout",
     "output_type": "stream",
     "text": [
      "person1 = ['Q', 'S']\n",
      "person2 = ['H', 'H']\n",
      "person3 = ['T', 'E']\n",
      "person4 = ['C', 'O']\n",
      "person5 = ['E', 'I']\n",
      "Found words: ['TECHS', 'CHEST', 'STICH', 'CHITS', 'SHOTE', 'THOSE', 'ETHOS', 'HOIST']\n"
     ]
    },
    {
     "name": "stderr",
     "output_type": "stream",
     "text": [
      " 19%|█▊        | 186/1000 [01:36<06:01,  2.25it/s]"
     ]
    },
    {
     "name": "stdout",
     "output_type": "stream",
     "text": [
      "person1 = ['S', 'C']\n",
      "person2 = ['E', 'K']\n",
      "person3 = ['I', 'Y']\n",
      "person4 = ['H', 'I']\n",
      "person5 = ['Y', 'R']\n",
      "Found words: ['SHERI', 'SHIER', 'SHIRE', 'HEIRS', 'HIRES', 'SHYER', 'SHIRK', 'RISKY', 'CHERI', 'ERICH', 'REICH', 'ICIER', 'CHIRK', 'RICKY']\n"
     ]
    },
    {
     "name": "stderr",
     "output_type": "stream",
     "text": [
      " 19%|█▊        | 187/1000 [01:36<05:54,  2.29it/s]"
     ]
    },
    {
     "name": "stdout",
     "output_type": "stream",
     "text": [
      "person1 = ['C', 'S']\n",
      "person2 = ['H', 'E']\n",
      "person3 = ['S', 'C']\n",
      "person4 = ['R', 'I']\n",
      "person5 = ['T', 'S']\n",
      "Found words: ['CHITS', 'STICH', 'CERTS', 'CREST', 'CRESS', 'CITES', 'SHITS', 'RESTS', 'TRESS', 'SITES', 'STIES', 'SISES']\n"
     ]
    },
    {
     "name": "stderr",
     "output_type": "stream",
     "text": [
      " 19%|█▉        | 188/1000 [01:36<06:00,  2.25it/s]"
     ]
    },
    {
     "name": "stdout",
     "output_type": "stream",
     "text": [
      "person1 = ['Q', 'C']\n",
      "person2 = ['E', 'H']\n",
      "person3 = ['A', 'S']\n",
      "person4 = ['Y', 'T']\n",
      "person5 = ['R', 'C']\n",
      "Found words: ['CAREY', 'CATER', 'CARET', 'CARTE', 'CRATE', 'TRACE', 'REACT', 'CERTS', 'CREST', 'CHARY', 'CHART', 'ARCHT', 'CATCH']\n"
     ]
    },
    {
     "name": "stderr",
     "output_type": "stream",
     "text": [
      " 19%|█▉        | 189/1000 [01:37<05:57,  2.27it/s]"
     ]
    },
    {
     "name": "stdout",
     "output_type": "stream",
     "text": [
      "person1 = ['P', 'S']\n",
      "person2 = ['K', 'H']\n",
      "person3 = ['R', 'T']\n",
      "person4 = ['N', 'E']\n",
      "person5 = ['N', 'I']\n",
      "Found words: ['PRINK', 'PIKER', 'PHREN', 'RINKS', 'SKIER', 'SKINT', 'STINK', 'KNITS', 'SKITE', 'KITES', 'SHERI', 'SHIRE', 'SHIER', 'HEIRS', 'HIRES', 'HINTS', 'THINS', 'HEIST']\n"
     ]
    },
    {
     "name": "stderr",
     "output_type": "stream",
     "text": [
      " 19%|█▉        | 192/1000 [01:38<05:50,  2.31it/s]"
     ]
    },
    {
     "name": "stdout",
     "output_type": "stream",
     "text": [
      "person1 = ['T', 'S']\n",
      "person2 = ['U', 'K']\n",
      "person3 = ['N', 'S']\n",
      "person4 = ['T', 'O']\n",
      "person5 = ['N', 'T']\n",
      "Found words: ['STUNT', 'TONUS', 'SNOUT', 'NOTUS', 'TOUTS', 'STOUT', 'KNOTS', 'NOUNS', 'STUNS', 'OUSTS']\n"
     ]
    },
    {
     "name": "stderr",
     "output_type": "stream",
     "text": [
      " 20%|█▉        | 196/1000 [01:40<05:51,  2.29it/s]"
     ]
    },
    {
     "name": "stdout",
     "output_type": "stream",
     "text": [
      "person1 = ['T', 'P']\n",
      "person2 = ['E', 'K']\n",
      "person3 = ['Y', 'R']\n",
      "person4 = ['H', 'N']\n",
      "person5 = ['R', 'T']\n",
      "Found words: ['ENTRY', 'NETTY', 'TRENT', 'HYPER', 'PERTH']\n"
     ]
    },
    {
     "name": "stderr",
     "output_type": "stream",
     "text": [
      " 20%|█▉        | 197/1000 [01:40<05:51,  2.29it/s]"
     ]
    },
    {
     "name": "stdout",
     "output_type": "stream",
     "text": [
      "person1 = ['Q', 'T']\n",
      "person2 = ['H', 'K']\n",
      "person3 = ['S', 'N']\n",
      "person4 = ['R', 'A']\n",
      "person5 = ['A', 'O']\n",
      "Found words: ['TRASH', 'HARTS', 'RASHT', 'HORST', 'SHORT', 'TASHA', 'HOSTA', 'SHOAT', 'ATHOS', 'OATHS', 'THORN', 'NORTH', 'THANA', 'KARTS', 'KARST', 'STARK', 'TORSK', 'STORK', 'TAKAS', 'TANKA']\n"
     ]
    },
    {
     "name": "stderr",
     "output_type": "stream",
     "text": [
      " 20%|█▉        | 198/1000 [01:41<05:51,  2.28it/s]"
     ]
    },
    {
     "name": "stdout",
     "output_type": "stream",
     "text": [
      "person1 = ['S', 'P']\n",
      "person2 = ['H', 'K']\n",
      "person3 = ['I', 'O']\n",
      "person4 = ['Y', 'A']\n",
      "person5 = ['L', 'H']\n",
      "Found words: ['HAILS', 'SHOAL', 'HALOS', 'SHOAH', 'SILKY', 'KAILS', 'KALIS', 'LASKI', 'KHASI', 'YOLKS', 'SKOAL', 'KOLAS', 'SHAKO', 'PHIAL', 'POLKA']\n"
     ]
    },
    {
     "name": "stderr",
     "output_type": "stream",
     "text": [
      " 20%|█▉        | 199/1000 [01:41<05:58,  2.23it/s]"
     ]
    },
    {
     "name": "stdout",
     "output_type": "stream",
     "text": [
      "person1 = ['Q', 'C']\n",
      "person2 = ['H', 'H']\n",
      "person3 = ['I', 'S']\n",
      "person4 = ['I', 'A']\n",
      "person5 = ['C', 'T']\n",
      "Found words: ['CHITA', 'AITCH', 'CHITS', 'STICH', 'CHATS']\n"
     ]
    },
    {
     "name": "stderr",
     "output_type": "stream",
     "text": [
      " 20%|██        | 202/1000 [01:43<05:53,  2.26it/s]"
     ]
    },
    {
     "name": "stdout",
     "output_type": "stream",
     "text": [
      "person1 = ['T', 'Q']\n",
      "person2 = ['H', 'H']\n",
      "person3 = ['E', 'I']\n",
      "person4 = ['L', 'S']\n",
      "person5 = ['E', 'I']\n",
      "Found words: ['ETHEL', 'LETHE', 'LEITH', 'LITHE', 'THESE', 'THEES', 'SHEET', 'HEIST']\n"
     ]
    },
    {
     "name": "stderr",
     "output_type": "stream",
     "text": [
      " 20%|██        | 203/1000 [01:43<05:52,  2.26it/s]"
     ]
    },
    {
     "name": "stdout",
     "output_type": "stream",
     "text": [
      "person1 = ['C', 'T']\n",
      "person2 = ['H', 'H']\n",
      "person3 = ['T', 'S']\n",
      "person4 = ['N', 'R']\n",
      "person5 = ['I', 'H']\n",
      "Found words: ['CHINS', 'CHRIS', 'THINS', 'HINTS', 'SHIRT']\n"
     ]
    },
    {
     "name": "stderr",
     "output_type": "stream",
     "text": [
      " 20%|██        | 205/1000 [01:44<05:47,  2.29it/s]"
     ]
    },
    {
     "name": "stdout",
     "output_type": "stream",
     "text": [
      "person1 = ['E', 'Q']\n",
      "person2 = ['E', 'U']\n",
      "person3 = ['C', 'N']\n",
      "person4 = ['R', 'A']\n",
      "person5 = ['L', 'E']\n",
      "Found words: ['CREEL', 'RENEE', 'ELENA', 'ANELE', 'ULCER', 'CRUEL', 'LUCRE', 'ENURE', 'ULNAE', 'QUERN', 'QUEAN']\n"
     ]
    },
    {
     "name": "stderr",
     "output_type": "stream",
     "text": [
      " 21%|██        | 208/1000 [01:45<05:38,  2.34it/s]"
     ]
    },
    {
     "name": "stdout",
     "output_type": "stream",
     "text": [
      "person1 = ['P', 'E']\n",
      "person2 = ['H', 'H']\n",
      "person3 = ['N', 'Y']\n",
      "person4 = ['S', 'I']\n",
      "person5 = ['O', 'Y']\n",
      "Found words: ['PHONS', 'HYPOS', 'SOPHY', 'HONES', 'SHONE']\n"
     ]
    },
    {
     "name": "stderr",
     "output_type": "stream",
     "text": [
      " 21%|██        | 209/1000 [01:46<05:40,  2.32it/s]"
     ]
    },
    {
     "name": "stdout",
     "output_type": "stream",
     "text": [
      "person1 = ['T', 'P']\n",
      "person2 = ['H', 'E']\n",
      "person3 = ['E', 'S']\n",
      "person4 = ['Y', 'L']\n",
      "person5 = ['C', 'R']\n",
      "Found words: ['TECHY', 'TYCHE', 'TYREE', 'ELECT', 'TREYS', 'CELTS', 'HYPER', 'PSYCH', 'CLEPE', 'LEPER', 'REPEL', 'PYRES', 'PREYS', 'YPRES', 'PERLS']\n"
     ]
    },
    {
     "name": "stderr",
     "output_type": "stream",
     "text": [
      " 21%|██        | 210/1000 [01:46<05:47,  2.27it/s]"
     ]
    },
    {
     "name": "stdout",
     "output_type": "stream",
     "text": [
      "person1 = ['E', 'T']\n",
      "person2 = ['U', 'E']\n",
      "person3 = ['L', 'H']\n",
      "person4 = ['R', 'N']\n",
      "person5 = ['S', 'Y']\n",
      "Found words: ['LURES', 'RULES', 'USHER', 'LEERS', 'REELS', 'LEERY', 'HERES', 'SHEER', 'SHEEN', 'TRULY', 'THURS', 'HURTS', 'HURST', 'RUTHS', 'HUNTS', 'SHUNT', 'TYLER', 'LENTS', 'RESHT']\n"
     ]
    },
    {
     "name": "stderr",
     "output_type": "stream",
     "text": [
      " 21%|██        | 211/1000 [01:46<05:48,  2.27it/s]"
     ]
    },
    {
     "name": "stdout",
     "output_type": "stream",
     "text": [
      "person1 = ['C', 'S']\n",
      "person2 = ['E', 'H']\n",
      "person3 = ['S', 'Y']\n",
      "person4 = ['Y', 'C']\n",
      "person5 = ['A', 'S']\n",
      "Found words: ['CASEY', 'CAYES', 'ESSAY', 'CASES', 'SHAYS', 'SACHS']\n"
     ]
    },
    {
     "name": "stderr",
     "output_type": "stream",
     "text": [
      " 21%|██        | 212/1000 [01:47<05:47,  2.27it/s]"
     ]
    },
    {
     "name": "stdout",
     "output_type": "stream",
     "text": [
      "person1 = ['S', 'Q']\n",
      "person2 = ['U', 'H']\n",
      "person3 = ['N', 'C']\n",
      "person4 = ['H', 'R']\n",
      "person5 = ['E', 'N']\n",
      "Found words: ['NURSE', 'RUNES', 'SUCRE', 'CURSE', 'CURES', 'CRUSE', 'QUERN']\n"
     ]
    },
    {
     "name": "stderr",
     "output_type": "stream",
     "text": [
      " 21%|██▏       | 213/1000 [01:47<05:44,  2.29it/s]"
     ]
    },
    {
     "name": "stdout",
     "output_type": "stream",
     "text": [
      "person1 = ['E', 'Q']\n",
      "person2 = ['H', 'H']\n",
      "person3 = ['T', 'S']\n",
      "person4 = ['H', 'N']\n",
      "person5 = ['T', 'A']\n",
      "Found words: ['HEATH', 'TENTH', 'ETHAN', 'THANE', 'NEATH', 'HETHS', 'HANSE', 'SHANE', 'ASHEN']\n"
     ]
    },
    {
     "name": "stderr",
     "output_type": "stream",
     "text": [
      " 21%|██▏       | 214/1000 [01:48<05:44,  2.28it/s]"
     ]
    },
    {
     "name": "stdout",
     "output_type": "stream",
     "text": [
      "person1 = ['E', 'Q']\n",
      "person2 = ['H', 'U']\n",
      "person3 = ['I', 'T']\n",
      "person4 = ['R', 'C']\n",
      "person5 = ['E', 'H']\n",
      "Found words: ['ETHER', 'THERE', 'THREE', 'UTHER', 'CHUTE', 'QUIRE']\n"
     ]
    },
    {
     "name": "stderr",
     "output_type": "stream",
     "text": [
      " 22%|██▏       | 215/1000 [01:48<05:41,  2.30it/s]"
     ]
    },
    {
     "name": "stdout",
     "output_type": "stream",
     "text": [
      "person1 = ['C', 'P']\n",
      "person2 = ['H', 'H']\n",
      "person3 = ['H', 'Y']\n",
      "person4 = ['A', 'T']\n",
      "person5 = ['R', 'A']\n",
      "Found words: ['HATCH', 'CHARY', 'CATHY', 'YACHT', 'HARPY', 'TYPHA']\n"
     ]
    },
    {
     "name": "stderr",
     "output_type": "stream",
     "text": [
      " 22%|██▏       | 216/1000 [01:49<05:47,  2.26it/s]"
     ]
    },
    {
     "name": "stdout",
     "output_type": "stream",
     "text": [
      "person1 = ['T', 'P']\n",
      "person2 = ['E', 'H']\n",
      "person3 = ['T', 'C']\n",
      "person4 = ['H', 'N']\n",
      "person5 = ['R', 'N']\n",
      "Found words: ['TENTH', 'TRENT', 'CHERT', 'RETCH', 'TENCH', 'PERTH', 'PERCH']\n"
     ]
    },
    {
     "name": "stderr",
     "output_type": "stream",
     "text": [
      " 22%|██▏       | 218/1000 [01:50<05:50,  2.23it/s]"
     ]
    },
    {
     "name": "stdout",
     "output_type": "stream",
     "text": [
      "person1 = ['T', 'P']\n",
      "person2 = ['H', 'H']\n",
      "person3 = ['C', 'I']\n",
      "person4 = ['S', 'A']\n",
      "person5 = ['E', 'T']\n",
      "Found words: ['TECHS', 'CHEST', 'THECA', 'TACHE', 'TEACH', 'CHEAT', 'HEIST', 'PEACH', 'CHAPE', 'CHEAP', 'PATCH', 'PITHS']\n"
     ]
    },
    {
     "name": "stderr",
     "output_type": "stream",
     "text": [
      " 22%|██▏       | 219/1000 [01:50<05:50,  2.23it/s]"
     ]
    },
    {
     "name": "stdout",
     "output_type": "stream",
     "text": [
      "person1 = ['Q', 'P']\n",
      "person2 = ['U', 'K']\n",
      "person3 = ['S', 'N']\n",
      "person4 = ['A', 'L']\n",
      "person5 = ['E', 'N']\n",
      "Found words: ['QUEAN', 'PAUSE', 'PUSAN', 'PULSE', 'PULES', 'LEPUS', 'PEAKS', 'SPAKE', 'SPEAK', 'KNAPS', 'SPANK', 'SKELP', 'PEKAN']\n"
     ]
    },
    {
     "name": "stderr",
     "output_type": "stream",
     "text": [
      " 22%|██▏       | 220/1000 [01:50<05:49,  2.23it/s]"
     ]
    },
    {
     "name": "stdout",
     "output_type": "stream",
     "text": [
      "person1 = ['S', 'T']\n",
      "person2 = ['K', 'H']\n",
      "person3 = ['C', 'T']\n",
      "person4 = ['A', 'O']\n",
      "person5 = ['O', 'N']\n",
      "Found words: ['SNACK', 'COOKS', 'CONKS', 'NOCKS', 'STANK', 'TANKS', 'STOOK', 'KOTOS', 'KNOTS', 'CHAOS', 'COHOS', 'SHOAT', 'HOSTA', 'ATHOS', 'OATHS', 'SNATH', 'SHOOT', 'SOOTH', 'HOOTS', 'CHANT', 'NATCH', 'NOTCH', 'THANT', 'TOOTH']\n"
     ]
    },
    {
     "name": "stderr",
     "output_type": "stream",
     "text": [
      " 22%|██▏       | 221/1000 [01:51<05:48,  2.23it/s]"
     ]
    },
    {
     "name": "stdout",
     "output_type": "stream",
     "text": [
      "person1 = ['E', 'T']\n",
      "person2 = ['U', 'H']\n",
      "person3 = ['L', 'C']\n",
      "person4 = ['O', 'A']\n",
      "person5 = ['R', 'T']\n",
      "Found words: ['ALEUT', 'CEUTA', 'ACUTE', 'HELOT', 'HOTEL', 'THEOL', 'THOLE', 'HALER', 'LETHA', 'LATHE', 'CHORE', 'OCHER', 'ROCHE', 'CHARE', 'REACH', 'CHEAT', 'TEACH', 'THECA', 'TACHE', 'ULTRA', 'TURCO', 'COURT', 'TORCH', 'CHART', 'ARCHT']\n"
     ]
    },
    {
     "name": "stderr",
     "output_type": "stream",
     "text": [
      " 22%|██▏       | 222/1000 [01:51<05:46,  2.25it/s]"
     ]
    },
    {
     "name": "stdout",
     "output_type": "stream",
     "text": [
      "person1 = ['E', 'C']\n",
      "person2 = ['E', 'U']\n",
      "person3 = ['N', 'C']\n",
      "person4 = ['E', 'R']\n",
      "person5 = ['H', 'A']\n",
      "Found words: ['HERNE', 'RANEE', 'CHEER', 'NEHRU', 'RUCHE', 'HENCE', 'CRANE', 'CANER', 'CARNE', 'NACRE', 'RANCE', 'CHURN', 'CURCH']\n"
     ]
    },
    {
     "name": "stderr",
     "output_type": "stream",
     "text": [
      " 22%|██▏       | 223/1000 [01:52<05:47,  2.24it/s]"
     ]
    },
    {
     "name": "stdout",
     "output_type": "stream",
     "text": [
      "person1 = ['P', 'Q']\n",
      "person2 = ['U', 'H']\n",
      "person3 = ['I', 'A']\n",
      "person4 = ['O', 'L']\n",
      "person5 = ['T', 'O']\n",
      "Found words: ['TULIP', 'POILU', 'PHILO', 'PLATH', 'QUITO', 'QUOIT', 'QUILT', 'QUOTA']\n"
     ]
    },
    {
     "name": "stderr",
     "output_type": "stream",
     "text": [
      " 22%|██▎       | 225/1000 [01:53<05:41,  2.27it/s]"
     ]
    },
    {
     "name": "stdout",
     "output_type": "stream",
     "text": [
      "person1 = ['S', 'C']\n",
      "person2 = ['U', 'E']\n",
      "person3 = ['R', 'L']\n",
      "person4 = ['I', 'N']\n",
      "person5 = ['H', 'L']\n",
      "Found words: ['ILLUS', 'NULLS', 'SHERI', 'SHIER', 'SHIRE', 'HEIRS', 'HIRES', 'SLIER', 'RIELS', 'RILES', 'ELLIS', 'LISLE', 'SNELL', 'CHURN', 'LUNCH', 'CHERI', 'ERICH', 'REICH', 'RELIC', 'CHILE']\n"
     ]
    },
    {
     "name": "stderr",
     "output_type": "stream",
     "text": [
      " 23%|██▎       | 227/1000 [01:54<05:37,  2.29it/s]"
     ]
    },
    {
     "name": "stdout",
     "output_type": "stream",
     "text": [
      "person1 = ['T', 'S']\n",
      "person2 = ['K', 'U']\n",
      "person3 = ['R', 'A']\n",
      "person4 = ['H', 'R']\n",
      "person5 = ['E', 'L']\n",
      "Found words: ['TAKER', 'UTHER', 'TRUER', 'ULTRA', 'SHREK', 'SHAKE', 'HAKES', 'LAKHS', 'SAKER', 'ASKER', 'RAKES', 'LARKS', 'USHER', 'HURLS', 'SURER', 'SHULA', 'HULAS', 'HAULS', 'SURAL', 'URALS']\n"
     ]
    },
    {
     "name": "stderr",
     "output_type": "stream",
     "text": [
      " 23%|██▎       | 228/1000 [01:54<05:37,  2.29it/s]"
     ]
    },
    {
     "name": "stdout",
     "output_type": "stream",
     "text": [
      "person1 = ['E', 'C']\n",
      "person2 = ['K', 'H']\n",
      "person3 = ['A', 'L']\n",
      "person4 = ['C', 'Y']\n",
      "person5 = ['S', 'I']\n",
      "Found words: ['CAKES', 'KASEY', 'KYLES', 'ACHES', 'CHASE', 'HAYES', 'YEAHS', 'CHILE', 'CLICK']\n"
     ]
    },
    {
     "name": "stderr",
     "output_type": "stream",
     "text": [
      " 23%|██▎       | 229/1000 [01:54<05:37,  2.29it/s]"
     ]
    },
    {
     "name": "stdout",
     "output_type": "stream",
     "text": [
      "person1 = ['S', 'E']\n",
      "person2 = ['H', 'U']\n",
      "person3 = ['Y', 'H']\n",
      "person4 = ['H', 'C']\n",
      "person5 = ['E', 'T']\n",
      "Found words: ['TUSHY', 'TECHY', 'TYCHE', 'CUTEY', 'CHUTE']\n"
     ]
    },
    {
     "name": "stderr",
     "output_type": "stream",
     "text": [
      " 23%|██▎       | 231/1000 [01:55<05:36,  2.29it/s]"
     ]
    },
    {
     "name": "stdout",
     "output_type": "stream",
     "text": [
      "person1 = ['T', 'S']\n",
      "person2 = ['H', 'E']\n",
      "person3 = ['O', 'A']\n",
      "person4 = ['Y', 'E']\n",
      "person5 = ['H', 'N']\n",
      "Found words: ['HEATH', 'THANE', 'ETHAN', 'NEATH', 'TANEY', 'YENTA', 'EATEN', 'ENATE', 'HYSON', 'SHONE', 'HONES', 'SHANE', 'HANSE', 'ASHEN', 'NOYES', 'YEAHS', 'HAYES', 'YEANS']\n"
     ]
    },
    {
     "name": "stderr",
     "output_type": "stream",
     "text": [
      " 23%|██▎       | 232/1000 [01:56<05:35,  2.29it/s]"
     ]
    },
    {
     "name": "stdout",
     "output_type": "stream",
     "text": [
      "person1 = ['C', 'E']\n",
      "person2 = ['H', 'H']\n",
      "person3 = ['C', 'R']\n",
      "person4 = ['I', 'Y']\n",
      "person5 = ['S', 'L']\n",
      "Found words: ['CHRIS', 'CHILE', 'CHYLE', 'HEIRS', 'HIRES', 'SHERI', 'SHIER', 'SHIRE', 'SHYER']\n"
     ]
    },
    {
     "name": "stderr",
     "output_type": "stream",
     "text": [
      " 24%|██▎       | 235/1000 [01:57<05:35,  2.28it/s]"
     ]
    },
    {
     "name": "stdout",
     "output_type": "stream",
     "text": [
      "person1 = ['S', 'C']\n",
      "person2 = ['E', 'H']\n",
      "person3 = ['S', 'N']\n",
      "person4 = ['T', 'L']\n",
      "person5 = ['A', 'L']\n",
      "Found words: ['SEATS', 'SATES', 'EASTS', 'TESSA', 'TASSE', 'ASSET', 'SEALS', 'SALES', 'LASES', 'SELLS', 'STANE', 'ETNAS', 'NATES', 'ANTES', 'LENTS', 'LEANS', 'LANES', 'SNELL', 'STASH', 'SLASH', 'SNATH', 'CESTA', 'CASTE', 'CELTS', 'SCALE', 'LACES', 'CELLS', 'ENACT', 'CLEAN', 'LANCE', 'CHATS', 'CLASH', 'CHANT', 'NATCH']\n"
     ]
    },
    {
     "name": "stderr",
     "output_type": "stream",
     "text": [
      " 24%|██▎       | 236/1000 [01:58<05:35,  2.28it/s]"
     ]
    },
    {
     "name": "stdout",
     "output_type": "stream",
     "text": [
      "person1 = ['T', 'C']\n",
      "person2 = ['H', 'H']\n",
      "person3 = ['T', 'A']\n",
      "person4 = ['R', 'N']\n",
      "person5 = ['O', 'N']\n",
      "Found words: ['TROTH', 'TORAH', 'HORTA', 'TORCH', 'NOTCH', 'ROCHA', 'ROACH', 'RANCH', 'COHAN', 'NACHO']\n"
     ]
    },
    {
     "name": "stderr",
     "output_type": "stream",
     "text": [
      " 24%|██▎       | 237/1000 [01:58<05:36,  2.27it/s]"
     ]
    },
    {
     "name": "stdout",
     "output_type": "stream",
     "text": [
      "person1 = ['Q', 'P']\n",
      "person2 = ['H', 'K']\n",
      "person3 = ['T', 'A']\n",
      "person4 = ['Y', 'E']\n",
      "person5 = ['S', 'I']\n",
      "Found words: ['PITHY', 'PHASE', 'HEAPS', 'SHAPE', 'PEAKS', 'SPAKE', 'SPEAK']\n"
     ]
    },
    {
     "name": "stderr",
     "output_type": "stream",
     "text": [
      " 24%|██▍       | 239/1000 [01:59<05:40,  2.23it/s]"
     ]
    },
    {
     "name": "stdout",
     "output_type": "stream",
     "text": [
      "person1 = ['S', 'T']\n",
      "person2 = ['U', 'H']\n",
      "person3 = ['C', 'R']\n",
      "person4 = ['I', 'L']\n",
      "person5 = ['T', 'I']\n",
      "Found words: ['CUTIS', 'ICTUS', 'CULTS', 'SULCI', 'SRUTI', 'STICH', 'CHITS', 'SHIRT', 'RISHI', 'IRISH', 'TITCH']\n"
     ]
    },
    {
     "name": "stderr",
     "output_type": "stream",
     "text": [
      " 24%|██▍       | 242/1000 [02:00<05:34,  2.27it/s]"
     ]
    },
    {
     "name": "stdout",
     "output_type": "stream",
     "text": [
      "person1 = ['T', 'C']\n",
      "person2 = ['K', 'H']\n",
      "person3 = ['T', 'C']\n",
      "person4 = ['E', 'S']\n",
      "person5 = ['O', 'R']\n",
      "Found words: ['STOCK', 'CHERT', 'RETCH', 'COCKS', 'CHOCS']\n"
     ]
    },
    {
     "name": "stderr",
     "output_type": "stream",
     "text": [
      " 24%|██▍       | 243/1000 [02:01<05:33,  2.27it/s]"
     ]
    },
    {
     "name": "stdout",
     "output_type": "stream",
     "text": [
      "person1 = ['E', 'C']\n",
      "person2 = ['H', 'H']\n",
      "person3 = ['E', 'I']\n",
      "person4 = ['L', 'H']\n",
      "person5 = ['T', 'H']\n",
      "Found words: ['ETHEL', 'LETHE', 'LEITH', 'LITHE', 'HITCH']\n"
     ]
    },
    {
     "name": "stderr",
     "output_type": "stream",
     "text": [
      " 24%|██▍       | 245/1000 [02:01<05:26,  2.31it/s]"
     ]
    },
    {
     "name": "stdout",
     "output_type": "stream",
     "text": [
      "person1 = ['T', 'S']\n",
      "person2 = ['H', 'H']\n",
      "person3 = ['O', 'T']\n",
      "person4 = ['S', 'I']\n",
      "person5 = ['O', 'I']\n",
      "Found words: ['HOOTS', 'SHOOT', 'SOOTH', 'HOIST', 'SHOOS', 'SHOTS', 'HOSTS', 'SHITS']\n"
     ]
    },
    {
     "name": "stderr",
     "output_type": "stream",
     "text": [
      " 25%|██▍       | 246/1000 [02:02<05:27,  2.30it/s]"
     ]
    },
    {
     "name": "stdout",
     "output_type": "stream",
     "text": [
      "person1 = ['P', 'C']\n",
      "person2 = ['E', 'H']\n",
      "person3 = ['E', 'C']\n",
      "person4 = ['C', 'A']\n",
      "person5 = ['Y', 'A']\n",
      "Found words: ['PEACE', 'PAYEE', 'PACEY', 'APACE', 'PEACH', 'CHEAP', 'CHAPE', 'PACHA', 'CACHE']\n"
     ]
    },
    {
     "name": "stderr",
     "output_type": "stream",
     "text": [
      " 25%|██▍       | 247/1000 [02:02<05:24,  2.32it/s]"
     ]
    },
    {
     "name": "stdout",
     "output_type": "stream",
     "text": [
      "person1 = ['Q', 'P']\n",
      "person2 = ['H', 'E']\n",
      "person3 = ['S', 'H']\n",
      "person4 = ['I', 'H']\n",
      "person5 = ['T', 'R']\n",
      "Found words: ['PITHS', 'PISTE', 'SPITE', 'STIPE', 'PERIS', 'PIERS', 'PRIES', 'SPIER', 'SPIRE']\n"
     ]
    },
    {
     "name": "stderr",
     "output_type": "stream",
     "text": [
      " 25%|██▍       | 248/1000 [02:03<05:30,  2.27it/s]"
     ]
    },
    {
     "name": "stdout",
     "output_type": "stream",
     "text": [
      "person1 = ['E', 'C']\n",
      "person2 = ['H', 'K']\n",
      "person3 = ['E', 'O']\n",
      "person4 = ['A', 'L']\n",
      "person5 = ['T', 'R']\n",
      "Found words: ['ETHEL', 'LETHE', 'TAHOE', 'HORAE', 'HELOT', 'HOTEL', 'THEOL', 'THOLE', 'KOREA', 'CHEAT', 'THECA', 'TEACH', 'TACHE', 'CHARE', 'REACH', 'ROCHA', 'ROACH', 'CLOTH', 'CREAK', 'CRAKE', 'CLERK', 'CROAK']\n"
     ]
    },
    {
     "name": "stderr",
     "output_type": "stream",
     "text": [
      " 25%|██▌       | 250/1000 [02:04<05:21,  2.33it/s]"
     ]
    },
    {
     "name": "stdout",
     "output_type": "stream",
     "text": [
      "person1 = ['P', 'Q']\n",
      "person2 = ['U', 'E']\n",
      "person3 = ['T', 'R']\n",
      "person4 = ['O', 'L']\n",
      "person5 = ['H', 'E']\n",
      "Found words: ['TUPLE', 'LETUP', 'PULER', 'TOPEE', 'EPHOR', 'REPEL', 'LEPER', 'QUOTH', 'QUOTE', 'TOQUE', 'ROQUE']\n"
     ]
    },
    {
     "name": "stderr",
     "output_type": "stream",
     "text": [
      " 25%|██▌       | 251/1000 [02:04<05:24,  2.30it/s]"
     ]
    },
    {
     "name": "stdout",
     "output_type": "stream",
     "text": [
      "person1 = ['S', 'C']\n",
      "person2 = ['U', 'H']\n",
      "person3 = ['S', 'E']\n",
      "person4 = ['H', 'O']\n",
      "person5 = ['A', 'Y']\n",
      "Found words: ['USHAS', 'HUSSY', 'SOUSA', 'SHAHS', 'HOSEA', 'CUSHY', 'CHAOS']\n"
     ]
    },
    {
     "name": "stderr",
     "output_type": "stream",
     "text": [
      " 26%|██▌       | 255/1000 [02:06<05:17,  2.35it/s]"
     ]
    },
    {
     "name": "stdout",
     "output_type": "stream",
     "text": [
      "person1 = ['E', 'T']\n",
      "person2 = ['H', 'E']\n",
      "person3 = ['N', 'I']\n",
      "person4 = ['L', 'N']\n",
      "person5 = ['O', 'N']\n",
      "Found words: ['LEONE', 'ILENE', 'THIOL', 'LITHO', 'NINTH', 'ELTON', 'LENTO', 'TENNO', 'TENON', 'TONNE', 'NONET', 'TOILE', 'ELIOT', 'INTEL', 'INLET']\n"
     ]
    },
    {
     "name": "stderr",
     "output_type": "stream",
     "text": [
      " 26%|██▌       | 256/1000 [02:06<05:22,  2.30it/s]"
     ]
    },
    {
     "name": "stdout",
     "output_type": "stream",
     "text": [
      "person1 = ['P', 'E']\n",
      "person2 = ['H', 'U']\n",
      "person3 = ['S', 'R']\n",
      "person4 = ['E', 'S']\n",
      "person5 = ['C', 'E']\n",
      "Found words: ['SHEEP', 'PERCH', 'SCUPS', 'CUSPS', 'SPUES', 'PUREE', 'RUPEE', 'PURSE', 'SPRUE', 'SUPER', 'CHESS', 'HESSE', 'CHEER', 'HERES', 'SHEER', 'SUCRE', 'CURES', 'CURSE', 'CRUSE', 'REUSE']\n"
     ]
    },
    {
     "name": "stderr",
     "output_type": "stream",
     "text": [
      " 26%|██▌       | 257/1000 [02:07<05:21,  2.31it/s]"
     ]
    },
    {
     "name": "stdout",
     "output_type": "stream",
     "text": [
      "person1 = ['E', 'C']\n",
      "person2 = ['E', 'H']\n",
      "person3 = ['T', 'E']\n",
      "person4 = ['S', 'L']\n",
      "person5 = ['S', 'C']\n",
      "Found words: ['ESTES', 'STEEL', 'STELE', 'SLEET', 'ELECT', 'THESS', 'TECHS', 'CHEST', 'HESSE', 'HEELS', 'LEECH', 'SECTS', 'CELTS', 'LECCE', 'CHESS']\n"
     ]
    },
    {
     "name": "stderr",
     "output_type": "stream",
     "text": [
      " 26%|██▌       | 258/1000 [02:07<05:26,  2.27it/s]"
     ]
    },
    {
     "name": "stdout",
     "output_type": "stream",
     "text": [
      "person1 = ['C', 'P']\n",
      "person2 = ['H', 'U']\n",
      "person3 = ['I', 'T']\n",
      "person4 = ['A', 'S']\n",
      "person5 = ['R', 'L']\n",
      "Found words: ['CHAIR', 'CHARI', 'CHRIS', 'CHART', 'ARCHT', 'LATCH', 'CURIA', 'AURIC', 'AULIC', 'LUCIA', 'SULCI', 'CRUST', 'CULTS', 'PHIAL', 'THARP', 'PLATH', 'PIURA', 'PAULI', 'PRIUS', 'TURPS', 'SPURT']\n"
     ]
    },
    {
     "name": "stderr",
     "output_type": "stream",
     "text": [
      " 26%|██▌       | 259/1000 [02:08<05:32,  2.23it/s]"
     ]
    },
    {
     "name": "stdout",
     "output_type": "stream",
     "text": [
      "person1 = ['C', 'S']\n",
      "person2 = ['K', 'H']\n",
      "person3 = ['C', 'N']\n",
      "person4 = ['E', 'L']\n",
      "person5 = ['O', 'E']\n",
      "Found words: ['CLOCK', 'CLONK', 'COHEN', 'ENOCH', 'HENCE', 'COKES', 'LOCKS', 'KNEES', 'KEENS', 'SOCHE', 'CHOSE', 'ECHOS', 'SHONE', 'HONES', 'SHEEN']\n"
     ]
    },
    {
     "name": "stderr",
     "output_type": "stream",
     "text": [
      " 26%|██▌       | 260/1000 [02:08<05:31,  2.23it/s]"
     ]
    },
    {
     "name": "stdout",
     "output_type": "stream",
     "text": [
      "person1 = ['T', 'C']\n",
      "person2 = ['H', 'K']\n",
      "person3 = ['C', 'T']\n",
      "person4 = ['N', 'O']\n",
      "person5 = ['H', 'S']\n",
      "Found words: ['THOTH', 'STOCK', 'CHOCS', 'CHOCK', 'COCKS']\n"
     ]
    },
    {
     "name": "stderr",
     "output_type": "stream",
     "text": [
      " 26%|██▌       | 261/1000 [02:08<05:26,  2.26it/s]"
     ]
    },
    {
     "name": "stdout",
     "output_type": "stream",
     "text": [
      "person1 = ['C', 'Q']\n",
      "person2 = ['K', 'E']\n",
      "person3 = ['N', 'T']\n",
      "person4 = ['H', 'L']\n",
      "person5 = ['H', 'O']\n",
      "Found words: ['CLONK', 'HENCH', 'COHEN', 'ENOCH', 'CLEON', 'CLONE', 'COLET']\n"
     ]
    },
    {
     "name": "stderr",
     "output_type": "stream",
     "text": [
      " 26%|██▌       | 262/1000 [02:09<05:30,  2.24it/s]"
     ]
    },
    {
     "name": "stdout",
     "output_type": "stream",
     "text": [
      "person1 = ['C', 'T']\n",
      "person2 = ['U', 'H']\n",
      "person3 = ['I', 'S']\n",
      "person4 = ['L', 'C']\n",
      "person5 = ['I', 'L']\n",
      "Found words: ['SULCI', 'CULLS', 'SCULL', 'CHILI', 'CHILL', 'STULL', 'CUTIS', 'ICTUS', 'CULTS', 'THILL', 'HILTS', 'STICH', 'CHITS']\n"
     ]
    },
    {
     "name": "stderr",
     "output_type": "stream",
     "text": [
      " 26%|██▋       | 263/1000 [02:09<05:27,  2.25it/s]"
     ]
    },
    {
     "name": "stdout",
     "output_type": "stream",
     "text": [
      "person1 = ['Q', 'C']\n",
      "person2 = ['E', 'H']\n",
      "person3 = ['L', 'C']\n",
      "person4 = ['Y', 'T']\n",
      "person5 = ['A', 'Y']\n",
      "Found words: ['LACEY', 'ALYCE', 'CLEAT', 'ECLAT', 'LATCH', 'CATCH']\n"
     ]
    },
    {
     "name": "stderr",
     "output_type": "stream",
     "text": [
      " 27%|██▋       | 266/1000 [02:11<05:16,  2.32it/s]"
     ]
    },
    {
     "name": "stdout",
     "output_type": "stream",
     "text": [
      "person1 = ['C', 'T']\n",
      "person2 = ['K', 'H']\n",
      "person3 = ['C', 'H']\n",
      "person4 = ['T', 'O']\n",
      "person5 = ['A', 'E']\n",
      "Found words: ['KETCH', 'CHOKE', 'CATCH', 'CHACO', 'COACH', 'HATCH', 'KOTAH']\n"
     ]
    },
    {
     "name": "stderr",
     "output_type": "stream",
     "text": [
      " 27%|██▋       | 269/1000 [02:12<05:17,  2.30it/s]"
     ]
    },
    {
     "name": "stdout",
     "output_type": "stream",
     "text": [
      "person1 = ['Q', 'C']\n",
      "person2 = ['E', 'H']\n",
      "person3 = ['T', 'L']\n",
      "person4 = ['O', 'I']\n",
      "person5 = ['S', 'T']\n",
      "Found words: ['COTES', 'COSET', 'COSTE', 'OCTET', 'CITES', 'CLOSE', 'COLES', 'SOCLE', 'COLET', 'SLICE', 'TELIC', 'CHITS', 'STICH', 'TITCH', 'CLOTH']\n"
     ]
    },
    {
     "name": "stderr",
     "output_type": "stream",
     "text": [
      " 27%|██▋       | 271/1000 [02:13<05:15,  2.31it/s]"
     ]
    },
    {
     "name": "stdout",
     "output_type": "stream",
     "text": [
      "person1 = ['T', 'C']\n",
      "person2 = ['E', 'H']\n",
      "person3 = ['T', 'A']\n",
      "person4 = ['S', 'N']\n",
      "person5 = ['S', 'O']\n",
      "Found words: ['TESTS', 'STETS', 'SETTS', 'TOTES', 'TENTS', 'STENT', 'TETON', 'TESSA', 'TASSE', 'EASTS', 'ASSET', 'SEATS', 'SATES', 'TOEAS', 'SEATO', 'OATES', 'ETNAS', 'ANTES', 'NATES', 'STANE', 'EATON', 'ATONE', 'ANETO', 'OATEN', 'STASH', 'HOSTA', 'ATHOS', 'SHOAT', 'OATHS', 'SNATH', 'SECTS', 'COTES', 'COSET', 'COSTE', 'CENTS', 'SCENT', 'CENTO', 'CONTE', 'CASES', 'CANES', 'CANOE', 'OCEAN', 'NOTCH', 'SACHS', 'CHAOS', 'COHAN', 'NACHO']\n"
     ]
    },
    {
     "name": "stderr",
     "output_type": "stream",
     "text": [
      " 27%|██▋       | 274/1000 [02:14<05:13,  2.32it/s]"
     ]
    },
    {
     "name": "stdout",
     "output_type": "stream",
     "text": [
      "person1 = ['E', 'C']\n",
      "person2 = ['H', 'U']\n",
      "person3 = ['I', 'N']\n",
      "person4 = ['S', 'A']\n",
      "person5 = ['A', 'T']\n",
      "Found words: ['HEIST', 'HANSE', 'SHANE', 'ASHEN', 'ETHAN', 'NEATH', 'THANE', 'ETUIS', 'SUITE', 'UNSET', 'TUNES', 'CHITS', 'STICH', 'CHITA', 'AITCH', 'CHANT', 'NATCH', 'CAIUS', 'CUTIS', 'ICTUS', 'UTICA', 'CUNTS', 'CANTU']\n"
     ]
    },
    {
     "name": "stderr",
     "output_type": "stream",
     "text": [
      " 28%|██▊       | 275/1000 [02:15<05:15,  2.29it/s]"
     ]
    },
    {
     "name": "stdout",
     "output_type": "stream",
     "text": [
      "person1 = ['S', 'Q']\n",
      "person2 = ['K', 'U']\n",
      "person3 = ['L', 'E']\n",
      "person4 = ['T', 'S']\n",
      "person5 = ['O', 'Y']\n",
      "Found words: ['STOKE', 'TOKES', 'TYKES', 'KOSES', 'SYKES', 'SOULT', 'LOUTS', 'LOTUS', 'TOLUS', 'LUSTY', 'SOULS', 'SOLUS', 'SUETY', 'SOUSE', 'QUOTE', 'TOQUE']\n"
     ]
    },
    {
     "name": "stderr",
     "output_type": "stream",
     "text": [
      " 28%|██▊       | 276/1000 [02:15<05:20,  2.26it/s]"
     ]
    },
    {
     "name": "stdout",
     "output_type": "stream",
     "text": [
      "person1 = ['P', 'C']\n",
      "person2 = ['U', 'H']\n",
      "person3 = ['N', 'O']\n",
      "person4 = ['A', 'O']\n",
      "person5 = ['C', 'R']\n",
      "Found words: ['UNCAP', 'POACH', 'OPRAH', 'POOCH', 'CORNU', 'RANCH', 'CONCH', 'CHRON', 'CHACO', 'COACH', 'ROCHA', 'ROACH']\n"
     ]
    },
    {
     "name": "stderr",
     "output_type": "stream",
     "text": [
      " 28%|██▊       | 277/1000 [02:15<05:19,  2.27it/s]"
     ]
    },
    {
     "name": "stdout",
     "output_type": "stream",
     "text": [
      "person1 = ['C', 'S']\n",
      "person2 = ['H', 'E']\n",
      "person3 = ['C', 'R']\n",
      "person4 = ['A', 'L']\n",
      "person5 = ['Y', 'N']\n",
      "Found words: ['CHARY', 'RANCH', 'CYCLE', 'CAREY', 'CRANE', 'CARNE', 'CANER', 'RANCE', 'NACRE', 'CASEY', 'CAYES', 'CANES', 'SAYER', 'EYRAS', 'AYERS', 'YEARS', 'SANER', 'SNARE', 'EARNS', 'NEARS', 'NARES', 'SLYER', 'LYRES']\n"
     ]
    },
    {
     "name": "stderr",
     "output_type": "stream",
     "text": [
      " 28%|██▊       | 278/1000 [02:16<05:20,  2.25it/s]"
     ]
    },
    {
     "name": "stdout",
     "output_type": "stream",
     "text": [
      "person1 = ['E', 'T']\n",
      "person2 = ['K', 'E']\n",
      "person3 = ['A', 'C']\n",
      "person4 = ['N', 'Y']\n",
      "person5 = ['E', 'H']\n",
      "Found words: ['AKENE', 'HAYEK', 'HENCE', 'TAKEN', 'THANK', 'KATHY', 'EATEN', 'ENATE', 'THANE', 'ETHAN', 'NEATH', 'TENCH', 'TECHY', 'TYCHE']\n"
     ]
    },
    {
     "name": "stderr",
     "output_type": "stream",
     "text": [
      " 28%|██▊       | 280/1000 [02:17<05:23,  2.23it/s]"
     ]
    },
    {
     "name": "stdout",
     "output_type": "stream",
     "text": [
      "person1 = ['E', 'T']\n",
      "person2 = ['U', 'H']\n",
      "person3 = ['S', 'R']\n",
      "person4 = ['S', 'E']\n",
      "person5 = ['A', 'S']\n",
      "Found words: ['SEUSS', 'USERS', 'RUSES', 'REUSE', 'ASHES', 'HESSE', 'HEARS', 'HARES', 'RHEAS', 'SHEAR', 'SHARE', 'ASHER', 'HERES', 'SHEER', 'SAUTE', 'SUTRA', 'SURAT', 'TRUSS', 'RUSTS', 'TRUES', 'STASH', 'HEATS', 'HATES', 'HASTE', 'THESS', 'TRASH', 'HARTS', 'RASHT', 'HERAT', 'HEART', 'HATER', 'HARTE', 'RATHE', 'EARTH', 'RESHT']\n"
     ]
    },
    {
     "name": "stderr",
     "output_type": "stream",
     "text": [
      " 28%|██▊       | 281/1000 [02:17<05:24,  2.22it/s]"
     ]
    },
    {
     "name": "stdout",
     "output_type": "stream",
     "text": [
      "person1 = ['P', 'C']\n",
      "person2 = ['K', 'U']\n",
      "person3 = ['E', 'T']\n",
      "person4 = ['S', 'I']\n",
      "person5 = ['L', 'A']\n",
      "Found words: ['SKELP', 'PEAKS', 'SPEAK', 'SPAKE', 'PULES', 'PULSE', 'LEPUS', 'PAUSE', 'SPUTA', 'STUPA', 'TULIP', 'CAKES', 'TACKS', 'STACK', 'CLUES', 'CAUSE', 'SAUCE', 'CULTS', 'SCUTA', 'UTICA']\n"
     ]
    },
    {
     "name": "stderr",
     "output_type": "stream",
     "text": [
      " 28%|██▊       | 282/1000 [02:18<05:17,  2.26it/s]"
     ]
    },
    {
     "name": "stdout",
     "output_type": "stream",
     "text": [
      "person1 = ['Q', 'S']\n",
      "person2 = ['K', 'H']\n",
      "person3 = ['H', 'E']\n",
      "person4 = ['T', 'I']\n",
      "person5 = ['Y', 'I']\n",
      "Found words: ['TYKES', 'SKITE', 'KITES', 'YEISK', 'YIKES', 'HEIST']\n"
     ]
    },
    {
     "name": "stderr",
     "output_type": "stream",
     "text": [
      " 28%|██▊       | 283/1000 [02:18<05:13,  2.29it/s]"
     ]
    },
    {
     "name": "stdout",
     "output_type": "stream",
     "text": [
      "person1 = ['S', 'Q']\n",
      "person2 = ['H', 'U']\n",
      "person3 = ['I', 'Y']\n",
      "person4 = ['C', 'T']\n",
      "person5 = ['L', 'E']\n",
      "Found words: ['HILTS', 'HEIST', 'SULCI', 'SUITE', 'ETUIS', 'LUSTY', 'SUETY', 'QUILT', 'QUITE', 'QUIET']\n"
     ]
    },
    {
     "name": "stderr",
     "output_type": "stream",
     "text": [
      " 28%|██▊       | 285/1000 [02:19<05:11,  2.30it/s]"
     ]
    },
    {
     "name": "stdout",
     "output_type": "stream",
     "text": [
      "person1 = ['S', 'T']\n",
      "person2 = ['E', 'H']\n",
      "person3 = ['I', 'R']\n",
      "person4 = ['L', 'H']\n",
      "person5 = ['A', 'E']\n",
      "Found words: ['ELISA', 'ELIAS', 'AISLE', 'ELSIE', 'ELISE', 'EARLS', 'REALS', 'RALES', 'LASER', 'LARES', 'ARLES', 'REELS', 'LEERS', 'SHEAR', 'SHARE', 'RHEAS', 'HEARS', 'HARES', 'ASHER', 'SHEER', 'HERES', 'HAILS', 'HARSH', 'ELITE', 'TALER', 'RATEL', 'LATER', 'ARTEL', 'ALTER', 'ALERT', 'EARTH', 'RATHE', 'HERAT', 'HEART', 'HATER', 'HARTE', 'THERE', 'THREE', 'ETHER', 'LATHI', 'LITHE', 'LEITH']\n"
     ]
    },
    {
     "name": "stderr",
     "output_type": "stream",
     "text": [
      " 29%|██▊       | 286/1000 [02:19<05:12,  2.29it/s]"
     ]
    },
    {
     "name": "stdout",
     "output_type": "stream",
     "text": [
      "person1 = ['T', 'S']\n",
      "person2 = ['H', 'E']\n",
      "person3 = ['O', 'A']\n",
      "person4 = ['I', 'C']\n",
      "person5 = ['S', 'L']\n",
      "Found words: ['HOIST', 'THIOL', 'LITHO', 'CLOTH', 'THAIS', 'TISHA', 'SAITH', 'LATHI', 'CHATS', 'LATCH', 'TOILE', 'ELIOT', 'COTES', 'COSTE', 'COSET', 'COLET', 'CESTA', 'CASTE', 'ECLAT', 'CLEAT', 'SHIAS', 'HAILS', 'SACHS', 'CLASH', 'SOCLE', 'COLES', 'CLOSE', 'ELISA', 'ELIAS', 'AISLE', 'CASES', 'SCALE', 'LACES']\n"
     ]
    },
    {
     "name": "stderr",
     "output_type": "stream",
     "text": [
      " 29%|██▊       | 287/1000 [02:20<05:10,  2.30it/s]"
     ]
    },
    {
     "name": "stdout",
     "output_type": "stream",
     "text": [
      "person1 = ['P', 'E']\n",
      "person2 = ['H', 'H']\n",
      "person3 = ['A', 'C']\n",
      "person4 = ['L', 'T']\n",
      "person5 = ['H', 'Y']\n",
      "Found words: ['PHYLA', 'HAPLY', 'TYPHA', 'HALEY', 'HEATH', 'CHYLE', 'TECHY', 'TYCHE']\n"
     ]
    },
    {
     "name": "stderr",
     "output_type": "stream",
     "text": [
      " 29%|██▉       | 288/1000 [02:20<05:10,  2.29it/s]"
     ]
    },
    {
     "name": "stdout",
     "output_type": "stream",
     "text": [
      "person1 = ['Q', 'S']\n",
      "person2 = ['E', 'H']\n",
      "person3 = ['Y', 'R']\n",
      "person4 = ['N', 'A']\n",
      "person5 = ['N', 'T']\n",
      "Found words: ['YEANS', 'YEAST', 'YEATS', 'YATES', 'STERN', 'ERNST', 'RENTS', 'TERNS', 'SANER', 'SNARE', 'EARNS', 'NEARS', 'NARES', 'STARE', 'RESAT', 'RATES', 'ASTER', 'TEARS', 'TREAS', 'TASER', 'TARES', 'SYNTH', 'HASTY', 'HARTS', 'RASHT', 'TRASH']\n"
     ]
    },
    {
     "name": "stderr",
     "output_type": "stream",
     "text": [
      " 29%|██▉       | 289/1000 [02:21<05:12,  2.27it/s]"
     ]
    },
    {
     "name": "stdout",
     "output_type": "stream",
     "text": [
      "person1 = ['S', 'E']\n",
      "person2 = ['K', 'H']\n",
      "person3 = ['Y', 'H']\n",
      "person4 = ['L', 'C']\n",
      "person5 = ['O', 'Y']\n",
      "Found words: ['YOLKS', 'KOHLS', 'SHOCK', 'HOCKS', 'SHYLY', 'YOKEL', 'CHOKE', 'HOYLE', 'HOLEY']\n"
     ]
    },
    {
     "name": "stderr",
     "output_type": "stream",
     "text": [
      " 29%|██▉       | 290/1000 [02:21<05:11,  2.28it/s]"
     ]
    },
    {
     "name": "stdout",
     "output_type": "stream",
     "text": [
      "person1 = ['C', 'T']\n",
      "person2 = ['H', 'H']\n",
      "person3 = ['T', 'I']\n",
      "person4 = ['N', 'S']\n",
      "person5 = ['A', 'T']\n",
      "Found words: ['CHANT', 'NATCH', 'CHATS', 'CHINA', 'CHIAN', 'CHAIN', 'ICAHN', 'CHITS', 'STICH', 'THANT', 'THAIS', 'TISHA', 'SAITH']\n"
     ]
    },
    {
     "name": "stderr",
     "output_type": "stream",
     "text": [
      " 29%|██▉       | 291/1000 [02:22<05:10,  2.28it/s]"
     ]
    },
    {
     "name": "stdout",
     "output_type": "stream",
     "text": [
      "person1 = ['T', 'C']\n",
      "person2 = ['K', 'E']\n",
      "person3 = ['N', 'O']\n",
      "person4 = ['L', 'R']\n",
      "person5 = ['I', 'T']\n",
      "Found words: ['INTEL', 'INLET', 'TERNI', 'TRINE', 'NITER', 'INTER', 'INERT', 'TRENT', 'TOILE', 'ELIOT', 'TORTE', 'TOTER', 'OTTER', 'CLINK', 'CLINE', 'CRINE', 'NICER', 'EOLIC', 'OLEIC', 'COLET', 'RECTO']\n"
     ]
    },
    {
     "name": "stderr",
     "output_type": "stream",
     "text": [
      " 29%|██▉       | 292/1000 [02:22<05:12,  2.26it/s]"
     ]
    },
    {
     "name": "stdout",
     "output_type": "stream",
     "text": [
      "person1 = ['C', 'S']\n",
      "person2 = ['H', 'H']\n",
      "person3 = ['H', 'E']\n",
      "person4 = ['C', 'T']\n",
      "person5 = ['E', 'I']\n",
      "Found words: ['HITCH', 'ETHIC', 'HETHS', 'SHEET', 'THESE', 'THEES', 'HEIST']\n"
     ]
    },
    {
     "name": "stderr",
     "output_type": "stream",
     "text": [
      " 29%|██▉       | 293/1000 [02:23<05:14,  2.25it/s]"
     ]
    },
    {
     "name": "stdout",
     "output_type": "stream",
     "text": [
      "person1 = ['P', 'S']\n",
      "person2 = ['K', 'U']\n",
      "person3 = ['S', 'R']\n",
      "person4 = ['O', 'I']\n",
      "person5 = ['E', 'R']\n",
      "Found words: ['POKES', 'SPOKE', 'PIKES', 'KEPIS', 'SPIKE', 'POKER', 'PIKER', 'POURS', 'PRIUS', 'KOSES', 'SKIES', 'RISKS', 'SKIER', 'SKIRR', 'SOUSE', 'SOURS', 'SORUS', 'RUSSO', 'SUSIE', 'ISSUE', 'ROUSE', 'ROUES', 'EUROS']\n"
     ]
    },
    {
     "name": "stderr",
     "output_type": "stream",
     "text": [
      " 29%|██▉       | 294/1000 [02:23<05:17,  2.23it/s]"
     ]
    },
    {
     "name": "stdout",
     "output_type": "stream",
     "text": [
      "person1 = ['P', 'Q']\n",
      "person2 = ['H', 'E']\n",
      "person3 = ['H', 'S']\n",
      "person4 = ['N', 'I']\n",
      "person5 = ['T', 'E']\n",
      "Found words: ['PITHS', 'SPENT', 'PEENS', 'PISTE', 'SPITE', 'STIPE']\n"
     ]
    },
    {
     "name": "stderr",
     "output_type": "stream",
     "text": [
      " 30%|██▉       | 297/1000 [02:24<05:06,  2.29it/s]"
     ]
    },
    {
     "name": "stdout",
     "output_type": "stream",
     "text": [
      "person1 = ['C', 'E']\n",
      "person2 = ['H', 'H']\n",
      "person3 = ['I', 'H']\n",
      "person4 = ['S', 'E']\n",
      "person5 = ['T', 'L']\n",
      "Found words: ['CHITS', 'STICH', 'ETHIC', 'CHILE', 'HEIST', 'HETHS']\n"
     ]
    },
    {
     "name": "stderr",
     "output_type": "stream",
     "text": [
      " 30%|██▉       | 299/1000 [02:25<05:07,  2.28it/s]"
     ]
    },
    {
     "name": "stdout",
     "output_type": "stream",
     "text": [
      "person1 = ['S', 'E']\n",
      "person2 = ['H', 'U']\n",
      "person3 = ['R', 'Y']\n",
      "person4 = ['R', 'N']\n",
      "person5 = ['N', 'A']\n",
      "Found words: ['SURRA', 'SURYA', 'SAURY', 'SUNNY', 'UNSAY', 'HENRY', 'HYENA', 'HANEY', 'RERUN']\n"
     ]
    },
    {
     "name": "stderr",
     "output_type": "stream",
     "text": [
      " 30%|███       | 300/1000 [02:26<05:06,  2.28it/s]"
     ]
    },
    {
     "name": "stdout",
     "output_type": "stream",
     "text": [
      "person1 = ['C', 'E']\n",
      "person2 = ['H', 'H']\n",
      "person3 = ['I', 'S']\n",
      "person4 = ['H', 'S']\n",
      "person5 = ['T', 'O']\n",
      "Found words: ['HITCH', 'CHITS', 'STICH', 'CHIOS', 'SOCHI', 'HEIST', 'HETHS', 'THESS', 'HOSES', 'SHOES']\n"
     ]
    },
    {
     "name": "stderr",
     "output_type": "stream",
     "text": [
      " 30%|███       | 301/1000 [02:26<05:05,  2.29it/s]"
     ]
    },
    {
     "name": "stdout",
     "output_type": "stream",
     "text": [
      "person1 = ['T', 'C']\n",
      "person2 = ['U', 'H']\n",
      "person3 = ['R', 'Y']\n",
      "person4 = ['S', 'H']\n",
      "person5 = ['O', 'I']\n",
      "Found words: ['TOURS', 'TORUS', 'ROUTS', 'ROUST', 'SRUTI', 'YOUTH', 'HORST', 'SHORT', 'SHIRT', 'SCOUR', 'ORCUS', 'CHRIS']\n"
     ]
    },
    {
     "name": "stderr",
     "output_type": "stream",
     "text": [
      " 30%|███       | 302/1000 [02:26<05:07,  2.27it/s]"
     ]
    },
    {
     "name": "stdout",
     "output_type": "stream",
     "text": [
      "person1 = ['C', 'S']\n",
      "person2 = ['H', 'U']\n",
      "person3 = ['H', 'O']\n",
      "person4 = ['E', 'T']\n",
      "person5 = ['T', 'A']\n",
      "Found words: ['HATCH', 'CHUTE', 'HETHS', 'SHOTE', 'ETHOS', 'THOSE', 'HOSEA', 'SHOAT', 'HOSTA', 'OATHS', 'ATHOS', 'SHUTE', 'STOUT', 'TOUTS', 'AUTOS']\n"
     ]
    },
    {
     "name": "stderr",
     "output_type": "stream",
     "text": [
      " 30%|███       | 303/1000 [02:27<05:07,  2.27it/s]"
     ]
    },
    {
     "name": "stdout",
     "output_type": "stream",
     "text": [
      "person1 = ['T', 'C']\n",
      "person2 = ['E', 'H']\n",
      "person3 = ['H', 'Y']\n",
      "person4 = ['I', 'N']\n",
      "person5 = ['A', 'L']\n",
      "Found words: ['LEITH', 'LITHE', 'THANE', 'ETHAN', 'NEATH', 'TANEY', 'YENTA', 'THANH', 'CHILE', 'HANCE', 'LYNCH']\n"
     ]
    },
    {
     "name": "stderr",
     "output_type": "stream",
     "text": [
      " 30%|███       | 304/1000 [02:27<05:05,  2.28it/s]"
     ]
    },
    {
     "name": "stdout",
     "output_type": "stream",
     "text": [
      "person1 = ['C', 'E']\n",
      "person2 = ['K', 'H']\n",
      "person3 = ['A', 'L']\n",
      "person4 = ['L', 'S']\n",
      "person5 = ['C', 'H']\n",
      "Found words: ['CLACK', 'CHALK', 'SHACK', 'HACKS', 'CAKES', 'SHAKE', 'HAKES', 'LEACH', 'CHELA', 'ACHES', 'CHASE']\n"
     ]
    },
    {
     "name": "stderr",
     "output_type": "stream",
     "text": [
      " 30%|███       | 305/1000 [02:28<05:06,  2.27it/s]"
     ]
    },
    {
     "name": "stdout",
     "output_type": "stream",
     "text": [
      "person1 = ['S', 'C']\n",
      "person2 = ['H', 'K']\n",
      "person3 = ['C', 'S']\n",
      "person4 = ['N', 'I']\n",
      "person5 = ['O', 'A']\n",
      "Found words: ['SOCHI', 'CHIOS', 'SHANS', 'SHIAS', 'CONKS', 'NOCKS', 'SNACK', 'SICKO', 'SIKAS', 'SAKIS', 'CONCH', 'CHICO']\n"
     ]
    },
    {
     "name": "stderr",
     "output_type": "stream",
     "text": [
      " 31%|███       | 306/1000 [02:28<05:08,  2.25it/s]"
     ]
    },
    {
     "name": "stdout",
     "output_type": "stream",
     "text": [
      "person1 = ['C', 'C']\n",
      "person2 = ['H', 'U']\n",
      "person3 = ['Y', 'O']\n",
      "person4 = ['S', 'A']\n",
      "person5 = ['L', 'I']\n",
      "Found words: ['CHIOS', 'SOCHI', 'LOACH', 'CHIAO', 'LOCUS']\n"
     ]
    },
    {
     "name": "stderr",
     "output_type": "stream",
     "text": [
      " 31%|███       | 307/1000 [02:29<05:06,  2.26it/s]"
     ]
    },
    {
     "name": "stdout",
     "output_type": "stream",
     "text": [
      "person1 = ['C', 'S']\n",
      "person2 = ['H', 'E']\n",
      "person3 = ['Y', 'T']\n",
      "person4 = ['Y', 'L']\n",
      "person5 = ['E', 'S']\n",
      "Found words: ['CHYLE', 'TYCHE', 'TECHY', 'ELECT', 'CELTS', 'LYSES', 'STYES', 'STELE', 'STEEL', 'SLEET']\n"
     ]
    },
    {
     "name": "stderr",
     "output_type": "stream",
     "text": [
      " 31%|███       | 309/1000 [02:30<05:03,  2.28it/s]"
     ]
    },
    {
     "name": "stdout",
     "output_type": "stream",
     "text": [
      "person1 = ['C', 'E']\n",
      "person2 = ['H', 'H']\n",
      "person3 = ['O', 'S']\n",
      "person4 = ['C', 'L']\n",
      "person5 = ['S', 'I']\n",
      "Found words: ['CHOCS', 'CHICO', 'CHOLI', 'ECHOS', 'CHOSE', 'SOCHE', 'HOLES', 'SHEOL', 'CHESS']\n"
     ]
    },
    {
     "name": "stderr",
     "output_type": "stream",
     "text": [
      " 31%|███       | 310/1000 [02:30<05:00,  2.30it/s]"
     ]
    },
    {
     "name": "stdout",
     "output_type": "stream",
     "text": [
      "person1 = ['P', 'T']\n",
      "person2 = ['H', 'U']\n",
      "person3 = ['L', 'Y']\n",
      "person4 = ['R', 'Y']\n",
      "person5 = ['T', 'E']\n",
      "Found words: ['PHYLE', 'HYPER', 'PULER', 'ETHYL', 'RUTTY']\n"
     ]
    },
    {
     "name": "stderr",
     "output_type": "stream",
     "text": [
      " 31%|███       | 312/1000 [02:31<05:01,  2.28it/s]"
     ]
    },
    {
     "name": "stdout",
     "output_type": "stream",
     "text": [
      "person1 = ['C', 'P']\n",
      "person2 = ['H', 'E']\n",
      "person3 = ['T', 'I']\n",
      "person4 = ['O', 'L']\n",
      "person5 = ['L', 'O']\n",
      "Found words: ['CLOTH', 'CHOLI', 'CHILL', 'COLET', 'EOLIC', 'OLEIC', 'PHOTO', 'PHILO']\n"
     ]
    },
    {
     "name": "stderr",
     "output_type": "stream",
     "text": [
      " 31%|███▏      | 313/1000 [02:31<05:02,  2.27it/s]"
     ]
    },
    {
     "name": "stdout",
     "output_type": "stream",
     "text": [
      "person1 = ['C', 'C']\n",
      "person2 = ['K', 'H']\n",
      "person3 = ['Y', 'N']\n",
      "person4 = ['I', 'E']\n",
      "person5 = ['H', 'A']\n",
      "Found words: ['CHINK', 'CHINA', 'CHIAN', 'CHAIN', 'ICAHN', 'HENCH', 'HANCE']\n"
     ]
    },
    {
     "name": "stderr",
     "output_type": "stream",
     "text": [
      " 32%|███▏      | 317/1000 [02:33<04:52,  2.34it/s]"
     ]
    },
    {
     "name": "stdout",
     "output_type": "stream",
     "text": [
      "person1 = ['E', 'C']\n",
      "person2 = ['U', 'H']\n",
      "person3 = ['S', 'H']\n",
      "person4 = ['S', 'T']\n",
      "person5 = ['E', 'I']\n",
      "Found words: ['SUSIE', 'ISSUE', 'ETUIS', 'SUITE', 'THIEU', 'HESSE', 'SHIES', 'SHEET', 'THESE', 'THEES', 'HEIST', 'CETUS', 'SCUTE', 'CUTIS', 'ICTUS', 'CHUTE', 'CHESS', 'CHEST', 'TECHS', 'CHITS', 'STICH', 'HITCH']\n"
     ]
    },
    {
     "name": "stderr",
     "output_type": "stream",
     "text": [
      " 32%|███▏      | 318/1000 [02:33<04:55,  2.31it/s]"
     ]
    },
    {
     "name": "stdout",
     "output_type": "stream",
     "text": [
      "person1 = ['E', 'Q']\n",
      "person2 = ['E', 'H']\n",
      "person3 = ['C', 'S']\n",
      "person4 = ['S', 'E']\n",
      "person5 = ['N', 'O']\n",
      "Found words: ['CENSE', 'SCENE', 'ESSEN', 'SENSE', 'ECHOS', 'CHOSE', 'SOCHE', 'HENCE', 'HOSES', 'SHOES', 'SHEEN']\n"
     ]
    },
    {
     "name": "stderr",
     "output_type": "stream",
     "text": [
      " 32%|███▏      | 320/1000 [02:34<04:51,  2.33it/s]"
     ]
    },
    {
     "name": "stdout",
     "output_type": "stream",
     "text": [
      "person1 = ['C', 'T']\n",
      "person2 = ['H', 'E']\n",
      "person3 = ['E', 'S']\n",
      "person4 = ['E', 'O']\n",
      "person5 = ['H', 'O']\n",
      "Found words: ['CHOSE', 'SOCHE', 'ECHOS', 'COHOS', 'COOEE', 'HETHS', 'THOSE', 'SHOTE', 'ETHOS', 'HOOTS', 'SHOOT', 'SOOTH', 'THESE', 'THEES', 'SHEET']\n"
     ]
    },
    {
     "name": "stderr",
     "output_type": "stream",
     "text": [
      " 32%|███▏      | 322/1000 [02:35<04:48,  2.35it/s]"
     ]
    },
    {
     "name": "stdout",
     "output_type": "stream",
     "text": [
      "person1 = ['C', 'P']\n",
      "person2 = ['H', 'H']\n",
      "person3 = ['E', 'L']\n",
      "person4 = ['C', 'S']\n",
      "person5 = ['A', 'E']\n",
      "Found words: ['CACHE', 'CHASE', 'ACHES', 'CLASH', 'PEACH', 'CHEAP', 'CHAPE', 'CHEEP', 'PHASE', 'HEAPS', 'SHAPE', 'SHEEP', 'PLASH', 'HELPS']\n"
     ]
    },
    {
     "name": "stderr",
     "output_type": "stream",
     "text": [
      " 32%|███▏      | 323/1000 [02:36<04:53,  2.31it/s]"
     ]
    },
    {
     "name": "stdout",
     "output_type": "stream",
     "text": [
      "person1 = ['C', 'E']\n",
      "person2 = ['H', 'E']\n",
      "person3 = ['H', 'O']\n",
      "person4 = ['S', 'L']\n",
      "person5 = ['T', 'Y']\n",
      "Found words: ['CLOTH', 'CHEST', 'TECHS', 'CHYLE', 'COSET', 'COSTE', 'COTES', 'COLET', 'COLEY', 'HETHS', 'ETHOS', 'SHOTE', 'THOSE', 'HELOT', 'HOTEL', 'THEOL', 'THOLE', 'HOLEY', 'HOYLE', 'SHEET', 'THEES', 'THESE', 'ETHEL', 'LETHE']\n"
     ]
    },
    {
     "name": "stderr",
     "output_type": "stream",
     "text": [
      " 32%|███▏      | 324/1000 [02:36<04:58,  2.27it/s]"
     ]
    },
    {
     "name": "stdout",
     "output_type": "stream",
     "text": [
      "person1 = ['E', 'S']\n",
      "person2 = ['H', 'H']\n",
      "person3 = ['L', 'H']\n",
      "person4 = ['A', 'N']\n",
      "person5 = ['R', 'C']\n",
      "Found words: ['HALER', 'LEACH', 'CHELA', 'HENCH', 'CLASH', 'HARSH']\n"
     ]
    },
    {
     "name": "stderr",
     "output_type": "stream",
     "text": [
      " 33%|███▎      | 327/1000 [02:37<04:48,  2.33it/s]"
     ]
    },
    {
     "name": "stdout",
     "output_type": "stream",
     "text": [
      "person1 = ['E', 'C']\n",
      "person2 = ['H', 'U']\n",
      "person3 = ['N', 'H']\n",
      "person4 = ['O', 'A']\n",
      "person5 = ['Y', 'E']\n",
      "Found words: ['HONEY', 'HANEY', 'HYENA', 'COHEN', 'ENOCH', 'HANCE', 'CUNEO', 'OUNCE']\n"
     ]
    },
    {
     "name": "stderr",
     "output_type": "stream",
     "text": [
      " 33%|███▎      | 328/1000 [02:38<04:51,  2.31it/s]"
     ]
    },
    {
     "name": "stdout",
     "output_type": "stream",
     "text": [
      "person1 = ['Q', 'S']\n",
      "person2 = ['H', 'K']\n",
      "person3 = ['Y', 'H']\n",
      "person4 = ['O', 'S']\n",
      "person5 = ['N', 'A']\n",
      "Found words: ['HYSON', 'SHAYS', 'SHOAH', 'SHAHS', 'YONKS', 'KAYOS', 'OKAYS', 'HONKS', 'SHAKO']\n"
     ]
    },
    {
     "name": "stderr",
     "output_type": "stream",
     "text": [
      " 33%|███▎      | 329/1000 [02:38<04:53,  2.29it/s]"
     ]
    },
    {
     "name": "stdout",
     "output_type": "stream",
     "text": [
      "person1 = ['C', 'P']\n",
      "person2 = ['U', 'E']\n",
      "person3 = ['O', 'S']\n",
      "person4 = ['O', 'H']\n",
      "person5 = ['E', 'C']\n",
      "Found words: ['COUCH', 'CUSCO', 'COOEE', 'COSEC', 'SECCO', 'OUPHE', 'POUCH', 'COUPS', 'EPOCH', 'PECOS', 'SCOPE', 'COPES', 'COPSE', 'SHEEP']\n"
     ]
    },
    {
     "name": "stderr",
     "output_type": "stream",
     "text": [
      " 33%|███▎      | 331/1000 [02:39<04:53,  2.28it/s]"
     ]
    },
    {
     "name": "stdout",
     "output_type": "stream",
     "text": [
      "person1 = ['C', 'C']\n",
      "person2 = ['K', 'E']\n",
      "person3 = ['R', 'L']\n",
      "person4 = ['O', 'R']\n",
      "person5 = ['S', 'N']\n",
      "Found words: ['CORKS', 'ROCKS', 'CRONK', 'LOCKS', 'CLONK', 'CEROS', 'CORES', 'CORSE', 'SCORE', 'CREON', 'CRONE', 'RECON', 'CLOSE', 'COLES', 'SOCLE', 'CLEON', 'CLONE']\n"
     ]
    },
    {
     "name": "stderr",
     "output_type": "stream",
     "text": [
      " 33%|███▎      | 333/1000 [02:40<04:51,  2.29it/s]"
     ]
    },
    {
     "name": "stdout",
     "output_type": "stream",
     "text": [
      "person1 = ['C', 'T']\n",
      "person2 = ['H', 'U']\n",
      "person3 = ['O', 'L']\n",
      "person4 = ['N', 'O']\n",
      "person5 = ['L', 'T']\n",
      "Found words: ['NOTCH', 'CLOTH', 'COUNT', 'CLOUT', 'TOOTH', 'LUTON']\n"
     ]
    },
    {
     "name": "stderr",
     "output_type": "stream",
     "text": [
      " 33%|███▎      | 334/1000 [02:40<04:50,  2.29it/s]"
     ]
    },
    {
     "name": "stdout",
     "output_type": "stream",
     "text": [
      "person1 = ['P', 'C']\n",
      "person2 = ['H', 'H']\n",
      "person3 = ['R', 'Y']\n",
      "person4 = ['O', 'I']\n",
      "person5 = ['A', 'N']\n",
      "Found words: ['OPRAH', 'PHONY', 'ROCHA', 'ROACH', 'CHRON', 'CHARI', 'CHAIR']\n"
     ]
    },
    {
     "name": "stderr",
     "output_type": "stream",
     "text": [
      " 34%|███▍      | 338/1000 [02:42<04:58,  2.22it/s]"
     ]
    },
    {
     "name": "stdout",
     "output_type": "stream",
     "text": [
      "person1 = ['T', 'C']\n",
      "person2 = ['H', 'E']\n",
      "person3 = ['O', 'H']\n",
      "person4 = ['I', 'R']\n",
      "person5 = ['Y', 'O']\n",
      "Found words: ['THROE', 'OTHER', 'COREY', 'COYER', 'ROYCE', 'CHORE', 'ROCHE', 'OCHER']\n"
     ]
    },
    {
     "name": "stderr",
     "output_type": "stream",
     "text": [
      " 34%|███▍      | 339/1000 [02:43<04:55,  2.23it/s]"
     ]
    },
    {
     "name": "stdout",
     "output_type": "stream",
     "text": [
      "person1 = ['Q', 'P']\n",
      "person2 = ['E', 'K']\n",
      "person3 = ['I', 'L']\n",
      "person4 = ['S', 'O']\n",
      "person5 = ['O', 'E']\n",
      "Found words: ['POISE', 'POLES', 'LOPES', 'SLOPE', 'PEELS', 'SLEEP', 'POOLE', 'ELOPE', 'PIKES', 'KEPIS', 'SPIKE', 'SKELP']\n"
     ]
    },
    {
     "name": "stderr",
     "output_type": "stream",
     "text": [
      " 34%|███▍      | 341/1000 [02:44<04:51,  2.26it/s]"
     ]
    },
    {
     "name": "stdout",
     "output_type": "stream",
     "text": [
      "person1 = ['E', 'C']\n",
      "person2 = ['E', 'U']\n",
      "person3 = ['E', 'L']\n",
      "person4 = ['O', 'E']\n",
      "person5 = ['N', 'T']\n",
      "Found words: ['LEONE', 'ELUTE', 'CLEON', 'CLONE', 'COLET', 'ELECT', 'CUNEO', 'OUNCE', 'CLOUT', 'UNCLE', 'CULET']\n"
     ]
    },
    {
     "name": "stderr",
     "output_type": "stream",
     "text": [
      " 34%|███▍      | 342/1000 [02:44<04:51,  2.25it/s]"
     ]
    },
    {
     "name": "stdout",
     "output_type": "stream",
     "text": [
      "person1 = ['P', 'S']\n",
      "person2 = ['U', 'H']\n",
      "person3 = ['Y', 'L']\n",
      "person4 = ['S', 'E']\n",
      "person5 = ['C', 'I']\n",
      "Found words: ['SCULP', 'CUPEL', 'PSYCH', 'CLUES', 'ILEUS']\n"
     ]
    },
    {
     "name": "stderr",
     "output_type": "stream",
     "text": [
      " 34%|███▍      | 343/1000 [02:44<04:56,  2.22it/s]"
     ]
    },
    {
     "name": "stdout",
     "output_type": "stream",
     "text": [
      "person1 = ['C', 'T']\n",
      "person2 = ['H', 'H']\n",
      "person3 = ['C', 'E']\n",
      "person4 = ['R', 'O']\n",
      "person5 = ['Y', 'S']\n",
      "Found words: ['CHOCS', 'CHOSE', 'ECHOS', 'SOCHE', 'TYCHO', 'RESHT', 'THOSE', 'ETHOS', 'SHOTE']\n"
     ]
    },
    {
     "name": "stderr",
     "output_type": "stream",
     "text": [
      " 34%|███▍      | 345/1000 [02:45<04:50,  2.26it/s]"
     ]
    },
    {
     "name": "stdout",
     "output_type": "stream",
     "text": [
      "person1 = ['C', 'P']\n",
      "person2 = ['H', 'K']\n",
      "person3 = ['H', 'R']\n",
      "person4 = ['H', 'E']\n",
      "person5 = ['T', 'I']\n",
      "Found words: ['CHERT', 'RETCH', 'CHERI', 'REICH', 'ERICH', 'KETCH', 'CHIRK', 'ERICK', 'PERTH', 'PIKER']\n"
     ]
    },
    {
     "name": "stderr",
     "output_type": "stream",
     "text": [
      " 35%|███▍      | 346/1000 [02:46<04:54,  2.22it/s]"
     ]
    },
    {
     "name": "stdout",
     "output_type": "stream",
     "text": [
      "person1 = ['E', 'C']\n",
      "person2 = ['H', 'H']\n",
      "person3 = ['Y', 'E']\n",
      "person4 = ['A', 'T']\n",
      "person5 = ['T', 'H']\n",
      "Found words: ['TEETH', 'CATHY', 'YACHT', 'CHEAT', 'THECA', 'TEACH', 'TACHE']\n"
     ]
    },
    {
     "name": "stderr",
     "output_type": "stream",
     "text": [
      " 35%|███▍      | 348/1000 [02:47<04:51,  2.24it/s]"
     ]
    },
    {
     "name": "stdout",
     "output_type": "stream",
     "text": [
      "person1 = ['T', 'Q']\n",
      "person2 = ['K', 'U']\n",
      "person3 = ['S', 'L']\n",
      "person4 = ['H', 'S']\n",
      "person5 = ['L', 'O']\n",
      "Found words: ['THOUS', 'SHOUT', 'SOUTH', 'SLUTS', 'LUSTS', 'OUSTS', 'LOUTH', 'STULL', 'TOLUS', 'LOTUS', 'LOUTS', 'SOULT']\n"
     ]
    },
    {
     "name": "stderr",
     "output_type": "stream",
     "text": [
      " 35%|███▍      | 349/1000 [02:47<04:52,  2.23it/s]"
     ]
    },
    {
     "name": "stdout",
     "output_type": "stream",
     "text": [
      "person1 = ['E', 'C']\n",
      "person2 = ['H', 'U']\n",
      "person3 = ['S', 'N']\n",
      "person4 = ['T', 'I']\n",
      "person5 = ['R', 'L']\n",
      "Found words: ['RESHT', 'HEIRS', 'HIRES', 'SHERI', 'SHIER', 'SHIRE', 'HENRI', 'RHINE', 'TRUES', 'LUTES', 'ILEUS', 'TUNER', 'URINE', 'INURE', 'CHRIS', 'CRUST', 'CULTS', 'SULCI', 'INCUR', 'RUNIC']\n"
     ]
    },
    {
     "name": "stderr",
     "output_type": "stream",
     "text": [
      " 35%|███▌      | 350/1000 [02:48<04:53,  2.21it/s]"
     ]
    },
    {
     "name": "stdout",
     "output_type": "stream",
     "text": [
      "person1 = ['S', 'E']\n",
      "person2 = ['U', 'H']\n",
      "person3 = ['H', 'S']\n",
      "person4 = ['C', 'I']\n",
      "person5 = ['R', 'Y']\n",
      "Found words: ['CRUSH', 'CUSHY', 'RUCHE', 'SUCRE', 'CURES', 'CURSE', 'CRUSE', 'HEIRS', 'HIRES', 'SHERI', 'SHIER', 'SHIRE']\n"
     ]
    },
    {
     "name": "stderr",
     "output_type": "stream",
     "text": [
      " 35%|███▌      | 351/1000 [02:48<04:49,  2.25it/s]"
     ]
    },
    {
     "name": "stdout",
     "output_type": "stream",
     "text": [
      "person1 = ['S', 'C']\n",
      "person2 = ['H', 'H']\n",
      "person3 = ['I', 'A']\n",
      "person4 = ['H', 'S']\n",
      "person5 = ['T', 'O']\n",
      "Found words: ['SHITS', 'SHOAH', 'STASH', 'HITCH', 'CHITS', 'STICH', 'CHIOS', 'SOCHI', 'HATCH', 'CHATS', 'CHAOS']\n"
     ]
    },
    {
     "name": "stderr",
     "output_type": "stream",
     "text": [
      " 35%|███▌      | 352/1000 [02:48<04:45,  2.27it/s]"
     ]
    },
    {
     "name": "stdout",
     "output_type": "stream",
     "text": [
      "person1 = ['C', 'E']\n",
      "person2 = ['H', 'E']\n",
      "person3 = ['N', 'I']\n",
      "person4 = ['N', 'T']\n",
      "person5 = ['R', 'H']\n",
      "Found words: ['HITCH', 'TENCH', 'CRINE', 'NICER', 'CHINE', 'NICHE', 'TRICE', 'RECTI', 'ETHIC', 'HENRI', 'RHINE', 'THEIR', 'ENTER', 'TREEN', 'ERNIE', 'IRENE', 'HEINE', 'RETIE']\n"
     ]
    },
    {
     "name": "stderr",
     "output_type": "stream",
     "text": [
      " 35%|███▌      | 354/1000 [02:49<04:46,  2.25it/s]"
     ]
    },
    {
     "name": "stdout",
     "output_type": "stream",
     "text": [
      "person1 = ['P', 'T']\n",
      "person2 = ['K', 'E']\n",
      "person3 = ['R', 'S']\n",
      "person4 = ['L', 'H']\n",
      "person5 = ['T', 'N']\n",
      "Found words: ['PERTH', 'PHREN', 'PELTS', 'SLEPT', 'LENTS', 'TETHS']\n"
     ]
    },
    {
     "name": "stderr",
     "output_type": "stream",
     "text": [
      " 36%|███▌      | 355/1000 [02:50<04:46,  2.25it/s]"
     ]
    },
    {
     "name": "stdout",
     "output_type": "stream",
     "text": [
      "person1 = ['P', 'T']\n",
      "person2 = ['E', 'H']\n",
      "person3 = ['A', 'L']\n",
      "person4 = ['A', 'S']\n",
      "person5 = ['R', 'O']\n",
      "Found words: ['PEARS', 'PARES', 'PARSE', 'PRESA', 'PRASE', 'ASPER', 'SPEAR', 'SPARE', 'REAPS', 'RAPES', 'AESOP', 'PEARL', 'PALER', 'PERLS', 'POLES', 'LOPES', 'SLOPE', 'HARPS', 'SHARP', 'OPAHS', 'RALPH', 'REATA', 'TEARS', 'TASER', 'TARES', 'TREAS', 'ASTER', 'STARE', 'RESAT', 'RATES', 'TOEAS', 'SEATO', 'OATES', 'TALER', 'LATER', 'ALTER', 'ALERT', 'ARTEL', 'RATEL', 'TESOL', 'STOLE', 'ARHAT', 'TRASH', 'HARTS', 'RASHT', 'HOSTA', 'ATHOS', 'SHOAT', 'OATHS', 'LOATH', 'HOLST', 'SLOTH']\n"
     ]
    },
    {
     "name": "stderr",
     "output_type": "stream",
     "text": [
      " 36%|███▌      | 357/1000 [02:51<04:43,  2.27it/s]"
     ]
    },
    {
     "name": "stdout",
     "output_type": "stream",
     "text": [
      "person1 = ['T', 'C']\n",
      "person2 = ['H', 'E']\n",
      "person3 = ['N', 'R']\n",
      "person4 = ['A', 'C']\n",
      "person5 = ['I', 'C']\n",
      "Found words: ['NATCH', 'CHANT', 'ARCHT', 'CHART', 'TENIA', 'TAINE', 'TINEA', 'ENACT', 'TERAI', 'ARTIE', 'IRATE', 'TRACE', 'REACT', 'CRATE', 'CATER', 'CARTE', 'CARET', 'TRICE', 'RECTI', 'CHAIN', 'CHINA', 'CHIAN', 'ICAHN', 'CINCH', 'CHARI', 'CHAIR', 'CAINE', 'CERIA', 'ERICA', 'CERIC', 'CIRCE']\n"
     ]
    },
    {
     "name": "stderr",
     "output_type": "stream",
     "text": [
      " 36%|███▌      | 358/1000 [02:51<04:41,  2.28it/s]"
     ]
    },
    {
     "name": "stdout",
     "output_type": "stream",
     "text": [
      "person1 = ['Q', 'C']\n",
      "person2 = ['H', 'E']\n",
      "person3 = ['S', 'T']\n",
      "person4 = ['S', 'A']\n",
      "person5 = ['O', 'I']\n",
      "Found words: ['CHAOS', 'CHITS', 'STICH', 'CHITA', 'AITCH', 'COTES', 'COSET', 'COSTE', 'CITES']\n"
     ]
    },
    {
     "name": "stderr",
     "output_type": "stream",
     "text": [
      " 36%|███▌      | 359/1000 [02:52<04:40,  2.29it/s]"
     ]
    },
    {
     "name": "stdout",
     "output_type": "stream",
     "text": [
      "person1 = ['T', 'Q']\n",
      "person2 = ['K', 'U']\n",
      "person3 = ['A', 'R']\n",
      "person4 = ['E', 'C']\n",
      "person5 = ['I', 'O']\n",
      "Found words: ['KATIE', 'TRIKE', 'TRICK', 'UTICA', 'UTERI', 'ROUTE', 'OUTRE', 'OUTER', 'TURCO', 'COURT', 'QUIRE', 'ROQUE']\n"
     ]
    },
    {
     "name": "stderr",
     "output_type": "stream",
     "text": [
      " 36%|███▌      | 361/1000 [02:52<04:36,  2.31it/s]"
     ]
    },
    {
     "name": "stdout",
     "output_type": "stream",
     "text": [
      "person1 = ['E', 'S']\n",
      "person2 = ['H', 'H']\n",
      "person3 = ['T', 'C']\n",
      "person4 = ['A', 'H']\n",
      "person5 = ['L', 'O']\n",
      "Found words: ['LETHA', 'LATHE', 'TAHOE', 'CHELA', 'LEACH', 'SHALT', 'HALTS', 'LATHS', 'SHOAT', 'HOSTA', 'ATHOS', 'OATHS', 'CLASH', 'CHAOS']\n"
     ]
    },
    {
     "name": "stderr",
     "output_type": "stream",
     "text": [
      " 36%|███▌      | 362/1000 [02:53<04:39,  2.28it/s]"
     ]
    },
    {
     "name": "stdout",
     "output_type": "stream",
     "text": [
      "person1 = ['T', 'E']\n",
      "person2 = ['E', 'H']\n",
      "person3 = ['Y', 'I']\n",
      "person4 = ['I', 'O']\n",
      "person5 = ['C', 'L']\n",
      "Found words: ['ELYOT', 'TOILE', 'ELIOT', 'ITCHY', 'TYCHO', 'HOTLY', 'THIOL', 'LITHO', 'HOYLE', 'HOLEY']\n"
     ]
    },
    {
     "name": "stderr",
     "output_type": "stream",
     "text": [
      " 36%|███▋      | 363/1000 [02:53<04:33,  2.33it/s]"
     ]
    },
    {
     "name": "stdout",
     "output_type": "stream",
     "text": [
      "person1 = ['T', 'E']\n",
      "person2 = ['U', 'K']\n",
      "person3 = ['S', 'L']\n",
      "person4 = ['S', 'H']\n",
      "person5 = ['S', 'O']\n",
      "Found words: ['OUSTS', 'SHUTS', 'THOUS', 'SHOUT', 'SOUTH', 'LUSTS', 'SLUTS', 'TOLUS', 'LOTUS', 'LOUTS', 'SOULT', 'LOUTH', 'SEUSS', 'SOUSE', 'HOUSE', 'SLUES', 'LOUSE', 'SEOUL', 'OUSEL', 'KOSES', 'HOKES', 'KELSO']\n"
     ]
    },
    {
     "name": "stderr",
     "output_type": "stream",
     "text": [
      " 36%|███▋      | 365/1000 [02:54<04:31,  2.34it/s]"
     ]
    },
    {
     "name": "stdout",
     "output_type": "stream",
     "text": [
      "person1 = ['T', 'S']\n",
      "person2 = ['H', 'E']\n",
      "person3 = ['S', 'O']\n",
      "person4 = ['I', 'H']\n",
      "person5 = ['A', 'N']\n",
      "Found words: ['THAIS', 'TISHA', 'SAITH', 'THINS', 'HINTS', 'TINES', 'STEIN', 'STINE', 'INSET', 'NITES', 'HEATS', 'HATES', 'HASTE', 'TAHOE', 'SHIAS', 'SHINS', 'SHAHS', 'SHOAH', 'SINES', 'ASHES', 'EOSIN', 'NOISE', 'HOSEA', 'SHONE', 'HONES']\n"
     ]
    },
    {
     "name": "stderr",
     "output_type": "stream",
     "text": [
      " 37%|███▋      | 366/1000 [02:55<04:33,  2.32it/s]"
     ]
    },
    {
     "name": "stdout",
     "output_type": "stream",
     "text": [
      "person1 = ['T', 'Q']\n",
      "person2 = ['H', 'U']\n",
      "person3 = ['E', 'N']\n",
      "person4 = ['E', 'N']\n",
      "person5 = ['E', 'R']\n",
      "Found words: ['THERE', 'THREE', 'ETHER', 'TUNER', 'QUEER', 'QUEEN', 'QUERN']\n"
     ]
    },
    {
     "name": "stderr",
     "output_type": "stream",
     "text": [
      " 37%|███▋      | 367/1000 [02:55<04:30,  2.34it/s]"
     ]
    },
    {
     "name": "stdout",
     "output_type": "stream",
     "text": [
      "person1 = ['E', 'C']\n",
      "person2 = ['H', 'H']\n",
      "person3 = ['S', 'A']\n",
      "person4 = ['L', 'E']\n",
      "person5 = ['T', 'I']\n",
      "Found words: ['SHEET', 'THESE', 'THEES', 'LETHA', 'LATHE', 'CHEST', 'TECHS', 'LATCH', 'CHEAT', 'THECA', 'TACHE', 'TEACH']\n"
     ]
    },
    {
     "name": "stderr",
     "output_type": "stream",
     "text": [
      " 37%|███▋      | 368/1000 [02:55<04:30,  2.33it/s]"
     ]
    },
    {
     "name": "stdout",
     "output_type": "stream",
     "text": [
      "person1 = ['C', 'S']\n",
      "person2 = ['U', 'H']\n",
      "person3 = ['O', 'S']\n",
      "person4 = ['A', 'S']\n",
      "person5 = ['H', 'I']\n",
      "Found words: ['HOCUS', 'CAIUS', 'CHIAO', 'CHIOS', 'SOCHI', 'USHAS', 'ISSUS', 'SHOAH', 'SHAHS', 'SHIAS']\n"
     ]
    },
    {
     "name": "stderr",
     "output_type": "stream",
     "text": [
      " 37%|███▋      | 369/1000 [02:56<04:30,  2.33it/s]"
     ]
    },
    {
     "name": "stdout",
     "output_type": "stream",
     "text": [
      "person1 = ['S', 'T']\n",
      "person2 = ['H', 'U']\n",
      "person3 = ['O', 'T']\n",
      "person4 = ['H', 'S']\n",
      "person5 = ['H', 'C']\n",
      "Found words: ['HOCUS', 'SHUTS', 'SCUTS', 'TOUCH', 'COUTH', 'THOUS', 'SOUTH', 'SHOUT', 'SCOUT']\n"
     ]
    },
    {
     "name": "stderr",
     "output_type": "stream",
     "text": [
      " 37%|███▋      | 370/1000 [02:56<04:31,  2.32it/s]"
     ]
    },
    {
     "name": "stdout",
     "output_type": "stream",
     "text": [
      "person1 = ['E', 'T']\n",
      "person2 = ['H', 'K']\n",
      "person3 = ['S', 'A']\n",
      "person4 = ['S', 'I']\n",
      "person5 = ['H', 'C']\n",
      "Found words: ['CHESS', 'ACHES', 'CHASE', 'SHEIK', 'HIKES', 'SHAKE', 'HAKES', 'CAKES', 'STICH', 'CHITS', 'CHATS', 'AITCH', 'CHITA', 'TICKS', 'STICK', 'TACKS', 'STACK']\n"
     ]
    },
    {
     "name": "stderr",
     "output_type": "stream",
     "text": [
      " 37%|███▋      | 371/1000 [02:57<04:33,  2.30it/s]"
     ]
    },
    {
     "name": "stdout",
     "output_type": "stream",
     "text": [
      "person1 = ['E', 'S']\n",
      "person2 = ['H', 'K']\n",
      "person3 = ['N', 'T']\n",
      "person4 = ['R', 'L']\n",
      "person5 = ['Y', 'A']\n",
      "Found words: ['HENRY', 'EARTH', 'HERAT', 'HEART', 'HATER', 'HARTE', 'RATHE', 'ETHYL', 'LETHA', 'LATHE', 'KAREN', 'NAKER', 'ANKLE', 'TAKER', 'LATKE', 'HARTS', 'TRASH', 'RASHT', 'SHALT', 'HALTS', 'LATHS', 'SNARK', 'RANKS', 'KLANS', 'STARK', 'KARST', 'KARTS', 'STALK', 'TALKS']\n"
     ]
    },
    {
     "name": "stderr",
     "output_type": "stream",
     "text": [
      " 37%|███▋      | 372/1000 [02:57<04:30,  2.33it/s]"
     ]
    },
    {
     "name": "stdout",
     "output_type": "stream",
     "text": [
      "person1 = ['C', 'E']\n",
      "person2 = ['E', 'H']\n",
      "person3 = ['S', 'O']\n",
      "person4 = ['H', 'R']\n",
      "person5 = ['A', 'I']\n",
      "Found words: ['CHASE', 'ACHES', 'CESAR', 'CARES', 'CARSE', 'SCARE', 'RACES', 'ACRES', 'CRIES', 'RICES', 'OCREA', 'CHARS', 'CRASH', 'CHRIS', 'ROCHA', 'ROACH', 'CHOIR', 'ICHOR', 'ERASE', 'SIREE', 'HEARS', 'HARES', 'SHEAR', 'SHARE', 'RHEAS', 'ASHER', 'HEIRS', 'HIRES', 'SHERI', 'SHIER', 'SHIRE', 'HORAE']\n"
     ]
    },
    {
     "name": "stderr",
     "output_type": "stream",
     "text": [
      " 37%|███▋      | 373/1000 [02:58<04:32,  2.30it/s]"
     ]
    },
    {
     "name": "stdout",
     "output_type": "stream",
     "text": [
      "person1 = ['C', 'C']\n",
      "person2 = ['H', 'E']\n",
      "person3 = ['A', 'T']\n",
      "person4 = ['I', 'Y']\n",
      "person5 = ['A', 'S']\n",
      "Found words: ['CHITA', 'AITCH', 'CHITS', 'STICH', 'CATHY', 'YACHT', 'AECIA', 'CAYES', 'CASEY', 'CITES']\n"
     ]
    },
    {
     "name": "stderr",
     "output_type": "stream",
     "text": [
      " 37%|███▋      | 374/1000 [02:58<04:31,  2.30it/s]"
     ]
    },
    {
     "name": "stdout",
     "output_type": "stream",
     "text": [
      "person1 = ['C', 'Q']\n",
      "person2 = ['H', 'E']\n",
      "person3 = ['C', 'L']\n",
      "person4 = ['O', 'Y']\n",
      "person5 = ['S', 'L']\n",
      "Found words: ['CHOCS', 'COSEC', 'SECCO', 'CYCLE', 'CLOSE', 'COLES', 'SOCLE', 'CELLO']\n"
     ]
    },
    {
     "name": "stderr",
     "output_type": "stream",
     "text": [
      " 38%|███▊      | 375/1000 [02:58<04:28,  2.33it/s]"
     ]
    },
    {
     "name": "stdout",
     "output_type": "stream",
     "text": [
      "person1 = ['C', 'S']\n",
      "person2 = ['E', 'H']\n",
      "person3 = ['H', 'A']\n",
      "person4 = ['S', 'L']\n",
      "person5 = ['N', 'A']\n",
      "Found words: ['CHASE', 'ACHES', 'CHELA', 'LEACH', 'CANES', 'CLEAN', 'LANCE', 'ASHES', 'SELAH', 'SHALE', 'SAHEL', 'HEALS', 'HALES', 'LEASH', 'LEANS', 'LANES', 'SHAHS', 'SHANS', 'SASHA', 'LHASA']\n"
     ]
    },
    {
     "name": "stderr",
     "output_type": "stream",
     "text": [
      " 38%|███▊      | 377/1000 [02:59<04:28,  2.32it/s]"
     ]
    },
    {
     "name": "stdout",
     "output_type": "stream",
     "text": [
      "person1 = ['C', 'Q']\n",
      "person2 = ['H', 'K']\n",
      "person3 = ['I', 'N']\n",
      "person4 = ['R', 'T']\n",
      "person5 = ['A', 'S']\n",
      "Found words: ['CHAIR', 'CHARI', 'CHRIS', 'CHITA', 'AITCH', 'CHITS', 'STICH', 'RANCH', 'CHANT', 'NATCH', 'RICKS', 'TICKS', 'STICK', 'CRANK']\n"
     ]
    },
    {
     "name": "stderr",
     "output_type": "stream",
     "text": [
      " 38%|███▊      | 379/1000 [03:00<04:28,  2.32it/s]"
     ]
    },
    {
     "name": "stdout",
     "output_type": "stream",
     "text": [
      "person1 = ['Q', 'S']\n",
      "person2 = ['U', 'H']\n",
      "person3 = ['E', 'S']\n",
      "person4 = ['H', 'R']\n",
      "person5 = ['A', 'L']\n",
      "Found words: ['QUASH', 'RULES', 'LURES', 'USHAS', 'SLUSH', 'SURAS', 'ASSUR', 'SLURS', 'SHEAR', 'SHARE', 'HEARS', 'HARES', 'RHEAS', 'ASHER', 'SHAHS']\n"
     ]
    },
    {
     "name": "stderr",
     "output_type": "stream",
     "text": [
      " 38%|███▊      | 381/1000 [03:01<04:31,  2.28it/s]"
     ]
    },
    {
     "name": "stdout",
     "output_type": "stream",
     "text": [
      "person1 = ['S', 'C']\n",
      "person2 = ['H', 'H']\n",
      "person3 = ['E', 'N']\n",
      "person4 = ['T', 'I']\n",
      "person5 = ['Y', 'A']\n",
      "Found words: ['HEATS', 'HASTE', 'HATES', 'SYNTH', 'SNATH', 'SHINY', 'TECHY', 'TYCHE', 'CHEAT', 'THECA', 'TEACH', 'TACHE', 'CHANT', 'NATCH', 'CHINA', 'CHIAN', 'CHAIN', 'ICAHN']\n"
     ]
    },
    {
     "name": "stderr",
     "output_type": "stream",
     "text": [
      " 38%|███▊      | 382/1000 [03:01<04:27,  2.31it/s]"
     ]
    },
    {
     "name": "stdout",
     "output_type": "stream",
     "text": [
      "person1 = ['C', 'E']\n",
      "person2 = ['U', 'E']\n",
      "person3 = ['I', 'H']\n",
      "person4 = ['S', 'E']\n",
      "person5 = ['R', 'T']\n",
      "Found words: ['CUTIS', 'ICTUS', 'CURIE', 'CUTIE', 'CRUSH', 'RUCHE', 'CHUTE', 'CRIES', 'RICES', 'CITES', 'CHEST', 'TECHS', 'CHEER', 'ETUIS', 'SUITE', 'USHER', 'SHUTE', 'SIREE', 'EERIE', 'HERES', 'SHEER', 'SHEET', 'THEES', 'THESE']\n"
     ]
    },
    {
     "name": "stderr",
     "output_type": "stream",
     "text": [
      " 38%|███▊      | 383/1000 [03:02<04:28,  2.30it/s]"
     ]
    },
    {
     "name": "stdout",
     "output_type": "stream",
     "text": [
      "person1 = ['S', 'T']\n",
      "person2 = ['E', 'K']\n",
      "person3 = ['O', 'L']\n",
      "person4 = ['E', 'S']\n",
      "person5 = ['A', 'Y']\n",
      "Found words: ['OASES', 'EASEL', 'LEASE', 'SEALS', 'SALES', 'LASES', 'LYSES', 'YOKES', 'SOAKS', 'SLAKE', 'LEAKS', 'LAKES', 'KYLES', 'TOEAS', 'OATES', 'SEATO', 'ELATE', 'LEYTE', 'TESLA', 'TEALS', 'TALES', 'LEAST', 'STELA', 'STEAL', 'STAEL', 'STALE', 'SLATE', 'STYLE', 'LATKE', 'TALKS', 'STALK']\n"
     ]
    },
    {
     "name": "stderr",
     "output_type": "stream",
     "text": [
      " 38%|███▊      | 384/1000 [03:02<04:28,  2.29it/s]"
     ]
    },
    {
     "name": "stdout",
     "output_type": "stream",
     "text": [
      "person1 = ['T', 'P']\n",
      "person2 = ['H', 'H']\n",
      "person3 = ['L', 'R']\n",
      "person4 = ['S', 'Y']\n",
      "person5 = ['A', 'R']\n",
      "Found words: ['HALTS', 'LATHS', 'SHALT', 'LATHY', 'TRASH', 'HARTS', 'RASHT', 'PLASH', 'PHYLA', 'HAPLY', 'HARPS', 'SHARP', 'HARPY']\n"
     ]
    },
    {
     "name": "stderr",
     "output_type": "stream",
     "text": [
      " 39%|███▊      | 387/1000 [03:04<04:22,  2.33it/s]"
     ]
    },
    {
     "name": "stdout",
     "output_type": "stream",
     "text": [
      "person1 = ['E', 'C']\n",
      "person2 = ['K', 'H']\n",
      "person3 = ['H', 'T']\n",
      "person4 = ['N', 'T']\n",
      "person5 = ['E', 'I']\n",
      "Found words: ['KEITH', 'KIETH', 'KENTE', 'THINE', 'TEETH', 'TITHE', 'CHINK', 'KETCH', 'THICK', 'HENCH', 'HITCH', 'TENCH', 'TITCH']\n"
     ]
    },
    {
     "name": "stderr",
     "output_type": "stream",
     "text": [
      " 39%|███▉      | 390/1000 [03:05<04:18,  2.36it/s]"
     ]
    },
    {
     "name": "stdout",
     "output_type": "stream",
     "text": [
      "person1 = ['T', 'C']\n",
      "person2 = ['K', 'E']\n",
      "person3 = ['E', 'O']\n",
      "person4 = ['S', 'R']\n",
      "person5 = ['E', 'Y']\n",
      "Found words: ['SKEET', 'TYKES', 'TOKES', 'STOKE', 'TYREE', 'CREEK', 'COKES', 'OCKER', 'CORKY', 'ROCKY', 'SYCEE', 'COREY', 'COYER', 'ROYCE']\n"
     ]
    },
    {
     "name": "stderr",
     "output_type": "stream",
     "text": [
      " 39%|███▉      | 391/1000 [03:05<04:16,  2.38it/s]"
     ]
    },
    {
     "name": "stdout",
     "output_type": "stream",
     "text": [
      "person1 = ['E', 'C']\n",
      "person2 = ['U', 'H']\n",
      "person3 = ['H', 'I']\n",
      "person4 = ['T', 'E']\n",
      "person5 = ['N', 'I']\n",
      "Found words: ['THIEU', 'UNITE', 'UNTIE', 'THINE', 'HEINE', 'CUTIN', 'TUNIC', 'HITCH', 'HENCH', 'CHINE', 'NICHE']\n"
     ]
    },
    {
     "name": "stderr",
     "output_type": "stream",
     "text": [
      " 39%|███▉      | 393/1000 [03:06<04:18,  2.35it/s]"
     ]
    },
    {
     "name": "stdout",
     "output_type": "stream",
     "text": [
      "person1 = ['S', 'P']\n",
      "person2 = ['U', 'K']\n",
      "person3 = ['I', 'H']\n",
      "person4 = ['E', 'T']\n",
      "person5 = ['T', 'H']\n",
      "Found words: ['SUITE', 'ETUIS', 'TUTSI', 'TITUS', 'SHUTE', 'SKITE', 'KITES', 'SHEIK', 'HIKES', 'HUPEH']\n"
     ]
    },
    {
     "name": "stderr",
     "output_type": "stream",
     "text": [
      " 39%|███▉      | 394/1000 [03:07<04:18,  2.34it/s]"
     ]
    },
    {
     "name": "stdout",
     "output_type": "stream",
     "text": [
      "person1 = ['T', 'Q']\n",
      "person2 = ['H', 'E']\n",
      "person3 = ['R', 'Y']\n",
      "person4 = ['R', 'E']\n",
      "person5 = ['L', 'H']\n",
      "Found words: ['ETHYL', 'THERE', 'THREE', 'ETHER', 'TYLER', 'LEYTE']\n"
     ]
    },
    {
     "name": "stderr",
     "output_type": "stream",
     "text": [
      " 40%|███▉      | 395/1000 [03:07<04:18,  2.34it/s]"
     ]
    },
    {
     "name": "stdout",
     "output_type": "stream",
     "text": [
      "person1 = ['C', 'E']\n",
      "person2 = ['E', 'H']\n",
      "person3 = ['O', 'T']\n",
      "person4 = ['Y', 'S']\n",
      "person5 = ['S', 'A']\n",
      "Found words: ['SECTS', 'CESTA', 'CASTE', 'CHAOS', 'CATHY', 'YACHT', 'CHATS', 'ESTES', 'TEASE', 'SETAE', 'HOSES', 'SHOES', 'HOSEA', 'THESS', 'HEATS', 'HATES', 'HASTE']\n"
     ]
    },
    {
     "name": "stderr",
     "output_type": "stream",
     "text": [
      " 40%|███▉      | 396/1000 [03:07<04:18,  2.34it/s]"
     ]
    },
    {
     "name": "stdout",
     "output_type": "stream",
     "text": [
      "person1 = ['S', 'C']\n",
      "person2 = ['U', 'H']\n",
      "person3 = ['L', 'E']\n",
      "person4 = ['T', 'C']\n",
      "person5 = ['R', 'H']\n",
      "Found words: ['CURLS', 'TRUES', 'SHUTE', 'SUCRE', 'CURSE', 'CURES', 'CRUSE', 'RESHT', 'HETHS', 'CULCH', 'CUTER', 'CURET', 'CRUET', 'ERUCT', 'TRUCE', 'RECUT', 'CHUTE', 'CHERT', 'RETCH']\n"
     ]
    },
    {
     "name": "stderr",
     "output_type": "stream",
     "text": [
      " 40%|███▉      | 397/1000 [03:08<04:18,  2.34it/s]"
     ]
    },
    {
     "name": "stdout",
     "output_type": "stream",
     "text": [
      "person1 = ['T', 'Q']\n",
      "person2 = ['E', 'H']\n",
      "person3 = ['N', 'S']\n",
      "person4 = ['C', 'S']\n",
      "person5 = ['A', 'E']\n",
      "Found words: ['ENACT', 'ETNAS', 'NATES', 'STANE', 'ANTES', 'TENSE', 'TEENS', 'STEEN', 'SENTE', 'CESTA', 'CASTE', 'TESSA', 'TASSE', 'EASTS', 'SEATS', 'SATES', 'ASSET', 'ESTES', 'NATCH', 'CHANT', 'TENCH', 'SNATH', 'CHATS', 'TECHS', 'CHEST', 'STASH', 'THESS']\n"
     ]
    },
    {
     "name": "stderr",
     "output_type": "stream",
     "text": [
      " 40%|███▉      | 399/1000 [03:09<04:16,  2.34it/s]"
     ]
    },
    {
     "name": "stdout",
     "output_type": "stream",
     "text": [
      "person1 = ['P', 'C']\n",
      "person2 = ['H', 'U']\n",
      "person3 = ['O', 'I']\n",
      "person4 = ['S', 'T']\n",
      "person5 = ['A', 'O']\n",
      "Found words: ['OPAHS', 'POOHS', 'HOOPS', 'PHOTO', 'SPAHI', 'SAIPH', 'APHIS', 'APISH', 'HOPIS', 'PIOUS', 'CHAOS', 'COHOS', 'CHIOS', 'SOCHI', 'CHITA', 'AITCH', 'CAIUS', 'UTICA']\n"
     ]
    },
    {
     "name": "stderr",
     "output_type": "stream",
     "text": [
      " 40%|████      | 400/1000 [03:09<04:17,  2.33it/s]"
     ]
    },
    {
     "name": "stdout",
     "output_type": "stream",
     "text": [
      "person1 = ['Q', 'S']\n",
      "person2 = ['U', 'H']\n",
      "person3 = ['L', 'R']\n",
      "person4 = ['L', 'Y']\n",
      "person5 = ['T', 'C']\n",
      "Found words: ['STULL', 'SCULL', 'CULLS', 'LUSTY', 'CURLS', 'RUSTY', 'YURTS', 'CYRUS']\n"
     ]
    },
    {
     "name": "stderr",
     "output_type": "stream",
     "text": [
      " 40%|████      | 401/1000 [03:10<04:17,  2.32it/s]"
     ]
    },
    {
     "name": "stdout",
     "output_type": "stream",
     "text": [
      "person1 = ['T', 'C']\n",
      "person2 = ['H', 'H']\n",
      "person3 = ['L', 'O']\n",
      "person4 = ['S', 'C']\n",
      "person5 = ['Y', 'I']\n",
      "Found words: ['HILTS', 'HOIST', 'TYCHO', 'CHIOS', 'SOCHI', 'CHICO']\n"
     ]
    },
    {
     "name": "stderr",
     "output_type": "stream",
     "text": [
      " 40%|████      | 402/1000 [03:10<04:16,  2.33it/s]"
     ]
    },
    {
     "name": "stdout",
     "output_type": "stream",
     "text": [
      "person1 = ['C', 'E']\n",
      "person2 = ['H', 'U']\n",
      "person3 = ['I', 'S']\n",
      "person4 = ['N', 'H']\n",
      "person5 = ['Y', 'S']\n",
      "Found words: ['CHINS', 'INCUS', 'CUSHY', 'HINES', 'SHINE']\n"
     ]
    },
    {
     "name": "stderr",
     "output_type": "stream",
     "text": [
      " 40%|████      | 405/1000 [03:11<04:15,  2.33it/s]"
     ]
    },
    {
     "name": "stdout",
     "output_type": "stream",
     "text": [
      "person1 = ['C', 'S']\n",
      "person2 = ['U', 'E']\n",
      "person3 = ['T', 'C']\n",
      "person4 = ['N', 'T']\n",
      "person5 = ['N', 'C']\n",
      "Found words: ['CUNTS', 'STUNT', 'SCENT', 'CENTS', 'STENT', 'TENTS']\n"
     ]
    },
    {
     "name": "stderr",
     "output_type": "stream",
     "text": [
      " 41%|████      | 406/1000 [03:12<04:13,  2.34it/s]"
     ]
    },
    {
     "name": "stdout",
     "output_type": "stream",
     "text": [
      "person1 = ['T', 'C']\n",
      "person2 = ['H', 'H']\n",
      "person3 = ['C', 'R']\n",
      "person4 = ['H', 'A']\n",
      "person5 = ['T', 'S']\n",
      "Found words: ['CHATS', 'TRASH', 'HARTS', 'RASHT', 'CATCH', 'CHART', 'ARCHT', 'CHARS', 'CRASH']\n"
     ]
    },
    {
     "name": "stderr",
     "output_type": "stream",
     "text": [
      " 41%|████      | 409/1000 [03:13<04:14,  2.32it/s]"
     ]
    },
    {
     "name": "stdout",
     "output_type": "stream",
     "text": [
      "person1 = ['S', 'C']\n",
      "person2 = ['U', 'H']\n",
      "person3 = ['R', 'L']\n",
      "person4 = ['I', 'E']\n",
      "person5 = ['T', 'I']\n",
      "Found words: ['SRUTI', 'TRUES', 'LUTES', 'ILEUS', 'SHIRT', 'RISHI', 'IRISH', 'RESHT', 'SHERI', 'SHIRE', 'SHIER', 'HEIRS', 'HIRES', 'HILTS', 'CURET', 'CUTER', 'CRUET', 'RECUT', 'ERUCT', 'TRUCE', 'CURIE', 'CULET', 'CHERT', 'RETCH', 'CHERI', 'REICH', 'ERICH', 'CHILI', 'CHILE']\n"
     ]
    },
    {
     "name": "stderr",
     "output_type": "stream",
     "text": [
      " 41%|████      | 410/1000 [03:13<04:11,  2.34it/s]"
     ]
    },
    {
     "name": "stdout",
     "output_type": "stream",
     "text": [
      "person1 = ['C', 'E']\n",
      "person2 = ['H', 'K']\n",
      "person3 = ['O', 'H']\n",
      "person4 = ['I', 'A']\n",
      "person5 = ['O', 'E']\n",
      "Found words: ['OCHOA', 'ACHOO', 'KOCHI', 'HOICK', 'CHEKA', 'HACEK']\n"
     ]
    },
    {
     "name": "stderr",
     "output_type": "stream",
     "text": [
      " 41%|████      | 412/1000 [03:14<04:13,  2.32it/s]"
     ]
    },
    {
     "name": "stdout",
     "output_type": "stream",
     "text": [
      "person1 = ['T', 'S']\n",
      "person2 = ['E', 'K']\n",
      "person3 = ['N', 'E']\n",
      "person4 = ['I', 'S']\n",
      "person5 = ['R', 'O']\n",
      "Found words: ['TERNI', 'TRINE', 'NITER', 'INTER', 'INERT', 'TERNS', 'ERNST', 'STERN', 'RENTS', 'TONES', 'NOTES', 'STENO', 'STONE', 'SETON', 'ONSET', 'RETIE', 'TERSE', 'TREES', 'ESTER', 'STEER', 'STERE', 'REEST', 'RESET', 'KNOTS', 'TRIKE', 'TREKS', 'TOKES', 'STOKE', 'SERIN', 'SIREN', 'RESIN', 'REINS', 'RISEN', 'RINSE', 'EOSIN', 'NOISE', 'SONES', 'NOSES', 'SIREE', 'SEERS', 'RINKS', 'KINOS', 'OINKS', 'SKIER', 'SEIKO', 'KOSES']\n"
     ]
    },
    {
     "name": "stderr",
     "output_type": "stream",
     "text": [
      " 41%|████▏     | 413/1000 [03:15<04:14,  2.30it/s]"
     ]
    },
    {
     "name": "stdout",
     "output_type": "stream",
     "text": [
      "person1 = ['Q', 'C']\n",
      "person2 = ['E', 'U']\n",
      "person3 = ['T', 'C']\n",
      "person4 = ['I', 'L']\n",
      "person5 = ['Y', 'O']\n",
      "Found words: ['QUITO', 'QUOIT', 'COLET', 'CYCLE', 'CLOUT']\n"
     ]
    },
    {
     "name": "stderr",
     "output_type": "stream",
     "text": [
      " 41%|████▏     | 414/1000 [03:15<04:10,  2.34it/s]"
     ]
    },
    {
     "name": "stdout",
     "output_type": "stream",
     "text": [
      "person1 = ['E', 'T']\n",
      "person2 = ['H', 'K']\n",
      "person3 = ['O', 'I']\n",
      "person4 = ['L', 'R']\n",
      "person5 = ['L', 'A']\n",
      "Found words: ['HELLO', 'HAOLE', 'HORAE', 'KOREA', 'KELLI', 'ALIKE', 'RILKE', 'LIKER', 'ERIKA', 'LOATH', 'TORAH', 'HORTA', 'THILL', 'LATHI', 'KRAIT']\n"
     ]
    },
    {
     "name": "stderr",
     "output_type": "stream",
     "text": [
      " 42%|████▏     | 416/1000 [03:16<04:09,  2.34it/s]"
     ]
    },
    {
     "name": "stdout",
     "output_type": "stream",
     "text": [
      "person1 = ['P', 'C']\n",
      "person2 = ['H', 'H']\n",
      "person3 = ['I', 'O']\n",
      "person4 = ['C', 'N']\n",
      "person5 = ['S', 'A']\n",
      "Found words: ['CHIPS', 'CHOPS', 'POACH', 'PHONS', 'CHINS', 'CHINA', 'CHIAN', 'CHAIN', 'ICAHN', 'CHOCS', 'CHACO', 'COACH', 'COHAN', 'NACHO']\n"
     ]
    },
    {
     "name": "stderr",
     "output_type": "stream",
     "text": [
      " 42%|████▏     | 417/1000 [03:16<04:08,  2.35it/s]"
     ]
    },
    {
     "name": "stdout",
     "output_type": "stream",
     "text": [
      "person1 = ['P', 'S']\n",
      "person2 = ['U', 'H']\n",
      "person3 = ['T', 'S']\n",
      "person4 = ['N', 'E']\n",
      "person5 = ['C', 'H']\n",
      "Found words: ['CUNTS', 'SHUNT', 'HUNTS', 'SCUTE', 'CETUS', 'SHUTE', 'SHUNS', 'TECHS', 'CHEST', 'HETHS', 'CHESS']\n"
     ]
    },
    {
     "name": "stderr",
     "output_type": "stream",
     "text": [
      " 42%|████▏     | 418/1000 [03:17<04:07,  2.35it/s]"
     ]
    },
    {
     "name": "stdout",
     "output_type": "stream",
     "text": [
      "person1 = ['C', 'Q']\n",
      "person2 = ['H', 'K']\n",
      "person3 = ['A', 'L']\n",
      "person4 = ['S', 'L']\n",
      "person5 = ['A', 'N']\n",
      "Found words: ['CLASH', 'SNACK', 'ALACK', 'CLANK', 'CALKS', 'LACKS', 'SLACK']\n"
     ]
    },
    {
     "name": "stderr",
     "output_type": "stream",
     "text": [
      " 42%|████▏     | 419/1000 [03:17<04:07,  2.34it/s]"
     ]
    },
    {
     "name": "stdout",
     "output_type": "stream",
     "text": [
      "person1 = ['C', 'T']\n",
      "person2 = ['E', 'U']\n",
      "person3 = ['O', 'H']\n",
      "person4 = ['A', 'N']\n",
      "person5 = ['R', 'I']\n",
      "Found words: ['OCREA', 'CREON', 'CRONE', 'RECON', 'CHARE', 'REACH', 'CHINE', 'NICHE', 'CORNU', 'CHURN', 'ERATO', 'ORATE', 'TENOR', 'TONER', 'EARTH', 'HEART', 'HERAT', 'HATER', 'HARTE', 'RATHE', 'THINE']\n"
     ]
    },
    {
     "name": "stderr",
     "output_type": "stream",
     "text": [
      " 42%|████▏     | 420/1000 [03:18<04:09,  2.32it/s]"
     ]
    },
    {
     "name": "stdout",
     "output_type": "stream",
     "text": [
      "person1 = ['C', 'S']\n",
      "person2 = ['H', 'E']\n",
      "person3 = ['T', 'H']\n",
      "person4 = ['A', 'L']\n",
      "person5 = ['L', 'T']\n",
      "Found words: ['LATCH', 'HATCH', 'CLEAT', 'ECLAT', 'TACET', 'CHELA', 'LEACH', 'CHEAT', 'TEACH', 'THECA', 'TACHE', 'SHALT', 'HALTS', 'LATHS', 'STEAL', 'STELA', 'STAEL', 'STALE', 'SLATE', 'TESLA', 'TEALS', 'TALES', 'LEAST', 'STATE', 'TESTA', 'TEATS', 'TASTE', 'TELLS', 'SELAH', 'SHALE', 'SAHEL', 'HEALS', 'HALES', 'LEASH', 'HEATS', 'HASTE', 'HATES', 'SHELL', 'HELLS']\n"
     ]
    },
    {
     "name": "stderr",
     "output_type": "stream",
     "text": [
      " 42%|████▏     | 421/1000 [03:18<04:09,  2.32it/s]"
     ]
    },
    {
     "name": "stdout",
     "output_type": "stream",
     "text": [
      "person1 = ['S', 'P']\n",
      "person2 = ['K', 'H']\n",
      "person3 = ['O', 'R']\n",
      "person4 = ['E', 'S']\n",
      "person5 = ['E', 'Y']\n",
      "Found words: ['YOKES', 'KOSES', 'REEKS', 'ESKER', 'SHOES', 'HOSES', 'SHEER', 'HERES', 'SHYER', 'PEKOE', 'POKEY', 'POKES', 'SPOKE', 'PERKY', 'PERKS', 'HOPES', 'HYPOS', 'SOPHY', 'HYPER']\n"
     ]
    },
    {
     "name": "stderr",
     "output_type": "stream",
     "text": [
      " 42%|████▏     | 423/1000 [03:19<04:08,  2.33it/s]"
     ]
    },
    {
     "name": "stdout",
     "output_type": "stream",
     "text": [
      "person1 = ['C', 'P']\n",
      "person2 = ['E', 'H']\n",
      "person3 = ['E', 'H']\n",
      "person4 = ['N', 'L']\n",
      "person5 = ['O', 'S']\n",
      "Found words: ['CENSE', 'SCENE', 'COHEN', 'ENOCH', 'CHLOE', 'PEENS', 'ELOPE', 'PEELS', 'SLEEP', 'PHEON', 'PHONE', 'HELPS']\n"
     ]
    },
    {
     "name": "stderr",
     "output_type": "stream",
     "text": [
      " 42%|████▎     | 425/1000 [03:20<04:06,  2.33it/s]"
     ]
    },
    {
     "name": "stdout",
     "output_type": "stream",
     "text": [
      "person1 = ['P', 'E']\n",
      "person2 = ['H', 'H']\n",
      "person3 = ['O', 'N']\n",
      "person4 = ['I', 'S']\n",
      "person5 = ['O', 'T']\n",
      "Found words: ['POOHS', 'HOOPS', 'PHOTS', 'PHONS', 'ETHOS', 'SHOTE', 'THOSE', 'THINE', 'HONES', 'SHONE']\n"
     ]
    },
    {
     "name": "stderr",
     "output_type": "stream",
     "text": [
      " 43%|████▎     | 426/1000 [03:20<04:04,  2.34it/s]"
     ]
    },
    {
     "name": "stdout",
     "output_type": "stream",
     "text": [
      "person1 = ['T', 'P']\n",
      "person2 = ['E', 'U']\n",
      "person3 = ['S', 'H']\n",
      "person4 = ['E', 'H']\n",
      "person5 = ['H', 'E']\n",
      "Found words: ['THESE', 'THEES', 'SHEET', 'HETHS', 'SHUTE', 'SHEEP', 'EPEES', 'HUPEH']\n"
     ]
    },
    {
     "name": "stderr",
     "output_type": "stream",
     "text": [
      " 43%|████▎     | 427/1000 [03:21<04:05,  2.33it/s]"
     ]
    },
    {
     "name": "stdout",
     "output_type": "stream",
     "text": [
      "person1 = ['C', 'T']\n",
      "person2 = ['H', 'E']\n",
      "person3 = ['T', 'Y']\n",
      "person4 = ['L', 'C']\n",
      "person5 = ['O', 'E']\n",
      "Found words: ['CLOTH', 'CHYLE', 'COLET', 'ELECT', 'COLEY', 'HOTLY', 'ETHYL', 'TYCHO', 'TYCHE', 'TECHY', 'OCTET', 'ELYOT', 'LEYTE']\n"
     ]
    },
    {
     "name": "stderr",
     "output_type": "stream",
     "text": [
      " 43%|████▎     | 431/1000 [03:22<04:01,  2.35it/s]"
     ]
    },
    {
     "name": "stdout",
     "output_type": "stream",
     "text": [
      "person1 = ['P', 'C']\n",
      "person2 = ['H', 'K']\n",
      "person3 = ['O', 'C']\n",
      "person4 = ['Y', 'I']\n",
      "person5 = ['N', 'E']\n",
      "Found words: ['PHONY', 'PINCH', 'POKEY', 'PINKO', 'CHINO', 'CINCH']\n"
     ]
    },
    {
     "name": "stderr",
     "output_type": "stream",
     "text": [
      " 43%|████▎     | 432/1000 [03:23<03:59,  2.38it/s]"
     ]
    },
    {
     "name": "stdout",
     "output_type": "stream",
     "text": [
      "person1 = ['C', 'P']\n",
      "person2 = ['E', 'H']\n",
      "person3 = ['T', 'O']\n",
      "person4 = ['T', 'N']\n",
      "person5 = ['L', 'S']\n",
      "Found words: ['CENTS', 'SCENT', 'COLET', 'COTES', 'COSET', 'COSTE', 'CLEON', 'CLONE', 'CONES', 'SCONE', 'CLOTH', 'SPENT', 'PESTO', 'POETS', 'ESTOP', 'TOPES', 'STOPE', 'PEONS', 'PONES', 'POSEN', 'EPSON', 'OPENS', 'NEPOS', 'PHOTS', 'PHONS']\n"
     ]
    },
    {
     "name": "stderr",
     "output_type": "stream",
     "text": [
      " 43%|████▎     | 433/1000 [03:23<03:59,  2.36it/s]"
     ]
    },
    {
     "name": "stdout",
     "output_type": "stream",
     "text": [
      "person1 = ['C', 'T']\n",
      "person2 = ['H', 'H']\n",
      "person3 = ['N', 'O']\n",
      "person4 = ['S', 'O']\n",
      "person5 = ['O', 'S']\n",
      "Found words: ['COHOS', 'HOOTS', 'SHOOT', 'SOOTH', 'HOSTS', 'SHOTS']\n"
     ]
    },
    {
     "name": "stderr",
     "output_type": "stream",
     "text": [
      " 43%|████▎     | 434/1000 [03:24<04:06,  2.30it/s]"
     ]
    },
    {
     "name": "stdout",
     "output_type": "stream",
     "text": [
      "person1 = ['Q', 'E']\n",
      "person2 = ['E', 'K']\n",
      "person3 = ['C', 'I']\n",
      "person4 = ['T', 'N']\n",
      "person5 = ['E', 'R']\n",
      "Found words: ['ERECT', 'CRETE', 'TERCE', 'RETIE', 'ERNIE', 'IRENE', 'TRIKE']\n"
     ]
    },
    {
     "name": "stderr",
     "output_type": "stream",
     "text": [
      " 44%|████▎     | 435/1000 [03:24<04:05,  2.30it/s]"
     ]
    },
    {
     "name": "stdout",
     "output_type": "stream",
     "text": [
      "person1 = ['S', 'E']\n",
      "person2 = ['U', 'H']\n",
      "person3 = ['E', 'L']\n",
      "person4 = ['C', 'R']\n",
      "person5 = ['N', 'H']\n",
      "Found words: ['RUNES', 'NURSE', 'USHER', 'HURLS', 'ENURE', 'UNCLE', 'HENCE', 'HERNE']\n"
     ]
    },
    {
     "name": "stderr",
     "output_type": "stream",
     "text": [
      " 44%|████▎     | 437/1000 [03:25<04:01,  2.33it/s]"
     ]
    },
    {
     "name": "stdout",
     "output_type": "stream",
     "text": [
      "person1 = ['P', 'T']\n",
      "person2 = ['U', 'H']\n",
      "person3 = ['O', 'Y']\n",
      "person4 = ['O', 'H']\n",
      "person5 = ['O', 'T']\n",
      "Found words: ['POUTY', 'PHOTO', 'YOUTH', 'TOOTH', 'THOTH']\n"
     ]
    },
    {
     "name": "stderr",
     "output_type": "stream",
     "text": [
      " 44%|████▍     | 438/1000 [03:25<04:00,  2.34it/s]"
     ]
    },
    {
     "name": "stdout",
     "output_type": "stream",
     "text": [
      "person1 = ['E', 'S']\n",
      "person2 = ['K', 'E']\n",
      "person3 = ['N', 'L']\n",
      "person4 = ['R', 'I']\n",
      "person5 = ['O', 'L']\n",
      "Found words: ['KRONE', 'EIKON', 'KOINE', 'KLEIN', 'KLINE', 'INKLE', 'LIKEN', 'KELLI', 'ILENE', 'ELLIE', 'KINOS', 'OINKS', 'SLINK', 'KILNS', 'LINKS', 'KILOS', 'SKILL', 'KILLS', 'SENOR', 'SNORE', 'ENSOR', 'NORSE', 'EOSIN', 'NOISE', 'NILES', 'LENIS', 'LIENS', 'LINES', 'LOSER', 'ROLES', 'ELLIS', 'LISLE']\n"
     ]
    },
    {
     "name": "stderr",
     "output_type": "stream",
     "text": [
      " 44%|████▍     | 441/1000 [03:27<03:57,  2.35it/s]"
     ]
    },
    {
     "name": "stdout",
     "output_type": "stream",
     "text": [
      "person1 = ['T', 'P']\n",
      "person2 = ['E', 'K']\n",
      "person3 = ['N', 'A']\n",
      "person4 = ['L', 'Y']\n",
      "person5 = ['H', 'A']\n",
      "Found words: ['TANEY', 'YENTA', 'LETHA', 'LATHE', 'ALATE', 'KALAT', 'KATHY', 'PENAL', 'PLENA', 'PLANE', 'PANEL', 'NEPAL', 'PAYNE', 'ALEPH', 'PLANK', 'KALPA']\n"
     ]
    },
    {
     "name": "stderr",
     "output_type": "stream",
     "text": [
      " 44%|████▍     | 442/1000 [03:27<04:01,  2.31it/s]"
     ]
    },
    {
     "name": "stdout",
     "output_type": "stream",
     "text": [
      "person1 = ['E', 'Q']\n",
      "person2 = ['H', 'H']\n",
      "person3 = ['I', 'C']\n",
      "person4 = ['I', 'R']\n",
      "person5 = ['N', 'A']\n",
      "Found words: ['HENRI', 'RHINE', 'CHINE', 'NICHE', 'CHARE', 'REACH']\n"
     ]
    },
    {
     "name": "stderr",
     "output_type": "stream",
     "text": [
      " 45%|████▍     | 446/1000 [03:29<03:54,  2.36it/s]"
     ]
    },
    {
     "name": "stdout",
     "output_type": "stream",
     "text": [
      "person1 = ['C', 'C']\n",
      "person2 = ['H', 'U']\n",
      "person3 = ['O', 'T']\n",
      "person4 = ['C', 'N']\n",
      "person5 = ['R', 'H']\n",
      "Found words: ['CHRON', 'OCCUR', 'COUCH', 'CORNU', 'CUTCH']\n"
     ]
    },
    {
     "name": "stderr",
     "output_type": "stream",
     "text": [
      " 45%|████▍     | 447/1000 [03:29<03:54,  2.36it/s]"
     ]
    },
    {
     "name": "stdout",
     "output_type": "stream",
     "text": [
      "person1 = ['P', 'T']\n",
      "person2 = ['H', 'H']\n",
      "person3 = ['L', 'O']\n",
      "person4 = ['A', 'E']\n",
      "person5 = ['Y', 'O']\n",
      "Found words: ['PHYLA', 'HAPLY', 'PHYLE', 'LATHY', 'LOATH', 'ETHYL', 'THEOL', 'THOLE', 'HELOT', 'HOTEL']\n"
     ]
    },
    {
     "name": "stderr",
     "output_type": "stream",
     "text": [
      " 45%|████▍     | 448/1000 [03:30<03:57,  2.33it/s]"
     ]
    },
    {
     "name": "stdout",
     "output_type": "stream",
     "text": [
      "person1 = ['Q', 'E']\n",
      "person2 = ['E', 'H']\n",
      "person3 = ['T', 'H']\n",
      "person4 = ['C', 'R']\n",
      "person5 = ['I', 'S']\n",
      "Found words: ['RETIE', 'ESTER', 'TERSE', 'TREES', 'REEST', 'RESET', 'STEER', 'STERE', 'HERES', 'SHEER', 'ETHIC', 'TECHS', 'CHEST', 'THEIR', 'RESHT']\n"
     ]
    },
    {
     "name": "stderr",
     "output_type": "stream",
     "text": [
      " 45%|████▍     | 449/1000 [03:30<04:05,  2.25it/s]"
     ]
    },
    {
     "name": "stdout",
     "output_type": "stream",
     "text": [
      "person1 = ['S', 'T']\n",
      "person2 = ['U', 'K']\n",
      "person3 = ['N', 'T']\n",
      "person4 = ['C', 'A']\n",
      "person5 = ['O', 'E']\n",
      "Found words: ['SCOUT', 'SCUTE', 'CETUS', 'AUTOS', 'SAUTE', 'NOCKS', 'CONKS', 'SNECK', 'NECKS', 'KAONS', 'KOANS', 'SKEAN', 'SNAKE', 'SNEAK', 'STOCK', 'SKATE', 'STAKE', 'STEAK', 'KEATS', 'TAKES', 'TEAKS', 'COUNT', 'OUTTA', 'TAKEN']\n"
     ]
    },
    {
     "name": "stderr",
     "output_type": "stream",
     "text": [
      " 45%|████▌     | 450/1000 [03:31<04:07,  2.22it/s]"
     ]
    },
    {
     "name": "stdout",
     "output_type": "stream",
     "text": [
      "person1 = ['C', 'P']\n",
      "person2 = ['E', 'H']\n",
      "person3 = ['R', 'A']\n",
      "person4 = ['A', 'E']\n",
      "person5 = ['E', 'I']\n",
      "Found words: ['CERIA', 'ERICA', 'AECIA', 'CHARE', 'REACH', 'CHARI', 'CHAIR', 'CHEER', 'CHERI', 'REICH', 'ERICH', 'IEPER']\n"
     ]
    },
    {
     "name": "stderr",
     "output_type": "stream",
     "text": [
      " 45%|████▌     | 453/1000 [03:32<04:12,  2.17it/s]"
     ]
    },
    {
     "name": "stdout",
     "output_type": "stream",
     "text": [
      "person1 = ['P', 'C']\n",
      "person2 = ['H', 'H']\n",
      "person3 = ['E', 'N']\n",
      "person4 = ['O', 'A']\n",
      "person5 = ['T', 'I']\n",
      "Found words: ['CHEAT', 'THECA', 'TEACH', 'TACHE', 'NOTCH', 'CHINO', 'CHANT', 'NATCH', 'CHAIN', 'CHINA', 'CHIAN', 'ICAHN']\n"
     ]
    },
    {
     "name": "stderr",
     "output_type": "stream",
     "text": [
      " 45%|████▌     | 454/1000 [03:33<04:09,  2.19it/s]"
     ]
    },
    {
     "name": "stdout",
     "output_type": "stream",
     "text": [
      "person1 = ['C', 'S']\n",
      "person2 = ['H', 'K']\n",
      "person3 = ['N', 'I']\n",
      "person4 = ['L', 'S']\n",
      "person5 = ['E', 'S']\n",
      "Found words: ['CHILE', 'NECKS', 'SNECK', 'LICKS', 'SLICK', 'SICKS', 'SHIES', 'LIKES', 'SILKS', 'SKIES']\n"
     ]
    },
    {
     "name": "stderr",
     "output_type": "stream",
     "text": [
      " 46%|████▌     | 455/1000 [03:33<04:08,  2.19it/s]"
     ]
    },
    {
     "name": "stdout",
     "output_type": "stream",
     "text": [
      "person1 = ['C', 'C']\n",
      "person2 = ['E', 'H']\n",
      "person3 = ['L', 'T']\n",
      "person4 = ['N', 'S']\n",
      "person5 = ['A', 'I']\n",
      "Found words: ['CLEAN', 'LANCE', 'CLINE', 'LACES', 'SCALE', 'SLICE', 'ENACT', 'CESTA', 'CASTE', 'CITES', 'CLASH', 'CHANT', 'NATCH', 'CHATS', 'CHITS', 'STICH']\n"
     ]
    },
    {
     "name": "stderr",
     "output_type": "stream",
     "text": [
      " 46%|████▌     | 456/1000 [03:33<04:09,  2.18it/s]"
     ]
    },
    {
     "name": "stdout",
     "output_type": "stream",
     "text": [
      "person1 = ['C', 'E']\n",
      "person2 = ['H', 'H']\n",
      "person3 = ['T', 'O']\n",
      "person4 = ['A', 'O']\n",
      "person5 = ['H', 'I']\n",
      "Found words: ['HATCH', 'CHITA', 'AITCH', 'CHIAO', 'HOOCH', 'HEATH']\n"
     ]
    },
    {
     "name": "stderr",
     "output_type": "stream",
     "text": [
      " 46%|████▌     | 459/1000 [03:35<04:04,  2.21it/s]"
     ]
    },
    {
     "name": "stdout",
     "output_type": "stream",
     "text": [
      "person1 = ['P', 'T']\n",
      "person2 = ['U', 'K']\n",
      "person3 = ['L', 'O']\n",
      "person4 = ['I', 'S']\n",
      "person5 = ['E', 'L']\n",
      "Found words: ['PULSE', 'PULES', 'LEPUS', 'PULLS', 'POILU', 'SKELP', 'POKES', 'SPOKE', 'UTILE', 'LIEUT', 'LUTES', 'STULL', 'TOLUS', 'SOULT', 'LOTUS', 'LOUTS', 'TOKES', 'STOKE']\n"
     ]
    },
    {
     "name": "stderr",
     "output_type": "stream",
     "text": [
      " 46%|████▌     | 461/1000 [03:36<04:00,  2.24it/s]"
     ]
    },
    {
     "name": "stdout",
     "output_type": "stream",
     "text": [
      "person1 = ['P', 'T']\n",
      "person2 = ['H', 'E']\n",
      "person3 = ['S', 'E']\n",
      "person4 = ['L', 'C']\n",
      "person5 = ['N', 'O']\n",
      "Found words: ['CHOPS', 'EPOCH', 'POLES', 'SLOPE', 'LOPES', 'PECOS', 'SCOPE', 'COPES', 'COPSE', 'ELOPE', 'PENCE', 'HOLST', 'SLOTH', 'THEOL', 'THOLE', 'HELOT', 'HOTEL', 'TENCH', 'LENTS', 'TESOL', 'STOLE', 'SCENT', 'CENTS', 'COTES', 'COSTE', 'COSET']\n"
     ]
    },
    {
     "name": "stderr",
     "output_type": "stream",
     "text": [
      " 46%|████▌     | 462/1000 [03:36<03:55,  2.28it/s]"
     ]
    },
    {
     "name": "stdout",
     "output_type": "stream",
     "text": [
      "person1 = ['C', 'Q']\n",
      "person2 = ['H', 'E']\n",
      "person3 = ['T', 'N']\n",
      "person4 = ['C', 'R']\n",
      "person5 = ['T', 'I']\n",
      "Found words: ['CINCH', 'TRICE', 'RECTI', 'CRINE', 'NICER']\n"
     ]
    },
    {
     "name": "stderr",
     "output_type": "stream",
     "text": [
      " 46%|████▋     | 463/1000 [03:37<03:58,  2.26it/s]"
     ]
    },
    {
     "name": "stdout",
     "output_type": "stream",
     "text": [
      "person1 = ['C', 'C']\n",
      "person2 = ['E', 'U']\n",
      "person3 = ['L', 'I']\n",
      "person4 = ['S', 'C']\n",
      "person5 = ['S', 'T']\n",
      "Found words: ['CELTS', 'CITES', 'CULTS', 'CUTIS', 'ICTUS']\n"
     ]
    },
    {
     "name": "stderr",
     "output_type": "stream",
     "text": [
      " 46%|████▋     | 464/1000 [03:37<03:54,  2.29it/s]"
     ]
    },
    {
     "name": "stdout",
     "output_type": "stream",
     "text": [
      "person1 = ['C', 'T']\n",
      "person2 = ['H', 'H']\n",
      "person3 = ['N', 'A']\n",
      "person4 = ['N', 'R']\n",
      "person5 = ['C', 'Y']\n",
      "Found words: ['CHARY', 'NATCH', 'CHANT', 'ARCHT', 'CHART']\n"
     ]
    },
    {
     "name": "stderr",
     "output_type": "stream",
     "text": [
      " 46%|████▋     | 465/1000 [03:37<03:54,  2.28it/s]"
     ]
    },
    {
     "name": "stdout",
     "output_type": "stream",
     "text": [
      "person1 = ['C', 'T']\n",
      "person2 = ['U', 'H']\n",
      "person3 = ['H', 'N']\n",
      "person4 = ['E', 'C']\n",
      "person5 = ['L', 'T']\n",
      "Found words: ['CHUTE', 'CULCH', 'CUTCH', 'UNCLE', 'TENCH', 'THULE', 'TENTH']\n"
     ]
    },
    {
     "name": "stderr",
     "output_type": "stream",
     "text": [
      " 47%|████▋     | 466/1000 [03:38<03:50,  2.31it/s]"
     ]
    },
    {
     "name": "stdout",
     "output_type": "stream",
     "text": [
      "person1 = ['P', 'C']\n",
      "person2 = ['E', 'H']\n",
      "person3 = ['R', 'I']\n",
      "person4 = ['O', 'R']\n",
      "person5 = ['O', 'E']\n",
      "Found words: ['PORER', 'REPRO', 'ROPER', 'IEPER', 'EPHOR', 'OPHIR', 'CRORE', 'CORER', 'CHORE', 'ROCHE', 'OCHER', 'CHOIR', 'ICHOR', 'CHERI', 'REICH', 'ERICH']\n"
     ]
    },
    {
     "name": "stderr",
     "output_type": "stream",
     "text": [
      " 47%|████▋     | 467/1000 [03:38<03:48,  2.33it/s]"
     ]
    },
    {
     "name": "stdout",
     "output_type": "stream",
     "text": [
      "person1 = ['E', 'C']\n",
      "person2 = ['H', 'H']\n",
      "person3 = ['L', 'O']\n",
      "person4 = ['T', 'A']\n",
      "person5 = ['C', 'A']\n",
      "Found words: ['LETHA', 'LATHE', 'LEACH', 'CHELA', 'TAHOE', 'LATCH', 'CHACO', 'COACH']\n"
     ]
    },
    {
     "name": "stderr",
     "output_type": "stream",
     "text": [
      " 47%|████▋     | 468/1000 [03:39<03:50,  2.31it/s]"
     ]
    },
    {
     "name": "stdout",
     "output_type": "stream",
     "text": [
      "person1 = ['E', 'T']\n",
      "person2 = ['K', 'H']\n",
      "person3 = ['H', 'S']\n",
      "person4 = ['O', 'I']\n",
      "person5 = ['O', 'Y']\n",
      "Found words: ['HOOKE', 'HOKEY', 'YOKES', 'SEIKO', 'YEISK', 'YIKES', 'KOTOS', 'STOOK', 'HOOTS', 'SHOOT', 'SOOTH', 'HOIST']\n"
     ]
    },
    {
     "name": "stderr",
     "output_type": "stream",
     "text": [
      " 47%|████▋     | 470/1000 [03:40<03:47,  2.33it/s]"
     ]
    },
    {
     "name": "stdout",
     "output_type": "stream",
     "text": [
      "person1 = ['T', 'E']\n",
      "person2 = ['H', 'K']\n",
      "person3 = ['L', 'Y']\n",
      "person4 = ['L', 'N']\n",
      "person5 = ['H', 'I']\n",
      "Found words: ['THILL', 'KELLI', 'KLEIN', 'KLINE', 'LIKEN', 'INKLE']\n"
     ]
    },
    {
     "name": "stderr",
     "output_type": "stream",
     "text": [
      " 47%|████▋     | 471/1000 [03:40<03:45,  2.34it/s]"
     ]
    },
    {
     "name": "stdout",
     "output_type": "stream",
     "text": [
      "person1 = ['T', 'E']\n",
      "person2 = ['E', 'H']\n",
      "person3 = ['O', 'I']\n",
      "person4 = ['E', 'O']\n",
      "person5 = ['R', 'C']\n",
      "Found words: ['RETIE', 'THROE', 'OTHER', 'THEIR', 'ETHIC', 'COOEE', 'EERIE']\n"
     ]
    },
    {
     "name": "stderr",
     "output_type": "stream",
     "text": [
      " 47%|████▋     | 472/1000 [03:40<03:49,  2.30it/s]"
     ]
    },
    {
     "name": "stdout",
     "output_type": "stream",
     "text": [
      "person1 = ['P', 'C']\n",
      "person2 = ['E', 'H']\n",
      "person3 = ['S', 'H']\n",
      "person4 = ['O', 'E']\n",
      "person5 = ['A', 'T']\n",
      "Found words: ['AESOP', 'PESTO', 'POETS', 'ESTOP', 'STOPE', 'TOPES', 'STEEP', 'OPAHS', 'PHOTS', 'PHASE', 'HEAPS', 'SHAPE', 'EPHAH', 'COSET', 'COSTE', 'COTES', 'CEASE', 'CHAOS', 'CHASE', 'ACHES', 'CHEST', 'TECHS']\n"
     ]
    },
    {
     "name": "stderr",
     "output_type": "stream",
     "text": [
      " 47%|████▋     | 473/1000 [03:41<03:48,  2.31it/s]"
     ]
    },
    {
     "name": "stdout",
     "output_type": "stream",
     "text": [
      "person1 = ['S', 'C']\n",
      "person2 = ['H', 'H']\n",
      "person3 = ['A', 'I']\n",
      "person4 = ['S', 'T']\n",
      "person5 = ['Y', 'H']\n",
      "Found words: ['SHAYS', 'SHAHS', 'HASTY', 'CATHY', 'YACHT', 'HATCH', 'ITCHY', 'HITCH']\n"
     ]
    },
    {
     "name": "stderr",
     "output_type": "stream",
     "text": [
      " 48%|████▊     | 475/1000 [03:42<03:44,  2.34it/s]"
     ]
    },
    {
     "name": "stdout",
     "output_type": "stream",
     "text": [
      "person1 = ['S', 'E']\n",
      "person2 = ['H', 'K']\n",
      "person3 = ['N', 'T']\n",
      "person4 = ['R', 'A']\n",
      "person5 = ['H', 'S']\n",
      "Found words: ['SHANS', 'STASH', 'SHANK', 'KHANS', 'ANKHS', 'HANKS', 'TASKS', 'HANSE', 'ASHEN', 'SHANE', 'RESHT', 'HEATH', 'HEATS', 'HATES', 'HASTE', 'SKEAN', 'SNEAK', 'SNAKE', 'TREKS', 'KEATS', 'TEAKS', 'TAKES', 'SKATE', 'STEAK', 'STAKE']\n"
     ]
    },
    {
     "name": "stderr",
     "output_type": "stream",
     "text": [
      " 48%|████▊     | 476/1000 [03:42<03:47,  2.30it/s]"
     ]
    },
    {
     "name": "stdout",
     "output_type": "stream",
     "text": [
      "person1 = ['C', 'C']\n",
      "person2 = ['E', 'U']\n",
      "person3 = ['H', 'T']\n",
      "person4 = ['T', 'Y']\n",
      "person5 = ['H', 'S']\n",
      "Found words: ['CHEST', 'TECHS', 'TECHY', 'TYCHE', 'HUTCH', 'CUSHY']\n"
     ]
    },
    {
     "name": "stderr",
     "output_type": "stream",
     "text": [
      " 48%|████▊     | 478/1000 [03:43<03:50,  2.26it/s]"
     ]
    },
    {
     "name": "stdout",
     "output_type": "stream",
     "text": [
      "person1 = ['P', 'C']\n",
      "person2 = ['H', 'U']\n",
      "person3 = ['S', 'T']\n",
      "person4 = ['I', 'Y']\n",
      "person5 = ['C', 'I']\n",
      "Found words: ['CHIPS', 'PSYCH', 'PITCH', 'PITHY', 'ITCHY']\n"
     ]
    },
    {
     "name": "stderr",
     "output_type": "stream",
     "text": [
      " 48%|████▊     | 479/1000 [03:44<03:52,  2.24it/s]"
     ]
    },
    {
     "name": "stdout",
     "output_type": "stream",
     "text": [
      "person1 = ['Q', 'T']\n",
      "person2 = ['E', 'H']\n",
      "person3 = ['A', 'L']\n",
      "person4 = ['R', 'L']\n",
      "person5 = ['S', 'H']\n",
      "Found words: ['TEARS', 'TARES', 'TASER', 'TREAS', 'ASTER', 'RESAT', 'RATES', 'STARE', 'EARTH', 'RATHE', 'HEART', 'HERAT', 'HATER', 'HARTE', 'TEALS', 'TESLA', 'TALES', 'LEAST', 'STEAL', 'STELA', 'STAEL', 'STALE', 'SLATE', 'LETHA', 'LATHE', 'TELLS', 'TRASH', 'HARTS', 'RASHT', 'HALTS', 'LATHS', 'SHALT']\n"
     ]
    },
    {
     "name": "stderr",
     "output_type": "stream",
     "text": [
      " 48%|████▊     | 480/1000 [03:44<03:48,  2.28it/s]"
     ]
    },
    {
     "name": "stdout",
     "output_type": "stream",
     "text": [
      "person1 = ['Q', 'C']\n",
      "person2 = ['U', 'E']\n",
      "person3 = ['E', 'H']\n",
      "person4 = ['T', 'A']\n",
      "person5 = ['A', 'S']\n",
      "Found words: ['QUEST', 'QUASH', 'CEUTA', 'ACUTE', 'CETUS', 'SCUTE', 'CAUSE', 'SAUCE', 'CEASE', 'CHEAT', 'TEACH', 'THECA', 'TACHE', 'CHEST', 'TECHS', 'CHASE', 'ACHES']\n"
     ]
    },
    {
     "name": "stderr",
     "output_type": "stream",
     "text": [
      " 48%|████▊     | 481/1000 [03:44<03:51,  2.25it/s]"
     ]
    },
    {
     "name": "stdout",
     "output_type": "stream",
     "text": [
      "person1 = ['C', 'T']\n",
      "person2 = ['U', 'E']\n",
      "person3 = ['E', 'I']\n",
      "person4 = ['R', 'C']\n",
      "person5 = ['A', 'E']\n",
      "Found words: ['CURIA', 'AURIC', 'CURIE', 'CERIA', 'ERICA', 'CEUTA', 'ACUTE', 'UTERI', 'UTICA', 'CUTIE', 'EATER', 'ARETE', 'TERAI', 'IRATE', 'ARTIE', 'RETIE']\n"
     ]
    },
    {
     "name": "stderr",
     "output_type": "stream",
     "text": [
      " 48%|████▊     | 484/1000 [03:46<03:46,  2.27it/s]"
     ]
    },
    {
     "name": "stdout",
     "output_type": "stream",
     "text": [
      "person1 = ['E', 'C']\n",
      "person2 = ['H', 'K']\n",
      "person3 = ['Y', 'E']\n",
      "person4 = ['S', 'O']\n",
      "person5 = ['R', 'E']\n",
      "Found words: ['SHYER', 'HERES', 'SHEER', 'ESKER', 'REEKS', 'CHORE', 'OCHER', 'ROCHE', 'CORKY', 'ROCKY', 'OCKER']\n"
     ]
    },
    {
     "name": "stderr",
     "output_type": "stream",
     "text": [
      " 48%|████▊     | 485/1000 [03:46<03:44,  2.29it/s]"
     ]
    },
    {
     "name": "stdout",
     "output_type": "stream",
     "text": [
      "person1 = ['T', 'C']\n",
      "person2 = ['H', 'H']\n",
      "person3 = ['S', 'Y']\n",
      "person4 = ['I', 'E']\n",
      "person5 = ['E', 'R']\n",
      "Found words: ['HEIST', 'SHIRT', 'THESE', 'THEES', 'SHEET', 'RESHT', 'CHRIS']\n"
     ]
    },
    {
     "name": "stderr",
     "output_type": "stream",
     "text": [
      " 49%|████▊     | 486/1000 [03:47<03:44,  2.29it/s]"
     ]
    },
    {
     "name": "stdout",
     "output_type": "stream",
     "text": [
      "person1 = ['C', 'E']\n",
      "person2 = ['H', 'E']\n",
      "person3 = ['R', 'C']\n",
      "person4 = ['Y', 'A']\n",
      "person5 = ['A', 'E']\n",
      "Found words: ['CHARY', 'CHARE', 'REACH', 'CACHE', 'CAREY', 'ARECA']\n"
     ]
    },
    {
     "name": "stderr",
     "output_type": "stream",
     "text": [
      " 49%|████▊     | 487/1000 [03:47<03:41,  2.31it/s]"
     ]
    },
    {
     "name": "stdout",
     "output_type": "stream",
     "text": [
      "person1 = ['E', 'S']\n",
      "person2 = ['U', 'E']\n",
      "person3 = ['R', 'N']\n",
      "person4 = ['I', 'T']\n",
      "person5 = ['R', 'H']\n",
      "Found words: ['TRUER', 'UTHER', 'URINE', 'INURE', 'TUNER', 'ETHER', 'THERE', 'THREE', 'ERNIE', 'IRENE', 'HEINE', 'ENTER', 'TREEN', 'RUTHS', 'THURS', 'HURST', 'HURTS', 'RUINS', 'TURNS', 'RUNTS', 'SHUNT', 'HUNTS', 'RISER', 'SHERI', 'SHIER', 'SHIRE', 'HEIRS', 'HIRES', 'RESHT', 'SERIN', 'SIREN', 'RESIN', 'REINS', 'RISEN', 'RINSE', 'SHINE', 'HINES', 'STERN', 'ERNST', 'TERNS', 'RENTS']\n"
     ]
    },
    {
     "name": "stderr",
     "output_type": "stream",
     "text": [
      " 49%|████▉     | 490/1000 [03:48<03:39,  2.32it/s]"
     ]
    },
    {
     "name": "stdout",
     "output_type": "stream",
     "text": [
      "person1 = ['T', 'S']\n",
      "person2 = ['U', 'E']\n",
      "person3 = ['I', 'A']\n",
      "person4 = ['O', 'S']\n",
      "person5 = ['T', 'N']\n",
      "Found words: ['TUTSI', 'TITUS', 'TUNIS', 'UNITS', 'SUINT', 'OUTTA', 'TUNAS', 'AUNTS', 'TINES', 'INSET', 'STEIN', 'STINE', 'NITES', 'EATON', 'ATONE', 'ANETO', 'OATEN', 'TEATS', 'TESTA', 'TASTE', 'STATE', 'ETNAS', 'ANTES', 'STANE', 'NATES', 'SUITS', 'SITUS', 'SINUS', 'NISUS', 'AUTOS', 'SUSAN', 'EOSIN', 'NOISE', 'SITES', 'STIES', 'SINES', 'SEATO', 'OATES', 'TOEAS', 'SAONE', 'AEONS', 'SEATS', 'SATES', 'EASTS', 'ASSET', 'TESSA', 'TASSE']\n"
     ]
    },
    {
     "name": "stderr",
     "output_type": "stream",
     "text": [
      " 49%|████▉     | 492/1000 [03:49<03:38,  2.33it/s]"
     ]
    },
    {
     "name": "stdout",
     "output_type": "stream",
     "text": [
      "person1 = ['C', 'Q']\n",
      "person2 = ['H', 'U']\n",
      "person3 = ['A', 'R']\n",
      "person4 = ['R', 'C']\n",
      "person5 = ['Y', 'I']\n",
      "Found words: ['CHARY', 'CHARI', 'CHAIR', 'CHIRR', 'CURIA', 'AURIC', 'YUCCA', 'CURRY']\n"
     ]
    },
    {
     "name": "stderr",
     "output_type": "stream",
     "text": [
      " 49%|████▉     | 493/1000 [03:50<03:37,  2.33it/s]"
     ]
    },
    {
     "name": "stdout",
     "output_type": "stream",
     "text": [
      "person1 = ['S', 'C']\n",
      "person2 = ['H', 'E']\n",
      "person3 = ['N', 'C']\n",
      "person4 = ['I', 'N']\n",
      "person5 = ['N', 'E']\n",
      "Found words: ['SHINE', 'HINES', 'CHINS', 'ENNIS', 'NINES', 'SEINE', 'SINCE', 'CENIS', 'SCENE', 'CENSE', 'CHINE', 'NICHE', 'CINCH', 'NIECE']\n"
     ]
    },
    {
     "name": "stderr",
     "output_type": "stream",
     "text": [
      " 50%|████▉     | 495/1000 [03:50<03:37,  2.32it/s]"
     ]
    },
    {
     "name": "stdout",
     "output_type": "stream",
     "text": [
      "person1 = ['C', 'E']\n",
      "person2 = ['H', 'H']\n",
      "person3 = ['T', 'Y']\n",
      "person4 = ['A', 'O']\n",
      "person5 = ['N', 'Y']\n",
      "Found words: ['CHANT', 'NATCH', 'CATHY', 'YACHT', 'NOTCH', 'TYCHO', 'ETHAN', 'THANE', 'NEATH', 'HYENA', 'HANEY', 'HONEY']\n"
     ]
    },
    {
     "name": "stderr",
     "output_type": "stream",
     "text": [
      " 50%|████▉     | 497/1000 [03:51<03:37,  2.31it/s]"
     ]
    },
    {
     "name": "stdout",
     "output_type": "stream",
     "text": [
      "person1 = ['E', 'C']\n",
      "person2 = ['E', 'H']\n",
      "person3 = ['A', 'Y']\n",
      "person4 = ['Y', 'N']\n",
      "person5 = ['S', 'N']\n",
      "Found words: ['HAYES', 'YEAHS', 'HANEY', 'HYENA', 'HANSE', 'ASHEN', 'SHANE', 'HENNA', 'CAYES', 'CASEY', 'CANES', 'NANCE']\n"
     ]
    },
    {
     "name": "stderr",
     "output_type": "stream",
     "text": [
      " 50%|████▉     | 498/1000 [03:52<03:38,  2.30it/s]"
     ]
    },
    {
     "name": "stdout",
     "output_type": "stream",
     "text": [
      "person1 = ['C', 'T']\n",
      "person2 = ['E', 'K']\n",
      "person3 = ['N', 'E']\n",
      "person4 = ['T', 'S']\n",
      "person5 = ['N', 'L']\n",
      "Found words: ['ELECT', 'CENSE', 'SCENE', 'SNECK', 'NECKS', 'LENTS', 'TENET', 'TEENS', 'TENSE', 'STEEN', 'SENTE', 'STEEL', 'STELE', 'SLEET']\n"
     ]
    },
    {
     "name": "stderr",
     "output_type": "stream",
     "text": [
      " 50%|█████     | 500/1000 [03:53<03:37,  2.30it/s]"
     ]
    },
    {
     "name": "stdout",
     "output_type": "stream",
     "text": [
      "person1 = ['Q', 'S']\n",
      "person2 = ['K', 'H']\n",
      "person3 = ['T', 'O']\n",
      "person4 = ['N', 'O']\n",
      "person5 = ['O', 'L']\n",
      "Found words: ['KNOTS', 'STOOK', 'KOTOS', 'SNOOK', 'NOOKS', 'LOOKS', 'SHOOT', 'SOOTH', 'HOOTS', 'SLOTH', 'HOLST', 'SHOOL']\n"
     ]
    },
    {
     "name": "stderr",
     "output_type": "stream",
     "text": [
      " 50%|█████     | 501/1000 [03:53<03:35,  2.32it/s]"
     ]
    },
    {
     "name": "stdout",
     "output_type": "stream",
     "text": [
      "person1 = ['Q', 'S']\n",
      "person2 = ['K', 'H']\n",
      "person3 = ['A', 'Y']\n",
      "person4 = ['I', 'L']\n",
      "person5 = ['A', 'C']\n",
      "Found words: ['SAKAI', 'KASAI', 'SLACK', 'LACKS', 'CALKS', 'AISHA', 'LHASA', 'CLASH']\n"
     ]
    },
    {
     "name": "stderr",
     "output_type": "stream",
     "text": [
      " 50%|█████     | 502/1000 [03:53<03:33,  2.33it/s]"
     ]
    },
    {
     "name": "stdout",
     "output_type": "stream",
     "text": [
      "person1 = ['T', 'Q']\n",
      "person2 = ['K', 'U']\n",
      "person3 = ['S', 'N']\n",
      "person4 = ['N', 'E']\n",
      "person5 = ['A', 'L']\n",
      "Found words: ['TANKS', 'STANK', 'TEAKS', 'TAKES', 'KEATS', 'STEAK', 'STAKE', 'SKATE', 'TAKEN', 'KNELT', 'TUNAS', 'AUNTS', 'SAUTE', 'LUTES', 'QUEAN']\n"
     ]
    },
    {
     "name": "stderr",
     "output_type": "stream",
     "text": [
      " 50%|█████     | 504/1000 [03:54<03:32,  2.33it/s]"
     ]
    },
    {
     "name": "stdout",
     "output_type": "stream",
     "text": [
      "person1 = ['S', 'C']\n",
      "person2 = ['H', 'K']\n",
      "person3 = ['E', 'T']\n",
      "person4 = ['T', 'E']\n",
      "person5 = ['Y', 'A']\n",
      "Found words: ['HEATS', 'HASTE', 'HATES', 'TYKES', 'SKATE', 'STEAK', 'STAKE', 'KEATS', 'TEAKS', 'TAKES', 'AKEES', 'TECHY', 'TYCHE', 'CHEAT', 'THECA', 'TEACH', 'TACHE']\n"
     ]
    },
    {
     "name": "stderr",
     "output_type": "stream",
     "text": [
      " 50%|█████     | 505/1000 [03:55<03:32,  2.33it/s]"
     ]
    },
    {
     "name": "stdout",
     "output_type": "stream",
     "text": [
      "person1 = ['C', 'S']\n",
      "person2 = ['U', 'H']\n",
      "person3 = ['A', 'E']\n",
      "person4 = ['S', 'E']\n",
      "person5 = ['R', 'L']\n",
      "Found words: ['CAULS', 'CLAUS', 'LUCAS', 'CURES', 'CURSE', 'CRUSE', 'SUCRE', 'CLUES', 'CHARS', 'CRASH', 'CLASH', 'CHARE', 'REACH', 'CHELA', 'LEACH', 'CHEER', 'LEECH', 'SURAS', 'ASSUR', 'USERS', 'RUSES', 'SLUES', 'REUSE', 'SLASH', 'SHARE', 'SHEAR', 'HARES', 'HEARS', 'ASHER', 'RHEAS', 'SHALE', 'SAHEL', 'SELAH', 'HALES', 'HEALS', 'LEASH', 'SHEER', 'HERES', 'HEELS']\n"
     ]
    },
    {
     "name": "stderr",
     "output_type": "stream",
     "text": [
      " 51%|█████     | 506/1000 [03:55<03:32,  2.32it/s]"
     ]
    },
    {
     "name": "stdout",
     "output_type": "stream",
     "text": [
      "person1 = ['T', 'E']\n",
      "person2 = ['H', 'H']\n",
      "person3 = ['E', 'N']\n",
      "person4 = ['A', 'H']\n",
      "person5 = ['C', 'N']\n",
      "Found words: ['THECA', 'TEACH', 'TACHE', 'CHEAT', 'THANE', 'ETHAN', 'NEATH', 'NATCH', 'CHANT', 'HANCE', 'HENNA', 'HENCH']\n"
     ]
    },
    {
     "name": "stderr",
     "output_type": "stream",
     "text": [
      " 51%|█████     | 507/1000 [03:56<03:33,  2.31it/s]"
     ]
    },
    {
     "name": "stdout",
     "output_type": "stream",
     "text": [
      "person1 = ['S', 'P']\n",
      "person2 = ['E', 'U']\n",
      "person3 = ['C', 'T']\n",
      "person4 = ['S', 'R']\n",
      "person5 = ['S', 'L']\n",
      "Found words: ['CRESS', 'TRESS', 'RESTS', 'CURLS', 'SLUTS', 'LUSTS', 'TRUSS', 'RUSTS', 'SPECS', 'PESTS', 'SEPTS', 'STEPS', 'PELTS', 'SLEPT', 'STREP', 'CUSPS', 'SCUPS', 'SCULP', 'TURPS', 'SPURT']\n"
     ]
    },
    {
     "name": "stderr",
     "output_type": "stream",
     "text": [
      " 51%|█████     | 508/1000 [03:56<03:35,  2.28it/s]"
     ]
    },
    {
     "name": "stdout",
     "output_type": "stream",
     "text": [
      "person1 = ['C', 'P']\n",
      "person2 = ['U', 'K']\n",
      "person3 = ['S', 'E']\n",
      "person4 = ['C', 'R']\n",
      "person5 = ['L', 'R']\n",
      "Found words: ['CURLS', 'CRUEL', 'ULCER', 'LUCRE', 'CURER', 'RECUR', 'CLERK', 'SCULP', 'PURLS', 'SLURP', 'PURRS', 'CUPEL', 'PULER', 'PURER']\n"
     ]
    },
    {
     "name": "stderr",
     "output_type": "stream",
     "text": [
      " 51%|█████     | 510/1000 [03:57<03:33,  2.30it/s]"
     ]
    },
    {
     "name": "stdout",
     "output_type": "stream",
     "text": [
      "person1 = ['T', 'C']\n",
      "person2 = ['H', 'H']\n",
      "person3 = ['R', 'O']\n",
      "person4 = ['S', 'T']\n",
      "person5 = ['L', 'E']\n",
      "Found words: ['RESHT', 'HOLST', 'SLOTH', 'THOSE', 'SHOTE', 'ETHOS', 'CHERT', 'RETCH', 'CHOSE', 'SOCHE', 'ECHOS', 'CLOTH']\n"
     ]
    },
    {
     "name": "stderr",
     "output_type": "stream",
     "text": [
      " 51%|█████     | 511/1000 [03:57<03:38,  2.24it/s]"
     ]
    },
    {
     "name": "stdout",
     "output_type": "stream",
     "text": [
      "person1 = ['P', 'C']\n",
      "person2 = ['E', 'H']\n",
      "person3 = ['C', 'R']\n",
      "person4 = ['O', 'L']\n",
      "person5 = ['E', 'H']\n",
      "Found words: ['EPOCH', 'CLEPE', 'EPHOR', 'REPEL', 'LEPER', 'LECCE', 'CHORE', 'ROCHE', 'OCHER', 'CREEL']\n"
     ]
    },
    {
     "name": "stderr",
     "output_type": "stream",
     "text": [
      " 51%|█████     | 512/1000 [03:58<03:41,  2.21it/s]"
     ]
    },
    {
     "name": "stdout",
     "output_type": "stream",
     "text": [
      "person1 = ['P', 'E']\n",
      "person2 = ['E', 'H']\n",
      "person3 = ['N', 'Y']\n",
      "person4 = ['A', 'O']\n",
      "person5 = ['S', 'N']\n",
      "Found words: ['PEANS', 'PANES', 'NEAPS', 'NAPES', 'ASPEN', 'PENNA', 'PANNE', 'PEONS', 'PONES', 'POSEN', 'EPSON', 'NEPOS', 'OPENS', 'PAYNE', 'POESY', 'SEPOY', 'PEONY', 'SPAHN', 'PHONS', 'HYPOS', 'SOPHY', 'PHONY', 'HANSE', 'ASHEN', 'SHANE', 'HENNA', 'HONES', 'SHONE', 'HAYES', 'YEAHS', 'HYENA', 'HANEY', 'HONEY']\n"
     ]
    },
    {
     "name": "stderr",
     "output_type": "stream",
     "text": [
      " 52%|█████▏    | 515/1000 [03:59<03:46,  2.14it/s]"
     ]
    },
    {
     "name": "stdout",
     "output_type": "stream",
     "text": [
      "person1 = ['C', 'E']\n",
      "person2 = ['H', 'H']\n",
      "person3 = ['L', 'E']\n",
      "person4 = ['C', 'A']\n",
      "person5 = ['L', 'S']\n",
      "Found words: ['CLASH', 'CHELA', 'LEACH', 'CHASE', 'ACHES', 'HALLE', 'HEALS', 'HALES', 'LEASH', 'SELAH', 'SHALE', 'SAHEL', 'LEECH']\n"
     ]
    },
    {
     "name": "stderr",
     "output_type": "stream",
     "text": [
      " 52%|█████▏    | 516/1000 [04:00<03:45,  2.14it/s]"
     ]
    },
    {
     "name": "stdout",
     "output_type": "stream",
     "text": [
      "person1 = ['Q', 'E']\n",
      "person2 = ['U', 'H']\n",
      "person3 = ['O', 'E']\n",
      "person4 = ['A', 'I']\n",
      "person5 = ['T', 'E']\n",
      "Found words: ['QUOTA', 'QUOIT', 'QUITO', 'QUIET', 'QUITE', 'TAHOE']\n"
     ]
    },
    {
     "name": "stderr",
     "output_type": "stream",
     "text": [
      " 52%|█████▏    | 518/1000 [04:01<03:44,  2.15it/s]"
     ]
    },
    {
     "name": "stdout",
     "output_type": "stream",
     "text": [
      "person1 = ['C', 'P']\n",
      "person2 = ['U', 'H']\n",
      "person3 = ['O', 'T']\n",
      "person4 = ['A', 'T']\n",
      "person5 = ['R', 'C']\n",
      "Found words: ['COURT', 'TURCO', 'ROCHA', 'ROACH', 'CHACO', 'COACH', 'TORCH', 'CHART', 'ARCHT', 'CATCH', 'CAPUT', 'OPRAH', 'POACH', 'THORP', 'THARP', 'PATCH']\n"
     ]
    },
    {
     "name": "stderr",
     "output_type": "stream",
     "text": [
      " 52%|█████▏    | 519/1000 [04:01<03:44,  2.14it/s]"
     ]
    },
    {
     "name": "stdout",
     "output_type": "stream",
     "text": [
      "person1 = ['S', 'E']\n",
      "person2 = ['H', 'H']\n",
      "person3 = ['S', 'L']\n",
      "person4 = ['O', 'C']\n",
      "person5 = ['I', 'T']\n",
      "Found words: ['SHOTS', 'HOSTS', 'SLOTH', 'HOLST', 'ETHOS', 'SHOTE', 'THOSE', 'CHEST', 'TECHS', 'HELOT', 'HOTEL', 'THEOL', 'THOLE', 'CHILE']\n"
     ]
    },
    {
     "name": "stderr",
     "output_type": "stream",
     "text": [
      " 52%|█████▏    | 520/1000 [04:02<03:45,  2.13it/s]"
     ]
    },
    {
     "name": "stdout",
     "output_type": "stream",
     "text": [
      "person1 = ['Q', 'T']\n",
      "person2 = ['H', 'E']\n",
      "person3 = ['Y', 'O']\n",
      "person4 = ['O', 'N']\n",
      "person5 = ['N', 'E']\n",
      "Found words: ['TEENY', 'TENON', 'TENNO', 'TONNE', 'NONET']\n"
     ]
    },
    {
     "name": "stderr",
     "output_type": "stream",
     "text": [
      " 52%|█████▏    | 522/1000 [04:03<03:42,  2.15it/s]"
     ]
    },
    {
     "name": "stdout",
     "output_type": "stream",
     "text": [
      "person1 = ['S', 'C']\n",
      "person2 = ['U', 'H']\n",
      "person3 = ['S', 'E']\n",
      "person4 = ['S', 'L']\n",
      "person5 = ['R', 'A']\n",
      "Found words: ['SLURS', 'USERS', 'RUSES', 'LURES', 'RULES', 'SLASH', 'ASHES', 'SHALE', 'SELAH', 'SAHEL', 'HEALS', 'HALES', 'LEASH', 'ASCUS', 'CURLS', 'CLAUS', 'CAULS', 'LUCAS', 'CURES', 'CURSE', 'CRUSE', 'SUCRE', 'CAUSE', 'SAUCE', 'CRUEL', 'ULCER', 'LUCRE', 'SACHS', 'CLASH', 'CHASE', 'ACHES', 'CHELA', 'LEACH']\n"
     ]
    },
    {
     "name": "stderr",
     "output_type": "stream",
     "text": [
      " 52%|█████▏    | 523/1000 [04:03<03:42,  2.14it/s]"
     ]
    },
    {
     "name": "stdout",
     "output_type": "stream",
     "text": [
      "person1 = ['C', 'P']\n",
      "person2 = ['U', 'H']\n",
      "person3 = ['S', 'E']\n",
      "person4 = ['N', 'I']\n",
      "person5 = ['C', 'A']\n",
      "Found words: ['CAIUS', 'HANCE', 'PUSAN', 'SPAHN', 'CHIPS', 'SPAHI', 'SAIPH', 'APHIS', 'APISH']\n"
     ]
    },
    {
     "name": "stderr",
     "output_type": "stream",
     "text": [
      " 52%|█████▏    | 524/1000 [04:04<03:41,  2.15it/s]"
     ]
    },
    {
     "name": "stdout",
     "output_type": "stream",
     "text": [
      "person1 = ['S', 'E']\n",
      "person2 = ['H', 'K']\n",
      "person3 = ['E', 'R']\n",
      "person4 = ['R', 'O']\n",
      "person5 = ['T', 'R']\n",
      "Found words: ['RESHT', 'SHOTE', 'ETHOS', 'THOSE', 'SHORE', 'HOERS', 'HORSE', 'SHORT', 'HORST', 'TREKS', 'STOKE', 'TOKES', 'STORK', 'TORSK', 'ETHER', 'THERE', 'THREE', 'OTHER', 'THROE']\n"
     ]
    },
    {
     "name": "stderr",
     "output_type": "stream",
     "text": [
      " 52%|█████▎    | 525/1000 [04:04<03:43,  2.13it/s]"
     ]
    },
    {
     "name": "stdout",
     "output_type": "stream",
     "text": [
      "person1 = ['T', 'C']\n",
      "person2 = ['K', 'H']\n",
      "person3 = ['N', 'R']\n",
      "person4 = ['A', 'Y']\n",
      "person5 = ['S', 'H']\n",
      "Found words: ['TANKS', 'STANK', 'THANK', 'KARTS', 'KARST', 'STARK', 'SNATH', 'THANH', 'SYNTH', 'TRASH', 'HARTS', 'RASHT', 'SNACK', 'CARKS', 'RACKS', 'CHARS', 'CRASH']\n"
     ]
    },
    {
     "name": "stderr",
     "output_type": "stream",
     "text": [
      " 53%|█████▎    | 526/1000 [04:04<03:39,  2.16it/s]"
     ]
    },
    {
     "name": "stdout",
     "output_type": "stream",
     "text": [
      "person1 = ['S', 'Q']\n",
      "person2 = ['E', 'H']\n",
      "person3 = ['Y', 'O']\n",
      "person4 = ['T', 'R']\n",
      "person5 = ['O', 'C']\n",
      "Found words: ['COSET', 'COSTE', 'COTES', 'ROOSE', 'SCORE', 'CEROS', 'CORSE', 'CORES', 'HORSY', 'SHOOT', 'SOOTH', 'HOOTS']\n"
     ]
    },
    {
     "name": "stderr",
     "output_type": "stream",
     "text": [
      " 53%|█████▎    | 527/1000 [04:05<03:38,  2.16it/s]"
     ]
    },
    {
     "name": "stdout",
     "output_type": "stream",
     "text": [
      "person1 = ['C', 'C']\n",
      "person2 = ['H', 'E']\n",
      "person3 = ['S', 'A']\n",
      "person4 = ['S', 'I']\n",
      "person5 = ['E', 'I']\n",
      "Found words: ['CHESS', 'CHASE', 'ACHES', 'CHIAI', 'CEASE']\n"
     ]
    },
    {
     "name": "stderr",
     "output_type": "stream",
     "text": [
      " 53%|█████▎    | 530/1000 [04:06<03:23,  2.31it/s]"
     ]
    },
    {
     "name": "stdout",
     "output_type": "stream",
     "text": [
      "person1 = ['P', 'T']\n",
      "person2 = ['E', 'K']\n",
      "person3 = ['H', 'N']\n",
      "person4 = ['T', 'R']\n",
      "person5 = ['L', 'O']\n",
      "Found words: ['EPHOR', 'PERON', 'PRONE', 'THROE', 'OTHER', 'TETON', 'TENOR', 'TONER']\n"
     ]
    },
    {
     "name": "stderr",
     "output_type": "stream",
     "text": [
      " 53%|█████▎    | 532/1000 [04:07<03:25,  2.28it/s]"
     ]
    },
    {
     "name": "stdout",
     "output_type": "stream",
     "text": [
      "person1 = ['S', 'P']\n",
      "person2 = ['U', 'K']\n",
      "person3 = ['N', 'L']\n",
      "person4 = ['E', 'Y']\n",
      "person5 = ['T', 'E']\n",
      "Found words: ['UNSET', 'TUNES', 'ENSUE', 'LUTES', 'LUSTY', 'YULES', 'KNEES', 'KEENS', 'SLEEK', 'KEELS', 'LEEKS', 'KYLES', 'LETUP', 'TUPLE', 'LEPKE']\n"
     ]
    },
    {
     "name": "stderr",
     "output_type": "stream",
     "text": [
      " 53%|█████▎    | 533/1000 [04:07<03:24,  2.29it/s]"
     ]
    },
    {
     "name": "stdout",
     "output_type": "stream",
     "text": [
      "person1 = ['T', 'C']\n",
      "person2 = ['H', 'U']\n",
      "person3 = ['Y', 'A']\n",
      "person4 = ['R', 'O']\n",
      "person5 = ['E', 'N']\n",
      "Found words: ['HATER', 'HARTE', 'HEART', 'HERAT', 'RATHE', 'EARTH', 'TAHOE', 'RUNTY', 'RUTAN', 'CHARE', 'REACH', 'RANCH', 'COHAN', 'NACHO']\n"
     ]
    },
    {
     "name": "stderr",
     "output_type": "stream",
     "text": [
      " 54%|█████▎    | 535/1000 [04:08<03:23,  2.29it/s]"
     ]
    },
    {
     "name": "stdout",
     "output_type": "stream",
     "text": [
      "person1 = ['Q', 'S']\n",
      "person2 = ['H', 'H']\n",
      "person3 = ['C', 'L']\n",
      "person4 = ['O', 'S']\n",
      "person5 = ['E', 'R']\n",
      "Found words: ['SOCHE', 'CHOSE', 'ECHOS', 'CHESS', 'SHEOL', 'HOLES']\n"
     ]
    },
    {
     "name": "stderr",
     "output_type": "stream",
     "text": [
      " 54%|█████▎    | 536/1000 [04:09<03:20,  2.31it/s]"
     ]
    },
    {
     "name": "stdout",
     "output_type": "stream",
     "text": [
      "person1 = ['C', 'S']\n",
      "person2 = ['H', 'E']\n",
      "person3 = ['S', 'E']\n",
      "person4 = ['A', 'H']\n",
      "person5 = ['H', 'R']\n",
      "Found words: ['CHARS', 'CRASH', 'CHARE', 'REACH', 'CHASE', 'ACHES', 'CESAR', 'CARES', 'CARSE', 'SCARE', 'ACRES', 'RACES', 'CHEER', 'SHAHS', 'SHEAR', 'SHARE', 'HEARS', 'HARES', 'ASHER', 'RHEAS', 'ASHES', 'SEARS', 'ERASE', 'SHEER', 'HERES']\n"
     ]
    },
    {
     "name": "stderr",
     "output_type": "stream",
     "text": [
      " 54%|█████▎    | 537/1000 [04:09<03:20,  2.30it/s]"
     ]
    },
    {
     "name": "stdout",
     "output_type": "stream",
     "text": [
      "person1 = ['S', 'Q']\n",
      "person2 = ['H', 'K']\n",
      "person3 = ['O', 'Y']\n",
      "person4 = ['R', 'L']\n",
      "person5 = ['E', 'N']\n",
      "Found words: ['SHORE', 'HORSE', 'HOERS', 'HORNS', 'SHEOL', 'HOLES', 'SHYER', 'KELSO', 'KYLES']\n"
     ]
    },
    {
     "name": "stderr",
     "output_type": "stream",
     "text": [
      " 54%|█████▍    | 538/1000 [04:10<03:19,  2.32it/s]"
     ]
    },
    {
     "name": "stdout",
     "output_type": "stream",
     "text": [
      "person1 = ['P', 'S']\n",
      "person2 = ['E', 'H']\n",
      "person3 = ['T', 'R']\n",
      "person4 = ['I', 'T']\n",
      "person5 = ['I', 'Y']\n",
      "Found words: ['PIETY', 'PETIT', 'PETTY', 'TRIPE', 'PITHY', 'YETIS', 'TESTY', 'SIRET', 'RESIT', 'RITES', 'TRIES', 'TIERS', 'TIRES', 'TREYS', 'RISHI', 'IRISH', 'SHIRT']\n"
     ]
    },
    {
     "name": "stderr",
     "output_type": "stream",
     "text": [
      " 54%|█████▍    | 539/1000 [04:10<03:21,  2.29it/s]"
     ]
    },
    {
     "name": "stdout",
     "output_type": "stream",
     "text": [
      "person1 = ['P', 'T']\n",
      "person2 = ['H', 'K']\n",
      "person3 = ['T', 'A']\n",
      "person4 = ['S', 'H']\n",
      "person5 = ['L', 'N']\n",
      "Found words: ['PLASH', 'SPAHN', 'KNAPS', 'SPANK', 'HALTS', 'SHALT', 'LATHS', 'SNATH', 'THANH', 'TALKS', 'STALK', 'TANKS', 'STANK', 'THANK']\n"
     ]
    },
    {
     "name": "stderr",
     "output_type": "stream",
     "text": [
      " 54%|█████▍    | 540/1000 [04:11<03:20,  2.30it/s]"
     ]
    },
    {
     "name": "stdout",
     "output_type": "stream",
     "text": [
      "person1 = ['E', 'C']\n",
      "person2 = ['U', 'H']\n",
      "person3 = ['R', 'I']\n",
      "person4 = ['R', 'O']\n",
      "person5 = ['E', 'R']\n",
      "Found words: ['HIRER', 'CURER', 'RECUR', 'CURIE', 'CURIO', 'CHORE', 'ROCHE', 'OCHER', 'CHERI', 'REICH', 'ERICH', 'CHIRR', 'CHOIR', 'ICHOR']\n"
     ]
    },
    {
     "name": "stderr",
     "output_type": "stream",
     "text": [
      " 54%|█████▍    | 541/1000 [04:11<03:21,  2.27it/s]"
     ]
    },
    {
     "name": "stdout",
     "output_type": "stream",
     "text": [
      "person1 = ['C', 'T']\n",
      "person2 = ['H', 'E']\n",
      "person3 = ['L', 'S']\n",
      "person4 = ['S', 'C']\n",
      "person5 = ['A', 'S']\n",
      "Found words: ['CLASH', 'SACHS', 'LACES', 'SCALE', 'CECAL', 'ACCEL', 'CASES', 'HALTS', 'LATHS', 'SHALT', 'LATCH', 'STASH', 'CHATS', 'TESLA', 'TEALS', 'TALES', 'LEAST', 'STELA', 'STEAL', 'STAEL', 'STALE', 'SLATE', 'ECLAT', 'CLEAT', 'CELTS', 'TESSA', 'TASSE', 'EASTS', 'SEATS', 'SATES', 'ASSET', 'CESTA', 'CASTE', 'SECTS']\n"
     ]
    },
    {
     "name": "stderr",
     "output_type": "stream",
     "text": [
      " 54%|█████▍    | 543/1000 [04:12<03:18,  2.30it/s]"
     ]
    },
    {
     "name": "stdout",
     "output_type": "stream",
     "text": [
      "person1 = ['T', 'S']\n",
      "person2 = ['U', 'H']\n",
      "person3 = ['T', 'R']\n",
      "person4 = ['O', 'R']\n",
      "person5 = ['I', 'T']\n",
      "Found words: ['TUTOR', 'TROUT', 'TROTH', 'STOUT', 'TOUTS', 'SRUTI', 'STRUT', 'TRUST', 'ROUST', 'ROUTS', 'TOURS', 'TORUS', 'HOIST', 'SHIRT', 'SHORT', 'HORST', 'SHIRR']\n"
     ]
    },
    {
     "name": "stderr",
     "output_type": "stream",
     "text": [
      " 55%|█████▍    | 545/1000 [04:13<03:19,  2.28it/s]"
     ]
    },
    {
     "name": "stdout",
     "output_type": "stream",
     "text": [
      "person1 = ['C', 'Q']\n",
      "person2 = ['H', 'K']\n",
      "person3 = ['E', 'C']\n",
      "person4 = ['R', 'O']\n",
      "person5 = ['L', 'E']\n",
      "Found words: ['CHEER', 'CHLOE', 'CLERK', 'CREEK', 'LOCKE', 'CLOCK']\n"
     ]
    },
    {
     "name": "stderr",
     "output_type": "stream",
     "text": [
      " 55%|█████▍    | 546/1000 [04:13<03:20,  2.26it/s]"
     ]
    },
    {
     "name": "stdout",
     "output_type": "stream",
     "text": [
      "person1 = ['Q', 'S']\n",
      "person2 = ['U', 'K']\n",
      "person3 = ['N', 'O']\n",
      "person4 = ['S', 'L']\n",
      "person5 = ['N', 'E']\n",
      "Found words: ['SOUSE', 'SEOUL', 'OUSEL', 'LOUSE', 'KOSES', 'KELSO']\n"
     ]
    },
    {
     "name": "stderr",
     "output_type": "stream",
     "text": [
      " 55%|█████▍    | 547/1000 [04:14<03:18,  2.28it/s]"
     ]
    },
    {
     "name": "stdout",
     "output_type": "stream",
     "text": [
      "person1 = ['P', 'C']\n",
      "person2 = ['H', 'E']\n",
      "person3 = ['A', 'S']\n",
      "person4 = ['O', 'Y']\n",
      "person5 = ['S', 'O']\n",
      "Found words: ['OPAHS', 'SHOPS', 'POOHS', 'HOOPS', 'HYPOS', 'SOPHY', 'AESOP', 'PESOS', 'POSES', 'POSSE', 'SPEOS', 'ESPOO', 'POESY', 'SEPOY', 'CHAOS', 'ACHOO', 'OCHOA', 'COHOS', 'CAYES', 'CASEY']\n"
     ]
    },
    {
     "name": "stderr",
     "output_type": "stream",
     "text": [
      " 55%|█████▌    | 550/1000 [04:15<03:19,  2.25it/s]"
     ]
    },
    {
     "name": "stdout",
     "output_type": "stream",
     "text": [
      "person1 = ['C', 'E']\n",
      "person2 = ['H', 'E']\n",
      "person3 = ['N', 'R']\n",
      "person4 = ['I', 'T']\n",
      "person5 = ['A', 'Y']\n",
      "Found words: ['CHINA', 'CHIAN', 'CHAIN', 'ICAHN', 'CHANT', 'NATCH', 'CHARI', 'CHAIR', 'CHART', 'ARCHT', 'CAINE', 'ENACT', 'CERIA', 'ERICA', 'CRATE', 'CARET', 'CARTE', 'CATER', 'REACT', 'TRACE', 'ETHAN', 'NEATH', 'THANE', 'EARTH', 'HERAT', 'HEART', 'HARTE', 'HATER', 'RATHE', 'ENATE', 'EATEN', 'TEENY', 'AERIE', 'EATER', 'ARETE', 'TYREE']\n"
     ]
    },
    {
     "name": "stderr",
     "output_type": "stream",
     "text": [
      " 55%|█████▌    | 553/1000 [04:16<03:13,  2.31it/s]"
     ]
    },
    {
     "name": "stdout",
     "output_type": "stream",
     "text": [
      "person1 = ['C', 'E']\n",
      "person2 = ['H', 'H']\n",
      "person3 = ['R', 'N']\n",
      "person4 = ['H', 'O']\n",
      "person5 = ['R', 'O']\n",
      "Found words: ['CHRON', 'HERON', 'HONER', 'HORNE', 'RHONE']\n"
     ]
    },
    {
     "name": "stderr",
     "output_type": "stream",
     "text": [
      " 56%|█████▌    | 555/1000 [04:17<03:12,  2.32it/s]"
     ]
    },
    {
     "name": "stdout",
     "output_type": "stream",
     "text": [
      "person1 = ['C', 'T']\n",
      "person2 = ['H', 'K']\n",
      "person3 = ['I', 'C']\n",
      "person4 = ['Y', 'A']\n",
      "person5 = ['A', 'I']\n",
      "Found words: ['CHIAI', 'HAITI', 'CATHY', 'YACHT', 'ITCHY', 'CHITA', 'AITCH', 'AKITA', 'TACKY']\n"
     ]
    },
    {
     "name": "stderr",
     "output_type": "stream",
     "text": [
      " 56%|█████▌    | 556/1000 [04:18<03:12,  2.31it/s]"
     ]
    },
    {
     "name": "stdout",
     "output_type": "stream",
     "text": [
      "person1 = ['T', 'C']\n",
      "person2 = ['E', 'H']\n",
      "person3 = ['O', 'E']\n",
      "person4 = ['R', 'C']\n",
      "person5 = ['H', 'O']\n",
      "Found words: ['THROE', 'OTHER', 'THERE', 'THREE', 'ETHER', 'CHORE', 'OCHER', 'ROCHE', 'CHEER']\n"
     ]
    },
    {
     "name": "stderr",
     "output_type": "stream",
     "text": [
      " 56%|█████▌    | 557/1000 [04:18<03:11,  2.31it/s]"
     ]
    },
    {
     "name": "stdout",
     "output_type": "stream",
     "text": [
      "person1 = ['P', 'C']\n",
      "person2 = ['K', 'E']\n",
      "person3 = ['Y', 'C']\n",
      "person4 = ['S', 'A']\n",
      "person5 = ['H', 'S']\n",
      "Found words: ['PACKS', 'HYPES', 'SPECS', 'PEACH', 'CHEAP', 'CHAPE', 'PACES', 'CAPES', 'SPACE', 'SCAPE', 'CAYES', 'CASEY', 'CACHE']\n"
     ]
    },
    {
     "name": "stderr",
     "output_type": "stream",
     "text": [
      " 56%|█████▌    | 559/1000 [04:19<03:12,  2.29it/s]"
     ]
    },
    {
     "name": "stdout",
     "output_type": "stream",
     "text": [
      "person1 = ['C', 'P']\n",
      "person2 = ['H', 'U']\n",
      "person3 = ['N', 'T']\n",
      "person4 = ['A', 'N']\n",
      "person5 = ['R', 'C']\n",
      "Found words: ['RANCH', 'CHART', 'ARCHT', 'CATCH', 'THARP', 'PATCH', 'UNCAP', 'CAPUT']\n"
     ]
    },
    {
     "name": "stderr",
     "output_type": "stream",
     "text": [
      " 56%|█████▌    | 560/1000 [04:19<03:12,  2.29it/s]"
     ]
    },
    {
     "name": "stdout",
     "output_type": "stream",
     "text": [
      "person1 = ['T', 'C']\n",
      "person2 = ['H', 'K']\n",
      "person3 = ['E', 'H']\n",
      "person4 = ['N', 'A']\n",
      "person5 = ['T', 'S']\n",
      "Found words: ['TENTH', 'THETA', 'HEATS', 'HATES', 'HASTE', 'TEAKS', 'TAKES', 'KEATS', 'STEAK', 'STAKE', 'SKATE', 'TENCH', 'CHEAT', 'THECA', 'TEACH', 'TACHE', 'CHASE', 'ACHES', 'HATCH', 'NECKS', 'SNECK', 'CAKES', 'HACKS', 'SHACK']\n"
     ]
    },
    {
     "name": "stderr",
     "output_type": "stream",
     "text": [
      " 56%|█████▌    | 561/1000 [04:20<03:15,  2.24it/s]"
     ]
    },
    {
     "name": "stdout",
     "output_type": "stream",
     "text": [
      "person1 = ['S', 'E']\n",
      "person2 = ['U', 'E']\n",
      "person3 = ['A', 'E']\n",
      "person4 = ['N', 'I']\n",
      "person5 = ['E', 'C']\n",
      "Found words: ['CAIUS', 'ENSUE', 'CANES', 'SCENE', 'CENSE']\n"
     ]
    },
    {
     "name": "stderr",
     "output_type": "stream",
     "text": [
      " 56%|█████▌    | 562/1000 [04:20<03:14,  2.25it/s]"
     ]
    },
    {
     "name": "stdout",
     "output_type": "stream",
     "text": [
      "person1 = ['E', 'T']\n",
      "person2 = ['H', 'E']\n",
      "person3 = ['E', 'H']\n",
      "person4 = ['I', 'S']\n",
      "person5 = ['C', 'O']\n",
      "Found words: ['ETHIC', 'TECHS', 'CHEST', 'THOSE', 'ETHOS', 'SHOTE', 'HITCH']\n"
     ]
    },
    {
     "name": "stderr",
     "output_type": "stream",
     "text": [
      " 56%|█████▋    | 563/1000 [04:21<03:13,  2.26it/s]"
     ]
    },
    {
     "name": "stdout",
     "output_type": "stream",
     "text": [
      "person1 = ['C', 'T']\n",
      "person2 = ['H', 'E']\n",
      "person3 = ['A', 'Y']\n",
      "person4 = ['A', 'T']\n",
      "person5 = ['H', 'C']\n",
      "Found words: ['HATCH', 'CATCH', 'CHEAT', 'TEACH', 'TACHE', 'THECA', 'TECHY', 'TYCHE', 'YACHT', 'CATHY', 'THETA', 'TACET']\n"
     ]
    },
    {
     "name": "stderr",
     "output_type": "stream",
     "text": [
      " 56%|█████▋    | 564/1000 [04:21<03:14,  2.24it/s]"
     ]
    },
    {
     "name": "stdout",
     "output_type": "stream",
     "text": [
      "person1 = ['S', 'Q']\n",
      "person2 = ['H', 'H']\n",
      "person3 = ['L', 'A']\n",
      "person4 = ['S', 'C']\n",
      "person5 = ['T', 'A']\n",
      "Found words: ['SLASH', 'CLASH', 'STASH', 'SASHA', 'CHATS']\n"
     ]
    },
    {
     "name": "stderr",
     "output_type": "stream",
     "text": [
      " 57%|█████▋    | 566/1000 [04:22<03:10,  2.28it/s]"
     ]
    },
    {
     "name": "stdout",
     "output_type": "stream",
     "text": [
      "person1 = ['C', 'Q']\n",
      "person2 = ['U', 'H']\n",
      "person3 = ['E', 'Y']\n",
      "person4 = ['S', 'T']\n",
      "person5 = ['A', 'H']\n",
      "Found words: ['CAUSE', 'SAUCE', 'CEUTA', 'ACUTE', 'CHUTE', 'SAUCY', 'CUSHY', 'CHASE', 'ACHES', 'CHEAT', 'THECA', 'TEACH', 'TACHE', 'CATHY', 'YACHT', 'QUAYS']\n"
     ]
    },
    {
     "name": "stderr",
     "output_type": "stream",
     "text": [
      " 57%|█████▋    | 569/1000 [04:23<03:09,  2.27it/s]"
     ]
    },
    {
     "name": "stdout",
     "output_type": "stream",
     "text": [
      "person1 = ['C', 'T']\n",
      "person2 = ['U', 'H']\n",
      "person3 = ['H', 'O']\n",
      "person4 = ['L', 'O']\n",
      "person5 = ['T', 'R']\n",
      "Found words: ['CHURL', 'LURCH', 'COUTH', 'TOUCH', 'CLOUT', 'CLOTH', 'THOTH', 'TOOTH']\n"
     ]
    },
    {
     "name": "stderr",
     "output_type": "stream",
     "text": [
      " 57%|█████▋    | 571/1000 [04:24<03:07,  2.29it/s]"
     ]
    },
    {
     "name": "stdout",
     "output_type": "stream",
     "text": [
      "person1 = ['P', 'T']\n",
      "person2 = ['H', 'E']\n",
      "person3 = ['N', 'C']\n",
      "person4 = ['H', 'Y']\n",
      "person5 = ['Y', 'R']\n",
      "Found words: ['PHREN', 'PERCH', 'PERCY', 'ENTRY', 'TECHY', 'TYCHE', 'CHERT', 'RETCH']\n"
     ]
    },
    {
     "name": "stderr",
     "output_type": "stream",
     "text": [
      " 57%|█████▋    | 572/1000 [04:25<03:08,  2.28it/s]"
     ]
    },
    {
     "name": "stdout",
     "output_type": "stream",
     "text": [
      "person1 = ['S', 'T']\n",
      "person2 = ['H', 'E']\n",
      "person3 = ['O', 'H']\n",
      "person4 = ['I', 'C']\n",
      "person5 = ['Y', 'O']\n",
      "Found words: ['COHOS', 'SOCHE', 'ECHOS', 'CHOSE', 'TYCHO', 'TECHY', 'TYCHE']\n"
     ]
    },
    {
     "name": "stderr",
     "output_type": "stream",
     "text": [
      " 57%|█████▋    | 574/1000 [04:25<03:10,  2.24it/s]"
     ]
    },
    {
     "name": "stdout",
     "output_type": "stream",
     "text": [
      "person1 = ['S', 'C']\n",
      "person2 = ['U', 'H']\n",
      "person3 = ['I', 'E']\n",
      "person4 = ['E', 'L']\n",
      "person5 = ['O', 'L']\n",
      "Found words: ['ILEUS', 'LOUIS', 'ILLUS', 'SEOUL', 'LOUSE', 'OUSEL', 'ELULS', 'SHILL', 'HILLS', 'HEELS', 'SHEOL', 'HOLES', 'SHELL', 'HELLS', 'LUCIO', 'OCULI', 'CHILE', 'CHOLI', 'CHILL', 'LEECH', 'CHLOE']\n"
     ]
    },
    {
     "name": "stderr",
     "output_type": "stream",
     "text": [
      " 57%|█████▊    | 575/1000 [04:26<03:10,  2.23it/s]"
     ]
    },
    {
     "name": "stdout",
     "output_type": "stream",
     "text": [
      "person1 = ['T', 'P']\n",
      "person2 = ['K', 'H']\n",
      "person3 = ['C', 'O']\n",
      "person4 = ['I', 'O']\n",
      "person5 = ['Y', 'N']\n",
      "Found words: ['TOKYO', 'KYOTO', 'ITCHY', 'TYCHO', 'NOTCH', 'PICKY', 'POCKY', 'PINKO', 'PINCH']\n"
     ]
    },
    {
     "name": "stderr",
     "output_type": "stream",
     "text": [
      " 58%|█████▊    | 581/1000 [04:29<03:01,  2.31it/s]"
     ]
    },
    {
     "name": "stdout",
     "output_type": "stream",
     "text": [
      "person1 = ['T', 'C']\n",
      "person2 = ['H', 'H']\n",
      "person3 = ['H', 'T']\n",
      "person4 = ['A', 'Y']\n",
      "person5 = ['I', 'A']\n",
      "Found words: ['CHITA', 'AITCH', 'ITCHY', 'CATHY', 'YACHT']\n"
     ]
    },
    {
     "name": "stderr",
     "output_type": "stream",
     "text": [
      " 58%|█████▊    | 583/1000 [04:29<03:00,  2.31it/s]"
     ]
    },
    {
     "name": "stdout",
     "output_type": "stream",
     "text": [
      "person1 = ['P', 'C']\n",
      "person2 = ['K', 'H']\n",
      "person3 = ['S', 'R']\n",
      "person4 = ['E', 'S']\n",
      "person5 = ['R', 'Y']\n",
      "Found words: ['PERKS', 'PESKY', 'SKYPE', 'PERKY', 'HYPES', 'HYPER']\n"
     ]
    },
    {
     "name": "stderr",
     "output_type": "stream",
     "text": [
      " 58%|█████▊    | 584/1000 [04:30<03:00,  2.30it/s]"
     ]
    },
    {
     "name": "stdout",
     "output_type": "stream",
     "text": [
      "person1 = ['C', 'C']\n",
      "person2 = ['H', 'H']\n",
      "person3 = ['I', 'T']\n",
      "person4 = ['O', 'L']\n",
      "person5 = ['R', 'N']\n",
      "Found words: ['CHOIR', 'ICHOR', 'CHINO', 'TORCH', 'NOTCH']\n"
     ]
    },
    {
     "name": "stderr",
     "output_type": "stream",
     "text": [
      " 58%|█████▊    | 585/1000 [04:30<03:03,  2.26it/s]"
     ]
    },
    {
     "name": "stdout",
     "output_type": "stream",
     "text": [
      "person1 = ['Q', 'E']\n",
      "person2 = ['H', 'H']\n",
      "person3 = ['N', 'O']\n",
      "person4 = ['E', 'A']\n",
      "person5 = ['S', 'Y']\n",
      "Found words: ['SHEEN', 'HANSE', 'ASHEN', 'SHANE', 'HANEY', 'HYENA', 'HOSEA']\n"
     ]
    },
    {
     "name": "stderr",
     "output_type": "stream",
     "text": [
      " 59%|█████▊    | 586/1000 [04:31<03:03,  2.25it/s]"
     ]
    },
    {
     "name": "stdout",
     "output_type": "stream",
     "text": [
      "person1 = ['C', 'T']\n",
      "person2 = ['H', 'H']\n",
      "person3 = ['Y', 'A']\n",
      "person4 = ['H', 'N']\n",
      "person5 = ['E', 'A']\n",
      "Found words: ['HANCE', 'HEATH', 'THANE', 'NEATH', 'ETHAN', 'THANA']\n"
     ]
    },
    {
     "name": "stderr",
     "output_type": "stream",
     "text": [
      " 59%|█████▊    | 587/1000 [04:31<03:07,  2.20it/s]"
     ]
    },
    {
     "name": "stdout",
     "output_type": "stream",
     "text": [
      "person1 = ['P', 'T']\n",
      "person2 = ['H', 'H']\n",
      "person3 = ['S', 'A']\n",
      "person4 = ['R', 'A']\n",
      "person5 = ['T', 'S']\n",
      "Found words: ['PATHS', 'STAPH', 'HASPS', 'THARP', 'HARPS', 'SHARP', 'PASHA', 'STASH', 'TRASH', 'HARTS', 'RASHT', 'TASHA']\n"
     ]
    },
    {
     "name": "stderr",
     "output_type": "stream",
     "text": [
      " 59%|█████▉    | 588/1000 [04:32<03:03,  2.25it/s]"
     ]
    },
    {
     "name": "stdout",
     "output_type": "stream",
     "text": [
      "person1 = ['T', 'C']\n",
      "person2 = ['K', 'H']\n",
      "person3 = ['T', 'O']\n",
      "person4 = ['H', 'Y']\n",
      "person5 = ['O', 'R']\n",
      "Found words: ['TOKYO', 'KYOTO', 'THOTH', 'CHOOK', 'COOKY', 'CORKY', 'ROCKY', 'TYCHO', 'HOOCH']\n"
     ]
    },
    {
     "name": "stderr",
     "output_type": "stream",
     "text": [
      " 59%|█████▉    | 590/1000 [04:33<03:03,  2.24it/s]"
     ]
    },
    {
     "name": "stdout",
     "output_type": "stream",
     "text": [
      "person1 = ['E', 'Q']\n",
      "person2 = ['H', 'U']\n",
      "person3 = ['R', 'T']\n",
      "person4 = ['C', 'L']\n",
      "person5 = ['I', 'T']\n",
      "Found words: ['ERICH', 'REICH', 'CHERI', 'RETCH', 'CHERT', 'ETHIC', 'LEITH', 'LITHE', 'CURIE', 'ERUCT', 'RECUT', 'CURET', 'CUTER', 'CRUET', 'TRUCE', 'URIEL', 'CUTIE', 'UTILE', 'LIEUT', 'QUILT']\n"
     ]
    },
    {
     "name": "stderr",
     "output_type": "stream",
     "text": [
      " 59%|█████▉    | 592/1000 [04:33<02:59,  2.27it/s]"
     ]
    },
    {
     "name": "stdout",
     "output_type": "stream",
     "text": [
      "person1 = ['E', 'Q']\n",
      "person2 = ['U', 'H']\n",
      "person3 = ['Y', 'N']\n",
      "person4 = ['Y', 'R']\n",
      "person5 = ['A', 'O']\n",
      "Found words: ['ROUEN', 'HYENA', 'HANEY', 'HONEY', 'HERON', 'HONER', 'HORNE', 'RHONE', 'QURAN']\n"
     ]
    },
    {
     "name": "stderr",
     "output_type": "stream",
     "text": [
      " 59%|█████▉    | 593/1000 [04:34<02:58,  2.28it/s]"
     ]
    },
    {
     "name": "stdout",
     "output_type": "stream",
     "text": [
      "person1 = ['C', 'T']\n",
      "person2 = ['H', 'E']\n",
      "person3 = ['A', 'N']\n",
      "person4 = ['I', 'Y']\n",
      "person5 = ['S', 'N']\n",
      "Found words: ['CHAIN', 'CHIAN', 'CHINA', 'ICAHN', 'CHINS', 'CAINE', 'CAYES', 'CASEY', 'CENIS', 'SINCE', 'THAIS', 'TISHA', 'SAITH', 'HASTY', 'THINS', 'HINTS', 'NINTH', 'SYNTH', 'TENIA', 'TAINE', 'TINEA', 'YEATS', 'YEAST', 'YATES', 'TANEY', 'YENTA', 'TINES', 'NITES', 'INSET', 'STEIN', 'STINE']\n"
     ]
    },
    {
     "name": "stderr",
     "output_type": "stream",
     "text": [
      " 59%|█████▉    | 594/1000 [04:34<02:57,  2.28it/s]"
     ]
    },
    {
     "name": "stdout",
     "output_type": "stream",
     "text": [
      "person1 = ['P', 'E']\n",
      "person2 = ['H', 'H']\n",
      "person3 = ['O', 'T']\n",
      "person4 = ['Y', 'S']\n",
      "person5 = ['A', 'E']\n",
      "Found words: ['OPAHS', 'HOPES', 'TYPHA', 'PATHS', 'STAPH', 'HOSEA', 'HEATS', 'HATES', 'HASTE', 'THESE', 'THEES', 'SHEET']\n"
     ]
    },
    {
     "name": "stderr",
     "output_type": "stream",
     "text": [
      " 60%|█████▉    | 595/1000 [04:35<02:57,  2.28it/s]"
     ]
    },
    {
     "name": "stdout",
     "output_type": "stream",
     "text": [
      "person1 = ['P', 'S']\n",
      "person2 = ['H', 'E']\n",
      "person3 = ['O', 'T']\n",
      "person4 = ['A', 'O']\n",
      "person5 = ['L', 'Y']\n",
      "Found words: ['PLATH', 'TYPHA', 'POOLE', 'PETAL', 'PATEL', 'PLEAT', 'PLATE', 'LEPTA', 'LEAPT', 'PEATY', 'SHOAL', 'HALOS', 'SHOOL', 'SHALT', 'HALTS', 'LATHS', 'HASTY', 'SLOTH', 'HOLST', 'ALOES', 'LOOSE', 'STEAL', 'STELA', 'STAEL', 'STALE', 'SLATE', 'TESLA', 'TEALS', 'TALES', 'LEAST', 'YEAST', 'YEATS', 'YATES', 'STOLE', 'TESOL']\n"
     ]
    },
    {
     "name": "stderr",
     "output_type": "stream",
     "text": [
      " 60%|█████▉    | 597/1000 [04:36<02:59,  2.25it/s]"
     ]
    },
    {
     "name": "stdout",
     "output_type": "stream",
     "text": [
      "person1 = ['C', 'T']\n",
      "person2 = ['H', 'H']\n",
      "person3 = ['R', 'Y']\n",
      "person4 = ['N', 'E']\n",
      "person5 = ['T', 'E']\n",
      "Found words: ['CHERT', 'RETCH', 'CHEER', 'TYCHE', 'TECHY', 'THREE', 'THERE', 'ETHER']\n"
     ]
    },
    {
     "name": "stderr",
     "output_type": "stream",
     "text": [
      " 60%|██████    | 600/1000 [04:37<02:53,  2.30it/s]"
     ]
    },
    {
     "name": "stdout",
     "output_type": "stream",
     "text": [
      "person1 = ['E', 'Q']\n",
      "person2 = ['H', 'H']\n",
      "person3 = ['O', 'S']\n",
      "person4 = ['T', 'S']\n",
      "person5 = ['O', 'S']\n",
      "Found words: ['ETHOS', 'THOSE', 'SHOTE', 'HOSES', 'SHOES', 'THESS']\n"
     ]
    },
    {
     "name": "stderr",
     "output_type": "stream",
     "text": [
      " 60%|██████    | 601/1000 [04:37<02:55,  2.28it/s]"
     ]
    },
    {
     "name": "stdout",
     "output_type": "stream",
     "text": [
      "person1 = ['C', 'T']\n",
      "person2 = ['U', 'K']\n",
      "person3 = ['S', 'Y']\n",
      "person4 = ['H', 'O']\n",
      "person5 = ['S', 'O']\n",
      "Found words: ['HOCUS', 'CUSHY', 'SHOCK', 'HOCKS', 'SOCKS', 'COOKS', 'COOKY', 'SHUTS', 'THOUS', 'SHOUT', 'SOUTH', 'OUSTS', 'TUSHY', 'YOUTH', 'KOTOS', 'STOOK', 'TOKYO', 'KYOTO']\n"
     ]
    },
    {
     "name": "stderr",
     "output_type": "stream",
     "text": [
      " 60%|██████    | 602/1000 [04:38<02:56,  2.25it/s]"
     ]
    },
    {
     "name": "stdout",
     "output_type": "stream",
     "text": [
      "person1 = ['P', 'E']\n",
      "person2 = ['U', 'E']\n",
      "person3 = ['A', 'O']\n",
      "person4 = ['E', 'T']\n",
      "person5 = ['A', 'S']\n",
      "Found words: ['PAUSE', 'SPUTA', 'STUPA', 'POUTS', 'SPOUT', 'STOUP', 'PATES', 'PASTE', 'TAPES', 'SPATE', 'SEPTA', 'PESTO', 'POETS', 'ESTOP', 'TOPES', 'STOPE', 'SAUTE', 'TEASE', 'SETAE']\n"
     ]
    },
    {
     "name": "stderr",
     "output_type": "stream",
     "text": [
      " 60%|██████    | 604/1000 [04:39<02:55,  2.26it/s]"
     ]
    },
    {
     "name": "stdout",
     "output_type": "stream",
     "text": [
      "person1 = ['P', 'T']\n",
      "person2 = ['K', 'H']\n",
      "person3 = ['N', 'A']\n",
      "person4 = ['S', 'T']\n",
      "person5 = ['O', 'N']\n",
      "Found words: ['KNAPS', 'SPANK', 'PHONS', 'OPAHS', 'SPAHN', 'KNOTS', 'TANKS', 'STANK', 'HOSTA', 'ATHOS', 'SHOAT', 'OATHS', 'SNATH', 'THANT']\n"
     ]
    },
    {
     "name": "stderr",
     "output_type": "stream",
     "text": [
      " 61%|██████    | 606/1000 [04:40<02:53,  2.27it/s]"
     ]
    },
    {
     "name": "stdout",
     "output_type": "stream",
     "text": [
      "person1 = ['C', 'Q']\n",
      "person2 = ['K', 'H']\n",
      "person3 = ['R', 'N']\n",
      "person4 = ['A', 'N']\n",
      "person5 = ['T', 'I']\n",
      "Found words: ['TRACK', 'CHART', 'ARCHT', 'CHARI', 'CHAIR', 'CHANT', 'NATCH', 'CHAIN', 'CHINA', 'CHIAN', 'ICAHN']\n"
     ]
    },
    {
     "name": "stderr",
     "output_type": "stream",
     "text": [
      " 61%|██████    | 607/1000 [04:40<02:52,  2.28it/s]"
     ]
    },
    {
     "name": "stdout",
     "output_type": "stream",
     "text": [
      "person1 = ['S', 'T']\n",
      "person2 = ['U', 'H']\n",
      "person3 = ['S', 'H']\n",
      "person4 = ['I', 'H']\n",
      "person5 = ['L', 'E']\n",
      "Found words: ['SUSIE', 'ISSUE', 'SLUSH', 'SHLUH', 'SHIES', 'SUITE', 'ETUIS', 'SHUTE', 'THIEU', 'HILTS', 'HEIST', 'HETHS']\n"
     ]
    },
    {
     "name": "stderr",
     "output_type": "stream",
     "text": [
      " 61%|██████    | 608/1000 [04:40<02:51,  2.28it/s]"
     ]
    },
    {
     "name": "stdout",
     "output_type": "stream",
     "text": [
      "person1 = ['E', 'S']\n",
      "person2 = ['U', 'E']\n",
      "person3 = ['R', 'T']\n",
      "person4 = ['C', 'N']\n",
      "person5 = ['T', 'A']\n",
      "Found words: ['ERUCT', 'RECUT', 'CURET', 'CUTER', 'CRUET', 'TRUCE', 'TUNER', 'CEUTA', 'ACUTE', 'ERECT', 'CRETE', 'TERCE', 'ENTER', 'TREEN', 'RANEE', 'TENET', 'ENATE', 'EATEN', 'CRUST', 'RUNTS', 'TURNS', 'SCUTA', 'STUNT', 'TUNAS', 'AUNTS', 'CERTS', 'CREST', 'SCARE', 'RACES', 'CESAR', 'CARSE', 'CARES', 'ACRES', 'STERN', 'ERNST', 'RENTS', 'TERNS', 'SNARE', 'SANER', 'EARNS', 'NEARS', 'NARES', 'CESTA', 'CASTE', 'STENT', 'TENTS', 'STANE', 'ETNAS', 'NATES', 'ANTES']\n"
     ]
    },
    {
     "name": "stderr",
     "output_type": "stream",
     "text": [
      " 61%|██████    | 610/1000 [04:41<02:48,  2.31it/s]"
     ]
    },
    {
     "name": "stdout",
     "output_type": "stream",
     "text": [
      "person1 = ['C', 'E']\n",
      "person2 = ['H', 'E']\n",
      "person3 = ['S', 'T']\n",
      "person4 = ['L', 'T']\n",
      "person5 = ['S', 'Y']\n",
      "Found words: ['SECTS', 'CELTS', 'THESS', 'ETHYL', 'TETHS', 'SEELS', 'ESTES', 'STEEL', 'STELE', 'SLEET', 'LEYTE']\n"
     ]
    },
    {
     "name": "stderr",
     "output_type": "stream",
     "text": [
      " 61%|██████    | 612/1000 [04:42<02:49,  2.28it/s]"
     ]
    },
    {
     "name": "stdout",
     "output_type": "stream",
     "text": [
      "person1 = ['E', 'C']\n",
      "person2 = ['E', 'K']\n",
      "person3 = ['S', 'N']\n",
      "person4 = ['Y', 'N']\n",
      "person5 = ['L', 'I']\n",
      "Found words: ['SEINE', 'KYLES', 'YEISK', 'YIKES', 'KINES', 'SKEIN', 'CENIS', 'SINCE', 'SNICK', 'NICKS']\n"
     ]
    },
    {
     "name": "stderr",
     "output_type": "stream",
     "text": [
      " 61%|██████▏   | 613/1000 [04:43<02:53,  2.23it/s]"
     ]
    },
    {
     "name": "stdout",
     "output_type": "stream",
     "text": [
      "person1 = ['T', 'C']\n",
      "person2 = ['U', 'E']\n",
      "person3 = ['Y', 'S']\n",
      "person4 = ['H', 'R']\n",
      "person5 = ['Y', 'A']\n",
      "Found words: ['THUYA', 'TUSHY', 'RUSTY', 'YURTS', 'SUTRA', 'SURAT', 'TEARY', 'HEATS', 'HATES', 'HASTE', 'TREYS', 'TEARS', 'TREAS', 'TASER', 'TARES', 'STARE', 'RESAT', 'RATES', 'ASTER', 'CUSHY', 'CYRUS', 'CAREY', 'CHASE', 'ACHES', 'CESAR', 'CARES', 'CARSE', 'SCARE', 'RACES', 'ACRES']\n"
     ]
    },
    {
     "name": "stderr",
     "output_type": "stream",
     "text": [
      " 62%|██████▏   | 616/1000 [04:44<02:46,  2.30it/s]"
     ]
    },
    {
     "name": "stdout",
     "output_type": "stream",
     "text": [
      "person1 = ['P', 'C']\n",
      "person2 = ['K', 'H']\n",
      "person3 = ['S', 'R']\n",
      "person4 = ['H', 'A']\n",
      "person5 = ['C', 'S']\n",
      "Found words: ['PACKS', 'PARKS', 'SPARK', 'CHAPS', 'HASPS', 'PARCH', 'HARPS', 'SHARP', 'CASKS', 'SACKS', 'CRACK', 'CARKS', 'RACKS', 'SACHS', 'CHARS', 'CRASH']\n"
     ]
    },
    {
     "name": "stderr",
     "output_type": "stream",
     "text": [
      " 62%|██████▏   | 617/1000 [04:44<02:47,  2.29it/s]"
     ]
    },
    {
     "name": "stdout",
     "output_type": "stream",
     "text": [
      "person1 = ['C', 'E']\n",
      "person2 = ['H', 'H']\n",
      "person3 = ['S', 'T']\n",
      "person4 = ['C', 'O']\n",
      "person5 = ['L', 'N']\n",
      "Found words: ['CLOTH', 'NOTCH', 'HOLES', 'SHEOL', 'HONES', 'SHONE', 'TENCH', 'HELOT', 'HOTEL', 'THEOL', 'THOLE']\n"
     ]
    },
    {
     "name": "stderr",
     "output_type": "stream",
     "text": [
      " 62%|██████▏   | 622/1000 [04:47<02:41,  2.34it/s]"
     ]
    },
    {
     "name": "stdout",
     "output_type": "stream",
     "text": [
      "person1 = ['C', 'E']\n",
      "person2 = ['H', 'E']\n",
      "person3 = ['I', 'N']\n",
      "person4 = ['C', 'T']\n",
      "person5 = ['R', 'L']\n",
      "Found words: ['CERIC', 'CIRCE', 'CECIL', 'TRICE', 'RECTI', 'TELIC', 'ERICH', 'CHERI', 'REICH', 'CHILE', 'THEIR', 'LEITH', 'LITHE', 'RETIE', 'ELITE', 'ENTER', 'TREEN']\n"
     ]
    },
    {
     "name": "stderr",
     "output_type": "stream",
     "text": [
      " 62%|██████▏   | 623/1000 [04:47<02:45,  2.28it/s]"
     ]
    },
    {
     "name": "stdout",
     "output_type": "stream",
     "text": [
      "person1 = ['S', 'C']\n",
      "person2 = ['E', 'H']\n",
      "person3 = ['O', 'R']\n",
      "person4 = ['N', 'H']\n",
      "person5 = ['L', 'E']\n",
      "Found words: ['OLSEN', 'NOELS', 'SHEOL', 'HOLES', 'SNEER', 'ERNES', 'SHEER', 'HERES', 'SHONE', 'HONES', 'CLEON', 'CLONE', 'CHLOE', 'CHEER', 'COHEN', 'ENOCH']\n"
     ]
    },
    {
     "name": "stderr",
     "output_type": "stream",
     "text": [
      " 62%|██████▎   | 625/1000 [04:48<02:45,  2.27it/s]"
     ]
    },
    {
     "name": "stdout",
     "output_type": "stream",
     "text": [
      "person1 = ['T', 'Q']\n",
      "person2 = ['K', 'H']\n",
      "person3 = ['N', 'S']\n",
      "person4 = ['H', 'L']\n",
      "person5 = ['A', 'Y']\n",
      "Found words: ['THANK', 'TALKS', 'STALK', 'THANH', 'HALTS', 'SHALT', 'LATHS']\n"
     ]
    },
    {
     "name": "stderr",
     "output_type": "stream",
     "text": [
      " 63%|██████▎   | 626/1000 [04:48<02:43,  2.29it/s]"
     ]
    },
    {
     "name": "stdout",
     "output_type": "stream",
     "text": [
      "person1 = ['P', 'C']\n",
      "person2 = ['K', 'H']\n",
      "person3 = ['A', 'H']\n",
      "person4 = ['O', 'I']\n",
      "person5 = ['H', 'R']\n",
      "Found words: ['OPRAH', 'CROAK', 'CHIRK', 'ROCHA', 'ROACH', 'CHAIR', 'CHARI']\n"
     ]
    },
    {
     "name": "stderr",
     "output_type": "stream",
     "text": [
      " 63%|██████▎   | 631/1000 [04:51<02:41,  2.29it/s]"
     ]
    },
    {
     "name": "stdout",
     "output_type": "stream",
     "text": [
      "person1 = ['Q', 'C']\n",
      "person2 = ['U', 'H']\n",
      "person3 = ['R', 'L']\n",
      "person4 = ['R', 'O']\n",
      "person5 = ['S', 'A']\n",
      "Found words: ['ORCUS', 'SCOUR', 'CURLS', 'LOCUS', 'CHARR', 'ROCHA', 'ROACH', 'LARCH', 'LOACH']\n"
     ]
    },
    {
     "name": "stderr",
     "output_type": "stream",
     "text": [
      " 63%|██████▎   | 632/1000 [04:51<02:43,  2.25it/s]"
     ]
    },
    {
     "name": "stdout",
     "output_type": "stream",
     "text": [
      "person1 = ['T', 'C']\n",
      "person2 = ['U', 'H']\n",
      "person3 = ['C', 'O']\n",
      "person4 = ['T', 'S']\n",
      "person5 = ['S', 'Y']\n",
      "Found words: ['CUTTY', 'SCUTS', 'TOUTS', 'STOUT', 'OUSTS', 'HOSTS', 'SHOTS', 'SCOUT', 'TYCHO']\n"
     ]
    },
    {
     "name": "stderr",
     "output_type": "stream",
     "text": [
      " 63%|██████▎   | 633/1000 [04:51<02:40,  2.28it/s]"
     ]
    },
    {
     "name": "stdout",
     "output_type": "stream",
     "text": [
      "person1 = ['S', 'P']\n",
      "person2 = ['E', 'K']\n",
      "person3 = ['O', 'S']\n",
      "person4 = ['T', 'H']\n",
      "person5 = ['T', 'I']\n",
      "Found words: ['TOTES', 'SHOTE', 'ETHOS', 'THOSE', 'SETTS', 'STETS', 'TESTS', 'STIES', 'SITES', 'THESS', 'SHIES', 'SKITS', 'SIKHS', 'PISTE', 'SPITE', 'STIPE']\n"
     ]
    },
    {
     "name": "stderr",
     "output_type": "stream",
     "text": [
      " 63%|██████▎   | 634/1000 [04:52<02:43,  2.24it/s]"
     ]
    },
    {
     "name": "stdout",
     "output_type": "stream",
     "text": [
      "person1 = ['T', 'C']\n",
      "person2 = ['H', 'H']\n",
      "person3 = ['N', 'Y']\n",
      "person4 = ['N', 'A']\n",
      "person5 = ['T', 'L']\n",
      "Found words: ['THANT', 'LATHY', 'CHANT', 'NATCH', 'LYNCH', 'CATHY', 'YACHT']\n"
     ]
    },
    {
     "name": "stderr",
     "output_type": "stream",
     "text": [
      " 64%|██████▎   | 635/1000 [04:52<02:41,  2.26it/s]"
     ]
    },
    {
     "name": "stdout",
     "output_type": "stream",
     "text": [
      "person1 = ['E', 'Q']\n",
      "person2 = ['E', 'H']\n",
      "person3 = ['N', 'E']\n",
      "person4 = ['A', 'S']\n",
      "person5 = ['R', 'I']\n",
      "Found words: ['RANEE', 'ERNES', 'SNEER', 'SEINE', 'REESE', 'HINES', 'SHINE', 'HERES', 'SHEER']\n"
     ]
    },
    {
     "name": "stderr",
     "output_type": "stream",
     "text": [
      " 64%|██████▎   | 636/1000 [04:53<02:47,  2.18it/s]"
     ]
    },
    {
     "name": "stdout",
     "output_type": "stream",
     "text": [
      "person1 = ['P', 'S']\n",
      "person2 = ['H', 'H']\n",
      "person3 = ['A', 'T']\n",
      "person4 = ['C', 'R']\n",
      "person5 = ['R', 'T']\n",
      "Found words: ['PARCH', 'PATCH', 'THARP', 'CHARS', 'CRASH', 'CHATS', 'HARTS', 'RASHT', 'TRASH']\n"
     ]
    },
    {
     "name": "stderr",
     "output_type": "stream",
     "text": [
      " 64%|██████▍   | 638/1000 [04:54<02:42,  2.23it/s]"
     ]
    },
    {
     "name": "stdout",
     "output_type": "stream",
     "text": [
      "person1 = ['T', 'E']\n",
      "person2 = ['H', 'H']\n",
      "person3 = ['S', 'O']\n",
      "person4 = ['H', 'S']\n",
      "person5 = ['S', 'I']\n",
      "Found words: ['SHITS', 'HOSTS', 'SHOTS', 'HOIST', 'SHIES', 'HOSES', 'SHOES']\n"
     ]
    },
    {
     "name": "stderr",
     "output_type": "stream",
     "text": [
      " 64%|██████▍   | 640/1000 [04:55<02:41,  2.23it/s]"
     ]
    },
    {
     "name": "stdout",
     "output_type": "stream",
     "text": [
      "person1 = ['E', 'C']\n",
      "person2 = ['U', 'K']\n",
      "person3 = ['T', 'N']\n",
      "person4 = ['I', 'Y']\n",
      "person5 = ['R', 'H']\n",
      "Found words: ['UTERI', 'THIEU', 'URINE', 'INURE', 'TRIKE', 'KEITH', 'KIETH', 'INCUR', 'RUNIC', 'TRICK', 'THICK', 'CHINK']\n"
     ]
    },
    {
     "name": "stderr",
     "output_type": "stream",
     "text": [
      " 64%|██████▍   | 641/1000 [04:55<02:41,  2.23it/s]"
     ]
    },
    {
     "name": "stdout",
     "output_type": "stream",
     "text": [
      "person1 = ['E', 'T']\n",
      "person2 = ['U', 'H']\n",
      "person3 = ['I', 'R']\n",
      "person4 = ['R', 'S']\n",
      "person5 = ['I', 'E']\n",
      "Found words: ['REUSE', 'HIRER', 'HEIRS', 'HIRES', 'SHERI', 'SHIER', 'SHIRE', 'HERES', 'SHEER', 'UTERI', 'SUITE', 'ETUIS', 'TRUER', 'SRUTI', 'TRUES', 'THEIR', 'HEIST', 'SHIRT', 'RESHT']\n"
     ]
    },
    {
     "name": "stderr",
     "output_type": "stream",
     "text": [
      " 64%|██████▍   | 642/1000 [04:55<02:44,  2.18it/s]"
     ]
    },
    {
     "name": "stdout",
     "output_type": "stream",
     "text": [
      "person1 = ['C', 'E']\n",
      "person2 = ['H', 'U']\n",
      "person3 = ['C', 'O']\n",
      "person4 = ['I', 'S']\n",
      "person5 = ['Y', 'N']\n",
      "Found words: ['CINCH', 'CHINO', 'CHINE', 'NICHE', 'HONES', 'SHONE']\n"
     ]
    },
    {
     "name": "stderr",
     "output_type": "stream",
     "text": [
      " 64%|██████▍   | 645/1000 [04:57<02:39,  2.23it/s]"
     ]
    },
    {
     "name": "stdout",
     "output_type": "stream",
     "text": [
      "person1 = ['Q', 'P']\n",
      "person2 = ['U', 'H']\n",
      "person3 = ['A', 'S']\n",
      "person4 = ['L', 'S']\n",
      "person5 = ['R', 'N']\n",
      "Found words: ['SUPRA', 'PUSAN', 'PURLS', 'SLURP', 'SPURS', 'RALPH', 'HARPS', 'SHARP', 'SPAHN']\n"
     ]
    },
    {
     "name": "stderr",
     "output_type": "stream",
     "text": [
      " 65%|██████▍   | 646/1000 [04:57<02:39,  2.21it/s]"
     ]
    },
    {
     "name": "stdout",
     "output_type": "stream",
     "text": [
      "person1 = ['C', 'C']\n",
      "person2 = ['U', 'E']\n",
      "person3 = ['S', 'H']\n",
      "person4 = ['E', 'T']\n",
      "person5 = ['E', 'Y']\n",
      "Found words: ['CETUS', 'SCUTE', 'CHUTE', 'SYCEE', 'TECHY', 'TYCHE']\n"
     ]
    },
    {
     "name": "stderr",
     "output_type": "stream",
     "text": [
      " 65%|██████▍   | 648/1000 [04:58<02:36,  2.25it/s]"
     ]
    },
    {
     "name": "stdout",
     "output_type": "stream",
     "text": [
      "person1 = ['T', 'E']\n",
      "person2 = ['H', 'H']\n",
      "person3 = ['R', 'L']\n",
      "person4 = ['I', 'T']\n",
      "person5 = ['O', 'N']\n",
      "Found words: ['TROTH', 'THIOL', 'LITHO', 'HENRI', 'RHINE', 'THROE', 'OTHER', 'HELOT', 'HOTEL', 'THEOL', 'THOLE']\n"
     ]
    },
    {
     "name": "stderr",
     "output_type": "stream",
     "text": [
      " 65%|██████▍   | 649/1000 [04:59<02:35,  2.26it/s]"
     ]
    },
    {
     "name": "stdout",
     "output_type": "stream",
     "text": [
      "person1 = ['S', 'C']\n",
      "person2 = ['H', 'U']\n",
      "person3 = ['A', 'I']\n",
      "person4 = ['O', 'R']\n",
      "person5 = ['O', 'Y']\n",
      "Found words: ['HOARS', 'HORSA', 'HORAS', 'SURYA', 'SAURY', 'ACHOO', 'OCHOA', 'ROCHA', 'ROACH', 'CHARY', 'CHOIR', 'ICHOR', 'CURIO']\n"
     ]
    },
    {
     "name": "stderr",
     "output_type": "stream",
     "text": [
      " 65%|██████▌   | 650/1000 [04:59<02:36,  2.24it/s]"
     ]
    },
    {
     "name": "stdout",
     "output_type": "stream",
     "text": [
      "person1 = ['C', 'T']\n",
      "person2 = ['K', 'H']\n",
      "person3 = ['A', 'E']\n",
      "person4 = ['T', 'L']\n",
      "person5 = ['Y', 'H']\n",
      "Found words: ['TACKY', 'CHALK', 'KETCH', 'LECKY', 'CATHY', 'YACHT', 'HATCH', 'TECHY', 'TYCHE', 'CHYLE', 'TALKY', 'LATHY', 'ETHYL']\n"
     ]
    },
    {
     "name": "stderr",
     "output_type": "stream",
     "text": [
      " 65%|██████▌   | 651/1000 [05:00<02:37,  2.22it/s]"
     ]
    },
    {
     "name": "stdout",
     "output_type": "stream",
     "text": [
      "person1 = ['P', 'C']\n",
      "person2 = ['H', 'U']\n",
      "person3 = ['O', 'A']\n",
      "person4 = ['L', 'E']\n",
      "person5 = ['C', 'Y']\n",
      "Found words: ['EPOCH', 'PHYLA', 'HAPLY', 'PEACH', 'CHAPE', 'CHEAP', 'COUPE', 'CULPA', 'LAYUP', 'CACHE', 'LUCCA']\n"
     ]
    },
    {
     "name": "stderr",
     "output_type": "stream",
     "text": [
      " 65%|██████▌   | 652/1000 [05:00<02:35,  2.24it/s]"
     ]
    },
    {
     "name": "stdout",
     "output_type": "stream",
     "text": [
      "person1 = ['C', 'S']\n",
      "person2 = ['H', 'K']\n",
      "person3 = ['H', 'O']\n",
      "person4 = ['C', 'N']\n",
      "person5 = ['I', 'A']\n",
      "Found words: ['CHICO', 'CHACO', 'COACH', 'CHINO', 'COHAN', 'NACHO', 'CHICK', 'CHINK', 'SOCHI', 'CHIOS', 'CHAOS', 'HICKS', 'SHACK', 'HACKS', 'KNISH', 'SHANK', 'KHANS', 'HANKS', 'ANKHS', 'SICKO', 'KINOS', 'OINKS', 'KOANS', 'KAONS']\n"
     ]
    },
    {
     "name": "stderr",
     "output_type": "stream",
     "text": [
      " 65%|██████▌   | 653/1000 [05:00<02:34,  2.25it/s]"
     ]
    },
    {
     "name": "stdout",
     "output_type": "stream",
     "text": [
      "person1 = ['S', 'E']\n",
      "person2 = ['E', 'H']\n",
      "person3 = ['H', 'C']\n",
      "person4 = ['A', 'Y']\n",
      "person5 = ['N', 'Y']\n",
      "Found words: ['SHANE', 'HANSE', 'ASHEN', 'HAYES', 'YEAHS', 'CANES', 'CASEY', 'CAYES', 'HANCE']\n"
     ]
    },
    {
     "name": "stderr",
     "output_type": "stream",
     "text": [
      " 66%|██████▌   | 658/1000 [05:03<02:32,  2.24it/s]"
     ]
    },
    {
     "name": "stdout",
     "output_type": "stream",
     "text": [
      "person1 = ['P', 'S']\n",
      "person2 = ['H', 'K']\n",
      "person3 = ['R', 'C']\n",
      "person4 = ['O', 'I']\n",
      "person5 = ['H', 'O']\n",
      "Found words: ['OPHIR', 'POOCH', 'COHOS', 'SOCHI', 'CHIOS', 'ROOKS', 'SHIRK', 'SHOCK', 'HOCKS', 'COOKS', 'HICKS', 'SICKO']\n"
     ]
    },
    {
     "name": "stderr",
     "output_type": "stream",
     "text": [
      " 66%|██████▌   | 659/1000 [05:03<02:35,  2.19it/s]"
     ]
    },
    {
     "name": "stdout",
     "output_type": "stream",
     "text": [
      "person1 = ['P', 'S']\n",
      "person2 = ['H', 'H']\n",
      "person3 = ['S', 'I']\n",
      "person4 = ['A', 'C']\n",
      "person5 = ['N', 'O']\n",
      "Found words: ['SPAHN', 'OPAHS', 'CHOPS', 'POHAI', 'PINCH', 'SHANS', 'CHINS', 'SOCHI', 'CHIOS']\n"
     ]
    },
    {
     "name": "stderr",
     "output_type": "stream",
     "text": [
      " 66%|██████▌   | 660/1000 [05:04<02:34,  2.19it/s]"
     ]
    },
    {
     "name": "stdout",
     "output_type": "stream",
     "text": [
      "person1 = ['P', 'E']\n",
      "person2 = ['H', 'H']\n",
      "person3 = ['O', 'Y']\n",
      "person4 = ['E', 'R']\n",
      "person5 = ['T', 'S']\n",
      "Found words: ['HOPES', 'THORP', 'HYPES', 'OTHER', 'THROE', 'HOERS', 'HORSE', 'SHORE', 'SHYER']\n"
     ]
    },
    {
     "name": "stderr",
     "output_type": "stream",
     "text": [
      " 66%|██████▌   | 661/1000 [05:04<02:33,  2.21it/s]"
     ]
    },
    {
     "name": "stdout",
     "output_type": "stream",
     "text": [
      "person1 = ['P', 'S']\n",
      "person2 = ['E', 'H']\n",
      "person3 = ['I', 'E']\n",
      "person4 = ['N', 'L']\n",
      "person5 = ['R', 'L']\n",
      "Found words: ['RIPEN', 'PERIL', 'PLIER', 'PREEN', 'NEPER', 'LEPER', 'REPEL', 'PHREN', 'SERIN', 'SIREN', 'RESIN', 'REINS', 'RISEN', 'RINSE', 'NILES', 'LENIS', 'LIENS', 'LINES', 'SLIER', 'RIELS', 'RILES', 'ELLIS', 'LISLE', 'SNEER', 'ERNES', 'LEERS', 'REELS', 'SHILL', 'HILLS', 'SHELL', 'HELLS']\n"
     ]
    },
    {
     "name": "stderr",
     "output_type": "stream",
     "text": [
      " 66%|██████▌   | 662/1000 [05:04<02:30,  2.25it/s]"
     ]
    },
    {
     "name": "stdout",
     "output_type": "stream",
     "text": [
      "person1 = ['T', 'P']\n",
      "person2 = ['E', 'K']\n",
      "person3 = ['O', 'N']\n",
      "person4 = ['N', 'I']\n",
      "person5 = ['O', 'E']\n",
      "Found words: ['TENNO', 'TENON', 'TONNE', 'NONET', 'TENNE', 'TOKEN', 'KIOTO', 'PENNE', 'OPINE', 'PINKO', 'PEKIN']\n"
     ]
    },
    {
     "name": "stderr",
     "output_type": "stream",
     "text": [
      " 66%|██████▋   | 664/1000 [05:05<02:25,  2.31it/s]"
     ]
    },
    {
     "name": "stdout",
     "output_type": "stream",
     "text": [
      "person1 = ['C', 'E']\n",
      "person2 = ['H', 'H']\n",
      "person3 = ['O', 'Y']\n",
      "person4 = ['L', 'S']\n",
      "person5 = ['O', 'I']\n",
      "Found words: ['CHOLI', 'COHOS', 'CHIOS', 'SOCHI', 'HOYLE', 'HOLEY']\n"
     ]
    },
    {
     "name": "stderr",
     "output_type": "stream",
     "text": [
      " 66%|██████▋   | 665/1000 [05:06<02:25,  2.30it/s]"
     ]
    },
    {
     "name": "stdout",
     "output_type": "stream",
     "text": [
      "person1 = ['E', 'Q']\n",
      "person2 = ['H', 'U']\n",
      "person3 = ['Y', 'R']\n",
      "person4 = ['C', 'N']\n",
      "person5 = ['S', 'N']\n",
      "Found words: ['CURES', 'CURSE', 'CRUSE', 'SUCRE', 'RUNES', 'NURSE']\n"
     ]
    },
    {
     "name": "stderr",
     "output_type": "stream",
     "text": [
      " 67%|██████▋   | 667/1000 [05:07<02:50,  1.96it/s]"
     ]
    },
    {
     "name": "stdout",
     "output_type": "stream",
     "text": [
      "person1 = ['P', 'E']\n",
      "person2 = ['U', 'H']\n",
      "person3 = ['N', 'Y']\n",
      "person4 = ['T', 'S']\n",
      "person5 = ['N', 'T']\n",
      "Found words: ['PUNTS', 'PUTTY', 'UNSET', 'TUNES', 'SUETY', 'TENTH']\n"
     ]
    },
    {
     "name": "stderr",
     "output_type": "stream",
     "text": [
      " 67%|██████▋   | 669/1000 [05:08<03:05,  1.78it/s]"
     ]
    },
    {
     "name": "stdout",
     "output_type": "stream",
     "text": [
      "person1 = ['S', 'P']\n",
      "person2 = ['K', 'U']\n",
      "person3 = ['R', 'S']\n",
      "person4 = ['E', 'N']\n",
      "person5 = ['Y', 'H']\n",
      "Found words: ['SHREK', 'SYKES', 'USHER', 'SHUNS', 'PERKY', 'PESKY', 'SKYPE', 'PUSEY']\n"
     ]
    },
    {
     "name": "stderr",
     "output_type": "stream",
     "text": [
      " 67%|██████▋   | 671/1000 [05:09<03:07,  1.75it/s]"
     ]
    },
    {
     "name": "stdout",
     "output_type": "stream",
     "text": [
      "person1 = ['Q', 'T']\n",
      "person2 = ['K', 'U']\n",
      "person3 = ['S', 'R']\n",
      "person4 = ['E', 'A']\n",
      "person5 = ['C', 'R']\n",
      "Found words: ['TREKS', 'TACKS', 'STACK', 'KARTS', 'KARST', 'STARK', 'TRACK', 'SCUTE', 'CETUS', 'TRUES', 'SCUTA', 'SUTRA', 'SURAT', 'TRUCE', 'RECUT', 'ERUCT', 'CUTER', 'CURET', 'CRUET', 'TRUER']\n"
     ]
    },
    {
     "name": "stderr",
     "output_type": "stream",
     "text": [
      " 67%|██████▋   | 672/1000 [05:10<03:01,  1.80it/s]"
     ]
    },
    {
     "name": "stdout",
     "output_type": "stream",
     "text": [
      "person1 = ['P', 'C']\n",
      "person2 = ['H', 'H']\n",
      "person3 = ['L', 'H']\n",
      "person4 = ['A', 'I']\n",
      "person5 = ['C', 'E']\n",
      "Found words: ['ALEPH', 'PILCH', 'EPHAH', 'CHELA', 'LEACH', 'CHILE']\n"
     ]
    },
    {
     "name": "stderr",
     "output_type": "stream",
     "text": [
      " 67%|██████▋   | 673/1000 [05:10<02:59,  1.82it/s]"
     ]
    },
    {
     "name": "stdout",
     "output_type": "stream",
     "text": [
      "person1 = ['C', 'E']\n",
      "person2 = ['H', 'U']\n",
      "person3 = ['S', 'N']\n",
      "person4 = ['L', 'T']\n",
      "person5 = ['T', 'L']\n",
      "Found words: ['CULTS', 'CULLS', 'SCULL', 'HELLS', 'SHELL', 'TETHS', 'TENTH', 'LUTES', 'ELULS']\n"
     ]
    },
    {
     "name": "stderr",
     "output_type": "stream",
     "text": [
      " 67%|██████▋   | 674/1000 [05:11<03:01,  1.80it/s]"
     ]
    },
    {
     "name": "stdout",
     "output_type": "stream",
     "text": [
      "person1 = ['T', 'P']\n",
      "person2 = ['E', 'H']\n",
      "person3 = ['O', 'T']\n",
      "person4 = ['N', 'H']\n",
      "person5 = ['H', 'L']\n",
      "Found words: ['ELTON', 'LENTO', 'THEOL', 'THOLE', 'HELOT', 'HOTEL', 'TENTH', 'PHEON', 'PHONE', 'HOPEH']\n"
     ]
    },
    {
     "name": "stderr",
     "output_type": "stream",
     "text": [
      " 68%|██████▊   | 676/1000 [05:12<03:00,  1.80it/s]"
     ]
    },
    {
     "name": "stdout",
     "output_type": "stream",
     "text": [
      "person1 = ['C', 'S']\n",
      "person2 = ['H', 'H']\n",
      "person3 = ['O', 'E']\n",
      "person4 = ['R', 'I']\n",
      "person5 = ['I', 'E']\n",
      "Found words: ['CHOIR', 'ICHOR', 'CHORE', 'OCHER', 'ROCHE', 'CHERI', 'ERICH', 'REICH', 'CHEER', 'SHORE', 'HORSE', 'HOERS', 'SHERI', 'SHIER', 'SHIRE', 'HEIRS', 'HIRES', 'SHEER', 'HERES']\n"
     ]
    },
    {
     "name": "stderr",
     "output_type": "stream",
     "text": [
      " 68%|██████▊   | 678/1000 [05:13<02:55,  1.83it/s]"
     ]
    },
    {
     "name": "stdout",
     "output_type": "stream",
     "text": [
      "person1 = ['C', 'P']\n",
      "person2 = ['H', 'H']\n",
      "person3 = ['S', 'L']\n",
      "person4 = ['R', 'C']\n",
      "person5 = ['N', 'A']\n",
      "Found words: ['CHARS', 'CRASH', 'LARCH', 'HARPS', 'SHARP', 'CHAPS', 'RALPH']\n"
     ]
    },
    {
     "name": "stderr",
     "output_type": "stream",
     "text": [
      " 68%|██████▊   | 679/1000 [05:14<02:49,  1.89it/s]"
     ]
    },
    {
     "name": "stdout",
     "output_type": "stream",
     "text": [
      "person1 = ['C', 'P']\n",
      "person2 = ['E', 'U']\n",
      "person3 = ['I', 'T']\n",
      "person4 = ['Y', 'L']\n",
      "person5 = ['A', 'N']\n",
      "Found words: ['CELIA', 'ILEAC', 'ALICE', 'CLINE', 'CLEAT', 'ECLAT', 'LUCIA', 'AULIC', 'PINEY', 'PEATY', 'PETAL', 'PLEAT', 'PLATE', 'PATEL', 'LEPTA', 'LEAPT', 'PAULI']\n"
     ]
    },
    {
     "name": "stderr",
     "output_type": "stream",
     "text": [
      " 68%|██████▊   | 680/1000 [05:14<02:54,  1.83it/s]"
     ]
    },
    {
     "name": "stdout",
     "output_type": "stream",
     "text": [
      "person1 = ['C', 'S']\n",
      "person2 = ['H', 'E']\n",
      "person3 = ['E', 'C']\n",
      "person4 = ['C', 'R']\n",
      "person5 = ['Y', 'N']\n",
      "Found words: ['CRECY', 'SHYER', 'SYCEE', 'SCENE', 'CENSE', 'REYES', 'SNEER', 'ERNES']\n"
     ]
    },
    {
     "name": "stderr",
     "output_type": "stream",
     "text": [
      " 68%|██████▊   | 681/1000 [05:15<03:01,  1.76it/s]"
     ]
    },
    {
     "name": "stdout",
     "output_type": "stream",
     "text": [
      "person1 = ['S', 'T']\n",
      "person2 = ['H', 'K']\n",
      "person3 = ['O', 'E']\n",
      "person4 = ['C', 'Y']\n",
      "person5 = ['N', 'E']\n",
      "Found words: ['SOCHE', 'CHOSE', 'ECHOS', 'HYSON', 'CONKS', 'NOCKS', 'COKES', 'YONKS', 'YOKES', 'SNECK', 'NECKS', 'NOTCH', 'TENCH']\n"
     ]
    },
    {
     "name": "stderr",
     "output_type": "stream",
     "text": [
      " 68%|██████▊   | 682/1000 [05:15<02:58,  1.78it/s]"
     ]
    },
    {
     "name": "stdout",
     "output_type": "stream",
     "text": [
      "person1 = ['T', 'C']\n",
      "person2 = ['U', 'H']\n",
      "person3 = ['I', 'E']\n",
      "person4 = ['L', 'T']\n",
      "person5 = ['C', 'S']\n",
      "Found words: ['TUTSI', 'TITUS', 'CULET', 'LUTES', 'HILTS', 'TITCH', 'TETHS', 'SULCI', 'CUTIS', 'ICTUS', 'CLUES', 'CETUS', 'SCUTE', 'CHITS', 'STICH', 'CHEST', 'TECHS']\n"
     ]
    },
    {
     "name": "stderr",
     "output_type": "stream",
     "text": [
      " 68%|██████▊   | 684/1000 [05:16<02:58,  1.77it/s]"
     ]
    },
    {
     "name": "stdout",
     "output_type": "stream",
     "text": [
      "person1 = ['T', 'C']\n",
      "person2 = ['E', 'H']\n",
      "person3 = ['A', 'T']\n",
      "person4 = ['C', 'A']\n",
      "person5 = ['N', 'A']\n",
      "Found words: ['ENACT', 'AETNA', 'TACET', 'CHANT', 'NATCH', 'THANA', 'THANT', 'CANEA', 'CATCH']\n"
     ]
    },
    {
     "name": "stderr",
     "output_type": "stream",
     "text": [
      " 69%|██████▊   | 686/1000 [05:17<02:51,  1.83it/s]"
     ]
    },
    {
     "name": "stdout",
     "output_type": "stream",
     "text": [
      "person1 = ['S', 'E']\n",
      "person2 = ['U', 'E']\n",
      "person3 = ['O', 'L']\n",
      "person4 = ['C', 'O']\n",
      "person5 = ['I', 'A']\n",
      "Found words: ['SULCI', 'LUCAS', 'CLAUS', 'CAULS', 'LOUIS', 'AULOS', 'SLICE', 'SCALE', 'LACES', 'ALOES', 'LOUIE']\n"
     ]
    },
    {
     "name": "stderr",
     "output_type": "stream",
     "text": [
      " 69%|██████▊   | 687/1000 [05:18<02:49,  1.85it/s]"
     ]
    },
    {
     "name": "stdout",
     "output_type": "stream",
     "text": [
      "person1 = ['T', 'C']\n",
      "person2 = ['K', 'H']\n",
      "person3 = ['C', 'I']\n",
      "person4 = ['C', 'Y']\n",
      "person5 = ['E', 'Y']\n",
      "Found words: ['TIECK', 'TYCHE', 'TECHY', 'ETHIC', 'ITCHY']\n"
     ]
    },
    {
     "name": "stderr",
     "output_type": "stream",
     "text": [
      " 69%|██████▉   | 688/1000 [05:19<02:49,  1.84it/s]"
     ]
    },
    {
     "name": "stdout",
     "output_type": "stream",
     "text": [
      "person1 = ['T', 'S']\n",
      "person2 = ['E', 'H']\n",
      "person3 = ['Y', 'C']\n",
      "person4 = ['H', 'T']\n",
      "person5 = ['C', 'S']\n",
      "Found words: ['TECHY', 'TYCHE', 'TESTY', 'TECHS', 'CHEST', 'STYES', 'CHESS', 'SECTS']\n"
     ]
    },
    {
     "name": "stderr",
     "output_type": "stream",
     "text": [
      " 69%|██████▉   | 689/1000 [05:19<02:54,  1.79it/s]"
     ]
    },
    {
     "name": "stdout",
     "output_type": "stream",
     "text": [
      "person1 = ['T', 'Q']\n",
      "person2 = ['H', 'U']\n",
      "person3 = ['S', 'T']\n",
      "person4 = ['L', 'N']\n",
      "person5 = ['Y', 'E']\n",
      "Found words: ['SYNTH', 'TENTH', 'LUSTY', 'LUTES', 'TUNES', 'UNSET', 'NUTTY']\n"
     ]
    },
    {
     "name": "stderr",
     "output_type": "stream",
     "text": [
      " 69%|██████▉   | 690/1000 [05:20<02:48,  1.84it/s]"
     ]
    },
    {
     "name": "stdout",
     "output_type": "stream",
     "text": [
      "person1 = ['E', 'C']\n",
      "person2 = ['H', 'H']\n",
      "person3 = ['T', 'I']\n",
      "person4 = ['I', 'L']\n",
      "person5 = ['A', 'H']\n",
      "Found words: ['LETHA', 'LATHE', 'CHITA', 'AITCH', 'HITCH', 'LATCH', 'CHIAI']\n"
     ]
    },
    {
     "name": "stderr",
     "output_type": "stream",
     "text": [
      " 69%|██████▉   | 691/1000 [05:20<02:45,  1.87it/s]"
     ]
    },
    {
     "name": "stdout",
     "output_type": "stream",
     "text": [
      "person1 = ['P', 'S']\n",
      "person2 = ['H', 'H']\n",
      "person3 = ['L', 'A']\n",
      "person4 = ['I', 'T']\n",
      "person5 = ['I', 'C']\n",
      "Found words: ['PILCH', 'PATCH', 'HILTS', 'ISIAH', 'SAITH', 'THAIS', 'TISHA', 'CHATS']\n"
     ]
    },
    {
     "name": "stderr",
     "output_type": "stream",
     "text": [
      " 69%|██████▉   | 693/1000 [05:21<02:38,  1.93it/s]"
     ]
    },
    {
     "name": "stdout",
     "output_type": "stream",
     "text": [
      "person1 = ['T', 'C']\n",
      "person2 = ['H', 'K']\n",
      "person3 = ['S', 'N']\n",
      "person4 = ['S', 'R']\n",
      "person5 = ['R', 'I']\n",
      "Found words: ['SHITS', 'SHIRT', 'THINS', 'HINTS', 'SKITS', 'STIRK', 'SKIRT', 'KNITS', 'STINK', 'SKINT', 'CHRIS', 'CHINS', 'SICKS', 'RICKS', 'NICKS', 'SNICK']\n"
     ]
    },
    {
     "name": "stderr",
     "output_type": "stream",
     "text": [
      " 69%|██████▉   | 694/1000 [05:22<02:38,  1.93it/s]"
     ]
    },
    {
     "name": "stdout",
     "output_type": "stream",
     "text": [
      "person1 = ['C', 'P']\n",
      "person2 = ['H', 'U']\n",
      "person3 = ['L', 'R']\n",
      "person4 = ['T', 'A']\n",
      "person5 = ['I', 'A']\n",
      "Found words: ['LATCH', 'CHART', 'ARCHT', 'CHARI', 'CHAIR', 'LUCIA', 'AULIC', 'CURIA', 'AURIC', 'PLATH', 'PHIAL', 'ALPHA', 'THARP', 'TULIP', 'PAULI', 'PAULA', 'PALAU', 'PIURA']\n"
     ]
    },
    {
     "name": "stderr",
     "output_type": "stream",
     "text": [
      " 70%|██████▉   | 696/1000 [05:23<02:37,  1.93it/s]"
     ]
    },
    {
     "name": "stdout",
     "output_type": "stream",
     "text": [
      "person1 = ['T', 'S']\n",
      "person2 = ['H', 'H']\n",
      "person3 = ['R', 'C']\n",
      "person4 = ['S', 'R']\n",
      "person5 = ['S', 'E']\n",
      "Found words: ['RESHT', 'TECHS', 'CHEST', 'CHERT', 'RETCH', 'CHESS']\n"
     ]
    },
    {
     "name": "stderr",
     "output_type": "stream",
     "text": [
      " 70%|██████▉   | 697/1000 [05:23<02:37,  1.92it/s]"
     ]
    },
    {
     "name": "stdout",
     "output_type": "stream",
     "text": [
      "person1 = ['S', 'T']\n",
      "person2 = ['E', 'H']\n",
      "person3 = ['S', 'E']\n",
      "person4 = ['L', 'O']\n",
      "person5 = ['A', 'E']\n",
      "Found words: ['SEALS', 'SALES', 'LASES', 'SEELS', 'OASES', 'EASEL', 'LEASE', 'SLASH', 'SHOES', 'HOSES', 'SHALE', 'SELAH', 'SAHEL', 'HEALS', 'HALES', 'LEASH', 'HEELS', 'HOSEA', 'TESLA', 'TEALS', 'TALES', 'STELA', 'STEAL', 'STAEL', 'STALE', 'SLATE', 'LEAST', 'STELE', 'STEEL', 'SLEET', 'TOEAS', 'SEATO', 'OATES', 'ELATE', 'HALTS', 'SHALT', 'LATHS', 'HOSTA', 'SHOAT', 'OATHS', 'ATHOS', 'THOSE', 'SHOTE', 'ETHOS', 'LETHA', 'LATHE', 'ETHEL', 'LETHE', 'TAHOE']\n"
     ]
    },
    {
     "name": "stderr",
     "output_type": "stream",
     "text": [
      " 70%|██████▉   | 698/1000 [05:24<02:35,  1.94it/s]"
     ]
    },
    {
     "name": "stdout",
     "output_type": "stream",
     "text": [
      "person1 = ['C', 'P']\n",
      "person2 = ['H', 'K']\n",
      "person3 = ['I', 'S']\n",
      "person4 = ['R', 'H']\n",
      "person5 = ['C', 'O']\n",
      "Found words: ['CHOIR', 'ICHOR', 'CRICK', 'CHICK', 'KOCHI', 'HOICK', 'CORKS', 'ROCKS', 'SHOCK', 'HOCKS', 'CHIRP', 'OPHIR', 'PRICK']\n"
     ]
    },
    {
     "name": "stderr",
     "output_type": "stream",
     "text": [
      " 70%|██████▉   | 699/1000 [05:24<02:34,  1.95it/s]"
     ]
    },
    {
     "name": "stdout",
     "output_type": "stream",
     "text": [
      "person1 = ['S', 'T']\n",
      "person2 = ['U', 'H']\n",
      "person3 = ['S', 'A']\n",
      "person4 = ['S', 'L']\n",
      "person5 = ['R', 'S']\n",
      "Found words: ['SLURS', 'SURAS', 'ASSUR', 'SURAL', 'URALS', 'SLASH', 'TRUSS', 'RUSTS', 'SLUTS', 'LUSTS', 'SUTRA', 'SURAT', 'ULTRA', 'TULSA', 'TALUS', 'TRASH', 'HARTS', 'RASHT', 'STASH', 'HALTS', 'LATHS', 'SHALT']\n"
     ]
    },
    {
     "name": "stderr",
     "output_type": "stream",
     "text": [
      " 70%|███████   | 701/1000 [05:25<02:39,  1.87it/s]"
     ]
    },
    {
     "name": "stdout",
     "output_type": "stream",
     "text": [
      "person1 = ['C', 'T']\n",
      "person2 = ['E', 'H']\n",
      "person3 = ['N', 'H']\n",
      "person4 = ['S', 'N']\n",
      "person5 = ['L', 'C']\n",
      "Found words: ['LENTS', 'SCENT', 'CENTS', 'TECHS', 'CHEST', 'TENCH']\n"
     ]
    },
    {
     "name": "stderr",
     "output_type": "stream",
     "text": [
      " 70%|███████   | 703/1000 [05:26<02:36,  1.90it/s]"
     ]
    },
    {
     "name": "stdout",
     "output_type": "stream",
     "text": [
      "person1 = ['Q', 'C']\n",
      "person2 = ['H', 'H']\n",
      "person3 = ['Y', 'N']\n",
      "person4 = ['O', 'I']\n",
      "person5 = ['A', 'E']\n",
      "Found words: ['COHAN', 'NACHO', 'COHEN', 'ENOCH', 'CHINA', 'CHIAN', 'CHAIN', 'ICAHN', 'CHINE', 'NICHE']\n"
     ]
    },
    {
     "name": "stderr",
     "output_type": "stream",
     "text": [
      " 70%|███████   | 704/1000 [05:27<02:34,  1.92it/s]"
     ]
    },
    {
     "name": "stdout",
     "output_type": "stream",
     "text": [
      "person1 = ['E', 'C']\n",
      "person2 = ['K', 'E']\n",
      "person3 = ['N', 'R']\n",
      "person4 = ['T', 'E']\n",
      "person5 = ['T', 'L']\n",
      "Found words: ['KNELT', 'KENTE', 'KNEEL', 'TENET', 'CLERK', 'CRETE', 'ERECT', 'TERCE', 'CREEL']\n"
     ]
    },
    {
     "name": "stderr",
     "output_type": "stream",
     "text": [
      " 70%|███████   | 705/1000 [05:27<02:37,  1.87it/s]"
     ]
    },
    {
     "name": "stdout",
     "output_type": "stream",
     "text": [
      "person1 = ['C', 'C']\n",
      "person2 = ['E', 'U']\n",
      "person3 = ['L', 'T']\n",
      "person4 = ['S', 'N']\n",
      "person5 = ['A', 'T']\n",
      "Found words: ['LACES', 'SCALE', 'CELTS', 'CLEAN', 'LANCE', 'CESTA', 'CASTE', 'ENACT', 'CLAUS', 'CAULS', 'LUCAS', 'CULTS', 'LUCAN', 'SCUTA', 'CANTU']\n"
     ]
    },
    {
     "name": "stderr",
     "output_type": "stream",
     "text": [
      " 71%|███████   | 706/1000 [05:28<02:36,  1.88it/s]"
     ]
    },
    {
     "name": "stdout",
     "output_type": "stream",
     "text": [
      "person1 = ['C', 'Q']\n",
      "person2 = ['K', 'E']\n",
      "person3 = ['S', 'O']\n",
      "person4 = ['A', 'H']\n",
      "person5 = ['E', 'R']\n",
      "Found words: ['CAKES', 'CARKS', 'RACKS', 'CROAK', 'CHOKE', 'CEASE', 'CESAR', 'CARES', 'CARSE', 'SCARE', 'ACRES', 'RACES', 'OCREA', 'CHORE', 'OCHER', 'ROCHE']\n"
     ]
    },
    {
     "name": "stderr",
     "output_type": "stream",
     "text": [
      " 71%|███████   | 707/1000 [05:28<02:34,  1.89it/s]"
     ]
    },
    {
     "name": "stdout",
     "output_type": "stream",
     "text": [
      "person1 = ['C', 'E']\n",
      "person2 = ['U', 'E']\n",
      "person3 = ['O', 'L']\n",
      "person4 = ['Y', 'S']\n",
      "person5 = ['S', 'I']\n",
      "Found words: ['SULCI', 'SLICE', 'SOUSE', 'YULES', 'SLUES', 'ILEUS', 'SEELS', 'ELSIE', 'ELISE']\n"
     ]
    },
    {
     "name": "stderr",
     "output_type": "stream",
     "text": [
      " 71%|███████   | 708/1000 [05:29<02:32,  1.91it/s]"
     ]
    },
    {
     "name": "stdout",
     "output_type": "stream",
     "text": [
      "person1 = ['C', 'E']\n",
      "person2 = ['H', 'K']\n",
      "person3 = ['A', 'I']\n",
      "person4 = ['R', 'C']\n",
      "person5 = ['I', 'R']\n",
      "Found words: ['CHARI', 'CHAIR', 'CHARR', 'CHIRR', 'CRACK', 'CRICK', 'CHARE', 'REACH', 'HIRER', 'ERICH', 'CHERI', 'REICH', 'ERIKA', 'RAKER', 'CREAK', 'CRAKE', 'KERRI', 'ERICK']\n"
     ]
    },
    {
     "name": "stderr",
     "output_type": "stream",
     "text": [
      " 71%|███████   | 709/1000 [05:30<02:31,  1.92it/s]"
     ]
    },
    {
     "name": "stdout",
     "output_type": "stream",
     "text": [
      "person1 = ['C', 'P']\n",
      "person2 = ['H', 'E']\n",
      "person3 = ['R', 'H']\n",
      "person4 = ['C', 'E']\n",
      "person5 = ['S', 'A']\n",
      "Found words: ['CHARE', 'REACH', 'CERES', 'CREES', 'SCREE', 'CACHE', 'PARCH', 'EPHAH', 'PACER', 'RECAP', 'CRAPE', 'CAPER', 'PERSE', 'PEERS', 'SPEER', 'SPREE', 'PEACH', 'CHEAP', 'CHAPE', 'SHEEP']\n"
     ]
    },
    {
     "name": "stderr",
     "output_type": "stream",
     "text": [
      " 71%|███████   | 711/1000 [05:31<02:28,  1.95it/s]"
     ]
    },
    {
     "name": "stdout",
     "output_type": "stream",
     "text": [
      "person1 = ['C', 'S']\n",
      "person2 = ['K', 'H']\n",
      "person3 = ['A', 'S']\n",
      "person4 = ['C', 'S']\n",
      "person5 = ['L', 'Y']\n",
      "Found words: ['CLACK', 'CALKS', 'SLACK', 'LACKS', 'CLASH', 'SLASH', 'SHAYS']\n"
     ]
    },
    {
     "name": "stderr",
     "output_type": "stream",
     "text": [
      " 71%|███████   | 712/1000 [05:31<02:32,  1.89it/s]"
     ]
    },
    {
     "name": "stdout",
     "output_type": "stream",
     "text": [
      "person1 = ['P', 'E']\n",
      "person2 = ['E', 'K']\n",
      "person3 = ['T', 'I']\n",
      "person4 = ['Y', 'I']\n",
      "person5 = ['S', 'L']\n",
      "Found words: ['PESTY', 'TYPES', 'PISTE', 'SPITE', 'STIPE', 'PILEI', 'SPIKY', 'LEYTE', 'ELITE', 'TYKES', 'KITES', 'SKITE', 'YEISK', 'YIKES']\n"
     ]
    },
    {
     "name": "stderr",
     "output_type": "stream",
     "text": [
      " 71%|███████▏  | 714/1000 [05:32<02:35,  1.84it/s]"
     ]
    },
    {
     "name": "stdout",
     "output_type": "stream",
     "text": [
      "person1 = ['T', 'C']\n",
      "person2 = ['E', 'H']\n",
      "person3 = ['N', 'Y']\n",
      "person4 = ['I', 'E']\n",
      "person5 = ['R', 'L']\n",
      "Found words: ['TERNI', 'TRINE', 'NITER', 'INTER', 'INERT', 'INTEL', 'INLET', 'TREEN', 'ENTER', 'TYREE', 'LEYTE', 'ETHYL', 'CRINE', 'NICER', 'CLINE', 'CHYLE']\n"
     ]
    },
    {
     "name": "stderr",
     "output_type": "stream",
     "text": [
      " 72%|███████▏  | 718/1000 [05:34<02:33,  1.84it/s]"
     ]
    },
    {
     "name": "stdout",
     "output_type": "stream",
     "text": [
      "person1 = ['T', 'S']\n",
      "person2 = ['H', 'H']\n",
      "person3 = ['T', 'L']\n",
      "person4 = ['Y', 'T']\n",
      "person5 = ['E', 'O']\n",
      "Found words: ['ETHYL', 'HOTLY', 'TETHS', 'SLOTH', 'HOLST']\n"
     ]
    },
    {
     "name": "stderr",
     "output_type": "stream",
     "text": [
      " 72%|███████▏  | 720/1000 [05:35<02:30,  1.86it/s]"
     ]
    },
    {
     "name": "stdout",
     "output_type": "stream",
     "text": [
      "person1 = ['P', 'C']\n",
      "person2 = ['E', 'U']\n",
      "person3 = ['R', 'O']\n",
      "person4 = ['A', 'N']\n",
      "person5 = ['S', 'R']\n",
      "Found words: ['PEARS', 'PRESA', 'PRASE', 'PARES', 'PARSE', 'REAPS', 'RAPES', 'ASPER', 'SPEAR', 'SPARE', 'PARER', 'RAPER', 'AESOP', 'OPERA', 'PEONS', 'PONES', 'POSEN', 'EPSON', 'OPENS', 'NEPOS', 'PERON', 'PRONE', 'SUPRA', 'SPURN', 'CESAR', 'CARES', 'CARSE', 'RACES', 'ACRES', 'SCARE', 'CARER', 'RACER', 'OCREA', 'CONES', 'SCONE', 'CREON', 'CRONE', 'RECON', 'CORNU']\n"
     ]
    },
    {
     "name": "stderr",
     "output_type": "stream",
     "text": [
      " 72%|███████▏  | 721/1000 [05:36<02:26,  1.90it/s]"
     ]
    },
    {
     "name": "stdout",
     "output_type": "stream",
     "text": [
      "person1 = ['E', 'C']\n",
      "person2 = ['E', 'H']\n",
      "person3 = ['Y', 'O']\n",
      "person4 = ['L', 'I']\n",
      "person5 = ['L', 'A']\n",
      "Found words: ['HALEY', 'HELLO', 'HAOLE', 'LACEY', 'ALYCE', 'CELLO', 'EOLIC', 'OLEIC', 'LOACH', 'CHOLI', 'CHIAO']\n"
     ]
    },
    {
     "name": "stderr",
     "output_type": "stream",
     "text": [
      " 72%|███████▏  | 722/1000 [05:36<02:26,  1.89it/s]"
     ]
    },
    {
     "name": "stdout",
     "output_type": "stream",
     "text": [
      "person1 = ['Q', 'S']\n",
      "person2 = ['H', 'U']\n",
      "person3 = ['O', 'A']\n",
      "person4 = ['H', 'Y']\n",
      "person5 = ['T', 'E']\n",
      "Found words: ['QUOTH', 'HASTY', 'HAYES', 'YEAHS', 'SOUTH', 'SHOUT', 'THOUS', 'HOUSE', 'ASYUT']\n"
     ]
    },
    {
     "name": "stderr",
     "output_type": "stream",
     "text": [
      " 72%|███████▏  | 723/1000 [05:37<02:28,  1.87it/s]"
     ]
    },
    {
     "name": "stdout",
     "output_type": "stream",
     "text": [
      "person1 = ['S', 'Q']\n",
      "person2 = ['U', 'H']\n",
      "person3 = ['R', 'H']\n",
      "person4 = ['C', 'O']\n",
      "person5 = ['C', 'T']\n",
      "Found words: ['CRUST', 'SCOUR', 'ORCUS', 'ROUST', 'ROUTS', 'TOURS', 'TORUS', 'HOCUS', 'SHOUT', 'SOUTH', 'THOUS', 'SHORT', 'HORST', 'QUOTH']\n"
     ]
    },
    {
     "name": "stderr",
     "output_type": "stream",
     "text": [
      " 72%|███████▎  | 725/1000 [05:38<02:36,  1.75it/s]"
     ]
    },
    {
     "name": "stdout",
     "output_type": "stream",
     "text": [
      "person1 = ['Q', 'E']\n",
      "person2 = ['H', 'H']\n",
      "person3 = ['C', 'E']\n",
      "person4 = ['O', 'E']\n",
      "person5 = ['L', 'N']\n",
      "Found words: ['CHLOE', 'ENOCH', 'COHEN', 'LEECH', 'HENCE']\n"
     ]
    },
    {
     "name": "stderr",
     "output_type": "stream",
     "text": [
      " 73%|███████▎  | 726/1000 [05:39<02:29,  1.83it/s]"
     ]
    },
    {
     "name": "stdout",
     "output_type": "stream",
     "text": [
      "person1 = ['C', 'P']\n",
      "person2 = ['H', 'K']\n",
      "person3 = ['L', 'T']\n",
      "person4 = ['E', 'R']\n",
      "person5 = ['R', 'N']\n",
      "Found words: ['CHERT', 'RETCH', 'TENCH', 'CLERK', 'PERTH']\n"
     ]
    },
    {
     "name": "stderr",
     "output_type": "stream",
     "text": [
      " 73%|███████▎  | 727/1000 [05:39<02:29,  1.82it/s]"
     ]
    },
    {
     "name": "stdout",
     "output_type": "stream",
     "text": [
      "person1 = ['T', 'C']\n",
      "person2 = ['H', 'K']\n",
      "person3 = ['Y', 'I']\n",
      "person4 = ['A', 'O']\n",
      "person5 = ['Y', 'O']\n",
      "Found words: ['TOKAY', 'TOKYO', 'KYOTO', 'KIOTO', 'CHIAO', 'COOKY']\n"
     ]
    },
    {
     "name": "stderr",
     "output_type": "stream",
     "text": [
      " 73%|███████▎  | 730/1000 [05:41<02:23,  1.88it/s]"
     ]
    },
    {
     "name": "stdout",
     "output_type": "stream",
     "text": [
      "person1 = ['P', 'C']\n",
      "person2 = ['H', 'E']\n",
      "person3 = ['L', 'E']\n",
      "person4 = ['L', 'H']\n",
      "person5 = ['C', 'O']\n",
      "Found words: ['HOPEH', 'CLEPE', 'ELOPE', 'CHEEP', 'CHLOE', 'CELLO', 'LECCE']\n"
     ]
    },
    {
     "name": "stderr",
     "output_type": "stream",
     "text": [
      " 73%|███████▎  | 731/1000 [05:41<02:22,  1.88it/s]"
     ]
    },
    {
     "name": "stdout",
     "output_type": "stream",
     "text": [
      "person1 = ['Q', 'C']\n",
      "person2 = ['H', 'H']\n",
      "person3 = ['I', 'A']\n",
      "person4 = ['N', 'A']\n",
      "person5 = ['N', 'O']\n",
      "Found words: ['CHINO', 'CHIAN', 'CHINA', 'CHAIN', 'ICAHN', 'CHIAO', 'COHAN', 'NACHO']\n"
     ]
    },
    {
     "name": "stderr",
     "output_type": "stream",
     "text": [
      " 73%|███████▎  | 732/1000 [05:42<02:27,  1.82it/s]"
     ]
    },
    {
     "name": "stdout",
     "output_type": "stream",
     "text": [
      "person1 = ['C', 'S']\n",
      "person2 = ['K', 'U']\n",
      "person3 = ['R', 'T']\n",
      "person4 = ['E', 'T']\n",
      "person5 = ['A', 'L']\n",
      "Found words: ['CREAK', 'CRAKE', 'CLERK', 'TRACK', 'CRUEL', 'ULCER', 'LUCRE', 'CEUTA', 'ACUTE', 'CULET', 'SAKER', 'RAKES', 'ASKER', 'STARK', 'KARST', 'KARTS', 'SKATE', 'STEAK', 'STAKE', 'KEATS', 'TEAKS', 'TAKES', 'RULES', 'LURES', 'SURAT', 'SUTRA', 'SAUTE', 'LUTES']\n"
     ]
    },
    {
     "name": "stderr",
     "output_type": "stream",
     "text": [
      " 73%|███████▎  | 733/1000 [05:43<02:26,  1.82it/s]"
     ]
    },
    {
     "name": "stdout",
     "output_type": "stream",
     "text": [
      "person1 = ['C', 'E']\n",
      "person2 = ['H', 'U']\n",
      "person3 = ['R', 'L']\n",
      "person4 = ['S', 'C']\n",
      "person5 = ['R', 'N']\n",
      "Found words: ['CURLS', 'SURER', 'RUNES', 'NURSE', 'RECUR', 'CURER', 'LURES', 'RULES', 'ULCER', 'LUCRE', 'CRUEL', 'UNCLE']\n"
     ]
    },
    {
     "name": "stderr",
     "output_type": "stream",
     "text": [
      " 74%|███████▎  | 737/1000 [05:45<02:23,  1.83it/s]"
     ]
    },
    {
     "name": "stdout",
     "output_type": "stream",
     "text": [
      "person1 = ['S', 'C']\n",
      "person2 = ['H', 'H']\n",
      "person3 = ['O', 'C']\n",
      "person4 = ['L', 'E']\n",
      "person5 = ['C', 'N']\n",
      "Found words: ['SOCHE', 'ECHOS', 'CHOSE', 'SHONE', 'HONES', 'COHEN', 'ENOCH']\n"
     ]
    },
    {
     "name": "stderr",
     "output_type": "stream",
     "text": [
      " 74%|███████▍  | 739/1000 [05:46<02:19,  1.87it/s]"
     ]
    },
    {
     "name": "stdout",
     "output_type": "stream",
     "text": [
      "person1 = ['C', 'S']\n",
      "person2 = ['E', 'H']\n",
      "person3 = ['S', 'T']\n",
      "person4 = ['H', 'I']\n",
      "person5 = ['O', 'Y']\n",
      "Found words: ['CHOSE', 'ECHOS', 'SOCHE', 'TECHY', 'TYCHE', 'CHIOS', 'SOCHI', 'ITCHY', 'SHOES', 'HOSES', 'SHOTE', 'ETHOS', 'THOSE', 'YETIS', 'HOIST']\n"
     ]
    },
    {
     "name": "stderr",
     "output_type": "stream",
     "text": [
      " 74%|███████▍  | 741/1000 [05:47<02:22,  1.81it/s]"
     ]
    },
    {
     "name": "stdout",
     "output_type": "stream",
     "text": [
      "person1 = ['Q', 'C']\n",
      "person2 = ['K', 'H']\n",
      "person3 = ['A', 'H']\n",
      "person4 = ['I', 'T']\n",
      "person5 = ['L', 'R']\n",
      "Found words: ['TRACK', 'CHIRK', 'CHAIR', 'CHARI', 'LATCH', 'CHART', 'ARCHT']\n"
     ]
    },
    {
     "name": "stderr",
     "output_type": "stream",
     "text": [
      " 74%|███████▍  | 742/1000 [05:47<02:20,  1.84it/s]"
     ]
    },
    {
     "name": "stdout",
     "output_type": "stream",
     "text": [
      "person1 = ['P', 'C']\n",
      "person2 = ['H', 'U']\n",
      "person3 = ['T', 'Y']\n",
      "person4 = ['I', 'E']\n",
      "person5 = ['L', 'R']\n",
      "Found words: ['PERTH', 'PHYLE', 'HYPER', 'TULIP', 'TUPLE', 'LETUP', 'ERUPT', 'CHERT', 'RETCH', 'CHYLE', 'CULET', 'CUTER', 'CURET', 'CRUET', 'TRUCE', 'ERUCT', 'RECUT']\n"
     ]
    },
    {
     "name": "stderr",
     "output_type": "stream",
     "text": [
      " 74%|███████▍  | 745/1000 [05:49<02:15,  1.88it/s]"
     ]
    },
    {
     "name": "stdout",
     "output_type": "stream",
     "text": [
      "person1 = ['T', 'S']\n",
      "person2 = ['H', 'U']\n",
      "person3 = ['E', 'T']\n",
      "person4 = ['N', 'R']\n",
      "person5 = ['Y', 'O']\n",
      "Found words: ['THROE', 'OTHER', 'TROTH', 'ROUTE', 'OUTER', 'OUTRE', 'NUTTY', 'RUTTY', 'TUTOR', 'TROUT', 'SHONE', 'HONES', 'SHYER', 'SHORE', 'HOERS', 'HORSE', 'SYNTH', 'SHORT', 'HORST', 'EUROS', 'ROUSE', 'ROUES', 'SNOUT', 'TONUS', 'NOTUS', 'RUSTY', 'YURTS', 'TOURS', 'TORUS', 'ROUST', 'ROUTS']\n"
     ]
    },
    {
     "name": "stderr",
     "output_type": "stream",
     "text": [
      " 75%|███████▍  | 746/1000 [05:50<02:18,  1.83it/s]"
     ]
    },
    {
     "name": "stdout",
     "output_type": "stream",
     "text": [
      "person1 = ['T', 'S']\n",
      "person2 = ['K', 'H']\n",
      "person3 = ['Y', 'T']\n",
      "person4 = ['Y', 'O']\n",
      "person5 = ['T', 'A']\n",
      "Found words: ['TOKAY', 'KAYOS', 'OKAYS', 'KYATS', 'HASTY', 'SHOAT', 'HOSTA', 'OATHS', 'ATHOS']\n"
     ]
    },
    {
     "name": "stderr",
     "output_type": "stream",
     "text": [
      " 75%|███████▍  | 747/1000 [05:50<02:18,  1.82it/s]"
     ]
    },
    {
     "name": "stdout",
     "output_type": "stream",
     "text": [
      "person1 = ['S', 'E']\n",
      "person2 = ['H', 'E']\n",
      "person3 = ['O', 'A']\n",
      "person4 = ['C', 'R']\n",
      "person5 = ['O', 'I']\n",
      "Found words: ['COHOS', 'SOCHI', 'CHIOS', 'CHAOS', 'HOARS', 'HORSA', 'HORAS', 'SHARI', 'HAIRS', 'ROOSE', 'OSIER', 'ROSIE', 'AROSE', 'SERAI', 'AESIR', 'ARISE', 'ARIES', 'AIRES', 'RAISE', 'HORAE', 'COOEE', 'AERIE']\n"
     ]
    },
    {
     "name": "stderr",
     "output_type": "stream",
     "text": [
      " 75%|███████▍  | 748/1000 [05:51<02:18,  1.82it/s]"
     ]
    },
    {
     "name": "stdout",
     "output_type": "stream",
     "text": [
      "person1 = ['E', 'C']\n",
      "person2 = ['H', 'K']\n",
      "person3 = ['C', 'E']\n",
      "person4 = ['S', 'L']\n",
      "person5 = ['N', 'T']\n",
      "Found words: ['CHEST', 'TECHS', 'SHEEN', 'SHEET', 'THEES', 'THESE', 'HELEN', 'ETHEL', 'LETHE', 'SNECK', 'NECKS', 'KEENS', 'KNEES', 'SKEET', 'KNEEL']\n"
     ]
    },
    {
     "name": "stderr",
     "output_type": "stream",
     "text": [
      " 75%|███████▍  | 749/1000 [05:51<02:20,  1.79it/s]"
     ]
    },
    {
     "name": "stdout",
     "output_type": "stream",
     "text": [
      "person1 = ['C', 'S']\n",
      "person2 = ['H', 'K']\n",
      "person3 = ['R', 'A']\n",
      "person4 = ['I', 'H']\n",
      "person5 = ['Y', 'E']\n",
      "Found words: ['CHERI', 'REICH', 'ERICH', 'RICKY', 'ERICK', 'KERCH', 'CHEKA', 'HACEK', 'SHIRE', 'SHIER', 'SHERI', 'HIRES', 'HEIRS', 'RISKY', 'SKIER', 'SHREK', 'SHAKY', 'SHAKE', 'HAKES']\n"
     ]
    },
    {
     "name": "stderr",
     "output_type": "stream",
     "text": [
      " 75%|███████▌  | 753/1000 [05:53<02:07,  1.94it/s]"
     ]
    },
    {
     "name": "stdout",
     "output_type": "stream",
     "text": [
      "person1 = ['T', 'E']\n",
      "person2 = ['H', 'E']\n",
      "person3 = ['I', 'N']\n",
      "person4 = ['T', 'S']\n",
      "person5 = ['E', 'N']\n",
      "Found words: ['TITHE', 'HEIST', 'THINS', 'HINTS', 'TENTH', 'TINES', 'INSET', 'STEIN', 'STINE', 'NITES', 'TENET', 'TENSE', 'TEENS', 'STEEN', 'SENTE', 'THINE', 'HINES', 'SHINE', 'SHEEN', 'SEINE', 'TENNE']\n"
     ]
    },
    {
     "name": "stderr",
     "output_type": "stream",
     "text": [
      " 76%|███████▌  | 755/1000 [05:54<02:09,  1.89it/s]"
     ]
    },
    {
     "name": "stdout",
     "output_type": "stream",
     "text": [
      "person1 = ['Q', 'P']\n",
      "person2 = ['H', 'E']\n",
      "person3 = ['R', 'C']\n",
      "person4 = ['A', 'H']\n",
      "person5 = ['N', 'Y']\n",
      "Found words: ['HARPY', 'PEARY', 'PAYER', 'REPAY', 'APERY', 'PHREN', 'HYPER', 'PECAN', 'PACEY']\n"
     ]
    },
    {
     "name": "stderr",
     "output_type": "stream",
     "text": [
      " 76%|███████▌  | 756/1000 [05:55<02:05,  1.94it/s]"
     ]
    },
    {
     "name": "stdout",
     "output_type": "stream",
     "text": [
      "person1 = ['E', 'P']\n",
      "person2 = ['H', 'H']\n",
      "person3 = ['L', 'O']\n",
      "person4 = ['L', 'Y']\n",
      "person5 = ['C', 'S']\n",
      "Found words: ['HELLS', 'SHELL', 'CHYLE', 'CHLOE', 'HOLES', 'SHEOL', 'SYLPH', 'HYPOS', 'SOPHY']\n"
     ]
    },
    {
     "name": "stderr",
     "output_type": "stream",
     "text": [
      " 76%|███████▌  | 757/1000 [05:56<02:11,  1.85it/s]"
     ]
    },
    {
     "name": "stdout",
     "output_type": "stream",
     "text": [
      "person1 = ['C', 'T']\n",
      "person2 = ['U', 'K']\n",
      "person3 = ['Y', 'T']\n",
      "person4 = ['S', 'T']\n",
      "person5 = ['I', 'A']\n",
      "Found words: ['SAUCY', 'CUTIS', 'ICTUS', 'SCUTA', 'TACKY', 'TICKS', 'STICK', 'TACKS', 'STACK', 'ASYUT', 'TUTSI', 'TITUS', 'TUTTI', 'KYATS', 'KITTY']\n"
     ]
    },
    {
     "name": "stderr",
     "output_type": "stream",
     "text": [
      " 76%|███████▌  | 758/1000 [05:56<02:11,  1.84it/s]"
     ]
    },
    {
     "name": "stdout",
     "output_type": "stream",
     "text": [
      "person1 = ['S', 'C']\n",
      "person2 = ['K', 'H']\n",
      "person3 = ['T', 'H']\n",
      "person4 = ['E', 'C']\n",
      "person5 = ['A', 'N']\n",
      "Found words: ['SKATE', 'STEAK', 'STAKE', 'KEATS', 'TEAKS', 'TAKES', 'STACK', 'TACKS', 'SHAKE', 'HAKES', 'SHACK', 'HACKS', 'HEATS', 'HASTE', 'HATES', 'CHATS', 'CHEKA', 'HACEK', 'CHEAT', 'THECA', 'TEACH', 'TACHE', 'TENCH', 'CATCH', 'HENCH']\n"
     ]
    },
    {
     "name": "stderr",
     "output_type": "stream",
     "text": [
      " 76%|███████▌  | 759/1000 [05:57<02:15,  1.78it/s]"
     ]
    },
    {
     "name": "stdout",
     "output_type": "stream",
     "text": [
      "person1 = ['C', 'P']\n",
      "person2 = ['U', 'H']\n",
      "person3 = ['A', 'S']\n",
      "person4 = ['T', 'S']\n",
      "person5 = ['T', 'L']\n",
      "Found words: ['SCUTA', 'CAULS', 'CLAUS', 'LUCAS', 'CULTS', 'SCUTS', 'LATCH', 'CHATS', 'CLASH', 'SPUTA', 'STUPA', 'PULAS', 'PUTTS', 'PLATH', 'PATHS', 'STAPH', 'PLASH']\n"
     ]
    },
    {
     "name": "stderr",
     "output_type": "stream",
     "text": [
      " 76%|███████▌  | 760/1000 [05:57<02:10,  1.84it/s]"
     ]
    },
    {
     "name": "stdout",
     "output_type": "stream",
     "text": [
      "person1 = ['S', 'T']\n",
      "person2 = ['H', 'K']\n",
      "person3 = ['R', 'C']\n",
      "person4 = ['S', 'I']\n",
      "person5 = ['H', 'T']\n",
      "Found words: ['SHIRT', 'STICH', 'CHITS', 'SHIRK', 'SKIRT', 'STIRK', 'HICKS', 'STICK', 'TICKS', 'HITCH', 'TITCH', 'THICK']\n"
     ]
    },
    {
     "name": "stderr",
     "output_type": "stream",
     "text": [
      " 76%|███████▌  | 762/1000 [05:58<02:08,  1.86it/s]"
     ]
    },
    {
     "name": "stdout",
     "output_type": "stream",
     "text": [
      "person1 = ['Q', 'E']\n",
      "person2 = ['E', 'H']\n",
      "person3 = ['R', 'L']\n",
      "person4 = ['O', 'C']\n",
      "person5 = ['I', 'T']\n",
      "Found words: ['ERECT', 'CRETE', 'TERCE', 'ELECT', 'OTHER', 'THROE', 'ERICH', 'REICH', 'CHERI', 'RETCH', 'CHERT', 'HELOT', 'HOTEL', 'THEOL', 'THOLE', 'CHILE']\n"
     ]
    },
    {
     "name": "stderr",
     "output_type": "stream",
     "text": [
      " 76%|███████▋  | 764/1000 [05:59<02:04,  1.90it/s]"
     ]
    },
    {
     "name": "stdout",
     "output_type": "stream",
     "text": [
      "person1 = ['C', 'S']\n",
      "person2 = ['K', 'H']\n",
      "person3 = ['A', 'L']\n",
      "person4 = ['E', 'A']\n",
      "person5 = ['E', 'C']\n",
      "Found words: ['CLEEK', 'CLACK', 'CACHE', 'LEECH', 'CHELA', 'LEACH', 'AKEES', 'CAKES', 'SLEEK', 'KEELS', 'LEEKS', 'SLAKE', 'LAKES', 'LEAKS', 'SLACK', 'LACKS', 'CALKS', 'ACHES', 'CHASE', 'HEELS', 'SHALE', 'SAHEL', 'SELAH', 'HALES', 'HEALS', 'LEASH', 'CLASH']\n"
     ]
    },
    {
     "name": "stderr",
     "output_type": "stream",
     "text": [
      " 76%|███████▋  | 765/1000 [06:00<02:04,  1.89it/s]"
     ]
    },
    {
     "name": "stdout",
     "output_type": "stream",
     "text": [
      "person1 = ['P', 'C']\n",
      "person2 = ['U', 'K']\n",
      "person3 = ['H', 'N']\n",
      "person4 = ['I', 'C']\n",
      "person5 = ['O', 'H']\n",
      "Found words: ['POUCH', 'PUNCH', 'PINKO', 'COUCH', 'KOCHI', 'HOICK', 'CHOCK', 'CHINK']\n"
     ]
    },
    {
     "name": "stderr",
     "output_type": "stream",
     "text": [
      " 77%|███████▋  | 766/1000 [06:00<02:01,  1.93it/s]"
     ]
    },
    {
     "name": "stdout",
     "output_type": "stream",
     "text": [
      "person1 = ['T', 'C']\n",
      "person2 = ['H', 'E']\n",
      "person3 = ['N', 'I']\n",
      "person4 = ['S', 'C']\n",
      "person5 = ['O', 'C']\n",
      "Found words: ['NOTCH', 'HOIST', 'STICH', 'CHITS', 'TONES', 'NOTES', 'STENO', 'STONE', 'SETON', 'ONSET', 'SCENT', 'CENTS', 'CENTO', 'CONTE', 'CITES', 'CONCH', 'CHIOS', 'SOCHI', 'CHICO', 'CONES', 'SCONE']\n"
     ]
    },
    {
     "name": "stderr",
     "output_type": "stream",
     "text": [
      " 77%|███████▋  | 767/1000 [06:01<02:08,  1.81it/s]"
     ]
    },
    {
     "name": "stdout",
     "output_type": "stream",
     "text": [
      "person1 = ['S', 'P']\n",
      "person2 = ['H', 'U']\n",
      "person3 = ['Y', 'C']\n",
      "person4 = ['L', 'E']\n",
      "person5 = ['L', 'Y']\n",
      "Found words: ['SHYLY', 'SULLY', 'YULES', 'SCULL', 'CULLS', 'CLUES', 'PHYLE', 'CUPEL']\n"
     ]
    },
    {
     "name": "stderr",
     "output_type": "stream",
     "text": [
      " 77%|███████▋  | 768/1000 [06:01<02:07,  1.81it/s]"
     ]
    },
    {
     "name": "stdout",
     "output_type": "stream",
     "text": [
      "person1 = ['T', 'C']\n",
      "person2 = ['H', 'K']\n",
      "person3 = ['C', 'R']\n",
      "person4 = ['E', 'O']\n",
      "person5 = ['S', 'E']\n",
      "Found words: ['TECHS', 'CHEST', 'RESHT', 'THREE', 'THERE', 'ETHER', 'HORST', 'SHORT', 'THROE', 'OTHER', 'STOCK', 'TREKS', 'TORSK', 'STORK', 'CHOCS', 'CHEER', 'CHORE', 'ROCHE', 'OCHER', 'COCKS', 'CREEK', 'CORKS', 'ROCKS', 'OCKER']\n"
     ]
    },
    {
     "name": "stderr",
     "output_type": "stream",
     "text": [
      " 77%|███████▋  | 769/1000 [06:02<02:07,  1.81it/s]"
     ]
    },
    {
     "name": "stdout",
     "output_type": "stream",
     "text": [
      "person1 = ['C', 'Q']\n",
      "person2 = ['H', 'U']\n",
      "person3 = ['E', 'T']\n",
      "person4 = ['E', 'R']\n",
      "person5 = ['S', 'T']\n",
      "Found words: ['CHERT', 'RETCH', 'CHEST', 'TECHS', 'CURES', 'CURSE', 'CRUSE', 'SUCRE', 'CURET', 'CUTER', 'CRUET', 'ERUCT', 'RECUT', 'TRUCE', 'CETUS', 'SCUTE', 'CRUST', 'QUEST']\n"
     ]
    },
    {
     "name": "stderr",
     "output_type": "stream",
     "text": [
      " 77%|███████▋  | 770/1000 [06:03<02:06,  1.82it/s]"
     ]
    },
    {
     "name": "stdout",
     "output_type": "stream",
     "text": [
      "person1 = ['P', 'T']\n",
      "person2 = ['E', 'H']\n",
      "person3 = ['O', 'S']\n",
      "person4 = ['A', 'N']\n",
      "person5 = ['O', 'L']\n",
      "Found words: ['AESOP', 'PEALS', 'PALES', 'PLEAS', 'SEPAL', 'SALEP', 'LEAPS', 'LAPSE', 'PEONS', 'POSEN', 'PONES', 'EPSON', 'NEPOS', 'OPENS', 'OPAHS', 'PLASH', 'PHONS', 'ELTON', 'LENTO', 'TOEAS', 'SEATO', 'OATES', 'TESLA', 'TEALS', 'TALES', 'STEAL', 'STELA', 'STAEL', 'STALE', 'SLATE', 'LEAST', 'TONES', 'STENO', 'STONE', 'SETON', 'NOTES', 'ONSET', 'LENTS', 'LOATH', 'HOSTA', 'SHOAT', 'ATHOS', 'OATHS', 'HALTS', 'SHALT', 'LATHS']\n"
     ]
    },
    {
     "name": "stderr",
     "output_type": "stream",
     "text": [
      " 77%|███████▋  | 771/1000 [06:03<02:05,  1.82it/s]"
     ]
    },
    {
     "name": "stdout",
     "output_type": "stream",
     "text": [
      "person1 = ['P', 'T']\n",
      "person2 = ['H', 'E']\n",
      "person3 = ['E', 'A']\n",
      "person4 = ['E', 'L']\n",
      "person5 = ['I', 'N']\n",
      "Found words: ['PHIAL', 'PENAL', 'PANEL', 'PLENA', 'PLANE', 'NEPAL', 'LEITH', 'LITHE', 'THANE', 'ETHAN', 'NEATH', 'LATHI', 'ELITE', 'EATEN', 'ENATE']\n"
     ]
    },
    {
     "name": "stderr",
     "output_type": "stream",
     "text": [
      " 77%|███████▋  | 772/1000 [06:04<02:10,  1.75it/s]"
     ]
    },
    {
     "name": "stdout",
     "output_type": "stream",
     "text": [
      "person1 = ['C', 'P']\n",
      "person2 = ['H', 'K']\n",
      "person3 = ['A', 'E']\n",
      "person4 = ['I', 'H']\n",
      "person5 = ['R', 'C']\n",
      "Found words: ['CHAIR', 'CHARI', 'CHERI', 'ERICH', 'REICH', 'ERICK', 'KERCH', 'CHECK', 'PIKER']\n"
     ]
    },
    {
     "name": "stderr",
     "output_type": "stream",
     "text": [
      " 77%|███████▋  | 773/1000 [06:04<02:11,  1.73it/s]"
     ]
    },
    {
     "name": "stdout",
     "output_type": "stream",
     "text": [
      "person1 = ['C', 'T']\n",
      "person2 = ['H', 'E']\n",
      "person3 = ['I', 'R']\n",
      "person4 = ['C', 'N']\n",
      "person5 = ['S', 'L']\n",
      "Found words: ['CHINS', 'CECIL', 'CENIS', 'SINCE', 'CLINE', 'CHITS', 'STICH', 'THINS', 'HINTS', 'CITES', 'TELIC', 'TINES', 'INSET', 'NITES', 'STEIN', 'STINE', 'INTEL', 'INLET', 'CERTS', 'CREST', 'TERNS', 'ERNST', 'RENTS', 'STERN']\n"
     ]
    },
    {
     "name": "stderr",
     "output_type": "stream",
     "text": [
      " 77%|███████▋  | 774/1000 [06:05<02:08,  1.76it/s]"
     ]
    },
    {
     "name": "stdout",
     "output_type": "stream",
     "text": [
      "person1 = ['S', 'E']\n",
      "person2 = ['H', 'E']\n",
      "person3 = ['L', 'N']\n",
      "person4 = ['R', 'H']\n",
      "person5 = ['T', 'H']\n",
      "Found words: ['STERN', 'ERNST', 'RENTS', 'TERNS', 'ETHEL', 'LETHE', 'ENTER', 'TREEN', 'HERNE']\n"
     ]
    },
    {
     "name": "stderr",
     "output_type": "stream",
     "text": [
      " 78%|███████▊  | 775/1000 [06:05<02:06,  1.78it/s]"
     ]
    },
    {
     "name": "stdout",
     "output_type": "stream",
     "text": [
      "person1 = ['T', 'S']\n",
      "person2 = ['E', 'U']\n",
      "person3 = ['O', 'H']\n",
      "person4 = ['I', 'R']\n",
      "person5 = ['Y', 'L']\n",
      "Found words: ['TOILE', 'ELIOT', 'LEITH', 'LITHE', 'ROLES', 'LOSER', 'SHYER', 'LOUIS', 'YOURS', 'LOURS', 'RUSHY', 'HURLS']\n"
     ]
    },
    {
     "name": "stderr",
     "output_type": "stream",
     "text": [
      " 78%|███████▊  | 776/1000 [06:06<02:05,  1.78it/s]"
     ]
    },
    {
     "name": "stdout",
     "output_type": "stream",
     "text": [
      "person1 = ['C', 'S']\n",
      "person2 = ['H', 'E']\n",
      "person3 = ['L', 'T']\n",
      "person4 = ['Y', 'T']\n",
      "person5 = ['C', 'O']\n",
      "Found words: ['CLOTH', 'TYCHO', 'CYCLE', 'COLEY', 'COLET', 'OCTET', 'SLOTH', 'HOLST', 'CELTS', 'STOLE', 'TESOL', 'TOTES']\n"
     ]
    },
    {
     "name": "stderr",
     "output_type": "stream",
     "text": [
      " 78%|███████▊  | 777/1000 [06:07<02:01,  1.84it/s]"
     ]
    },
    {
     "name": "stdout",
     "output_type": "stream",
     "text": [
      "person1 = ['P', 'T']\n",
      "person2 = ['H', 'H']\n",
      "person3 = ['E', 'H']\n",
      "person4 = ['A', 'H']\n",
      "person5 = ['T', 'N']\n",
      "Found words: ['THETA', 'THANE', 'ETHAN', 'NEATH', 'THANH']\n"
     ]
    },
    {
     "name": "stderr",
     "output_type": "stream",
     "text": [
      " 78%|███████▊  | 778/1000 [06:07<02:02,  1.81it/s]"
     ]
    },
    {
     "name": "stdout",
     "output_type": "stream",
     "text": [
      "person1 = ['E', 'S']\n",
      "person2 = ['H', 'H']\n",
      "person3 = ['Y', 'E']\n",
      "person4 = ['R', 'T']\n",
      "person5 = ['L', 'N']\n",
      "Found words: ['HENRY', 'ETHYL', 'HERNE', 'ETHEL', 'LETHE', 'SYNTH']\n"
     ]
    },
    {
     "name": "stderr",
     "output_type": "stream",
     "text": [
      " 78%|███████▊  | 779/1000 [06:08<02:01,  1.82it/s]"
     ]
    },
    {
     "name": "stdout",
     "output_type": "stream",
     "text": [
      "person1 = ['E', 'S']\n",
      "person2 = ['E', 'H']\n",
      "person3 = ['I', 'C']\n",
      "person4 = ['E', 'O']\n",
      "person5 = ['L', 'Y']\n",
      "Found words: ['LEECH', 'CHLOE', 'ELSIE', 'ELISE', 'SYCEE', 'SOCLE', 'COLES', 'CLOSE']\n"
     ]
    },
    {
     "name": "stderr",
     "output_type": "stream",
     "text": [
      " 78%|███████▊  | 781/1000 [06:09<01:59,  1.84it/s]"
     ]
    },
    {
     "name": "stdout",
     "output_type": "stream",
     "text": [
      "person1 = ['C', 'S']\n",
      "person2 = ['H', 'E']\n",
      "person3 = ['E', 'H']\n",
      "person4 = ['I', 'E']\n",
      "person5 = ['E', 'R']\n",
      "Found words: ['CHERI', 'ERICH', 'REICH', 'CHEER', 'SHERI', 'SHIER', 'SHIRE', 'HEIRS', 'HIRES', 'SHEER', 'HERES', 'SIREE', 'REESE']\n"
     ]
    },
    {
     "name": "stderr",
     "output_type": "stream",
     "text": [
      " 78%|███████▊  | 783/1000 [06:10<01:55,  1.88it/s]"
     ]
    },
    {
     "name": "stdout",
     "output_type": "stream",
     "text": [
      "person1 = ['C', 'T']\n",
      "person2 = ['E', 'H']\n",
      "person3 = ['O', 'R']\n",
      "person4 = ['H', 'E']\n",
      "person5 = ['I', 'R']\n",
      "Found words: ['CHORE', 'OCHER', 'ROCHE', 'CHERI', 'ERICH', 'REICH', 'THROE', 'OTHER', 'THEIR', 'RETIE']\n"
     ]
    },
    {
     "name": "stderr",
     "output_type": "stream",
     "text": [
      " 78%|███████▊  | 784/1000 [06:10<01:53,  1.91it/s]"
     ]
    },
    {
     "name": "stdout",
     "output_type": "stream",
     "text": [
      "person1 = ['P', 'E']\n",
      "person2 = ['K', 'H']\n",
      "person3 = ['I', 'L']\n",
      "person4 = ['N', 'O']\n",
      "person5 = ['T', 'Y']\n",
      "Found words: ['PINKY', 'KNELT', 'YOKEL', 'THINE', 'HELOT', 'HOTEL', 'THEOL', 'THOLE', 'HOLEY', 'HOYLE']\n"
     ]
    },
    {
     "name": "stderr",
     "output_type": "stream",
     "text": [
      " 78%|███████▊  | 785/1000 [06:11<01:52,  1.92it/s]"
     ]
    },
    {
     "name": "stdout",
     "output_type": "stream",
     "text": [
      "person1 = ['C', 'Q']\n",
      "person2 = ['K', 'U']\n",
      "person3 = ['O', 'R']\n",
      "person4 = ['E', 'O']\n",
      "person5 = ['A', 'S']\n",
      "Found words: ['COKES', 'COOKS', 'CREAK', 'CRAKE', 'CROAK', 'CORKS', 'ROCKS', 'CURES', 'CURSE', 'CRUSE', 'SUCRE', 'ORCUS', 'SCOUR']\n"
     ]
    },
    {
     "name": "stderr",
     "output_type": "stream",
     "text": [
      " 79%|███████▊  | 787/1000 [06:12<01:53,  1.87it/s]"
     ]
    },
    {
     "name": "stdout",
     "output_type": "stream",
     "text": [
      "person1 = ['S', 'C']\n",
      "person2 = ['H', 'K']\n",
      "person3 = ['O', 'S']\n",
      "person4 = ['I', 'Y']\n",
      "person5 = ['T', 'L']\n",
      "Found words: ['HOIST', 'SHITS', 'KILOS', 'YOLKS', 'SKITS', 'SILKS', 'CHOLI', 'TYCHO', 'CHITS', 'STICH', 'STICK', 'TICKS', 'SLICK', 'LICKS']\n"
     ]
    },
    {
     "name": "stderr",
     "output_type": "stream",
     "text": [
      " 79%|███████▉  | 788/1000 [06:12<01:52,  1.89it/s]"
     ]
    },
    {
     "name": "stdout",
     "output_type": "stream",
     "text": [
      "person1 = ['P', 'T']\n",
      "person2 = ['H', 'E']\n",
      "person3 = ['O', 'T']\n",
      "person4 = ['I', 'C']\n",
      "person5 = ['R', 'C']\n",
      "Found words: ['OPHIR', 'PORCH', 'PITCH', 'COPER', 'TRIPE', 'TEPIC', 'CREPT', 'TORCH', 'TITCH', 'RECTO', 'TITER', 'TRITE']\n"
     ]
    },
    {
     "name": "stderr",
     "output_type": "stream",
     "text": [
      " 79%|███████▉  | 790/1000 [06:13<01:52,  1.87it/s]"
     ]
    },
    {
     "name": "stdout",
     "output_type": "stream",
     "text": [
      "person1 = ['C', 'P']\n",
      "person2 = ['H', 'H']\n",
      "person3 = ['A', 'C']\n",
      "person4 = ['O', 'N']\n",
      "person5 = ['E', 'A']\n",
      "Found words: ['HANCE', 'CHACO', 'COACH', 'EPOCH', 'POACH']\n"
     ]
    },
    {
     "name": "stderr",
     "output_type": "stream",
     "text": [
      " 79%|███████▉  | 791/1000 [06:14<01:51,  1.88it/s]"
     ]
    },
    {
     "name": "stdout",
     "output_type": "stream",
     "text": [
      "person1 = ['T', 'E']\n",
      "person2 = ['U', 'H']\n",
      "person3 = ['I', 'R']\n",
      "person4 = ['N', 'I']\n",
      "person5 = ['E', 'S']\n",
      "Found words: ['UNTIE', 'UNITE', 'TUNIS', 'UNITS', 'SUINT', 'TUNER', 'TURNS', 'RUNTS', 'UTERI', 'SRUTI', 'THINE', 'THINS', 'HINTS', 'THEIR', 'SHIRT', 'ENURE', 'RUNES', 'NURSE', 'HEINE', 'HINES', 'SHINE', 'HERNE', 'HEIRS', 'HIRES', 'SHERI', 'SHIER', 'SHIRE']\n"
     ]
    },
    {
     "name": "stderr",
     "output_type": "stream",
     "text": [
      " 79%|███████▉  | 792/1000 [06:15<01:51,  1.86it/s]"
     ]
    },
    {
     "name": "stdout",
     "output_type": "stream",
     "text": [
      "person1 = ['S', 'C']\n",
      "person2 = ['H', 'H']\n",
      "person3 = ['E', 'L']\n",
      "person4 = ['O', 'R']\n",
      "person5 = ['I', 'C']\n",
      "Found words: ['SOCHE', 'ECHOS', 'CHOSE', 'SHERI', 'SHIER', 'SHIRE', 'HEIRS', 'HIRES', 'CHERI', 'ERICH', 'REICH', 'CHOLI']\n"
     ]
    },
    {
     "name": "stderr",
     "output_type": "stream",
     "text": [
      " 79%|███████▉  | 793/1000 [06:15<01:48,  1.90it/s]"
     ]
    },
    {
     "name": "stdout",
     "output_type": "stream",
     "text": [
      "person1 = ['P', 'T']\n",
      "person2 = ['H', 'H']\n",
      "person3 = ['I', 'C']\n",
      "person4 = ['N', 'E']\n",
      "person5 = ['N', 'A']\n",
      "Found words: ['PEACH', 'CHEAP', 'CHAPE', 'NINTH', 'THINE', 'CHANT', 'NATCH', 'TENCH', 'THECA', 'TEACH', 'TACHE', 'CHEAT']\n"
     ]
    },
    {
     "name": "stderr",
     "output_type": "stream",
     "text": [
      " 79%|███████▉  | 794/1000 [06:15<01:44,  1.97it/s]"
     ]
    },
    {
     "name": "stdout",
     "output_type": "stream",
     "text": [
      "person1 = ['T', 'Q']\n",
      "person2 = ['K', 'U']\n",
      "person3 = ['E', 'A']\n",
      "person4 = ['N', 'I']\n",
      "person5 = ['C', 'R']\n",
      "Found words: ['TIECK', 'TRIKE', 'KRAIT', 'TUNER', 'CUTIE', 'UTERI', 'CANTU', 'RUTAN', 'UTICA', 'QUERN', 'QUIRE', 'QURAN']\n"
     ]
    },
    {
     "name": "stderr",
     "output_type": "stream",
     "text": [
      " 80%|███████▉  | 796/1000 [06:17<01:45,  1.94it/s]"
     ]
    },
    {
     "name": "stdout",
     "output_type": "stream",
     "text": [
      "person1 = ['C', 'C']\n",
      "person2 = ['K', 'H']\n",
      "person3 = ['S', 'N']\n",
      "person4 = ['A', 'T']\n",
      "person5 = ['T', 'E']\n",
      "Found words: ['STACK', 'TACKS', 'CAKES', 'CHATS', 'CHASE', 'ACHES', 'CHEST', 'TECHS', 'CHANT', 'NATCH', 'HANCE', 'TENCH']\n"
     ]
    },
    {
     "name": "stderr",
     "output_type": "stream",
     "text": [
      " 80%|███████▉  | 797/1000 [06:17<01:44,  1.94it/s]"
     ]
    },
    {
     "name": "stdout",
     "output_type": "stream",
     "text": [
      "person1 = ['P', 'S']\n",
      "person2 = ['H', 'H']\n",
      "person3 = ['S', 'C']\n",
      "person4 = ['T', 'E']\n",
      "person5 = ['T', 'O']\n",
      "Found words: ['PHOTS', 'HOPES', 'EPOCH', 'SHOTS', 'HOSTS', 'THESS', 'SHOES', 'HOSES', 'CHEST', 'TECHS', 'SOCHE', 'CHOSE', 'ECHOS']\n"
     ]
    },
    {
     "name": "stderr",
     "output_type": "stream",
     "text": [
      " 80%|███████▉  | 799/1000 [06:18<01:50,  1.82it/s]"
     ]
    },
    {
     "name": "stdout",
     "output_type": "stream",
     "text": [
      "person1 = ['S', 'E']\n",
      "person2 = ['E', 'H']\n",
      "person3 = ['C', 'R']\n",
      "person4 = ['I', 'N']\n",
      "person5 = ['O', 'E']\n",
      "Found words: ['SCONE', 'CONES', 'SCENE', 'CENSE', 'ROSIE', 'OSIER', 'SIREE', 'SENOR', 'SNORE', 'ENSOR', 'NORSE', 'SNEER', 'ERNES', 'SOCHI', 'CHIOS', 'SHIRE', 'SHIER', 'SHERI', 'HIRES', 'HEIRS', 'HORNS', 'EERIE', 'RENEE', 'ENOCH', 'COHEN', 'HENCE', 'HERON', 'HORNE', 'HONER', 'RHONE', 'HERNE']\n"
     ]
    },
    {
     "name": "stderr",
     "output_type": "stream",
     "text": [
      " 80%|████████  | 801/1000 [06:19<01:46,  1.87it/s]"
     ]
    },
    {
     "name": "stdout",
     "output_type": "stream",
     "text": [
      "person1 = ['E', 'C']\n",
      "person2 = ['H', 'U']\n",
      "person3 = ['H', 'L']\n",
      "person4 = ['A', 'L']\n",
      "person5 = ['E', 'T']\n",
      "Found words: ['HEATH', 'LETHA', 'LATHE', 'HELLE', 'THULE', 'ALEUT', 'TULLE', 'HATCH', 'CHELA', 'LEACH', 'LATCH']\n"
     ]
    },
    {
     "name": "stderr",
     "output_type": "stream",
     "text": [
      " 80%|████████  | 803/1000 [06:20<01:43,  1.90it/s]"
     ]
    },
    {
     "name": "stdout",
     "output_type": "stream",
     "text": [
      "person1 = ['C', 'C']\n",
      "person2 = ['U', 'K']\n",
      "person3 = ['L', 'Y']\n",
      "person4 = ['N', 'R']\n",
      "person5 = ['H', 'L']\n",
      "Found words: ['LUNCH', 'CHURL', 'LURCH', 'CLUNY', 'CURLY']\n"
     ]
    },
    {
     "name": "stderr",
     "output_type": "stream",
     "text": [
      " 80%|████████  | 804/1000 [06:21<01:41,  1.93it/s]"
     ]
    },
    {
     "name": "stdout",
     "output_type": "stream",
     "text": [
      "person1 = ['C', 'E']\n",
      "person2 = ['U', 'H']\n",
      "person3 = ['I', 'E']\n",
      "person4 = ['C', 'R']\n",
      "person5 = ['E', 'I']\n",
      "Found words: ['CURIE', 'CHERI', 'REICH', 'ERICH', 'CHEER']\n"
     ]
    },
    {
     "name": "stderr",
     "output_type": "stream",
     "text": [
      " 81%|████████  | 806/1000 [06:22<01:43,  1.88it/s]"
     ]
    },
    {
     "name": "stdout",
     "output_type": "stream",
     "text": [
      "person1 = ['E', 'T']\n",
      "person2 = ['K', 'E']\n",
      "person3 = ['R', 'Y']\n",
      "person4 = ['C', 'R']\n",
      "person5 = ['A', 'S']\n",
      "Found words: ['CREAK', 'CRAKE', 'RAKER', 'CERES', 'CREES', 'SCREE', 'SERER', 'SYCEE', 'REYES', 'TRACK', 'TACKY', 'TRACE', 'REACT', 'CRATE', 'CATER', 'CARTE', 'CARET', 'CERTS', 'CREST', 'TERRA', 'RATER', 'TEARY', 'TREYS']\n"
     ]
    },
    {
     "name": "stderr",
     "output_type": "stream",
     "text": [
      " 81%|████████  | 810/1000 [06:24<01:39,  1.92it/s]"
     ]
    },
    {
     "name": "stdout",
     "output_type": "stream",
     "text": [
      "person1 = ['E', 'S']\n",
      "person2 = ['H', 'H']\n",
      "person3 = ['T', 'A']\n",
      "person4 = ['E', 'T']\n",
      "person5 = ['Y', 'I']\n",
      "Found words: ['TITHE', 'HEIST', 'HAYES', 'YEAHS', 'HASTY', 'SAITH', 'THAIS', 'TISHA']\n"
     ]
    },
    {
     "name": "stderr",
     "output_type": "stream",
     "text": [
      " 81%|████████  | 811/1000 [06:25<01:41,  1.87it/s]"
     ]
    },
    {
     "name": "stdout",
     "output_type": "stream",
     "text": [
      "person1 = ['Q', 'S']\n",
      "person2 = ['E', 'H']\n",
      "person3 = ['H', 'N']\n",
      "person4 = ['O', 'H']\n",
      "person5 = ['T', 'Y']\n",
      "Found words: ['SHOTE', 'ETHOS', 'THOSE', 'HETHS', 'SETON', 'STENO', 'STONE', 'NOTES', 'ONSET', 'TONES', 'NOYES', 'HYSON']\n"
     ]
    },
    {
     "name": "stderr",
     "output_type": "stream",
     "text": [
      " 81%|████████  | 812/1000 [06:25<01:38,  1.91it/s]"
     ]
    },
    {
     "name": "stdout",
     "output_type": "stream",
     "text": [
      "person1 = ['Q', 'T']\n",
      "person2 = ['U', 'E']\n",
      "person3 = ['O', 'N']\n",
      "person4 = ['E', 'N']\n",
      "person5 = ['L', 'R']\n",
      "Found words: ['ROQUE', 'QUERN', 'OUTER', 'OUTRE', 'ROUTE', 'LUTON', 'TUNER', 'ELTON', 'LENTO', 'TENOR', 'TONER', 'TREEN', 'ENTER']\n"
     ]
    },
    {
     "name": "stderr",
     "output_type": "stream",
     "text": [
      " 81%|████████▏ | 813/1000 [06:26<01:40,  1.86it/s]"
     ]
    },
    {
     "name": "stdout",
     "output_type": "stream",
     "text": [
      "person1 = ['E', 'Q']\n",
      "person2 = ['H', 'K']\n",
      "person3 = ['T', 'R']\n",
      "person4 = ['L', 'C']\n",
      "person5 = ['I', 'C']\n",
      "Found words: ['LEITH', 'LITHE', 'ETHIC', 'ERICH', 'REICH', 'CHERI', 'TIECK', 'RILKE', 'LIKER', 'CLERK', 'ERICK']\n"
     ]
    },
    {
     "name": "stderr",
     "output_type": "stream",
     "text": [
      " 82%|████████▏ | 815/1000 [06:27<01:40,  1.84it/s]"
     ]
    },
    {
     "name": "stdout",
     "output_type": "stream",
     "text": [
      "person1 = ['P', 'C']\n",
      "person2 = ['H', 'U']\n",
      "person3 = ['N', 'A']\n",
      "person4 = ['S', 'H']\n",
      "person5 = ['Y', 'S']\n",
      "Found words: ['HASPS', 'HYPHA', 'SACHS', 'SAUCY', 'ASCUS']\n"
     ]
    },
    {
     "name": "stderr",
     "output_type": "stream",
     "text": [
      " 82%|████████▏ | 816/1000 [06:27<01:42,  1.79it/s]"
     ]
    },
    {
     "name": "stdout",
     "output_type": "stream",
     "text": [
      "person1 = ['E', 'P']\n",
      "person2 = ['H', 'H']\n",
      "person3 = ['A', 'L']\n",
      "person4 = ['Y', 'O']\n",
      "person5 = ['H', 'T']\n",
      "Found words: ['TAHOE', 'ETHYL', 'HELOT', 'HOTEL', 'THEOL', 'THOLE', 'HYPHA', 'TYPHA']\n"
     ]
    },
    {
     "name": "stderr",
     "output_type": "stream",
     "text": [
      " 82%|████████▏ | 817/1000 [06:28<01:43,  1.76it/s]"
     ]
    },
    {
     "name": "stdout",
     "output_type": "stream",
     "text": [
      "person1 = ['C', 'P']\n",
      "person2 = ['H', 'U']\n",
      "person3 = ['T', 'I']\n",
      "person4 = ['N', 'E']\n",
      "person5 = ['R', 'L']\n",
      "Found words: ['CHERT', 'RETCH', 'CHERI', 'ERICH', 'REICH', 'CHILE', 'CUTER', 'CURET', 'CRUET', 'TRUCE', 'ERUCT', 'RECUT', 'CULET', 'INCUR', 'RUNIC', 'CURIE', 'PERTH', 'ERUPT', 'TUPLE', 'LETUP']\n"
     ]
    },
    {
     "name": "stderr",
     "output_type": "stream",
     "text": [
      " 82%|████████▏ | 819/1000 [06:29<01:39,  1.82it/s]"
     ]
    },
    {
     "name": "stdout",
     "output_type": "stream",
     "text": [
      "person1 = ['S', 'P']\n",
      "person2 = ['H', 'K']\n",
      "person3 = ['T', 'Y']\n",
      "person4 = ['L', 'C']\n",
      "person5 = ['Y', 'A']\n",
      "Found words: ['SHALT', 'HALTS', 'LATHS', 'CHATS', 'SHYLY', 'STALK', 'TALKS', 'STACK', 'TACKS', 'PLATH', 'PATCH', 'PHYLA', 'HAPLY']\n"
     ]
    },
    {
     "name": "stderr",
     "output_type": "stream",
     "text": [
      " 82%|████████▏ | 821/1000 [06:30<01:35,  1.87it/s]"
     ]
    },
    {
     "name": "stdout",
     "output_type": "stream",
     "text": [
      "person1 = ['P', 'C']\n",
      "person2 = ['E', 'H']\n",
      "person3 = ['C', 'R']\n",
      "person4 = ['S', 'T']\n",
      "person5 = ['S', 'R']\n",
      "Found words: ['SPECS', 'CREPT', 'PRESS', 'STREP', 'CRESS', 'CERTS', 'CREST']\n"
     ]
    },
    {
     "name": "stderr",
     "output_type": "stream",
     "text": [
      " 82%|████████▏ | 822/1000 [06:31<01:34,  1.88it/s]"
     ]
    },
    {
     "name": "stdout",
     "output_type": "stream",
     "text": [
      "person1 = ['S', 'T']\n",
      "person2 = ['H', 'E']\n",
      "person3 = ['S', 'I']\n",
      "person4 = ['Y', 'S']\n",
      "person5 = ['I', 'A']\n",
      "Found words: ['SHAYS', 'SHIAS', 'ESSAY', 'SISES', 'ASSES', 'ISSEI', 'HASTY', 'SHITS', 'STASH', 'THAIS', 'TISHA', 'SAITH', 'YETIS', 'YEATS', 'YEAST', 'YATES', 'STIES', 'SITES', 'TESSA', 'TASSE', 'EASTS', 'SEATS', 'SATES', 'ASSET']\n"
     ]
    },
    {
     "name": "stderr",
     "output_type": "stream",
     "text": [
      " 82%|████████▏ | 823/1000 [06:31<01:32,  1.91it/s]"
     ]
    },
    {
     "name": "stdout",
     "output_type": "stream",
     "text": [
      "person1 = ['C', 'S']\n",
      "person2 = ['H', 'U']\n",
      "person3 = ['L', 'O']\n",
      "person4 = ['T', 'C']\n",
      "person5 = ['T', 'I']\n",
      "Found words: ['CHICO', 'HILTS', 'HOIST', 'SOCHI', 'CHIOS', 'CULTS', 'SULCI', 'STOUT', 'TOUTS', 'SCOUT']\n"
     ]
    },
    {
     "name": "stderr",
     "output_type": "stream",
     "text": [
      " 82%|████████▏ | 824/1000 [06:32<01:35,  1.84it/s]"
     ]
    },
    {
     "name": "stdout",
     "output_type": "stream",
     "text": [
      "person1 = ['Q', 'C']\n",
      "person2 = ['H', 'U']\n",
      "person3 = ['A', 'I']\n",
      "person4 = ['R', 'O']\n",
      "person5 = ['N', 'L']\n",
      "Found words: ['QURAN', 'QUOIN', 'RANCH', 'LARCH', 'COHAN', 'NACHO', 'LOACH', 'CHINO', 'CHOLI', 'INCUR', 'RUNIC', 'OCULI', 'LUCIO']\n"
     ]
    },
    {
     "name": "stderr",
     "output_type": "stream",
     "text": [
      " 82%|████████▎ | 825/1000 [06:32<01:34,  1.86it/s]"
     ]
    },
    {
     "name": "stdout",
     "output_type": "stream",
     "text": [
      "person1 = ['C', 'E']\n",
      "person2 = ['H', 'E']\n",
      "person3 = ['I', 'R']\n",
      "person4 = ['E', 'A']\n",
      "person5 = ['L', 'O']\n",
      "Found words: ['CHILE', 'CHIAO', 'CHORE', 'ROCHE', 'OCHER', 'LARCH', 'ROCHA', 'ROACH', 'CELIA', 'ILEAC', 'ALICE', 'CREEL', 'CLEAR', 'CLARE', 'LACER', 'OCREA', 'HALER', 'HORAE', 'EARLE']\n"
     ]
    },
    {
     "name": "stderr",
     "output_type": "stream",
     "text": [
      " 83%|████████▎ | 826/1000 [06:33<01:35,  1.82it/s]"
     ]
    },
    {
     "name": "stdout",
     "output_type": "stream",
     "text": [
      "person1 = ['T', 'Q']\n",
      "person2 = ['H', 'K']\n",
      "person3 = ['E', 'Y']\n",
      "person4 = ['E', 'S']\n",
      "person5 = ['L', 'T']\n",
      "Found words: ['ETHEL', 'LETHE', 'TEETH', 'TETHS', 'ETHYL']\n"
     ]
    },
    {
     "name": "stderr",
     "output_type": "stream",
     "text": [
      " 83%|████████▎ | 827/1000 [06:33<01:33,  1.84it/s]"
     ]
    },
    {
     "name": "stdout",
     "output_type": "stream",
     "text": [
      "person1 = ['C', 'T']\n",
      "person2 = ['H', 'H']\n",
      "person3 = ['A', 'E']\n",
      "person4 = ['T', 'N']\n",
      "person5 = ['L', 'O']\n",
      "Found words: ['LATCH', 'COHAN', 'NACHO', 'COHEN', 'ENOCH']\n"
     ]
    },
    {
     "name": "stderr",
     "output_type": "stream",
     "text": [
      " 83%|████████▎ | 828/1000 [06:34<01:33,  1.84it/s]"
     ]
    },
    {
     "name": "stdout",
     "output_type": "stream",
     "text": [
      "person1 = ['E', 'C']\n",
      "person2 = ['K', 'U']\n",
      "person3 = ['E', 'I']\n",
      "person4 = ['L', 'A']\n",
      "person5 = ['S', 'A']\n",
      "Found words: ['KEELS', 'LEEKS', 'SLEEK', 'AKEES', 'LIKES', 'ALIKE', 'ILEUS', 'CAKES', 'LICKS', 'SLICK', 'CLUES', 'CAUSE', 'SAUCE', 'SULCI', 'LUCIA', 'AULIC', 'CAIUS']\n"
     ]
    },
    {
     "name": "stderr",
     "output_type": "stream",
     "text": [
      " 83%|████████▎ | 829/1000 [06:34<01:31,  1.86it/s]"
     ]
    },
    {
     "name": "stdout",
     "output_type": "stream",
     "text": [
      "person1 = ['C', 'S']\n",
      "person2 = ['H', 'H']\n",
      "person3 = ['O', 'A']\n",
      "person4 = ['C', 'L']\n",
      "person5 = ['A', 'I']\n",
      "Found words: ['CHACO', 'COACH', 'CHICO', 'LOACH', 'CHOLI', 'CHAOS', 'SOCHI', 'CHIOS', 'SHOAL', 'HALOS', 'LHASA', 'HAILS']\n"
     ]
    },
    {
     "name": "stderr",
     "output_type": "stream",
     "text": [
      " 83%|████████▎ | 830/1000 [06:35<01:30,  1.88it/s]"
     ]
    },
    {
     "name": "stdout",
     "output_type": "stream",
     "text": [
      "person1 = ['Q', 'S']\n",
      "person2 = ['U', 'H']\n",
      "person3 = ['E', 'L']\n",
      "person4 = ['C', 'A']\n",
      "person5 = ['I', 'O']\n",
      "Found words: ['QUAIL', 'SULCI', 'LOCUS', 'LUISA', 'LAIUS', 'AULOS', 'SOCHE', 'ECHOS', 'CHOSE', 'HOSEA', 'HAILS', 'SHOAL', 'HALOS']\n"
     ]
    },
    {
     "name": "stderr",
     "output_type": "stream",
     "text": [
      " 83%|████████▎ | 831/1000 [06:35<01:31,  1.85it/s]"
     ]
    },
    {
     "name": "stdout",
     "output_type": "stream",
     "text": [
      "person1 = ['S', 'T']\n",
      "person2 = ['K', 'H']\n",
      "person3 = ['H', 'A']\n",
      "person4 = ['S', 'Y']\n",
      "person5 = ['I', 'O']\n",
      "Found words: ['SIKHS', 'SKOSH', 'SAKIS', 'SIKAS', 'SOAKS', 'KAYOS', 'OKAYS', 'SHIAS', 'SAKTI', 'SITKA', 'TOKAY', 'THAIS', 'TISHA', 'SAITH', 'HOSTA', 'ATHOS', 'SHOAT', 'OATHS']\n"
     ]
    },
    {
     "name": "stderr",
     "output_type": "stream",
     "text": [
      " 83%|████████▎ | 833/1000 [06:36<01:28,  1.88it/s]"
     ]
    },
    {
     "name": "stdout",
     "output_type": "stream",
     "text": [
      "person1 = ['C', 'Q']\n",
      "person2 = ['U', 'H']\n",
      "person3 = ['O', 'R']\n",
      "person4 = ['A', 'S']\n",
      "person5 = ['I', 'O']\n",
      "Found words: ['CURIA', 'AURIC', 'SCOUR', 'ORCUS', 'CHIAO', 'OCHOA', 'ACHOO', 'CHIOS', 'SOCHI', 'COHOS', 'CHARI', 'CHAIR', 'ROCHA', 'ROACH', 'CHRIS']\n"
     ]
    },
    {
     "name": "stderr",
     "output_type": "stream",
     "text": [
      " 84%|████████▎ | 835/1000 [06:38<01:33,  1.76it/s]"
     ]
    },
    {
     "name": "stdout",
     "output_type": "stream",
     "text": [
      "person1 = ['E', 'T']\n",
      "person2 = ['U', 'H']\n",
      "person3 = ['I', 'T']\n",
      "person4 = ['L', 'I']\n",
      "person5 = ['Y', 'T']\n",
      "Found words: ['UTILE', 'LIEUT', 'LEITH', 'LITHE', 'ETHYL', 'TITHE', 'TUTTI', 'TILTH']\n"
     ]
    },
    {
     "name": "stderr",
     "output_type": "stream",
     "text": [
      " 84%|████████▎ | 836/1000 [06:38<01:29,  1.83it/s]"
     ]
    },
    {
     "name": "stdout",
     "output_type": "stream",
     "text": [
      "person1 = ['P', 'C']\n",
      "person2 = ['U', 'H']\n",
      "person3 = ['A', 'Y']\n",
      "person4 = ['L', 'R']\n",
      "person5 = ['O', 'A']\n",
      "Found words: ['PAULA', 'PALAU', 'LAYUP', 'ALPHA', 'OPRAH', 'PHYLA', 'HAPLY', 'HARPY', 'LOACH', 'ROCHA', 'ROACH', 'CHARY']\n"
     ]
    },
    {
     "name": "stderr",
     "output_type": "stream",
     "text": [
      " 84%|████████▎ | 837/1000 [06:39<01:25,  1.90it/s]"
     ]
    },
    {
     "name": "stdout",
     "output_type": "stream",
     "text": [
      "person1 = ['C', 'T']\n",
      "person2 = ['H', 'E']\n",
      "person3 = ['A', 'N']\n",
      "person4 = ['A', 'Y']\n",
      "person5 = ['A', 'E']\n",
      "Found words: ['HANCE', 'CANEA', 'THANA', 'THANE', 'NEATH', 'ETHAN', 'AETNA', 'ENATE', 'EATEN', 'TANEY', 'YENTA', 'TEENY']\n"
     ]
    },
    {
     "name": "stderr",
     "output_type": "stream",
     "text": [
      " 84%|████████▍ | 839/1000 [06:40<01:26,  1.86it/s]"
     ]
    },
    {
     "name": "stdout",
     "output_type": "stream",
     "text": [
      "person1 = ['C', 'E']\n",
      "person2 = ['U', 'H']\n",
      "person3 = ['C', 'S']\n",
      "person4 = ['H', 'L']\n",
      "person5 = ['R', 'N']\n",
      "Found words: ['CURCH', 'CRUSH', 'CURLS', 'RUCHE', 'ULCER', 'CRUEL', 'LUCRE', 'UNCLE', 'USHER', 'LURES', 'RULES', 'HENCH']\n"
     ]
    },
    {
     "name": "stderr",
     "output_type": "stream",
     "text": [
      " 84%|████████▍ | 840/1000 [06:40<01:26,  1.85it/s]"
     ]
    },
    {
     "name": "stdout",
     "output_type": "stream",
     "text": [
      "person1 = ['T', 'S']\n",
      "person2 = ['H', 'E']\n",
      "person3 = ['S', 'A']\n",
      "person4 = ['N', 'H']\n",
      "person5 = ['L', 'I']\n",
      "Found words: ['THINS', 'HINTS', 'LENTS', 'TINES', 'STEIN', 'STINE', 'NITES', 'INSET', 'HEIST', 'TENIA', 'TAINE', 'TINEA', 'LETHA', 'LATHE', 'SHINS', 'SINES', 'SHIES', 'LEANS', 'LANES', 'SIENA', 'ANISE', 'AISNE', 'SELAH', 'SAHEL', 'SHALE', 'HEALS', 'HALES', 'LEASH']\n"
     ]
    },
    {
     "name": "stderr",
     "output_type": "stream",
     "text": [
      " 84%|████████▍ | 841/1000 [06:41<01:23,  1.90it/s]"
     ]
    },
    {
     "name": "stdout",
     "output_type": "stream",
     "text": [
      "person1 = ['E', 'T']\n",
      "person2 = ['K', 'E']\n",
      "person3 = ['L', 'R']\n",
      "person4 = ['S', 'H']\n",
      "person5 = ['T', 'H']\n",
      "Found words: ['TREKS', 'SHREK', 'SLEET', 'STEEL', 'STELE', 'HEELS', 'ETHEL', 'LETHE', 'ESTER', 'REEST', 'RESET', 'STEER', 'STERE', 'TERSE', 'TREES', 'SHEER', 'HERES', 'ETHER', 'THERE', 'THREE', 'RESHT']\n"
     ]
    },
    {
     "name": "stderr",
     "output_type": "stream",
     "text": [
      " 84%|████████▍ | 844/1000 [06:42<01:21,  1.90it/s]"
     ]
    },
    {
     "name": "stdout",
     "output_type": "stream",
     "text": [
      "person1 = ['T', 'S']\n",
      "person2 = ['E', 'H']\n",
      "person3 = ['C', 'A']\n",
      "person4 = ['I', 'O']\n",
      "person5 = ['O', 'S']\n",
      "Found words: ['CITES', 'COTES', 'COSTE', 'COSET', 'TOEAS', 'OATES', 'SEATO', 'CHITS', 'STICH', 'THAIS', 'TISHA', 'SAITH', 'HOSTA', 'ATHOS', 'OATHS', 'SHOAT', 'OASES', 'SOCHI', 'CHIOS', 'COHOS', 'SHIAS']\n"
     ]
    },
    {
     "name": "stderr",
     "output_type": "stream",
     "text": [
      " 85%|████████▍ | 848/1000 [06:44<01:18,  1.93it/s]"
     ]
    },
    {
     "name": "stdout",
     "output_type": "stream",
     "text": [
      "person1 = ['C', 'P']\n",
      "person2 = ['H', 'K']\n",
      "person3 = ['C', 'I']\n",
      "person4 = ['R', 'I']\n",
      "person5 = ['A', 'S']\n",
      "Found words: ['CHAIR', 'CHARI', 'CHRIS', 'CHIAI', 'CRACK', 'RICKS', 'PARCH', 'CHIPS', 'PICKS']\n"
     ]
    },
    {
     "name": "stderr",
     "output_type": "stream",
     "text": [
      " 85%|████████▌ | 851/1000 [06:46<01:14,  1.99it/s]"
     ]
    },
    {
     "name": "stdout",
     "output_type": "stream",
     "text": [
      "person1 = ['Q', 'S']\n",
      "person2 = ['U', 'E']\n",
      "person3 = ['A', 'Y']\n",
      "person4 = ['S', 'E']\n",
      "person5 = ['E', 'C']\n",
      "Found words: ['ASCUS', 'SAUCE', 'CAUSE', 'EASES', 'CASES', 'CEASE', 'YESES', 'SYCEE']\n"
     ]
    },
    {
     "name": "stderr",
     "output_type": "stream",
     "text": [
      " 85%|████████▌ | 852/1000 [06:46<01:14,  1.98it/s]"
     ]
    },
    {
     "name": "stdout",
     "output_type": "stream",
     "text": [
      "person1 = ['E', 'S']\n",
      "person2 = ['H', 'H']\n",
      "person3 = ['L', 'E']\n",
      "person4 = ['L', 'H']\n",
      "person5 = ['N', 'A']\n",
      "Found words: ['HALLE', 'HELEN', 'SHALL', 'HALLS', 'SHALE', 'SELAH', 'SAHEL', 'HEALS', 'HALES', 'LEASH']\n"
     ]
    },
    {
     "name": "stderr",
     "output_type": "stream",
     "text": [
      " 85%|████████▌ | 853/1000 [06:47<01:11,  2.05it/s]"
     ]
    },
    {
     "name": "stdout",
     "output_type": "stream",
     "text": [
      "person1 = ['T', 'S']\n",
      "person2 = ['H', 'U']\n",
      "person3 = ['O', 'C']\n",
      "person4 = ['E', 'T']\n",
      "person5 = ['R', 'S']\n",
      "Found words: ['THROE', 'OTHER', 'THOSE', 'ETHOS', 'SHOTE', 'TROTH', 'CHERT', 'RETCH', 'TECHS', 'CHEST', 'OUTER', 'OUTRE', 'ROUTE', 'TUTOR', 'TROUT', 'TOUTS', 'STOUT', 'TRUCE', 'CUTER', 'CURET', 'CRUET', 'ERUCT', 'RECUT', 'CETUS', 'SCUTE', 'SHORE', 'HOERS', 'HORSE', 'SHOES', 'HOSES', 'SHORT', 'HORST', 'SHOTS', 'HOSTS', 'CHESS', 'EUROS', 'ROUSE', 'ROUES', 'SOUSE', 'TOURS', 'TORUS', 'ROUST', 'ROUTS', 'OUSTS', 'SUCRE', 'CURSE', 'CURES', 'CRUSE', 'CRUST', 'SCUTS']\n"
     ]
    },
    {
     "name": "stderr",
     "output_type": "stream",
     "text": [
      " 85%|████████▌ | 854/1000 [06:47<01:10,  2.06it/s]"
     ]
    },
    {
     "name": "stdout",
     "output_type": "stream",
     "text": [
      "person1 = ['C', 'E']\n",
      "person2 = ['H', 'U']\n",
      "person3 = ['C', 'I']\n",
      "person4 = ['R', 'T']\n",
      "person5 = ['S', 'L']\n",
      "Found words: ['CHRIS', 'CHITS', 'STICH', 'CUTIS', 'ICTUS', 'CHEST', 'TECHS', 'HEIRS', 'HIRES', 'SHERI', 'SHIER', 'SHIRE', 'HEIST', 'LEITH', 'LITHE', 'CURES', 'CURSE', 'CRUSE', 'SUCRE', 'ULCER', 'CRUEL', 'LUCRE', 'CETUS', 'SCUTE', 'CULET', 'URIEL', 'ETUIS', 'SUITE', 'UTILE', 'LIEUT']\n"
     ]
    },
    {
     "name": "stderr",
     "output_type": "stream",
     "text": [
      " 86%|████████▌ | 855/1000 [06:48<01:09,  2.07it/s]"
     ]
    },
    {
     "name": "stdout",
     "output_type": "stream",
     "text": [
      "person1 = ['S', 'E']\n",
      "person2 = ['H', 'U']\n",
      "person3 = ['O', 'T']\n",
      "person4 = ['N', 'C']\n",
      "person5 = ['E', 'C']\n",
      "Found words: ['SHONE', 'HONES', 'SOCHE', 'CHOSE', 'ECHOS', 'CHOCS', 'TECHS', 'CHEST', 'CUSCO', 'UNSET', 'TUNES', 'CUNTS', 'SCUTE', 'CETUS', 'ENOCH', 'COHEN', 'TENCH', 'OUNCE', 'CUNEO']\n"
     ]
    },
    {
     "name": "stderr",
     "output_type": "stream",
     "text": [
      " 86%|████████▌ | 856/1000 [06:48<01:07,  2.12it/s]"
     ]
    },
    {
     "name": "stdout",
     "output_type": "stream",
     "text": [
      "person1 = ['E', 'C']\n",
      "person2 = ['H', 'E']\n",
      "person3 = ['E', 'I']\n",
      "person4 = ['S', 'R']\n",
      "person5 = ['Y', 'L']\n",
      "Found words: ['HEELS', 'ELISE', 'ELSIE', 'SYCEE', 'CREEL', 'SLICE', 'RELIC']\n"
     ]
    },
    {
     "name": "stderr",
     "output_type": "stream",
     "text": [
      " 86%|████████▌ | 858/1000 [06:49<01:03,  2.22it/s]"
     ]
    },
    {
     "name": "stdout",
     "output_type": "stream",
     "text": [
      "person1 = ['C', 'Q']\n",
      "person2 = ['E', 'H']\n",
      "person3 = ['T', 'E']\n",
      "person4 = ['N', 'S']\n",
      "person5 = ['R', 'A']\n",
      "Found words: ['ENACT', 'CERTS', 'CREST', 'CESTA', 'CASTE', 'CERES', 'CREES', 'SCREE', 'CEASE', 'CHANT', 'NATCH', 'CHATS', 'HANCE', 'CHASE', 'ACHES']\n"
     ]
    },
    {
     "name": "stderr",
     "output_type": "stream",
     "text": [
      " 86%|████████▌ | 859/1000 [06:50<01:03,  2.21it/s]"
     ]
    },
    {
     "name": "stdout",
     "output_type": "stream",
     "text": [
      "person1 = ['T', 'C']\n",
      "person2 = ['H', 'U']\n",
      "person3 = ['Y', 'L']\n",
      "person4 = ['E', 'O']\n",
      "person5 = ['A', 'H']\n",
      "Found words: ['LETHA', 'LATHE', 'LOATH', 'YOUTH', 'ALEUT', 'THULE', 'LOUTH', 'CHELA', 'LEACH', 'LOACH']\n"
     ]
    },
    {
     "name": "stderr",
     "output_type": "stream",
     "text": [
      " 86%|████████▌ | 861/1000 [06:50<01:02,  2.22it/s]"
     ]
    },
    {
     "name": "stdout",
     "output_type": "stream",
     "text": [
      "person1 = ['Q', 'C']\n",
      "person2 = ['U', 'E']\n",
      "person3 = ['N', 'Y']\n",
      "person4 = ['N', 'T']\n",
      "person5 = ['A', 'H']\n",
      "Found words: ['QUANT', 'CANTU', 'NANCE', 'ENACT', 'TENCH', 'TECHY', 'TYCHE']\n"
     ]
    },
    {
     "name": "stderr",
     "output_type": "stream",
     "text": [
      " 86%|████████▌ | 862/1000 [06:51<01:01,  2.26it/s]"
     ]
    },
    {
     "name": "stdout",
     "output_type": "stream",
     "text": [
      "person1 = ['Q', 'P']\n",
      "person2 = ['H', 'H']\n",
      "person3 = ['N', 'S']\n",
      "person4 = ['E', 'I']\n",
      "person5 = ['L', 'O']\n",
      "Found words: ['PHEON', 'PHONE', 'HELPS', 'HOPES', 'HOPIS']\n"
     ]
    },
    {
     "name": "stderr",
     "output_type": "stream",
     "text": [
      " 86%|████████▋ | 863/1000 [06:51<01:01,  2.24it/s]"
     ]
    },
    {
     "name": "stdout",
     "output_type": "stream",
     "text": [
      "person1 = ['C', 'P']\n",
      "person2 = ['H', 'H']\n",
      "person3 = ['I', 'N']\n",
      "person4 = ['I', 'A']\n",
      "person5 = ['N', 'L']\n",
      "Found words: ['CHILI', 'CHIAN', 'CHINA', 'CHAIN', 'ICAHN', 'PHIAL']\n"
     ]
    },
    {
     "name": "stderr",
     "output_type": "stream",
     "text": [
      " 86%|████████▋ | 864/1000 [06:52<00:59,  2.28it/s]"
     ]
    },
    {
     "name": "stdout",
     "output_type": "stream",
     "text": [
      "person1 = ['C', 'S']\n",
      "person2 = ['E', 'H']\n",
      "person3 = ['I', 'O']\n",
      "person4 = ['Y', 'L']\n",
      "person5 = ['S', 'Y']\n",
      "Found words: ['SLICE', 'COLES', 'CLOSE', 'SOCLE', 'COLEY', 'ISLES', 'SOLES', 'SLOES', 'LOSES', 'LOESS', 'SLOSH']\n"
     ]
    },
    {
     "name": "stderr",
     "output_type": "stream",
     "text": [
      " 87%|████████▋ | 866/1000 [06:53<00:59,  2.27it/s]"
     ]
    },
    {
     "name": "stdout",
     "output_type": "stream",
     "text": [
      "person1 = ['E', 'P']\n",
      "person2 = ['H', 'H']\n",
      "person3 = ['L', 'R']\n",
      "person4 = ['O', 'T']\n",
      "person5 = ['S', 'H']\n",
      "Found words: ['HOLES', 'SHEOL', 'HOERS', 'HORSE', 'SHORE', 'RESHT']\n"
     ]
    },
    {
     "name": "stderr",
     "output_type": "stream",
     "text": [
      " 87%|████████▋ | 868/1000 [06:54<00:57,  2.29it/s]"
     ]
    },
    {
     "name": "stdout",
     "output_type": "stream",
     "text": [
      "person1 = ['S', 'C']\n",
      "person2 = ['U', 'E']\n",
      "person3 = ['E', 'S']\n",
      "person4 = ['C', 'E']\n",
      "person5 = ['R', 'E']\n",
      "Found words: ['SUCRE', 'CURSE', 'CURES', 'CRUSE', 'REUSE', 'USERS', 'RUSES', 'SCREE', 'CERES', 'CREES', 'REESE', 'CRESS', 'SEERS', 'CUSEC', 'RECCE']\n"
     ]
    },
    {
     "name": "stderr",
     "output_type": "stream",
     "text": [
      " 87%|████████▋ | 869/1000 [06:54<00:56,  2.30it/s]"
     ]
    },
    {
     "name": "stdout",
     "output_type": "stream",
     "text": [
      "person1 = ['Q', 'T']\n",
      "person2 = ['H', 'K']\n",
      "person3 = ['I', 'A']\n",
      "person4 = ['S', 'C']\n",
      "person5 = ['Y', 'E']\n",
      "Found words: ['HEIST', 'ITCHY', 'ETHIC', 'HASTY', 'HATES', 'HASTE', 'HEATS', 'CATHY', 'YACHT', 'THECA', 'TACHE', 'TEACH', 'CHEAT', 'KITES', 'SKITE', 'TIECK', 'KYATS', 'TAKES', 'TEAKS', 'KEATS', 'STAKE', 'STEAK', 'SKATE', 'TACKY']\n"
     ]
    },
    {
     "name": "stderr",
     "output_type": "stream",
     "text": [
      " 87%|████████▋ | 872/1000 [06:55<00:55,  2.32it/s]"
     ]
    },
    {
     "name": "stdout",
     "output_type": "stream",
     "text": [
      "person1 = ['P', 'T']\n",
      "person2 = ['K', 'U']\n",
      "person3 = ['T', 'O']\n",
      "person4 = ['N', 'R']\n",
      "person5 = ['I', 'T']\n",
      "Found words: ['PINKO', 'PUTIN', 'INPUT', 'UPTON', 'TUTOR', 'TROUT']\n"
     ]
    },
    {
     "name": "stderr",
     "output_type": "stream",
     "text": [
      " 87%|████████▋ | 873/1000 [06:56<00:54,  2.33it/s]"
     ]
    },
    {
     "name": "stdout",
     "output_type": "stream",
     "text": [
      "person1 = ['T', 'C']\n",
      "person2 = ['H', 'H']\n",
      "person3 = ['S', 'C']\n",
      "person4 = ['E', 'N']\n",
      "person5 = ['L', 'O']\n",
      "Found words: ['THOSE', 'SHOTE', 'ETHOS', 'NOTCH', 'CHOSE', 'SOCHE', 'ECHOS', 'CONCH']\n"
     ]
    },
    {
     "name": "stderr",
     "output_type": "stream",
     "text": [
      " 87%|████████▋ | 874/1000 [06:56<00:54,  2.32it/s]"
     ]
    },
    {
     "name": "stdout",
     "output_type": "stream",
     "text": [
      "person1 = ['C', 'S']\n",
      "person2 = ['K', 'H']\n",
      "person3 = ['N', 'H']\n",
      "person4 = ['O', 'H']\n",
      "person5 = ['O', 'S']\n",
      "Found words: ['CONKS', 'NOCKS', 'CHOOK', 'HOCKS', 'SHOCK', 'HOOCH', 'SNOOK', 'NOOKS', 'HONKS', 'SHOOK', 'HOOKS', 'SKOSH']\n"
     ]
    },
    {
     "name": "stderr",
     "output_type": "stream",
     "text": [
      " 88%|████████▊ | 875/1000 [06:57<00:55,  2.26it/s]"
     ]
    },
    {
     "name": "stdout",
     "output_type": "stream",
     "text": [
      "person1 = ['E', 'P']\n",
      "person2 = ['H', 'U']\n",
      "person3 = ['E', 'S']\n",
      "person4 = ['R', 'N']\n",
      "person5 = ['R', 'S']\n",
      "Found words: ['HERES', 'SHEER', 'HERNE', 'SHEEN', 'REUSE', 'ENURE', 'ENSUE', 'SURER', 'USERS', 'RUSES', 'NURSE', 'RUNES', 'PHREN', 'PURER', 'PURSE', 'SPRUE', 'SUPER', 'PRUNE', 'PURRS', 'SPURS', 'SPURN']\n"
     ]
    },
    {
     "name": "stderr",
     "output_type": "stream",
     "text": [
      " 88%|████████▊ | 876/1000 [06:57<00:55,  2.23it/s]"
     ]
    },
    {
     "name": "stdout",
     "output_type": "stream",
     "text": [
      "person1 = ['S', 'T']\n",
      "person2 = ['H', 'E']\n",
      "person3 = ['L', 'E']\n",
      "person4 = ['I', 'L']\n",
      "person5 = ['L', 'E']\n",
      "Found words: ['SHILL', 'HILLS', 'SHELL', 'HELLS', 'HEELS', 'ELLIS', 'LISLE', 'ELSIE', 'ELISE', 'THILL', 'LITHE', 'LEITH', 'ETHEL', 'LETHE', 'ELITE']\n"
     ]
    },
    {
     "name": "stderr",
     "output_type": "stream",
     "text": [
      " 88%|████████▊ | 877/1000 [06:58<00:56,  2.18it/s]"
     ]
    },
    {
     "name": "stdout",
     "output_type": "stream",
     "text": [
      "person1 = ['C', 'C']\n",
      "person2 = ['E', 'H']\n",
      "person3 = ['O', 'I']\n",
      "person4 = ['H', 'L']\n",
      "person5 = ['R', 'A']\n",
      "Found words: ['CHORE', 'OCHER', 'ROCHE', 'CEORL', 'CHERI', 'ERICH', 'REICH', 'RELIC', 'CELIA', 'ILEAC', 'ALICE', 'LOACH']\n"
     ]
    },
    {
     "name": "stderr",
     "output_type": "stream",
     "text": [
      " 88%|████████▊ | 879/1000 [06:58<00:53,  2.25it/s]"
     ]
    },
    {
     "name": "stdout",
     "output_type": "stream",
     "text": [
      "person1 = ['P', 'E']\n",
      "person2 = ['E', 'U']\n",
      "person3 = ['A', 'C']\n",
      "person4 = ['Y', 'N']\n",
      "person5 = ['A', 'E']\n",
      "Found words: ['PAYEE', 'PAEAN', 'APNEA', 'PACEY', 'PECAN', 'PENCE', 'UNCAP']\n"
     ]
    },
    {
     "name": "stderr",
     "output_type": "stream",
     "text": [
      " 88%|████████▊ | 880/1000 [06:59<00:52,  2.27it/s]"
     ]
    },
    {
     "name": "stdout",
     "output_type": "stream",
     "text": [
      "person1 = ['C', 'S']\n",
      "person2 = ['H', 'K']\n",
      "person3 = ['O', 'L']\n",
      "person4 = ['C', 'I']\n",
      "person5 = ['O', 'N']\n",
      "Found words: ['CONCH', 'CHINO', 'CHOLI', 'CLOCK', 'CLINK', 'COHOS', 'COOKS', 'CONKS', 'NOCKS', 'KINOS', 'OINKS', 'LOCKS', 'KILOS', 'SLINK', 'KILNS', 'LINKS']\n"
     ]
    },
    {
     "name": "stderr",
     "output_type": "stream",
     "text": [
      " 88%|████████▊ | 881/1000 [06:59<00:52,  2.26it/s]"
     ]
    },
    {
     "name": "stdout",
     "output_type": "stream",
     "text": [
      "person1 = ['E', 'T']\n",
      "person2 = ['H', 'E']\n",
      "person3 = ['S', 'T']\n",
      "person4 = ['L', 'R']\n",
      "person5 = ['C', 'L']\n",
      "Found words: ['HELLS', 'SHELL', 'RETCH', 'CHERT', 'SCREE', 'CERES', 'CREES', 'REELS', 'LEERS', 'ELECT', 'ERECT', 'TERCE', 'CRETE', 'CELTS', 'TELLS', 'CERTS', 'CREST']\n"
     ]
    },
    {
     "name": "stderr",
     "output_type": "stream",
     "text": [
      " 88%|████████▊ | 882/1000 [07:00<00:52,  2.26it/s]"
     ]
    },
    {
     "name": "stdout",
     "output_type": "stream",
     "text": [
      "person1 = ['S', 'E']\n",
      "person2 = ['E', 'U']\n",
      "person3 = ['E', 'H']\n",
      "person4 = ['R', 'L']\n",
      "person5 = ['N', 'T']\n",
      "Found words: ['SNEER', 'ERNES', 'STEER', 'STERE', 'ESTER', 'RESET', 'REEST', 'TERSE', 'TREES', 'SLEET', 'STEEL', 'STELE', 'RESHT', 'RUNES', 'NURSE', 'TRUES', 'LUTES', 'HURST', 'HURTS', 'RUTHS', 'THURS', 'RENEE', 'HERNE', 'ETHER', 'THERE', 'THREE', 'HELEN', 'ETHEL', 'LETHE', 'ENURE', 'ELUTE', 'NEHRU', 'UTHER', 'THULE']\n"
     ]
    },
    {
     "name": "stderr",
     "output_type": "stream",
     "text": [
      " 88%|████████▊ | 883/1000 [07:00<00:51,  2.28it/s]"
     ]
    },
    {
     "name": "stdout",
     "output_type": "stream",
     "text": [
      "person1 = ['C', 'Q']\n",
      "person2 = ['H', 'U']\n",
      "person3 = ['H', 'R']\n",
      "person4 = ['I', 'N']\n",
      "person5 = ['C', 'E']\n",
      "Found words: ['HENCH', 'CHERI', 'REICH', 'ERICH', 'CURIE', 'QUIRE', 'QUERN']\n"
     ]
    },
    {
     "name": "stderr",
     "output_type": "stream",
     "text": [
      " 88%|████████▊ | 885/1000 [07:01<00:50,  2.28it/s]"
     ]
    },
    {
     "name": "stdout",
     "output_type": "stream",
     "text": [
      "person1 = ['Q', 'P']\n",
      "person2 = ['U', 'E']\n",
      "person3 = ['H', 'O']\n",
      "person4 = ['R', 'O']\n",
      "person5 = ['L', 'A']\n",
      "Found words: ['POLER', 'PROLE', 'LOPER', 'OPERA', 'POOLE']\n"
     ]
    },
    {
     "name": "stderr",
     "output_type": "stream",
     "text": [
      " 89%|████████▊ | 886/1000 [07:01<00:50,  2.28it/s]"
     ]
    },
    {
     "name": "stdout",
     "output_type": "stream",
     "text": [
      "person1 = ['C', 'S']\n",
      "person2 = ['H', 'U']\n",
      "person3 = ['E', 'H']\n",
      "person4 = ['N', 'O']\n",
      "person5 = ['R', 'Y']\n",
      "Found words: ['CHORE', 'OCHER', 'ROCHE', 'CHURN', 'SHORE', 'HOERS', 'HORSE', 'NURSE', 'RUNES', 'EUROS', 'ROUSE', 'ROUES', 'HOURS', 'HORUS']\n"
     ]
    },
    {
     "name": "stderr",
     "output_type": "stream",
     "text": [
      " 89%|████████▉ | 888/1000 [07:02<00:48,  2.29it/s]"
     ]
    },
    {
     "name": "stdout",
     "output_type": "stream",
     "text": [
      "person1 = ['S', 'C']\n",
      "person2 = ['E', 'K']\n",
      "person3 = ['A', 'E']\n",
      "person4 = ['N', 'I']\n",
      "person5 = ['T', 'L']\n",
      "Found words: ['STANE', 'ETNAS', 'ANTES', 'NATES', 'LEANS', 'LANES', 'ELISA', 'ELIAS', 'AISLE', 'SENTE', 'STEEN', 'TEENS', 'TENSE', 'ELSIE', 'ELISE', 'STANK', 'TANKS', 'KLANS', 'SAKTI', 'SITKA', 'KAILS', 'KALIS', 'LASKI', 'SKITE', 'KITES', 'LIKES', 'ENACT', 'CLEAN', 'LANCE', 'CELIA', 'ALICE', 'ILEAC', 'CLANK', 'TIECK']\n"
     ]
    },
    {
     "name": "stderr",
     "output_type": "stream",
     "text": [
      " 89%|████████▉ | 889/1000 [07:03<00:48,  2.30it/s]"
     ]
    },
    {
     "name": "stdout",
     "output_type": "stream",
     "text": [
      "person1 = ['C', 'C']\n",
      "person2 = ['H', 'H']\n",
      "person3 = ['N', 'T']\n",
      "person4 = ['H', 'A']\n",
      "person5 = ['Y', 'I']\n",
      "Found words: ['CHAIN', 'CHINA', 'CHIAN', 'ICAHN', 'HITCH', 'CATHY', 'YACHT', 'CHITA', 'AITCH']\n"
     ]
    },
    {
     "name": "stderr",
     "output_type": "stream",
     "text": [
      " 89%|████████▉ | 890/1000 [07:03<00:48,  2.28it/s]"
     ]
    },
    {
     "name": "stdout",
     "output_type": "stream",
     "text": [
      "person1 = ['C', 'S']\n",
      "person2 = ['U', 'H']\n",
      "person3 = ['S', 'E']\n",
      "person4 = ['A', 'O']\n",
      "person5 = ['H', 'C']\n",
      "Found words: ['CACUS', 'HOCUS', 'CUSCO', 'CHOCS', 'CACHE', 'USHAS', 'ASCUS', 'SAUCE', 'CAUSE', 'HOUSE', 'SHAHS', 'SACHS', 'ACHES', 'CHASE', 'SOCHE', 'ECHOS', 'CHOSE']\n"
     ]
    },
    {
     "name": "stderr",
     "output_type": "stream",
     "text": [
      " 89%|████████▉ | 891/1000 [07:04<00:48,  2.26it/s]"
     ]
    },
    {
     "name": "stdout",
     "output_type": "stream",
     "text": [
      "person1 = ['C', 'Q']\n",
      "person2 = ['H', 'K']\n",
      "person3 = ['T', 'E']\n",
      "person4 = ['I', 'E']\n",
      "person5 = ['N', 'I']\n",
      "Found words: ['TENCH', 'ETHIC', 'CHINE', 'NICHE', 'HENCE', 'TIECK']\n"
     ]
    },
    {
     "name": "stderr",
     "output_type": "stream",
     "text": [
      " 89%|████████▉ | 892/1000 [07:04<00:47,  2.27it/s]"
     ]
    },
    {
     "name": "stdout",
     "output_type": "stream",
     "text": [
      "person1 = ['C', 'P']\n",
      "person2 = ['K', 'H']\n",
      "person3 = ['E', 'L']\n",
      "person4 = ['R', 'T']\n",
      "person5 = ['N', 'Y']\n",
      "Found words: ['TENCH', 'TECHY', 'TYCHE', 'PERKY', 'PHREN', 'HYPER']\n"
     ]
    },
    {
     "name": "stderr",
     "output_type": "stream",
     "text": [
      " 89%|████████▉ | 893/1000 [07:05<00:47,  2.27it/s]"
     ]
    },
    {
     "name": "stdout",
     "output_type": "stream",
     "text": [
      "person1 = ['S', 'C']\n",
      "person2 = ['E', 'U']\n",
      "person3 = ['T', 'I']\n",
      "person4 = ['A', 'L']\n",
      "person5 = ['L', 'A']\n",
      "Found words: ['STEAL', 'STELA', 'STAEL', 'STALE', 'SLATE', 'TESLA', 'TEALS', 'TALES', 'LEAST', 'TELLS', 'ELISA', 'ELIAS', 'AISLE', 'ELLIS', 'LISLE', 'TULSA', 'TALUS', 'STULL', 'LUISA', 'LAIUS', 'ILLUS', 'CLEAT', 'ECLAT', 'CELIA', 'ILEAC', 'ALICE', 'AECIA', 'AULIC', 'LUCIA']\n"
     ]
    },
    {
     "name": "stderr",
     "output_type": "stream",
     "text": [
      " 90%|████████▉ | 895/1000 [07:05<00:46,  2.26it/s]"
     ]
    },
    {
     "name": "stdout",
     "output_type": "stream",
     "text": [
      "person1 = ['C', 'E']\n",
      "person2 = ['E', 'H']\n",
      "person3 = ['Y', 'C']\n",
      "person4 = ['N', 'H']\n",
      "person5 = ['T', 'O']\n",
      "Found words: ['CONEY', 'NOYCE', 'TECHY', 'TYCHE', 'CONCH', 'TEENY', 'HONEY', 'TENCH', 'ENOCH', 'COHEN']\n"
     ]
    },
    {
     "name": "stderr",
     "output_type": "stream",
     "text": [
      " 90%|████████▉ | 897/1000 [07:06<00:45,  2.27it/s]"
     ]
    },
    {
     "name": "stdout",
     "output_type": "stream",
     "text": [
      "person1 = ['Q', 'C']\n",
      "person2 = ['E', 'H']\n",
      "person3 = ['O', 'N']\n",
      "person4 = ['I', 'O']\n",
      "person5 = ['C', 'L']\n",
      "Found words: ['EOLIC', 'OLEIC', 'CLINE', 'CLEON', 'CLONE', 'CHICO', 'CHOLI', 'CINCH', 'CONCH']\n"
     ]
    },
    {
     "name": "stderr",
     "output_type": "stream",
     "text": [
      " 90%|████████▉ | 899/1000 [07:07<00:44,  2.29it/s]"
     ]
    },
    {
     "name": "stdout",
     "output_type": "stream",
     "text": [
      "person1 = ['E', 'P']\n",
      "person2 = ['H', 'H']\n",
      "person3 = ['O', 'L']\n",
      "person4 = ['Y', 'N']\n",
      "person5 = ['O', 'Y']\n",
      "Found words: ['HOOEY', 'HONEY', 'HOLEY', 'HOYLE', 'PHONY']\n"
     ]
    },
    {
     "name": "stderr",
     "output_type": "stream",
     "text": [
      " 90%|█████████ | 900/1000 [07:08<00:44,  2.27it/s]"
     ]
    },
    {
     "name": "stdout",
     "output_type": "stream",
     "text": [
      "person1 = ['P', 'Q']\n",
      "person2 = ['U', 'E']\n",
      "person3 = ['S', 'T']\n",
      "person4 = ['I', 'H']\n",
      "person5 = ['T', 'L']\n",
      "Found words: ['TUPIS', 'PLUSH', 'TULIP', 'PISTE', 'SPITE', 'STIPE', 'PILES', 'PLIES', 'SPIEL', 'SPILE', 'SIPLE', 'HELPS', 'PETIT', 'QUITS', 'QUILT']\n"
     ]
    },
    {
     "name": "stderr",
     "output_type": "stream",
     "text": [
      " 90%|█████████ | 901/1000 [07:08<00:43,  2.28it/s]"
     ]
    },
    {
     "name": "stdout",
     "output_type": "stream",
     "text": [
      "person1 = ['S', 'C']\n",
      "person2 = ['H', 'E']\n",
      "person3 = ['I', 'O']\n",
      "person4 = ['I', 'E']\n",
      "person5 = ['C', 'E']\n",
      "Found words: ['SOCHI', 'CHIOS', 'SOCHE', 'ECHOS', 'CHOSE', 'CHICO']\n"
     ]
    },
    {
     "name": "stderr",
     "output_type": "stream",
     "text": [
      " 90%|█████████ | 902/1000 [07:08<00:43,  2.27it/s]"
     ]
    },
    {
     "name": "stdout",
     "output_type": "stream",
     "text": [
      "person1 = ['P', 'T']\n",
      "person2 = ['H', 'U']\n",
      "person3 = ['Y', 'S']\n",
      "person4 = ['Y', 'I']\n",
      "person5 = ['T', 'E']\n",
      "Found words: ['PITHY', 'HYPES', 'PITHS', 'PUSEY', 'TUPIS', 'HEIST', 'SUETY', 'TUTSI', 'TITUS', 'SUITE', 'ETUIS']\n"
     ]
    },
    {
     "name": "stderr",
     "output_type": "stream",
     "text": [
      " 90%|█████████ | 904/1000 [07:09<00:42,  2.29it/s]"
     ]
    },
    {
     "name": "stdout",
     "output_type": "stream",
     "text": [
      "person1 = ['C', 'E']\n",
      "person2 = ['K', 'H']\n",
      "person3 = ['T', 'L']\n",
      "person4 = ['L', 'R']\n",
      "person5 = ['A', 'L']\n",
      "Found words: ['TRACK', 'CLARK', 'LATCH', 'CHART', 'ARCHT', 'LARCH', 'LATKE', 'TAKER', 'LAKER', 'LETHA', 'LATHE', 'EARTH', 'HERAT', 'HEART', 'HATER', 'HARTE', 'RATHE', 'HALLE', 'HALER']\n"
     ]
    },
    {
     "name": "stderr",
     "output_type": "stream",
     "text": [
      " 91%|█████████ | 906/1000 [07:10<00:42,  2.24it/s]"
     ]
    },
    {
     "name": "stdout",
     "output_type": "stream",
     "text": [
      "person1 = ['S', 'C']\n",
      "person2 = ['H', 'K']\n",
      "person3 = ['C', 'E']\n",
      "person4 = ['O', 'S']\n",
      "person5 = ['A', 'T']\n",
      "Found words: ['CHAOS', 'SACHS', 'HOSEA', 'SHOTE', 'ETHOS', 'THOSE', 'ASHES', 'THESS', 'STOCK', 'SACKS', 'CASKS', 'STOKE', 'TOKES', 'SAKES', 'CHACO', 'COACH', 'CHASE', 'ACHES', 'CHEST', 'TECHS', 'CAKES']\n"
     ]
    },
    {
     "name": "stderr",
     "output_type": "stream",
     "text": [
      " 91%|█████████ | 908/1000 [07:11<00:41,  2.23it/s]"
     ]
    },
    {
     "name": "stdout",
     "output_type": "stream",
     "text": [
      "person1 = ['T', 'C']\n",
      "person2 = ['U', 'H']\n",
      "person3 = ['T', 'C']\n",
      "person4 = ['T', 'N']\n",
      "person5 = ['I', 'H']\n",
      "Found words: ['TUTTI', 'TUNIC', 'CUTIN', 'TITCH', 'CUTCH', 'CINCH']\n"
     ]
    },
    {
     "name": "stderr",
     "output_type": "stream",
     "text": [
      " 91%|█████████ | 909/1000 [07:12<00:42,  2.13it/s]"
     ]
    },
    {
     "name": "stdout",
     "output_type": "stream",
     "text": [
      "person1 = ['P', 'C']\n",
      "person2 = ['H', 'H']\n",
      "person3 = ['A', 'C']\n",
      "person4 = ['O', 'C']\n",
      "person5 = ['R', 'E']\n",
      "Found words: ['OPRAH', 'PARCH', 'PEACH', 'CHAPE', 'CHEAP', 'PORCH', 'EPOCH', 'ROCHA', 'ROACH', 'CACHE']\n"
     ]
    },
    {
     "name": "stderr",
     "output_type": "stream",
     "text": [
      " 91%|█████████ | 910/1000 [07:12<00:45,  1.98it/s]"
     ]
    },
    {
     "name": "stdout",
     "output_type": "stream",
     "text": [
      "person1 = ['P', 'E']\n",
      "person2 = ['H', 'U']\n",
      "person3 = ['A', 'L']\n",
      "person4 = ['Y', 'T']\n",
      "person5 = ['N', 'O']\n",
      "Found words: ['UNAPT', 'PLUTO', 'POULT', 'HANEY', 'HYENA', 'ETHAN', 'THANE', 'NEATH', 'TAHOE', 'HOLEY', 'HOYLE', 'HELOT', 'HOTEL', 'THEOL', 'THOLE']\n"
     ]
    },
    {
     "name": "stderr",
     "output_type": "stream",
     "text": [
      " 91%|█████████ | 911/1000 [07:13<00:47,  1.88it/s]"
     ]
    },
    {
     "name": "stdout",
     "output_type": "stream",
     "text": [
      "person1 = ['E', 'T']\n",
      "person2 = ['H', 'K']\n",
      "person3 = ['T', 'Y']\n",
      "person4 = ['S', 'H']\n",
      "person5 = ['E', 'I']\n",
      "Found words: ['THESE', 'THEES', 'SHEET', 'HEIST', 'SKEET', 'KITES', 'SKITE', 'KEITH', 'KIETH', 'YEISK', 'YIKES', 'TETHS', 'TYKES']\n"
     ]
    },
    {
     "name": "stderr",
     "output_type": "stream",
     "text": [
      " 91%|█████████▏| 913/1000 [07:14<00:47,  1.84it/s]"
     ]
    },
    {
     "name": "stdout",
     "output_type": "stream",
     "text": [
      "person1 = ['C', 'C']\n",
      "person2 = ['K', 'H']\n",
      "person3 = ['S', 'I']\n",
      "person4 = ['I', 'E']\n",
      "person5 = ['E', 'R']\n",
      "Found words: ['RICKS', 'ERICK', 'CHRIS', 'CHERI', 'ERICH', 'REICH']\n"
     ]
    },
    {
     "name": "stderr",
     "output_type": "stream",
     "text": [
      " 91%|█████████▏| 914/1000 [07:15<00:47,  1.83it/s]"
     ]
    },
    {
     "name": "stdout",
     "output_type": "stream",
     "text": [
      "person1 = ['P', 'Q']\n",
      "person2 = ['H', 'U']\n",
      "person3 = ['E', 'A']\n",
      "person4 = ['S', 'N']\n",
      "person5 = ['A', 'E']\n",
      "Found words: ['PHASE', 'HEAPS', 'SHAPE', 'SHEEP', 'PASHA', 'PAUSE', 'QUEAN', 'QUEEN', 'AQUAS']\n"
     ]
    },
    {
     "name": "stderr",
     "output_type": "stream",
     "text": [
      " 92%|█████████▏| 915/1000 [07:15<00:46,  1.82it/s]"
     ]
    },
    {
     "name": "stdout",
     "output_type": "stream",
     "text": [
      "person1 = ['S', 'C']\n",
      "person2 = ['U', 'H']\n",
      "person3 = ['C', 'Y']\n",
      "person4 = ['H', 'O']\n",
      "person5 = ['R', 'H']\n",
      "Found words: ['CRUSH', 'SCOUR', 'ORCUS', 'HOCUS', 'RUSHY', 'YOURS', 'HORSY', 'CURCH', 'OCCUR', 'COUCH']\n"
     ]
    },
    {
     "name": "stderr",
     "output_type": "stream",
     "text": [
      " 92%|█████████▏| 916/1000 [07:16<00:46,  1.81it/s]"
     ]
    },
    {
     "name": "stdout",
     "output_type": "stream",
     "text": [
      "person1 = ['E', 'Q']\n",
      "person2 = ['H', 'E']\n",
      "person3 = ['H', 'T']\n",
      "person4 = ['C', 'N']\n",
      "person5 = ['L', 'S']\n",
      "Found words: ['TECHS', 'CHEST', 'LEECH', 'HELEN', 'SHEEN', 'ELECT', 'TEENS', 'TENSE', 'SENTE', 'STEEN']\n"
     ]
    },
    {
     "name": "stderr",
     "output_type": "stream",
     "text": [
      " 92%|█████████▏| 920/1000 [07:18<00:41,  1.93it/s]"
     ]
    },
    {
     "name": "stdout",
     "output_type": "stream",
     "text": [
      "person1 = ['P', 'C']\n",
      "person2 = ['U', 'E']\n",
      "person3 = ['Y', 'C']\n",
      "person4 = ['Y', 'L']\n",
      "person5 = ['S', 'R']\n",
      "Found words: ['SCULP', 'YELPS', 'SLYPE', 'REPLY', 'PERCY', 'CURLY', 'CRECY']\n"
     ]
    },
    {
     "name": "stderr",
     "output_type": "stream",
     "text": [
      " 92%|█████████▏| 921/1000 [07:18<00:40,  1.95it/s]"
     ]
    },
    {
     "name": "stdout",
     "output_type": "stream",
     "text": [
      "person1 = ['C', 'T']\n",
      "person2 = ['E', 'H']\n",
      "person3 = ['Y', 'H']\n",
      "person4 = ['R', 'C']\n",
      "person5 = ['A', 'T']\n",
      "Found words: ['CAREY', 'CHARE', 'REACH', 'CHERT', 'RETCH', 'CACHE', 'CHARY', 'TEARY', 'EARTH', 'HERAT', 'HEART', 'HATER', 'HARTE', 'RATHE', 'TEACH', 'THECA', 'TACHE', 'CHEAT', 'YACHT', 'CATHY', 'HATCH']\n"
     ]
    },
    {
     "name": "stderr",
     "output_type": "stream",
     "text": [
      " 92%|█████████▏| 922/1000 [07:19<00:40,  1.94it/s]"
     ]
    },
    {
     "name": "stdout",
     "output_type": "stream",
     "text": [
      "person1 = ['C', 'E']\n",
      "person2 = ['U', 'K']\n",
      "person3 = ['A', 'E']\n",
      "person4 = ['L', 'T']\n",
      "person5 = ['R', 'L']\n",
      "Found words: ['CRUEL', 'ULCER', 'LUCRE', 'CUTER', 'CURET', 'CRUET', 'ERUCT', 'TRUCE', 'RECUT', 'CULET', 'CLARK', 'TRACK', 'CLERK', 'LULEA', 'ALEUT', 'EULER', 'ELUTE', 'LAKER', 'TAKER', 'LATKE']\n"
     ]
    },
    {
     "name": "stderr",
     "output_type": "stream",
     "text": [
      " 92%|█████████▏| 923/1000 [07:19<00:40,  1.90it/s]"
     ]
    },
    {
     "name": "stdout",
     "output_type": "stream",
     "text": [
      "person1 = ['C', 'C']\n",
      "person2 = ['H', 'K']\n",
      "person3 = ['N', 'R']\n",
      "person4 = ['C', 'O']\n",
      "person5 = ['H', 'E']\n",
      "Found words: ['COHEN', 'ENOCH', 'CHORE', 'ROCHE', 'OCHER', 'OCKER']\n"
     ]
    },
    {
     "name": "stderr",
     "output_type": "stream",
     "text": [
      " 92%|█████████▏| 924/1000 [07:20<00:40,  1.87it/s]"
     ]
    },
    {
     "name": "stdout",
     "output_type": "stream",
     "text": [
      "person1 = ['T', 'C']\n",
      "person2 = ['H', 'H']\n",
      "person3 = ['O', 'T']\n",
      "person4 = ['A', 'L']\n",
      "person5 = ['A', 'Y']\n",
      "Found words: ['LOATH', 'HOTLY', 'LOACH', 'CATHY', 'YACHT', 'LATCH']\n"
     ]
    },
    {
     "name": "stderr",
     "output_type": "stream",
     "text": [
      " 93%|█████████▎| 926/1000 [07:21<00:40,  1.84it/s]"
     ]
    },
    {
     "name": "stdout",
     "output_type": "stream",
     "text": [
      "person1 = ['S', 'C']\n",
      "person2 = ['H', 'K']\n",
      "person3 = ['N', 'L']\n",
      "person4 = ['C', 'O']\n",
      "person5 = ['H', 'I']\n",
      "Found words: ['CHINS', 'SNICK', 'NICKS', 'HONKS', 'KINOS', 'OINKS', 'SLICK', 'LICKS', 'KOHLS', 'KILOS', 'CINCH', 'CHINO', 'CHOLI', 'CLICK']\n"
     ]
    },
    {
     "name": "stderr",
     "output_type": "stream",
     "text": [
      " 93%|█████████▎| 927/1000 [07:21<00:39,  1.84it/s]"
     ]
    },
    {
     "name": "stdout",
     "output_type": "stream",
     "text": [
      "person1 = ['S', 'T']\n",
      "person2 = ['H', 'U']\n",
      "person3 = ['T', 'R']\n",
      "person4 = ['S', 'I']\n",
      "person5 = ['N', 'Y']\n",
      "Found words: ['HINTS', 'THINS', 'STUNS', 'SUINT', 'UNITS', 'TUNIS', 'RUINS', 'STUNT', 'TURNS', 'RUNTS', 'RUSTY', 'YURTS', 'TURIN']\n"
     ]
    },
    {
     "name": "stderr",
     "output_type": "stream",
     "text": [
      " 93%|█████████▎| 928/1000 [07:22<00:38,  1.87it/s]"
     ]
    },
    {
     "name": "stdout",
     "output_type": "stream",
     "text": [
      "person1 = ['Q', 'E']\n",
      "person2 = ['H', 'H']\n",
      "person3 = ['L', 'N']\n",
      "person4 = ['C', 'Y']\n",
      "person5 = ['O', 'A']\n",
      "Found words: ['CHLOE', 'LEACH', 'CHELA', 'HOLEY', 'HOYLE', 'HALEY', 'ENOCH', 'COHEN', 'HANCE', 'HONEY', 'HYENA', 'HANEY']\n"
     ]
    },
    {
     "name": "stderr",
     "output_type": "stream",
     "text": [
      " 93%|█████████▎| 929/1000 [07:23<00:37,  1.90it/s]"
     ]
    },
    {
     "name": "stdout",
     "output_type": "stream",
     "text": [
      "person1 = ['S', 'Q']\n",
      "person2 = ['K', 'E']\n",
      "person3 = ['S', 'O']\n",
      "person4 = ['S', 'T']\n",
      "person5 = ['I', 'R']\n",
      "Found words: ['SKITS', 'STORK', 'TORSK', 'SISES', 'STIES', 'SITES', 'TRESS', 'RESTS', 'SORES', 'ROSES', 'STORE', 'TORSE']\n"
     ]
    },
    {
     "name": "stderr",
     "output_type": "stream",
     "text": [
      " 93%|█████████▎| 930/1000 [07:23<00:37,  1.88it/s]"
     ]
    },
    {
     "name": "stdout",
     "output_type": "stream",
     "text": [
      "person1 = ['C', 'E']\n",
      "person2 = ['H', 'H']\n",
      "person3 = ['N', 'Y']\n",
      "person4 = ['O', 'C']\n",
      "person5 = ['T', 'A']\n",
      "Found words: ['NOTCH', 'COHAN', 'NACHO', 'TYCHO', 'TENCH', 'HANCE', 'TECHY', 'TYCHE']\n"
     ]
    },
    {
     "name": "stderr",
     "output_type": "stream",
     "text": [
      " 93%|█████████▎| 933/1000 [07:25<00:35,  1.88it/s]"
     ]
    },
    {
     "name": "stdout",
     "output_type": "stream",
     "text": [
      "person1 = ['P', 'S']\n",
      "person2 = ['U', 'H']\n",
      "person3 = ['A', 'O']\n",
      "person4 = ['R', 'C']\n",
      "person5 = ['L', 'R']\n",
      "Found words: ['CULPA', 'CUPAR', 'CROUP', 'RALPH', 'PARCH', 'PORCH', 'SURAL', 'URALS', 'SURRA', 'CAULS', 'CLAUS', 'LUCAS', 'LOURS', 'LOCUS', 'SCOUR', 'ORCUS', 'CLASH', 'CHARS', 'CRASH']\n"
     ]
    },
    {
     "name": "stderr",
     "output_type": "stream",
     "text": [
      " 93%|█████████▎| 934/1000 [07:25<00:34,  1.90it/s]"
     ]
    },
    {
     "name": "stdout",
     "output_type": "stream",
     "text": [
      "person1 = ['T', 'E']\n",
      "person2 = ['H', 'H']\n",
      "person3 = ['C', 'O']\n",
      "person4 = ['A', 'S']\n",
      "person5 = ['T', 'R']\n",
      "Found words: ['CHART', 'ARCHT', 'TORAH', 'HORTA', 'HORST', 'SHORT', 'CHEAT', 'TEACH', 'THECA', 'TACHE', 'CHARE', 'REACH', 'CHEST', 'TECHS', 'TAHOE', 'HORAE', 'ETHOS', 'SHOTE', 'THOSE', 'HOERS', 'HORSE', 'SHORE']\n"
     ]
    },
    {
     "name": "stderr",
     "output_type": "stream",
     "text": [
      " 94%|█████████▎| 935/1000 [07:26<00:33,  1.92it/s]"
     ]
    },
    {
     "name": "stdout",
     "output_type": "stream",
     "text": [
      "person1 = ['S', 'C']\n",
      "person2 = ['H', 'H']\n",
      "person3 = ['A', 'I']\n",
      "person4 = ['H', 'S']\n",
      "person5 = ['E', 'A']\n",
      "Found words: ['ASHES', 'SASHA', 'SHIES', 'SHIAS', 'CHASE', 'ACHES']\n"
     ]
    },
    {
     "name": "stderr",
     "output_type": "stream",
     "text": [
      " 94%|█████████▎| 936/1000 [07:26<00:34,  1.88it/s]"
     ]
    },
    {
     "name": "stdout",
     "output_type": "stream",
     "text": [
      "person1 = ['Q', 'S']\n",
      "person2 = ['K', 'H']\n",
      "person3 = ['C', 'R']\n",
      "person4 = ['T', 'A']\n",
      "person5 = ['C', 'Y']\n",
      "Found words: ['RACKS', 'CARKS', 'SARKY', 'CHARS', 'CRASH']\n"
     ]
    },
    {
     "name": "stderr",
     "output_type": "stream",
     "text": [
      " 94%|█████████▍| 938/1000 [07:27<00:34,  1.82it/s]"
     ]
    },
    {
     "name": "stdout",
     "output_type": "stream",
     "text": [
      "person1 = ['C', 'P']\n",
      "person2 = ['U', 'H']\n",
      "person3 = ['H', 'S']\n",
      "person4 = ['A', 'S']\n",
      "person5 = ['E', 'C']\n",
      "Found words: ['CAUSE', 'SAUCE', 'CACUS', 'CHASE', 'ACHES', 'CHESS', 'PAUSE', 'SPUES', 'SCUPS', 'CUSPS', 'EPHAH', 'PHASE', 'HEAPS', 'SHAPE', 'CHAPS']\n"
     ]
    },
    {
     "name": "stderr",
     "output_type": "stream",
     "text": [
      " 94%|█████████▍| 939/1000 [07:28<00:33,  1.82it/s]"
     ]
    },
    {
     "name": "stdout",
     "output_type": "stream",
     "text": [
      "person1 = ['S', 'T']\n",
      "person2 = ['H', 'U']\n",
      "person3 = ['R', 'O']\n",
      "person4 = ['O', 'S']\n",
      "person5 = ['Y', 'T']\n",
      "Found words: ['HORSY', 'SHORT', 'HORST', 'SHOOT', 'SOOTH', 'HOOTS', 'SHOTS', 'HOSTS', 'YOURS', 'ROUST', 'ROUTS', 'TOURS', 'TORUS', 'RUSTS', 'TRUSS', 'OUSTS', 'TROTH', 'TOOTH', 'TUTOR', 'TROUT', 'RUSTY', 'YURTS', 'TRUST', 'STRUT', 'TOUTS', 'STOUT']\n"
     ]
    },
    {
     "name": "stderr",
     "output_type": "stream",
     "text": [
      " 94%|█████████▍| 940/1000 [07:29<00:34,  1.76it/s]"
     ]
    },
    {
     "name": "stdout",
     "output_type": "stream",
     "text": [
      "person1 = ['T', 'Q']\n",
      "person2 = ['H', 'U']\n",
      "person3 = ['O', 'Y']\n",
      "person4 = ['L', 'Y']\n",
      "person5 = ['O', 'E']\n",
      "Found words: ['THOLE', 'THEOL', 'HOTEL', 'HELOT', 'HOTLY', 'ETHYL']\n"
     ]
    },
    {
     "name": "stderr",
     "output_type": "stream",
     "text": [
      " 94%|█████████▍| 941/1000 [07:29<00:32,  1.81it/s]"
     ]
    },
    {
     "name": "stdout",
     "output_type": "stream",
     "text": [
      "person1 = ['Q', 'E']\n",
      "person2 = ['K', 'H']\n",
      "person3 = ['I', 'N']\n",
      "person4 = ['L', 'O']\n",
      "person5 = ['T', 'R']\n",
      "Found words: ['LIKER', 'RILKE', 'KNELT', 'TOKEN', 'KRONE', 'LEITH', 'LITHE', 'HERON', 'HONER', 'HORNE', 'RHONE']\n"
     ]
    },
    {
     "name": "stderr",
     "output_type": "stream",
     "text": [
      " 94%|█████████▍| 942/1000 [07:30<00:31,  1.82it/s]"
     ]
    },
    {
     "name": "stdout",
     "output_type": "stream",
     "text": [
      "person1 = ['S', 'Q']\n",
      "person2 = ['K', 'H']\n",
      "person3 = ['I', 'E']\n",
      "person4 = ['O', 'H']\n",
      "person5 = ['H', 'S']\n",
      "Found words: ['SIKHS', 'HOKES', 'KOSES', 'SHOES', 'HOSES']\n"
     ]
    },
    {
     "name": "stderr",
     "output_type": "stream",
     "text": [
      " 94%|█████████▍| 943/1000 [07:30<00:31,  1.80it/s]"
     ]
    },
    {
     "name": "stdout",
     "output_type": "stream",
     "text": [
      "person1 = ['S', 'C']\n",
      "person2 = ['E', 'H']\n",
      "person3 = ['N', 'R']\n",
      "person4 = ['I', 'O']\n",
      "person5 = ['T', 'H']\n",
      "Found words: ['STEIN', 'STINE', 'NITES', 'INSET', 'TINES', 'SHINE', 'HINES', 'SETON', 'STENO', 'STONE', 'NOTES', 'ONSET', 'TONES', 'SHONE', 'HONES', 'SIRET', 'RESIT', 'RITES', 'TRIES', 'TIERS', 'TIRES', 'SHERI', 'SHIER', 'SHIRE', 'HEIRS', 'HIRES', 'STORE', 'TORSE', 'SHORE', 'HOERS', 'HORSE', 'HINTS', 'THINS', 'SHIRT', 'SHORT', 'HORST', 'CHINE', 'NICHE', 'CENTO', 'CONTE', 'COHEN', 'ENOCH', 'RECTI', 'TRICE', 'CHERI', 'ERICH', 'REICH', 'RECTO', 'CHORE', 'ROCHE', 'OCHER', 'NOTCH', 'TORCH']\n"
     ]
    },
    {
     "name": "stderr",
     "output_type": "stream",
     "text": [
      " 94%|█████████▍| 945/1000 [07:31<00:30,  1.79it/s]"
     ]
    },
    {
     "name": "stdout",
     "output_type": "stream",
     "text": [
      "person1 = ['Q', 'C']\n",
      "person2 = ['H', 'H']\n",
      "person3 = ['A', 'E']\n",
      "person4 = ['A', 'L']\n",
      "person5 = ['R', 'E']\n",
      "Found words: ['LARCH', 'CHELA', 'LEACH', 'CHARE', 'REACH', 'LEECH']\n"
     ]
    },
    {
     "name": "stderr",
     "output_type": "stream",
     "text": [
      " 95%|█████████▍| 947/1000 [07:32<00:30,  1.72it/s]"
     ]
    },
    {
     "name": "stdout",
     "output_type": "stream",
     "text": [
      "person1 = ['Q', 'E']\n",
      "person2 = ['H', 'U']\n",
      "person3 = ['E', 'T']\n",
      "person4 = ['A', 'R']\n",
      "person5 = ['Y', 'C']\n",
      "Found words: ['QUERY', 'CHEER', 'TEACH', 'THECA', 'TACHE', 'CHEAT', 'RETCH', 'CHERT', 'ACUTE', 'CEUTA', 'ERUCT', 'TRUCE', 'RECUT', 'CUTER', 'CURET', 'CRUET']\n"
     ]
    },
    {
     "name": "stderr",
     "output_type": "stream",
     "text": [
      " 95%|█████████▍| 948/1000 [07:33<00:29,  1.75it/s]"
     ]
    },
    {
     "name": "stdout",
     "output_type": "stream",
     "text": [
      "person1 = ['S', 'E']\n",
      "person2 = ['K', 'H']\n",
      "person3 = ['S', 'T']\n",
      "person4 = ['I', 'O']\n",
      "person5 = ['N', 'T']\n",
      "Found words: ['SKINS', 'SINKS', 'SKITS', 'SKINT', 'STINK', 'KNITS', 'KNOTS', 'SHINS', 'SHITS', 'SHOTS', 'HOSTS', 'HINTS', 'THINS', 'KINES', 'SKEIN', 'KITES', 'SKITE', 'STOKE', 'TOKES', 'TOKEN', 'HINES', 'SHINE', 'HEIST', 'HONES', 'SHONE', 'ETHOS', 'SHOTE', 'THOSE', 'THINE', 'TITHE']\n"
     ]
    },
    {
     "name": "stderr",
     "output_type": "stream",
     "text": [
      " 95%|█████████▍| 949/1000 [07:34<00:29,  1.75it/s]"
     ]
    },
    {
     "name": "stdout",
     "output_type": "stream",
     "text": [
      "person1 = ['S', 'Q']\n",
      "person2 = ['H', 'H']\n",
      "person3 = ['C', 'O']\n",
      "person4 = ['C', 'A']\n",
      "person5 = ['L', 'C']\n",
      "Found words: ['CLASH', 'CHOCS', 'SHOAL', 'HALOS', 'CHAOS']\n"
     ]
    },
    {
     "name": "stderr",
     "output_type": "stream",
     "text": [
      " 95%|█████████▌| 950/1000 [07:34<00:27,  1.79it/s]"
     ]
    },
    {
     "name": "stdout",
     "output_type": "stream",
     "text": [
      "person1 = ['E', 'P']\n",
      "person2 = ['H', 'E']\n",
      "person3 = ['A', 'O']\n",
      "person4 = ['O', 'R']\n",
      "person5 = ['Y', 'I']\n",
      "Found words: ['HOOEY', 'AERIE', 'POHAI', 'HARPY', 'OPHIR', 'PEARY', 'PAYER', 'APERY', 'REPAY']\n"
     ]
    },
    {
     "name": "stderr",
     "output_type": "stream",
     "text": [
      " 95%|█████████▌| 953/1000 [07:36<00:24,  1.90it/s]"
     ]
    },
    {
     "name": "stdout",
     "output_type": "stream",
     "text": [
      "person1 = ['Q', 'S']\n",
      "person2 = ['K', 'H']\n",
      "person3 = ['I', 'Y']\n",
      "person4 = ['S', 'Y']\n",
      "person5 = ['T', 'A']\n",
      "Found words: ['SKITS', 'SIKAS', 'SAKIS', 'SHITS', 'SHIAS', 'SHAYS']\n"
     ]
    },
    {
     "name": "stderr",
     "output_type": "stream",
     "text": [
      " 95%|█████████▌| 954/1000 [07:36<00:24,  1.91it/s]"
     ]
    },
    {
     "name": "stdout",
     "output_type": "stream",
     "text": [
      "person1 = ['S', 'P']\n",
      "person2 = ['H', 'H']\n",
      "person3 = ['N', 'E']\n",
      "person4 = ['L', 'I']\n",
      "person5 = ['Y', 'R']\n",
      "Found words: ['SHINY', 'SHERI', 'SHIER', 'SHIRE', 'HEIRS', 'HIRES', 'PHYLE']\n"
     ]
    },
    {
     "name": "stderr",
     "output_type": "stream",
     "text": [
      " 96%|█████████▌| 955/1000 [07:37<00:24,  1.87it/s]"
     ]
    },
    {
     "name": "stdout",
     "output_type": "stream",
     "text": [
      "person1 = ['E', 'S']\n",
      "person2 = ['E', 'H']\n",
      "person3 = ['A', 'E']\n",
      "person4 = ['I', 'N']\n",
      "person5 = ['H', 'L']\n",
      "Found words: ['ELENA', 'ANELE', 'HELEN', 'ELISA', 'ELIAS', 'AISLE', 'SHANE', 'ASHEN', 'HANSE', 'LEANS', 'LANES', 'ELSIE', 'ELISE', 'SHEEN', 'HAILS']\n"
     ]
    },
    {
     "name": "stderr",
     "output_type": "stream",
     "text": [
      " 96%|█████████▌| 957/1000 [07:38<00:23,  1.87it/s]"
     ]
    },
    {
     "name": "stdout",
     "output_type": "stream",
     "text": [
      "person1 = ['C', 'Q']\n",
      "person2 = ['H', 'U']\n",
      "person3 = ['C', 'T']\n",
      "person4 = ['L', 'A']\n",
      "person5 = ['N', 'S']\n",
      "Found words: ['CHANT', 'NATCH', 'CHATS', 'CACUS', 'CULTS', 'CANTU', 'SCUTA', 'QUANT', 'SQUAT']\n"
     ]
    },
    {
     "name": "stderr",
     "output_type": "stream",
     "text": [
      " 96%|█████████▌| 958/1000 [07:38<00:22,  1.85it/s]"
     ]
    },
    {
     "name": "stdout",
     "output_type": "stream",
     "text": [
      "person1 = ['C', 'P']\n",
      "person2 = ['E', 'H']\n",
      "person3 = ['L', 'E']\n",
      "person4 = ['A', 'S']\n",
      "person5 = ['A', 'E']\n",
      "Found words: ['LACES', 'SCALE', 'CEASE', 'CHELA', 'LEACH', 'CLASH', 'CHASE', 'ACHES', 'PEALE', 'PEALS', 'PLEAS', 'PALES', 'LEAPS', 'LAPSE', 'SEPAL', 'SALEP', 'PEELS', 'SLEEP', 'EPEES', 'ALPHA', 'ALEPH', 'PLASH', 'HELPS', 'PHASE', 'HEAPS', 'SHAPE', 'SHEEP']\n"
     ]
    },
    {
     "name": "stderr",
     "output_type": "stream",
     "text": [
      " 96%|█████████▌| 959/1000 [07:39<00:22,  1.86it/s]"
     ]
    },
    {
     "name": "stdout",
     "output_type": "stream",
     "text": [
      "person1 = ['C', 'C']\n",
      "person2 = ['K', 'H']\n",
      "person3 = ['L', 'S']\n",
      "person4 = ['O', 'C']\n",
      "person5 = ['R', 'I']\n",
      "Found words: ['CLICK', 'CORKS', 'ROCKS', 'SICKO', 'CHOLI', 'CHIOS', 'SOCHI']\n"
     ]
    },
    {
     "name": "stderr",
     "output_type": "stream",
     "text": [
      " 96%|█████████▌| 960/1000 [07:39<00:22,  1.80it/s]"
     ]
    },
    {
     "name": "stdout",
     "output_type": "stream",
     "text": [
      "person1 = ['P', 'S']\n",
      "person2 = ['H', 'H']\n",
      "person3 = ['R', 'A']\n",
      "person4 = ['T', 'H']\n",
      "person5 = ['E', 'A']\n",
      "Found words: ['PERTH', 'THARP', 'EPHAH', 'RESHT', 'HARTS', 'RASHT', 'TRASH', 'HARSH', 'HASTE', 'HATES', 'HEATS', 'TASHA']\n"
     ]
    },
    {
     "name": "stderr",
     "output_type": "stream",
     "text": [
      " 96%|█████████▋| 964/1000 [07:41<00:17,  2.01it/s]"
     ]
    },
    {
     "name": "stdout",
     "output_type": "stream",
     "text": [
      "person1 = ['S', 'P']\n",
      "person2 = ['H', 'E']\n",
      "person3 = ['E', 'O']\n",
      "person4 = ['A', 'S']\n",
      "person5 = ['O', 'S']\n",
      "Found words: ['HOSEA', 'ASHES', 'SHOES', 'HOSES', 'SHOOS', 'EASES', 'OASES', 'SOSES', 'PHASE', 'HEAPS', 'SHAPE', 'HOPES', 'OPAHS', 'POOHS', 'HOOPS', 'SHOPS', 'SEEPS', 'AESOP', 'ESPOO', 'PESOS', 'POSES', 'POSSE', 'SPEOS']\n"
     ]
    },
    {
     "name": "stderr",
     "output_type": "stream",
     "text": [
      " 97%|█████████▋| 966/1000 [07:42<00:16,  2.06it/s]"
     ]
    },
    {
     "name": "stdout",
     "output_type": "stream",
     "text": [
      "person1 = ['P', 'C']\n",
      "person2 = ['H', 'E']\n",
      "person3 = ['I', 'H']\n",
      "person4 = ['T', 'C']\n",
      "person5 = ['R', 'S']\n",
      "Found words: ['PITHS', 'CHIRP', 'CHIPS', 'TRIPE', 'PISTE', 'SPITE', 'STIPE', 'PRICE', 'EPICS', 'SPICE', 'PERTH', 'PERCH', 'CHITS', 'STICH', 'TRICE', 'RECTI', 'CITES', 'CERIC', 'CIRCE', 'CHERT', 'RETCH', 'CHEST', 'TECHS']\n"
     ]
    },
    {
     "name": "stderr",
     "output_type": "stream",
     "text": [
      " 97%|█████████▋| 968/1000 [07:43<00:15,  2.09it/s]"
     ]
    },
    {
     "name": "stdout",
     "output_type": "stream",
     "text": [
      "person1 = ['E', 'P']\n",
      "person2 = ['U', 'K']\n",
      "person3 = ['Y', 'R']\n",
      "person4 = ['A', 'H']\n",
      "person5 = ['Y', 'N']\n",
      "Found words: ['NEHRU', 'KENYA', 'KAREN', 'NAKER', 'PARKY', 'PRANK']\n"
     ]
    },
    {
     "name": "stderr",
     "output_type": "stream",
     "text": [
      " 97%|█████████▋| 969/1000 [07:44<00:14,  2.12it/s]"
     ]
    },
    {
     "name": "stdout",
     "output_type": "stream",
     "text": [
      "person1 = ['Q', 'E']\n",
      "person2 = ['K', 'H']\n",
      "person3 = ['S', 'I']\n",
      "person4 = ['E', 'I']\n",
      "person5 = ['E', 'R']\n",
      "Found words: ['ESKER', 'REEKS', 'SKIER', 'HERES', 'SHEER', 'HEIRS', 'HIRES', 'SHERI', 'SHIER', 'SHIRE']\n"
     ]
    },
    {
     "name": "stderr",
     "output_type": "stream",
     "text": [
      " 97%|█████████▋| 971/1000 [07:45<00:13,  2.17it/s]"
     ]
    },
    {
     "name": "stdout",
     "output_type": "stream",
     "text": [
      "person1 = ['P', 'C']\n",
      "person2 = ['H', 'E']\n",
      "person3 = ['E', 'I']\n",
      "person4 = ['A', 'S']\n",
      "person5 = ['A', 'N']\n",
      "Found words: ['PHASE', 'HEAPS', 'SHAPE', 'SPAHI', 'SAIPH', 'APHIS', 'APISH', 'PEENS', 'PAINE', 'SEPIA', 'PENIS', 'PINES', 'SPINE', 'SNIPE', 'HANCE', 'CHASE', 'ACHES', 'CHIAN', 'CHINA', 'CHAIN', 'ICAHN', 'CHINS', 'CEASE', 'CENSE', 'SCENE', 'AECIA', 'CAINE', 'CENIS', 'SINCE']\n"
     ]
    },
    {
     "name": "stderr",
     "output_type": "stream",
     "text": [
      " 97%|█████████▋| 972/1000 [07:45<00:12,  2.21it/s]"
     ]
    },
    {
     "name": "stdout",
     "output_type": "stream",
     "text": [
      "person1 = ['Q', 'C']\n",
      "person2 = ['U', 'E']\n",
      "person3 = ['I', 'E']\n",
      "person4 = ['R', 'T']\n",
      "person5 = ['Y', 'L']\n",
      "Found words: ['QUILT', 'QUERY', 'CRUEL', 'ULCER', 'LUCRE', 'CUTEY', 'CULET', 'RELIC', 'TELIC', 'CREEL', 'ELECT']\n"
     ]
    },
    {
     "name": "stderr",
     "output_type": "stream",
     "text": [
      " 97%|█████████▋| 973/1000 [07:46<00:12,  2.23it/s]"
     ]
    },
    {
     "name": "stdout",
     "output_type": "stream",
     "text": [
      "person1 = ['S', 'C']\n",
      "person2 = ['E', 'H']\n",
      "person3 = ['C', 'O']\n",
      "person4 = ['I', 'C']\n",
      "person5 = ['S', 'L']\n",
      "Found words: ['SLICE', 'SOCLE', 'COLES', 'CLOSE', 'CECIL', 'EOLIC', 'OLEIC', 'COSEC', 'SECCO', 'CHIOS', 'SOCHI', 'CHOLI', 'CHOCS']\n"
     ]
    },
    {
     "name": "stderr",
     "output_type": "stream",
     "text": [
      " 97%|█████████▋| 974/1000 [07:46<00:11,  2.24it/s]"
     ]
    },
    {
     "name": "stdout",
     "output_type": "stream",
     "text": [
      "person1 = ['P', 'Q']\n",
      "person2 = ['U', 'K']\n",
      "person3 = ['A', 'T']\n",
      "person4 = ['S', 'Y']\n",
      "person5 = ['R', 'L']\n",
      "Found words: ['SUPRA', 'PULAS', 'LAYUP', 'TURPS', 'SPURT', 'PARKS', 'SPARK', 'PARKY']\n"
     ]
    },
    {
     "name": "stderr",
     "output_type": "stream",
     "text": [
      " 98%|█████████▊| 975/1000 [07:46<00:11,  2.24it/s]"
     ]
    },
    {
     "name": "stdout",
     "output_type": "stream",
     "text": [
      "person1 = ['Q', 'C']\n",
      "person2 = ['K', 'H']\n",
      "person3 = ['A', 'E']\n",
      "person4 = ['Y', 'I']\n",
      "person5 = ['T', 'N']\n",
      "Found words: ['TACKY', 'TIECK', 'CATHY', 'YACHT', 'CHITA', 'AITCH', 'CHAIN', 'CHIAN', 'CHINA', 'ICAHN', 'TECHY', 'TYCHE', 'ETHIC', 'CHINE', 'NICHE']\n"
     ]
    },
    {
     "name": "stderr",
     "output_type": "stream",
     "text": [
      " 98%|█████████▊| 976/1000 [07:47<00:10,  2.27it/s]"
     ]
    },
    {
     "name": "stdout",
     "output_type": "stream",
     "text": [
      "person1 = ['E', 'P']\n",
      "person2 = ['H', 'H']\n",
      "person3 = ['R', 'H']\n",
      "person4 = ['I', 'S']\n",
      "person5 = ['T', 'C']\n",
      "Found words: ['THEIR', 'ERICH', 'REICH', 'CHERI', 'RESHT', 'HETHS', 'CHIRP']\n"
     ]
    },
    {
     "name": "stderr",
     "output_type": "stream",
     "text": [
      " 98%|█████████▊| 977/1000 [07:47<00:10,  2.28it/s]"
     ]
    },
    {
     "name": "stdout",
     "output_type": "stream",
     "text": [
      "person1 = ['E', 'T']\n",
      "person2 = ['H', 'H']\n",
      "person3 = ['C', 'O']\n",
      "person4 = ['R', 'L']\n",
      "person5 = ['L', 'I']\n",
      "Found words: ['ERICH', 'CHERI', 'REICH', 'CHILE', 'HELLO', 'THIOL', 'LITHO']\n"
     ]
    },
    {
     "name": "stderr",
     "output_type": "stream",
     "text": [
      " 98%|█████████▊| 979/1000 [07:48<00:09,  2.27it/s]"
     ]
    },
    {
     "name": "stdout",
     "output_type": "stream",
     "text": [
      "person1 = ['Q', 'E']\n",
      "person2 = ['H', 'H']\n",
      "person3 = ['T', 'S']\n",
      "person4 = ['S', 'T']\n",
      "person5 = ['C', 'T']\n",
      "Found words: ['TECHS', 'CHEST', 'TETHS', 'CHESS', 'THESS']\n"
     ]
    },
    {
     "name": "stderr",
     "output_type": "stream",
     "text": [
      " 98%|█████████▊| 980/1000 [07:49<00:08,  2.27it/s]"
     ]
    },
    {
     "name": "stdout",
     "output_type": "stream",
     "text": [
      "person1 = ['S', 'Q']\n",
      "person2 = ['E', 'U']\n",
      "person3 = ['A', 'C']\n",
      "person4 = ['I', 'L']\n",
      "person5 = ['O', 'A']\n",
      "Found words: ['ALOES', 'SOCLE', 'CLOSE', 'COLES', 'SCALE', 'LACES', 'AULOS', 'CAIUS', 'LOCUS', 'CLAUS', 'CAULS', 'LUCAS']\n"
     ]
    },
    {
     "name": "stderr",
     "output_type": "stream",
     "text": [
      " 98%|█████████▊| 981/1000 [07:49<00:08,  2.26it/s]"
     ]
    },
    {
     "name": "stdout",
     "output_type": "stream",
     "text": [
      "person1 = ['C', 'S']\n",
      "person2 = ['E', 'H']\n",
      "person3 = ['S', 'A']\n",
      "person4 = ['I', 'T']\n",
      "person5 = ['N', 'S']\n",
      "Found words: ['CENIS', 'SINCE', 'CENTS', 'SCENT', 'SECTS', 'CAINE', 'ENACT', 'CESTA', 'CASTE', 'CHINS', 'CHAIN', 'CHIAN', 'CHINA', 'ICAHN', 'CHANT', 'NATCH', 'CHATS', 'SINES', 'SISES', 'NESTS', 'SIENA', 'AISNE', 'ANISE', 'STANE', 'ETNAS', 'ANTES', 'NATES', 'SEATS', 'SATES', 'EASTS', 'ASSET', 'TESSA', 'TASSE', 'SHINS', 'SHIAS', 'SNATH', 'STASH']\n"
     ]
    },
    {
     "name": "stderr",
     "output_type": "stream",
     "text": [
      " 98%|█████████▊| 983/1000 [07:50<00:07,  2.26it/s]"
     ]
    },
    {
     "name": "stdout",
     "output_type": "stream",
     "text": [
      "person1 = ['E', 'C']\n",
      "person2 = ['E', 'H']\n",
      "person3 = ['O', 'N']\n",
      "person4 = ['E', 'T']\n",
      "person5 = ['H', 'R']\n",
      "Found words: ['RENEE', 'ENTER', 'TREEN', 'OTHER', 'THROE', 'HERNE', 'RECTO', 'HENCE', 'TENCH', 'CHORE', 'OCHER', 'ROCHE', 'TORCH', 'HENCH']\n"
     ]
    },
    {
     "name": "stderr",
     "output_type": "stream",
     "text": [
      " 98%|█████████▊| 984/1000 [07:50<00:07,  2.25it/s]"
     ]
    },
    {
     "name": "stdout",
     "output_type": "stream",
     "text": [
      "person1 = ['C', 'T']\n",
      "person2 = ['U', 'H']\n",
      "person3 = ['A', 'C']\n",
      "person4 = ['C', 'A']\n",
      "person5 = ['R', 'S']\n",
      "Found words: ['CACUS', 'SCUTA', 'ARCHT', 'CHART', 'CHATS', 'ARHAT', 'TASHA']\n"
     ]
    },
    {
     "name": "stderr",
     "output_type": "stream",
     "text": [
      " 98%|█████████▊| 985/1000 [07:51<00:06,  2.28it/s]"
     ]
    },
    {
     "name": "stdout",
     "output_type": "stream",
     "text": [
      "person1 = ['C', 'T']\n",
      "person2 = ['H', 'U']\n",
      "person3 = ['L', 'A']\n",
      "person4 = ['A', 'R']\n",
      "person5 = ['A', 'E']\n",
      "Found words: ['CHELA', 'LEACH', 'LARCH', 'CHARE', 'REACH', 'CRUEL', 'ULCER', 'LUCRE', 'LATHE', 'LETHA', 'ARHAT', 'HATER', 'HARTE', 'HEART', 'HERAT', 'RATHE', 'EARTH', 'ALEUT', 'ULTRA']\n"
     ]
    },
    {
     "name": "stderr",
     "output_type": "stream",
     "text": [
      " 99%|█████████▊| 986/1000 [07:51<00:06,  2.28it/s]"
     ]
    },
    {
     "name": "stdout",
     "output_type": "stream",
     "text": [
      "person1 = ['E', 'S']\n",
      "person2 = ['E', 'K']\n",
      "person3 = ['A', 'I']\n",
      "person4 = ['T', 'Y']\n",
      "person5 = ['Y', 'I']\n",
      "Found words: ['KATIE', 'YEAST', 'YEATS', 'YATES', 'YETIS', 'KYATS', 'SAKTI', 'SITKA']\n"
     ]
    },
    {
     "name": "stderr",
     "output_type": "stream",
     "text": [
      " 99%|█████████▊| 987/1000 [07:52<00:05,  2.23it/s]"
     ]
    },
    {
     "name": "stdout",
     "output_type": "stream",
     "text": [
      "person1 = ['C', 'P']\n",
      "person2 = ['U', 'H']\n",
      "person3 = ['O', 'L']\n",
      "person4 = ['Y', 'H']\n",
      "person5 = ['S', 'T']\n",
      "Found words: ['HOCUS', 'COUTH', 'TOUCH', 'TYCHO', 'SOUPY', 'POUTY', 'PLUSH', 'HYPOS', 'SOPHY', 'SYLPH']\n"
     ]
    },
    {
     "name": "stderr",
     "output_type": "stream",
     "text": [
      " 99%|█████████▉| 988/1000 [07:52<00:05,  2.26it/s]"
     ]
    },
    {
     "name": "stdout",
     "output_type": "stream",
     "text": [
      "person1 = ['S', 'C']\n",
      "person2 = ['E', 'U']\n",
      "person3 = ['O', 'A']\n",
      "person4 = ['Y', 'E']\n",
      "person5 = ['Y', 'T']\n",
      "Found words: ['YEAST', 'YEATS', 'YATES', 'SETAE', 'TEASE', 'ASYUT', 'SAUTE', 'CEUTA', 'ACUTE']\n"
     ]
    },
    {
     "name": "stderr",
     "output_type": "stream",
     "text": [
      " 99%|█████████▉| 989/1000 [07:53<00:04,  2.27it/s]"
     ]
    },
    {
     "name": "stdout",
     "output_type": "stream",
     "text": [
      "person1 = ['C', 'C']\n",
      "person2 = ['H', 'H']\n",
      "person3 = ['O', 'A']\n",
      "person4 = ['I', 'E']\n",
      "person5 = ['S', 'C']\n",
      "Found words: ['CHIOS', 'SOCHI', 'CHICO', 'CHOSE', 'ECHOS', 'SOCHE', 'CHASE', 'ACHES', 'CACHE']\n"
     ]
    },
    {
     "name": "stderr",
     "output_type": "stream",
     "text": [
      " 99%|█████████▉| 990/1000 [07:53<00:04,  2.25it/s]"
     ]
    },
    {
     "name": "stdout",
     "output_type": "stream",
     "text": [
      "person1 = ['S', 'E']\n",
      "person2 = ['U', 'H']\n",
      "person3 = ['A', 'O']\n",
      "person4 = ['A', 'S']\n",
      "person5 = ['C', 'A']\n",
      "Found words: ['ASCUS', 'SOUSA', 'SACHS', 'SASHA', 'CHAOS', 'SAUCE', 'CAUSE', 'ACHES', 'CHASE', 'ECHOS', 'SOCHE', 'CHOSE', 'HOSEA']\n"
     ]
    },
    {
     "name": "stderr",
     "output_type": "stream",
     "text": [
      " 99%|█████████▉| 991/1000 [07:54<00:04,  2.20it/s]"
     ]
    },
    {
     "name": "stdout",
     "output_type": "stream",
     "text": [
      "person1 = ['S', 'Q']\n",
      "person2 = ['K', 'H']\n",
      "person3 = ['Y', 'O']\n",
      "person4 = ['T', 'I']\n",
      "person5 = ['L', 'O']\n",
      "Found words: ['SILKY', 'STOOK', 'KOTOS', 'KILOS', 'SLOTH', 'HOLST', 'SHOOT', 'SOOTH', 'HOOTS']\n"
     ]
    },
    {
     "name": "stderr",
     "output_type": "stream",
     "text": [
      " 99%|█████████▉| 993/1000 [07:54<00:03,  2.20it/s]"
     ]
    },
    {
     "name": "stdout",
     "output_type": "stream",
     "text": [
      "person1 = ['Q', 'E']\n",
      "person2 = ['E', 'H']\n",
      "person3 = ['R', 'Y']\n",
      "person4 = ['T', 'L']\n",
      "person5 = ['H', 'A']\n",
      "Found words: ['ETHER', 'THERE', 'THREE', 'EATER', 'ARETE', 'EARLE', 'EARTH', 'HERAT', 'HEART', 'HARTE', 'HATER', 'RATHE', 'HALER', 'HALEY']\n"
     ]
    },
    {
     "name": "stderr",
     "output_type": "stream",
     "text": [
      " 99%|█████████▉| 994/1000 [07:55<00:02,  2.20it/s]"
     ]
    },
    {
     "name": "stdout",
     "output_type": "stream",
     "text": [
      "person1 = ['T', 'Q']\n",
      "person2 = ['H', 'E']\n",
      "person3 = ['H', 'T']\n",
      "person4 = ['Y', 'S']\n",
      "person5 = ['I', 'C']\n",
      "Found words: ['TECHY', 'TYCHE', 'HEIST', 'TECHS', 'CHEST']\n"
     ]
    },
    {
     "name": "stderr",
     "output_type": "stream",
     "text": [
      "100%|█████████▉| 995/1000 [07:55<00:02,  2.18it/s]"
     ]
    },
    {
     "name": "stdout",
     "output_type": "stream",
     "text": [
      "person1 = ['E', 'T']\n",
      "person2 = ['H', 'H']\n",
      "person3 = ['A', 'S']\n",
      "person4 = ['L', 'Y']\n",
      "person5 = ['C', 'E']\n",
      "Found words: ['LEACH', 'CHELA', 'HEELS', 'LATCH', 'LATHE', 'LETHA', 'YACHT', 'CATHY']\n"
     ]
    },
    {
     "name": "stderr",
     "output_type": "stream",
     "text": [
      "100%|█████████▉| 998/1000 [07:57<00:00,  2.22it/s]"
     ]
    },
    {
     "name": "stdout",
     "output_type": "stream",
     "text": [
      "person1 = ['S', 'P']\n",
      "person2 = ['E', 'K']\n",
      "person3 = ['S', 'H']\n",
      "person4 = ['A', 'N']\n",
      "person5 = ['E', 'I']\n",
      "Found words: ['EASES', 'SENSE', 'ESSEN', 'SINES', 'SHEEN', 'SHINE', 'HINES', 'SAKES', 'SAKIS', 'SIKAS', 'SKINS', 'SINKS', 'SHAKE', 'HAKES', 'KHASI', 'KNISH', 'SEPIA', 'PEENS', 'PENIS', 'PINES', 'SPINE', 'SNIPE', 'PEAKS', 'SPAKE', 'SPEAK', 'PIKAS', 'PINKS', 'PINSK']\n"
     ]
    },
    {
     "name": "stderr",
     "output_type": "stream",
     "text": [
      "100%|█████████▉| 999/1000 [07:57<00:00,  2.21it/s]"
     ]
    },
    {
     "name": "stdout",
     "output_type": "stream",
     "text": [
      "person1 = ['Q', 'E']\n",
      "person2 = ['H', 'H']\n",
      "person3 = ['E', 'S']\n",
      "person4 = ['H', 'R']\n",
      "person5 = ['I', 'Y']\n",
      "Found words: ['HEIRS', 'HIRES', 'SHERI', 'SHIER', 'SHIRE', 'SHYER']\n"
     ]
    },
    {
     "name": "stderr",
     "output_type": "stream",
     "text": [
      "100%|██████████| 1000/1000 [07:58<00:00,  2.09it/s]\n"
     ]
    }
   ],
   "source": [
    "import random\n",
    "import itertools\n",
    "from enchant import Dict\n",
    "from tqdm import tqdm\n",
    "\n",
    "# Define common letters and pairs\n",
    "pair_first_letters = [\"T\", \"C\", \"C\", \"E\", \"S\", \"P\", \"Q\"]  # First letters of common pairs\n",
    "pair_second_letters = [\"H\", \"H\", \"K\", \"E\", \"H\", \"H\", \"U\"]  # Second letters of common pairs\n",
    "frequent_letters = [\"E\", \"A\", \"I\", \"O\", \"S\", \"T\", \"N\", \"R\", \"L\", \"H\", \"C\", \"Y\"]\n",
    "\n",
    "# Initialize dictionary for word checking\n",
    "d = Dict(\"en_US\")\n",
    "\n",
    "# Run through 1000 trials\n",
    "for j in tqdm(range(1000)):\n",
    "    # Assign two letters to each person\n",
    "    person1 = random.sample(pair_first_letters, 2)\n",
    "    person2 = random.sample(pair_second_letters, 2)\n",
    "    person3 = random.sample(frequent_letters, 2)\n",
    "    person4 = random.sample(frequent_letters, 2)\n",
    "    person5 = random.sample(frequent_letters, 2)\n",
    "\n",
    "    # Collect found real words\n",
    "    found_words = []\n",
    "\n",
    "    # Generate all combinations of letter choices for each person\n",
    "    all_combinations = itertools.product(person1, person2, person3, person4, person5)\n",
    "    \n",
    "    # For each combination, generate all permutations\n",
    "    for combination in all_combinations:\n",
    "        for permuted_combination in itertools.permutations(combination):\n",
    "            word_scrambled = \"\".join(permuted_combination)\n",
    "            if d.check(word_scrambled) and word_scrambled not in found_words:\n",
    "                found_words.append(word_scrambled)\n",
    "\n",
    "    # Print if more than 4 valid words are found\n",
    "    if len(found_words) > 4:\n",
    "        print(\"person1 =\", person1)\n",
    "        print(\"person2 =\", person2)\n",
    "        print(\"person3 =\", person3)\n",
    "        print(\"person4 =\", person4)\n",
    "        print(\"person5 =\", person5)\n",
    "        print(\"Found words:\", found_words)\n"
   ]
  },
  {
   "cell_type": "code",
   "execution_count": null,
   "metadata": {},
   "outputs": [],
   "source": []
  },
  {
   "cell_type": "code",
   "execution_count": null,
   "metadata": {},
   "outputs": [],
   "source": []
  }
 ],
 "metadata": {
  "kernelspec": {
   "display_name": "base",
   "language": "python",
   "name": "python3"
  },
  "language_info": {
   "codemirror_mode": {
    "name": "ipython",
    "version": 3
   },
   "file_extension": ".py",
   "mimetype": "text/x-python",
   "name": "python",
   "nbconvert_exporter": "python",
   "pygments_lexer": "ipython3",
   "version": "3.9.12"
  }
 },
 "nbformat": 4,
 "nbformat_minor": 2
}
